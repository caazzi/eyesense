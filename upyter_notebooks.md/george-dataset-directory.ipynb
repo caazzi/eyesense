{
 "cells": [
  {
   "cell_type": "markdown",
   "id": "cb46b1ee-e5c4-4bbd-96fe-c9cb0d88858d",
   "metadata": {},
   "source": [
    "# Eyesense"
   ]
  },
  {
   "cell_type": "markdown",
   "id": "f29f06b2-d9d6-48ba-9e60-5b8fb1e3c4fe",
   "metadata": {},
   "source": [
    "Ocular Disease Intelligent Recognition (ODIR) is a structured ophthalmic database of 5,000 patients with age, color fundus photographs from left and right eyes and doctors' diagnostic keywords from doctors.\n",
    "\n",
    "This dataset is meant to represent ‘‘real-life’’ set of patient information collected by Shanggong Medical Technology Co., Ltd. from different hospitals/medical centers in China. In these institutions, fundus images are captured by various cameras in the market, such as Canon, Zeiss and Kowa, resulting into varied image resolutions.\n",
    "Annotations were labeled by trained human readers with quality control management. They classify patient into eight labels including:\n",
    "\n",
    "-Normal (N),\n",
    "-Diabetes (D),\n",
    "-Glaucoma (G),\n",
    "-Cataract (C),\n",
    "-Age related Macular Degeneration (A),\n",
    "-Hypertension (H),\n",
    "-Pathological Myopia (M),\n",
    "-Other diseases/abnormalities (O)"
   ]
  },
  {
   "cell_type": "code",
   "execution_count": 1,
   "id": "f0813c10-3b30-4fa5-b514-8195ec645fdb",
   "metadata": {
    "scrolled": true
   },
   "outputs": [],
   "source": [
    "import os\n",
    "from shutil import copy, move\n",
    "import glob\n",
    "import pathlib\n",
    "import pandas as pd\n",
    "import numpy as np\n",
    "import cv2\n",
    "from PIL import Image, ImageEnhance\n",
    "import random\n",
    "from scipy.ndimage import gaussian_filter"
   ]
  },
  {
   "cell_type": "code",
   "execution_count": 2,
   "id": "e74110a6-a8e5-4cdb-83fa-1ae547bff6c4",
   "metadata": {},
   "outputs": [
    {
     "data": {
      "text/html": [
       "<div>\n",
       "<style scoped>\n",
       "    .dataframe tbody tr th:only-of-type {\n",
       "        vertical-align: middle;\n",
       "    }\n",
       "\n",
       "    .dataframe tbody tr th {\n",
       "        vertical-align: top;\n",
       "    }\n",
       "\n",
       "    .dataframe thead th {\n",
       "        text-align: right;\n",
       "    }\n",
       "</style>\n",
       "<table border=\"1\" class=\"dataframe\">\n",
       "  <thead>\n",
       "    <tr style=\"text-align: right;\">\n",
       "      <th></th>\n",
       "      <th>ID</th>\n",
       "      <th>Patient Age</th>\n",
       "      <th>Patient Sex</th>\n",
       "      <th>Left-Fundus</th>\n",
       "      <th>Right-Fundus</th>\n",
       "      <th>Left-Diagnostic Keywords</th>\n",
       "      <th>Right-Diagnostic Keywords</th>\n",
       "      <th>N</th>\n",
       "      <th>D</th>\n",
       "      <th>G</th>\n",
       "      <th>C</th>\n",
       "      <th>A</th>\n",
       "      <th>H</th>\n",
       "      <th>M</th>\n",
       "      <th>O</th>\n",
       "      <th>filepath</th>\n",
       "      <th>labels</th>\n",
       "      <th>target</th>\n",
       "      <th>filename</th>\n",
       "    </tr>\n",
       "  </thead>\n",
       "  <tbody>\n",
       "    <tr>\n",
       "      <th>0</th>\n",
       "      <td>0</td>\n",
       "      <td>69</td>\n",
       "      <td>Female</td>\n",
       "      <td>0_left.jpg</td>\n",
       "      <td>0_right.jpg</td>\n",
       "      <td>cataract</td>\n",
       "      <td>normal fundus</td>\n",
       "      <td>0</td>\n",
       "      <td>0</td>\n",
       "      <td>0</td>\n",
       "      <td>1</td>\n",
       "      <td>0</td>\n",
       "      <td>0</td>\n",
       "      <td>0</td>\n",
       "      <td>0</td>\n",
       "      <td>../input/ocular-disease-recognition-odir5k/ODI...</td>\n",
       "      <td>['N']</td>\n",
       "      <td>[1, 0, 0, 0, 0, 0, 0, 0]</td>\n",
       "      <td>0_right.jpg</td>\n",
       "    </tr>\n",
       "    <tr>\n",
       "      <th>1</th>\n",
       "      <td>1</td>\n",
       "      <td>57</td>\n",
       "      <td>Male</td>\n",
       "      <td>1_left.jpg</td>\n",
       "      <td>1_right.jpg</td>\n",
       "      <td>normal fundus</td>\n",
       "      <td>normal fundus</td>\n",
       "      <td>1</td>\n",
       "      <td>0</td>\n",
       "      <td>0</td>\n",
       "      <td>0</td>\n",
       "      <td>0</td>\n",
       "      <td>0</td>\n",
       "      <td>0</td>\n",
       "      <td>0</td>\n",
       "      <td>../input/ocular-disease-recognition-odir5k/ODI...</td>\n",
       "      <td>['N']</td>\n",
       "      <td>[1, 0, 0, 0, 0, 0, 0, 0]</td>\n",
       "      <td>1_right.jpg</td>\n",
       "    </tr>\n",
       "    <tr>\n",
       "      <th>2</th>\n",
       "      <td>2</td>\n",
       "      <td>42</td>\n",
       "      <td>Male</td>\n",
       "      <td>2_left.jpg</td>\n",
       "      <td>2_right.jpg</td>\n",
       "      <td>laser spot，moderate non proliferative retinopathy</td>\n",
       "      <td>moderate non proliferative retinopathy</td>\n",
       "      <td>0</td>\n",
       "      <td>1</td>\n",
       "      <td>0</td>\n",
       "      <td>0</td>\n",
       "      <td>0</td>\n",
       "      <td>0</td>\n",
       "      <td>0</td>\n",
       "      <td>1</td>\n",
       "      <td>../input/ocular-disease-recognition-odir5k/ODI...</td>\n",
       "      <td>['D']</td>\n",
       "      <td>[0, 1, 0, 0, 0, 0, 0, 0]</td>\n",
       "      <td>2_right.jpg</td>\n",
       "    </tr>\n",
       "    <tr>\n",
       "      <th>3</th>\n",
       "      <td>4</td>\n",
       "      <td>53</td>\n",
       "      <td>Male</td>\n",
       "      <td>4_left.jpg</td>\n",
       "      <td>4_right.jpg</td>\n",
       "      <td>macular epiretinal membrane</td>\n",
       "      <td>mild nonproliferative retinopathy</td>\n",
       "      <td>0</td>\n",
       "      <td>1</td>\n",
       "      <td>0</td>\n",
       "      <td>0</td>\n",
       "      <td>0</td>\n",
       "      <td>0</td>\n",
       "      <td>0</td>\n",
       "      <td>1</td>\n",
       "      <td>../input/ocular-disease-recognition-odir5k/ODI...</td>\n",
       "      <td>['D']</td>\n",
       "      <td>[0, 1, 0, 0, 0, 0, 0, 0]</td>\n",
       "      <td>4_right.jpg</td>\n",
       "    </tr>\n",
       "    <tr>\n",
       "      <th>4</th>\n",
       "      <td>5</td>\n",
       "      <td>50</td>\n",
       "      <td>Female</td>\n",
       "      <td>5_left.jpg</td>\n",
       "      <td>5_right.jpg</td>\n",
       "      <td>moderate non proliferative retinopathy</td>\n",
       "      <td>moderate non proliferative retinopathy</td>\n",
       "      <td>0</td>\n",
       "      <td>1</td>\n",
       "      <td>0</td>\n",
       "      <td>0</td>\n",
       "      <td>0</td>\n",
       "      <td>0</td>\n",
       "      <td>0</td>\n",
       "      <td>0</td>\n",
       "      <td>../input/ocular-disease-recognition-odir5k/ODI...</td>\n",
       "      <td>['D']</td>\n",
       "      <td>[0, 1, 0, 0, 0, 0, 0, 0]</td>\n",
       "      <td>5_right.jpg</td>\n",
       "    </tr>\n",
       "  </tbody>\n",
       "</table>\n",
       "</div>"
      ],
      "text/plain": [
       "   ID  Patient Age Patient Sex Left-Fundus Right-Fundus  \\\n",
       "0   0           69      Female  0_left.jpg  0_right.jpg   \n",
       "1   1           57        Male  1_left.jpg  1_right.jpg   \n",
       "2   2           42        Male  2_left.jpg  2_right.jpg   \n",
       "3   4           53        Male  4_left.jpg  4_right.jpg   \n",
       "4   5           50      Female  5_left.jpg  5_right.jpg   \n",
       "\n",
       "                            Left-Diagnostic Keywords  \\\n",
       "0                                           cataract   \n",
       "1                                      normal fundus   \n",
       "2  laser spot，moderate non proliferative retinopathy   \n",
       "3                        macular epiretinal membrane   \n",
       "4             moderate non proliferative retinopathy   \n",
       "\n",
       "                Right-Diagnostic Keywords  N  D  G  C  A  H  M  O  \\\n",
       "0                           normal fundus  0  0  0  1  0  0  0  0   \n",
       "1                           normal fundus  1  0  0  0  0  0  0  0   \n",
       "2  moderate non proliferative retinopathy  0  1  0  0  0  0  0  1   \n",
       "3       mild nonproliferative retinopathy  0  1  0  0  0  0  0  1   \n",
       "4  moderate non proliferative retinopathy  0  1  0  0  0  0  0  0   \n",
       "\n",
       "                                            filepath labels  \\\n",
       "0  ../input/ocular-disease-recognition-odir5k/ODI...  ['N']   \n",
       "1  ../input/ocular-disease-recognition-odir5k/ODI...  ['N']   \n",
       "2  ../input/ocular-disease-recognition-odir5k/ODI...  ['D']   \n",
       "3  ../input/ocular-disease-recognition-odir5k/ODI...  ['D']   \n",
       "4  ../input/ocular-disease-recognition-odir5k/ODI...  ['D']   \n",
       "\n",
       "                     target     filename  \n",
       "0  [1, 0, 0, 0, 0, 0, 0, 0]  0_right.jpg  \n",
       "1  [1, 0, 0, 0, 0, 0, 0, 0]  1_right.jpg  \n",
       "2  [0, 1, 0, 0, 0, 0, 0, 0]  2_right.jpg  \n",
       "3  [0, 1, 0, 0, 0, 0, 0, 0]  4_right.jpg  \n",
       "4  [0, 1, 0, 0, 0, 0, 0, 0]  5_right.jpg  "
      ]
     },
     "execution_count": 2,
     "metadata": {},
     "output_type": "execute_result"
    }
   ],
   "source": [
    "df = pd.read_csv(\"raw_data/full_df.csv\")\n",
    "df.head()"
   ]
  },
  {
   "cell_type": "markdown",
   "id": "e49d7de7-e1e1-4049-844f-3037d137de80",
   "metadata": {},
   "source": [
    "# Image categorization"
   ]
  },
  {
   "cell_type": "code",
   "execution_count": 3,
   "id": "69e13ba1-ddf5-4f65-b9ed-9a8d13a79e87",
   "metadata": {},
   "outputs": [],
   "source": [
    "dir_path = '../raw_data/raw_data/ODIR-5K/ODIR-5K/Training Images/'   #According to my computer.\n",
    "img_list = os.listdir(dir_path)"
   ]
  },
  {
   "cell_type": "markdown",
   "id": "1ddf4b72-61d9-4e73-97f4-3f739f13368d",
   "metadata": {},
   "source": [
    "We're not going to use the images categorized as 'Others'"
   ]
  },
  {
   "cell_type": "code",
   "execution_count": 4,
   "id": "6a645c4b-da6f-4d4f-8984-7134638652b1",
   "metadata": {},
   "outputs": [],
   "source": [
    "if os.path.isdir('data_train/normal') is False:\n",
    "    os.makedirs('data_train/normal')\n",
    "    os.makedirs('data_train/diabets')\n",
    "    os.makedirs('data_train/glaucoma')\n",
    "    os.makedirs('data_train/cataract')\n",
    "    os.makedirs('data_train/degeneration')\n",
    "    os.makedirs('data_train/hypertension')\n",
    "    os.makedirs('data_train/myopia')"
   ]
  },
  {
   "cell_type": "code",
   "execution_count": 5,
   "id": "c48bf1ae-b3e5-4f3e-9c42-7366fa41c6ec",
   "metadata": {},
   "outputs": [],
   "source": [
    "if os.path.isdir('data_val/normal') is False:\n",
    "    os.makedirs('data_val/normal')\n",
    "    os.makedirs('data_val/diabets')\n",
    "    os.makedirs('data_val/glaucoma')\n",
    "    os.makedirs('data_val/cataract')\n",
    "    os.makedirs('data_val/degeneration')\n",
    "    os.makedirs('data_val/hypertension')\n",
    "    os.makedirs('data_val/myopia')"
   ]
  },
  {
   "cell_type": "code",
   "execution_count": 6,
   "id": "a3ee1273-80ec-466f-bb0d-57e68a8342d2",
   "metadata": {},
   "outputs": [],
   "source": [
    "if os.path.isdir('data_test/normal') is False:\n",
    "    os.makedirs('data_test/normal')\n",
    "    os.makedirs('data_test/diabets')\n",
    "    os.makedirs('data_test/glaucoma')\n",
    "    os.makedirs('data_test/cataract')\n",
    "    os.makedirs('data_test/degeneration')\n",
    "    os.makedirs('data_test/hypertension')\n",
    "    os.makedirs('data_test/myopia')"
   ]
  },
  {
   "cell_type": "code",
   "execution_count": 7,
   "id": "4c067573-5abe-46a2-b2a9-b55fb6fb3327",
   "metadata": {},
   "outputs": [],
   "source": [
    "if len(os.listdir('data_train/normal')) == 0:  # Check if the directory is empty\n",
    "\n",
    "    for file in df.filename[df.labels == \"['N']\"]:\n",
    "        copy(os.path.join(dir_path, file) , 'data_train/normal')\n",
    "    for file in df.filename[df.labels == \"['D']\"]:\n",
    "        copy(os.path.join(dir_path, file) , 'data_train/diabets')\n",
    "    for file in df.filename[df.labels == \"['G']\"]:\n",
    "        copy(os.path.join(dir_path, file) , 'data_train/glaucoma')\n",
    "    for file in df.filename[df.labels == \"['C']\"]:\n",
    "        copy(os.path.join(dir_path, file) , 'data_train/cataract')\n",
    "    for file in df.filename[df.labels == \"['A']\"]:\n",
    "        copy(os.path.join(dir_path, file) , 'data_train/degeneration')\n",
    "    for file in df.filename[df.labels == \"['H']\"]:\n",
    "        copy(os.path.join(dir_path, file) , 'data_train/hypertension')\n",
    "    for file in df.filename[df.labels == \"['M']\"]:\n",
    "        copy(os.path.join(dir_path, file) , 'data_train/myopia')\n",
    "\n",
    "else:\n",
    "    print(\"The directory 'data_train/normal' is not empty\")\n",
    "    print(f\"\\nProbably the files from {dir_path} were already copied into 'data_train/normal'.\")\n",
    "   "
   ]
  },
  {
   "cell_type": "code",
   "execution_count": 8,
   "id": "f8f62abc-2e8e-4b88-947a-cd843eaa6507",
   "metadata": {},
   "outputs": [],
   "source": [
    "import random\n",
    "\n",
    "source_paths = ['data_train/normal', 'data_train/diabets', 'data_train/glaucoma', 'data_train/cataract', \n",
    "                'data_train/degeneration', 'data_train/hypertension',\n",
    "                'data_train/myopia']  \n",
    "\n",
    "# Validation dataset\n",
    "if len(os.listdir('data_val/normal')) == 0:\n",
    "    for source in source_paths:\n",
    "        dest = source.replace('data_train', 'data_val')\n",
    "        n_files = int(0.2*len(os.listdir(source)) )   #Taking 20% of each folder\n",
    "        for file in random.sample(os.listdir(source), n_files): \n",
    "            move(f\"{source}/{file}\", dest)\n",
    "else:\n",
    "    print(\"The directory 'data_val/normal' is not empty\")\n",
    "    print(f\"\\nProbably the files from {dir_path} were already copied into 'data_val/normal'.\")\n",
    "\n",
    "# Test dataset\n",
    "if len(os.listdir('data_test/normal')) == 0:\n",
    "    for source in source_paths:\n",
    "        dest = source.replace('data_train', 'data_test')\n",
    "        n_files = int(0.1*len(os.listdir(source)) )   #Taking 10% of each folder\n",
    "        for file in random.sample(os.listdir(source), n_files): \n",
    "            move(f\"{source}/{file}\", dest)\n",
    "else:\n",
    "    print(\"The directory 'data_test/normal' is not empty\")\n",
    "    print(f\"\\nProbably the files from {dir_path} were already copied into 'data_test/normal'.\")"
   ]
  },
  {
   "cell_type": "code",
   "execution_count": 9,
   "id": "d67a0015-ede8-4891-b2b6-cfacd38bf78a",
   "metadata": {},
   "outputs": [],
   "source": [
    "data_dir_train = pathlib.Path('data_train')\n",
    "data_dir_val   = pathlib.Path('data_val')\n",
    "data_dir_test  = pathlib.Path('data_test')"
   ]
  },
  {
   "cell_type": "code",
   "execution_count": 10,
   "id": "a33c01de-ce75-4972-bd19-ee2ba08400b4",
   "metadata": {},
   "outputs": [
    {
     "name": "stdout",
     "output_type": "stream",
     "text": [
      "Train: 4100\n",
      "Val:   1133\n",
      "Test:  451\n"
     ]
    }
   ],
   "source": [
    "train_length = len(list(data_dir_train.glob('*/*.jpg')))\n",
    "val_length   = len(list(data_dir_val.glob('*/*.jpg')))\n",
    "test_length  = len(list(data_dir_test.glob('*/*.jpg')))\n",
    "\n",
    "print(f\"Train: {train_length}\")\n",
    "print(f\"Val:   {val_length}\")\n",
    "print(f\"Test:  {test_length}\")"
   ]
  },
  {
   "cell_type": "code",
   "execution_count": 11,
   "id": "9c598e08-d1f2-4c5f-b619-b0b1f6ec5e13",
   "metadata": {},
   "outputs": [
    {
     "data": {
      "text/plain": [
       "708"
      ]
     },
     "execution_count": 11,
     "metadata": {},
     "output_type": "execute_result"
    }
   ],
   "source": [
    "len(df[df.labels == \"['O']\"])"
   ]
  },
  {
   "cell_type": "code",
   "execution_count": 12,
   "id": "585b5342-97f8-46c3-8c72-7ed005b0fdc9",
   "metadata": {},
   "outputs": [],
   "source": [
    "assert (test_length + val_length + train_length)  == (len(df) - len(df[df.labels == \"['O']\"]) )"
   ]
  },
  {
   "cell_type": "markdown",
   "id": "4be17c63-7299-4b7e-b01c-e9e88a5a0190",
   "metadata": {},
   "source": [
    "# Data augmentation"
   ]
  },
  {
   "cell_type": "code",
   "execution_count": 13,
   "id": "44bea10d-a54d-4063-8c4d-6beaa2fa5f67",
   "metadata": {},
   "outputs": [],
   "source": [
    "def augment_fundus_image(image_path):\n",
    "    \"\"\"\n",
    "    Load a fundus image, apply 8 different augmentations, and save the transformed versions\n",
    "    with descriptive suffixes.\n",
    "    \n",
    "    Args:\n",
    "        image_path (str): Path to the original fundus image\n",
    "    \"\"\"\n",
    "    # Load the image\n",
    "    img = Image.open(image_path)\n",
    "    \n",
    "    # Get the filename and directory\n",
    "    img_dir, img_filename = os.path.split(image_path)\n",
    "    filename, ext = os.path.splitext(img_filename)\n",
    "    \n",
    "    # 1. Rotation (±20 degrees)\n",
    "    angle = random.uniform(-20, 20)\n",
    "    rotated = img.rotate(angle, resample=Image.BICUBIC, expand=False)\n",
    "    rotated_path = os.path.join(img_dir, f\"{filename}_rot{angle:.1f}{ext}\")\n",
    "    rotated.save(rotated_path)\n",
    "    \n",
    "    # 2. Horizontal flip\n",
    "    flipped_h = img.transpose(Image.FLIP_LEFT_RIGHT)\n",
    "    flipped_h_path = os.path.join(img_dir, f\"{filename}_fliph{ext}\")\n",
    "    flipped_h.save(flipped_h_path)\n",
    "    \n",
    "    # 3. Brightness adjustment (+15%)\n",
    "    brightness_enhancer = ImageEnhance.Brightness(img)\n",
    "    brightened = brightness_enhancer.enhance(1.15)\n",
    "    brightened_path = os.path.join(img_dir, f\"{filename}_bright+15{ext}\")\n",
    "    brightened.save(brightened_path)\n",
    "    \n",
    "    # 4. Brightness adjustment (-15%)\n",
    "    darkened = brightness_enhancer.enhance(0.85)\n",
    "    darkened_path = os.path.join(img_dir, f\"{filename}_bright-15{ext}\")\n",
    "    darkened.save(darkened_path)\n",
    "    \n",
    "    # 5. Contrast adjustment (+15%)\n",
    "    contrast_enhancer = ImageEnhance.Contrast(img)\n",
    "    contrast_increased = contrast_enhancer.enhance(1.15)\n",
    "    contrast_increased_path = os.path.join(img_dir, f\"{filename}_contr+15{ext}\")\n",
    "    contrast_increased.save(contrast_increased_path)\n",
    "    \n",
    "    # 6. Slight Gaussian blur\n",
    "    # Convert to numpy array for OpenCV processing\n",
    "    img_np = np.array(img)\n",
    "    blurred = cv2.GaussianBlur(img_np, (5, 5), 0)\n",
    "    blurred_img = Image.fromarray(blurred)\n",
    "    blurred_path = os.path.join(img_dir, f\"{filename}_blur{ext}\")\n",
    "    blurred_img.save(blurred_path)\n",
    "    \n",
    "    # 7. Small translation\n",
    "    width, height = img.size\n",
    "    x_shift = int(width * 0.05)  # 5% shift\n",
    "    y_shift = int(height * 0.05)  # 5% shift\n",
    "    \n",
    "    # Create a new image with the same size and black background\n",
    "    translated = Image.new('RGB', (width, height))\n",
    "    # Paste the original image with an offset\n",
    "    translated.paste(img, (x_shift, y_shift))\n",
    "    translated_path = os.path.join(img_dir, f\"{filename}_trans{ext}\")\n",
    "    translated.save(translated_path)\n",
    "    \n",
    "    # 8. Slight scaling (zoom in 10%)\n",
    "    scale_factor = 1.1\n",
    "    \n",
    "    # Calculate new dimensions\n",
    "    new_width = int(width * scale_factor)\n",
    "    new_height = int(height * scale_factor)\n",
    "    \n",
    "    # Resize image\n",
    "    scaled = img.resize((new_width, new_height), Image.BICUBIC)\n",
    "    \n",
    "    # Crop back to original size (from center)\n",
    "    left = (new_width - width) // 2\n",
    "    top = (new_height - height) // 2\n",
    "    right = left + width\n",
    "    bottom = top + height\n",
    "    scaled = scaled.crop((left, top, right, bottom))\n",
    "    \n",
    "    scaled_path = os.path.join(img_dir, f\"{filename}_zoom10{ext}\")\n",
    "    scaled.save(scaled_path)\n",
    "    \n",
    "    #print(f\"Successfully created 8 augmented versions of {img_filename}\")\n",
    "\n",
    "    return None"
   ]
  },
  {
   "cell_type": "code",
   "execution_count": 14,
   "id": "09f0aeb1-2b72-430f-9ad8-26c20012659e",
   "metadata": {},
   "outputs": [
    {
     "data": {
      "text/plain": [
       "labels\n",
       "['N']    2873\n",
       "['D']    1608\n",
       "['O']     708\n",
       "['C']     293\n",
       "['G']     284\n",
       "['A']     266\n",
       "['M']     232\n",
       "['H']     128\n",
       "Name: count, dtype: int64"
      ]
     },
     "execution_count": 14,
     "metadata": {},
     "output_type": "execute_result"
    }
   ],
   "source": [
    "df[\"labels\"].value_counts()"
   ]
  },
  {
   "cell_type": "code",
   "execution_count": 15,
   "id": "eeec780d-ec8c-40cf-82a0-f9906d8ddbfa",
   "metadata": {},
   "outputs": [
    {
     "data": {
      "text/plain": [
       "['degeneration',\n",
       " 'myopia',\n",
       " 'normal',\n",
       " 'hypertension',\n",
       " 'glaucoma',\n",
       " 'cataract',\n",
       " 'diabets']"
      ]
     },
     "execution_count": 15,
     "metadata": {},
     "output_type": "execute_result"
    }
   ],
   "source": [
    "path = \"data_train\" # folder created in pre_processing\n",
    "dir_list = os.listdir(path)\n",
    "dir_list  #We can note that there is no folder for category 'others'."
   ]
  },
  {
   "cell_type": "code",
   "execution_count": 16,
   "id": "f64111e2-dbd1-4200-a1e3-b9ef122b7cd0",
   "metadata": {},
   "outputs": [
    {
     "data": {
      "text/plain": [
       "['degeneration', 'myopia', 'hypertension', 'glaucoma', 'cataract']"
      ]
     },
     "execution_count": 16,
     "metadata": {},
     "output_type": "execute_result"
    }
   ],
   "source": [
    "dir_list.remove('normal') # the mais class\n",
    "dir_list.remove('diabets') # the second class\n",
    "dir_list"
   ]
  },
  {
   "cell_type": "markdown",
   "id": "8fe1cb86-974d-4cd2-89a2-3b39dc402aee",
   "metadata": {},
   "source": [
    "These are the categories that will have data augmentation"
   ]
  },
  {
   "cell_type": "code",
   "execution_count": 17,
   "id": "23e0fa43-3080-48bf-928f-a15d440961e3",
   "metadata": {},
   "outputs": [
    {
     "name": "stdout",
     "output_type": "stream",
     "text": [
      "degeneration done\n",
      "myopia done\n",
      "hypertension done\n",
      "glaucoma done\n",
      "cataract done\n"
     ]
    }
   ],
   "source": [
    "for category_name in dir_list:\n",
    "\n",
    "    path = 'data_train'    \n",
    "    category_path = os.path.join(path, category_name) #Ex: data_train/degeneration   \n",
    "    image_list = os.listdir(category_path)\n",
    "    image_path = [os.path.join(category_path, x) for x in image_list]\n",
    "\n",
    "    for x in image_path:\n",
    "        augment_fundus_image(x)\n",
    "\n",
    "        \n",
    "#Do the same for validation dataset\n",
    "    path = 'data_val'\n",
    "    category_path = os.path.join(path, category_name) #Ex: data_val/degeneration   \n",
    "    image_list = os.listdir(category_path)\n",
    "    image_path = [os.path.join(category_path, x) for x in image_list]\n",
    "\n",
    "    for x in image_path:\n",
    "        augment_fundus_image(x)\n",
    "     \n",
    "    \n",
    "    print(f\"{category_name} done\")\n"
   ]
  },
  {
   "cell_type": "code",
   "execution_count": 18,
   "id": "5d97c877-d825-45fa-85a4-5447ebe9482d",
   "metadata": {},
   "outputs": [
    {
     "name": "stdout",
     "output_type": "stream",
     "text": [
      "Train: 11068\n",
      "Val: 451\n",
      "Test:  451\n"
     ]
    }
   ],
   "source": [
    "train_length = len(list(data_dir_train.glob('*/*.jpg')))\n",
    "val_length  = len(list(data_dir_test.glob('*/*.jpg')))\n",
    "test_length  = len(list(data_dir_test.glob('*/*.jpg')))\n",
    "\n",
    "\n",
    "print(f\"Train: {train_length}\")\n",
    "print(f\"Val: {val_length}\")\n",
    "print(f\"Test:  {test_length}\")"
   ]
  },
  {
   "cell_type": "code",
   "execution_count": 32,
   "id": "dd8af1d1-4d7f-400a-9aa1-259ed288cd2d",
   "metadata": {},
   "outputs": [
    {
     "name": "stdout",
     "output_type": "stream",
     "text": [
      "For degeneration in training dataset, there are 1728 images\n",
      "For degeneration in validation dataset, there are 477 images\n",
      "For degeneration in test dataset, there are 21 images\n",
      "---------------------------------------------------------------------\n",
      "For myopia in training dataset, there are 1512 images\n",
      "For myopia in validation dataset, there are 414 images\n",
      "For myopia in test dataset, there are 18 images\n",
      "---------------------------------------------------------------------\n",
      "For hypertension in training dataset, there are 837 images\n",
      "For hypertension in validation dataset, there are 225 images\n",
      "For hypertension in test dataset, there are 10 images\n",
      "---------------------------------------------------------------------\n",
      "For glaucoma in training dataset, there are 1854 images\n",
      "For glaucoma in validation dataset, there are 504 images\n",
      "For glaucoma in test dataset, there are 22 images\n",
      "---------------------------------------------------------------------\n",
      "For cataract in training dataset, there are 1908 images\n",
      "For cataract in validation dataset, there are 522 images\n",
      "For cataract in test dataset, there are 23 images\n",
      "---------------------------------------------------------------------\n",
      "Total of files: 10075\n"
     ]
    }
   ],
   "source": [
    "processed_number = 0\n",
    "for category_name in dir_list:\n",
    "    number_of_files = len(list(data_dir_train.glob(f'{category_name}/*.jpg')))\n",
    "    print(f\"For {category_name} in training dataset, there are {number_of_files} images\")\n",
    "    processed_number += number_of_files\n",
    "     \n",
    "    number_of_files = len(list(data_dir_val.glob(f'{category_name}/*.jpg')))\n",
    "    print(f\"For {category_name} in validation dataset, there are {number_of_files} images\")\n",
    "    processed_number += number_of_files\n",
    "\n",
    "    number_of_files = len(list(data_dir_test.glob(f'{category_name}/*.jpg')))\n",
    "    print(f\"For {category_name} in test dataset, there are {number_of_files} images\")\n",
    "    print(\"---------------------------------------------------------------------\")\n",
    "    processed_number += number_of_files\n",
    "\n",
    "print(f\"Total of files: {processed_number}\")"
   ]
  },
  {
   "cell_type": "code",
   "execution_count": 40,
   "id": "1e5e0fd7-c9f0-4cb2-acb9-b51b8af39393",
   "metadata": {},
   "outputs": [
    {
     "data": {
      "text/plain": [
       "1259.375"
      ]
     },
     "execution_count": 40,
     "metadata": {},
     "output_type": "execute_result"
    }
   ],
   "source": [
    "unprocessed_number = len(df[df.labels == \"['N']\"]) + len(df[df.labels == \"['D']\"]) + len(df[df.labels == \"['O']\"])\n",
    "                         \n",
    "#assert ((processed_number/8 + unprocessed_number)  == len(df) )\n",
    "processed_number/8"
   ]
  },
  {
   "cell_type": "code",
   "execution_count": null,
   "id": "d446c575-f6f6-4230-8b84-22f1679e82a2",
   "metadata": {},
   "outputs": [],
   "source": []
  }
 ],
 "metadata": {
  "kernelspec": {
   "display_name": "Python (myenv)",
   "language": "python",
   "name": "myenv"
  },
  "language_info": {
   "codemirror_mode": {
    "name": "ipython",
    "version": 3
   },
   "file_extension": ".py",
   "mimetype": "text/x-python",
   "name": "python",
   "nbconvert_exporter": "python",
   "pygments_lexer": "ipython3",
   "version": "3.10.6"
  }
 },
 "nbformat": 4,
 "nbformat_minor": 5
}
