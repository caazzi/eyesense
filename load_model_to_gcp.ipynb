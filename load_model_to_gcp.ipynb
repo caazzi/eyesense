{
 "cells": [
  {
   "cell_type": "code",
   "execution_count": 4,
   "id": "14a83e05-5e59-4e28-9eae-bcd643e10110",
   "metadata": {},
   "outputs": [],
   "source": [
    "# Using Google Cloud Storage client library\n",
    "from google.cloud import storage"
   ]
  },
  {
   "cell_type": "code",
   "execution_count": 5,
   "id": "e70a0636-9e34-4219-b6e8-f5ef19568199",
   "metadata": {},
   "outputs": [],
   "source": [
    "# Initialize a client\n",
    "client = storage.Client()"
   ]
  },
  {
   "cell_type": "code",
   "execution_count": 7,
   "id": "97d50431-dd97-4e3e-b46f-4cf6df92998f",
   "metadata": {},
   "outputs": [],
   "source": [
    "# Initialize a client\n",
    "bucket = client.create_bucket('eyesense_model')"
   ]
  },
  {
   "cell_type": "code",
   "execution_count": 8,
   "id": "404f9ad3-8cd7-4ad5-913d-22ffa1ceb60d",
   "metadata": {},
   "outputs": [],
   "source": [
    "# Upload the model file\n",
    "blob = bucket.blob('./project/output/best_model.h5')\n",
    "blob.upload_from_filename('./project/output/best_model.h5')"
   ]
  },
  {
   "cell_type": "code",
   "execution_count": null,
   "id": "628d0a01-fd6f-4136-a095-9f6481690421",
   "metadata": {},
   "outputs": [],
   "source": []
  }
 ],
 "metadata": {
  "kernelspec": {
   "display_name": "Python 3 (ipykernel)",
   "language": "python",
   "name": "python3"
  },
  "language_info": {
   "codemirror_mode": {
    "name": "ipython",
    "version": 3
   },
   "file_extension": ".py",
   "mimetype": "text/x-python",
   "name": "python",
   "nbconvert_exporter": "python",
   "pygments_lexer": "ipython3",
   "version": "3.10.6"
  }
 },
 "nbformat": 4,
 "nbformat_minor": 5
}
