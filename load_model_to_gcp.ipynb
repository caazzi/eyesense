{
 "cells": [
  {
   "cell_type": "code",
   "execution_count": 6,
   "id": "14a83e05-5e59-4e28-9eae-bcd643e10110",
   "metadata": {},
   "outputs": [],
   "source": [
    "# Using Google Cloud Storage client library\n",
    "from google.cloud import storage"
   ]
  },
  {
   "cell_type": "code",
   "execution_count": 7,
   "id": "e70a0636-9e34-4219-b6e8-f5ef19568199",
   "metadata": {},
   "outputs": [],
   "source": [
    "# Initialize a client\n",
    "client = storage.Client()"
   ]
  },
  {
   "cell_type": "code",
   "execution_count": 8,
   "id": "97d50431-dd97-4e3e-b46f-4cf6df92998f",
   "metadata": {},
   "outputs": [],
   "source": [
    "# Initialize a client\n",
    "bucket = client.bucket('eyesense_model')"
   ]
  },
  {
   "cell_type": "code",
   "execution_count": 9,
   "id": "404f9ad3-8cd7-4ad5-913d-22ffa1ceb60d",
   "metadata": {},
   "outputs": [],
   "source": [
    "# Upload the model file\n",
    "blob = bucket.blob('./project/output/Xception-01.keras')\n",
    "blob.upload_from_filename('./project/output/Xception-01.keras')"
   ]
  },
  {
   "cell_type": "code",
   "execution_count": 4,
   "id": "628d0a01-fd6f-4136-a095-9f6481690421",
   "metadata": {},
   "outputs": [],
   "source": [
    "# Download model on startup\n",
    "MODEL_BUCKET = \"eyesense_model\"\n",
    "MODEL_PATH = \"best_model.h5\"\n",
    "LOCAL_MODEL_PATH = \"/tmp/model.h5\""
   ]
  },
  {
   "cell_type": "code",
   "execution_count": 5,
   "id": "aaab2342-e8d5-46cf-aaa9-2630adcb7e48",
   "metadata": {},
   "outputs": [],
   "source": [
    "# Download the model from GCS\n",
    "storage_client = storage.Client()\n",
    "bucket = storage_client.bucket(MODEL_BUCKET)\n",
    "blob = bucket.blob(MODEL_PATH)\n",
    "blob.download_to_filename(LOCAL_MODEL_PATH)"
   ]
  },
  {
   "cell_type": "code",
   "execution_count": null,
   "id": "5c686e34-b9cd-4b14-8021-353c7a61dae2",
   "metadata": {},
   "outputs": [],
   "source": [
    "# Load the model\n",
    "global model\n",
    "model = tf.keras.models.load_model(LOCAL_MODEL_PATH)"
   ]
  }
 ],
 "metadata": {
  "kernelspec": {
   "display_name": "Python 3 (ipykernel)",
   "language": "python",
   "name": "python3"
  },
  "language_info": {
   "codemirror_mode": {
    "name": "ipython",
    "version": 3
   },
   "file_extension": ".py",
   "mimetype": "text/x-python",
   "name": "python",
   "nbconvert_exporter": "python",
   "pygments_lexer": "ipython3",
   "version": "3.10.6"
  }
 },
 "nbformat": 4,
 "nbformat_minor": 5
}
