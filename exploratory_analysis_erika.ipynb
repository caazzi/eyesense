{
 "cells": [
  {
   "cell_type": "markdown",
   "id": "cb46b1ee-e5c4-4bbd-96fe-c9cb0d88858d",
   "metadata": {},
   "source": [
    "# Eyesense"
   ]
  },
  {
   "cell_type": "code",
   "execution_count": 1,
   "id": "f0813c10-3b30-4fa5-b514-8195ec645fdb",
   "metadata": {},
   "outputs": [],
   "source": [
    "import pandas as pd\n",
    "import numpy as np\n",
    "import os\n",
    "import seaborn as sns\n",
    "import matplotlib.pyplot as plt\n",
    "\n",
    "import tensorflow as tf\n",
    "from tensorflow.keras.preprocessing import image\n",
    "from tensorflow.keras.preprocessing.image import img_to_array\n"
   ]
  },
  {
   "cell_type": "markdown",
   "id": "f41bdcc0-bd96-44fa-805e-5ee55208a2b2",
   "metadata": {
    "jp-MarkdownHeadingCollapsed": true
   },
   "source": [
    "## DataFrame Analysis"
   ]
  },
  {
   "cell_type": "code",
   "execution_count": 2,
   "id": "ade6354f-e437-4c24-a16f-a3e8eeaa7b76",
   "metadata": {},
   "outputs": [],
   "source": [
    "df = pd.read_csv(\"/Users/erika/code/caazzi/eyesense/raw_data/ocular-disease-recognition-odir5k/full_df.csv\")"
   ]
  },
  {
   "cell_type": "markdown",
   "id": "2a172060-b48c-406f-93cc-4911fd2bac7e",
   "metadata": {},
   "source": [
    "### General information about the data"
   ]
  },
  {
   "cell_type": "code",
   "execution_count": 3,
   "id": "d813807d-7fd6-4662-b49e-f57ea758b728",
   "metadata": {},
   "outputs": [
    {
     "data": {
      "text/html": [
       "<div>\n",
       "<style scoped>\n",
       "    .dataframe tbody tr th:only-of-type {\n",
       "        vertical-align: middle;\n",
       "    }\n",
       "\n",
       "    .dataframe tbody tr th {\n",
       "        vertical-align: top;\n",
       "    }\n",
       "\n",
       "    .dataframe thead th {\n",
       "        text-align: right;\n",
       "    }\n",
       "</style>\n",
       "<table border=\"1\" class=\"dataframe\">\n",
       "  <thead>\n",
       "    <tr style=\"text-align: right;\">\n",
       "      <th></th>\n",
       "      <th>ID</th>\n",
       "      <th>Patient Age</th>\n",
       "      <th>N</th>\n",
       "      <th>D</th>\n",
       "      <th>G</th>\n",
       "      <th>C</th>\n",
       "      <th>A</th>\n",
       "      <th>H</th>\n",
       "      <th>M</th>\n",
       "      <th>O</th>\n",
       "    </tr>\n",
       "  </thead>\n",
       "  <tbody>\n",
       "    <tr>\n",
       "      <th>count</th>\n",
       "      <td>6392.000000</td>\n",
       "      <td>6392.000000</td>\n",
       "      <td>6392.000000</td>\n",
       "      <td>6392.000000</td>\n",
       "      <td>6392.000000</td>\n",
       "      <td>6392.000000</td>\n",
       "      <td>6392.000000</td>\n",
       "      <td>6392.000000</td>\n",
       "      <td>6392.000000</td>\n",
       "      <td>6392.000000</td>\n",
       "    </tr>\n",
       "    <tr>\n",
       "      <th>mean</th>\n",
       "      <td>2271.150814</td>\n",
       "      <td>57.857947</td>\n",
       "      <td>0.328692</td>\n",
       "      <td>0.332134</td>\n",
       "      <td>0.062109</td>\n",
       "      <td>0.062891</td>\n",
       "      <td>0.049906</td>\n",
       "      <td>0.031758</td>\n",
       "      <td>0.047872</td>\n",
       "      <td>0.248436</td>\n",
       "    </tr>\n",
       "    <tr>\n",
       "      <th>std</th>\n",
       "      <td>1417.559018</td>\n",
       "      <td>11.727737</td>\n",
       "      <td>0.469775</td>\n",
       "      <td>0.471016</td>\n",
       "      <td>0.241372</td>\n",
       "      <td>0.242786</td>\n",
       "      <td>0.217768</td>\n",
       "      <td>0.175370</td>\n",
       "      <td>0.213513</td>\n",
       "      <td>0.432139</td>\n",
       "    </tr>\n",
       "    <tr>\n",
       "      <th>min</th>\n",
       "      <td>0.000000</td>\n",
       "      <td>1.000000</td>\n",
       "      <td>0.000000</td>\n",
       "      <td>0.000000</td>\n",
       "      <td>0.000000</td>\n",
       "      <td>0.000000</td>\n",
       "      <td>0.000000</td>\n",
       "      <td>0.000000</td>\n",
       "      <td>0.000000</td>\n",
       "      <td>0.000000</td>\n",
       "    </tr>\n",
       "    <tr>\n",
       "      <th>25%</th>\n",
       "      <td>920.750000</td>\n",
       "      <td>51.000000</td>\n",
       "      <td>0.000000</td>\n",
       "      <td>0.000000</td>\n",
       "      <td>0.000000</td>\n",
       "      <td>0.000000</td>\n",
       "      <td>0.000000</td>\n",
       "      <td>0.000000</td>\n",
       "      <td>0.000000</td>\n",
       "      <td>0.000000</td>\n",
       "    </tr>\n",
       "    <tr>\n",
       "      <th>50%</th>\n",
       "      <td>2419.500000</td>\n",
       "      <td>59.000000</td>\n",
       "      <td>0.000000</td>\n",
       "      <td>0.000000</td>\n",
       "      <td>0.000000</td>\n",
       "      <td>0.000000</td>\n",
       "      <td>0.000000</td>\n",
       "      <td>0.000000</td>\n",
       "      <td>0.000000</td>\n",
       "      <td>0.000000</td>\n",
       "    </tr>\n",
       "    <tr>\n",
       "      <th>75%</th>\n",
       "      <td>3294.000000</td>\n",
       "      <td>66.000000</td>\n",
       "      <td>1.000000</td>\n",
       "      <td>1.000000</td>\n",
       "      <td>0.000000</td>\n",
       "      <td>0.000000</td>\n",
       "      <td>0.000000</td>\n",
       "      <td>0.000000</td>\n",
       "      <td>0.000000</td>\n",
       "      <td>0.000000</td>\n",
       "    </tr>\n",
       "    <tr>\n",
       "      <th>max</th>\n",
       "      <td>4784.000000</td>\n",
       "      <td>91.000000</td>\n",
       "      <td>1.000000</td>\n",
       "      <td>1.000000</td>\n",
       "      <td>1.000000</td>\n",
       "      <td>1.000000</td>\n",
       "      <td>1.000000</td>\n",
       "      <td>1.000000</td>\n",
       "      <td>1.000000</td>\n",
       "      <td>1.000000</td>\n",
       "    </tr>\n",
       "  </tbody>\n",
       "</table>\n",
       "</div>"
      ],
      "text/plain": [
       "                ID  Patient Age            N            D            G  \\\n",
       "count  6392.000000  6392.000000  6392.000000  6392.000000  6392.000000   \n",
       "mean   2271.150814    57.857947     0.328692     0.332134     0.062109   \n",
       "std    1417.559018    11.727737     0.469775     0.471016     0.241372   \n",
       "min       0.000000     1.000000     0.000000     0.000000     0.000000   \n",
       "25%     920.750000    51.000000     0.000000     0.000000     0.000000   \n",
       "50%    2419.500000    59.000000     0.000000     0.000000     0.000000   \n",
       "75%    3294.000000    66.000000     1.000000     1.000000     0.000000   \n",
       "max    4784.000000    91.000000     1.000000     1.000000     1.000000   \n",
       "\n",
       "                 C            A            H            M            O  \n",
       "count  6392.000000  6392.000000  6392.000000  6392.000000  6392.000000  \n",
       "mean      0.062891     0.049906     0.031758     0.047872     0.248436  \n",
       "std       0.242786     0.217768     0.175370     0.213513     0.432139  \n",
       "min       0.000000     0.000000     0.000000     0.000000     0.000000  \n",
       "25%       0.000000     0.000000     0.000000     0.000000     0.000000  \n",
       "50%       0.000000     0.000000     0.000000     0.000000     0.000000  \n",
       "75%       0.000000     0.000000     0.000000     0.000000     0.000000  \n",
       "max       1.000000     1.000000     1.000000     1.000000     1.000000  "
      ]
     },
     "execution_count": 3,
     "metadata": {},
     "output_type": "execute_result"
    }
   ],
   "source": [
    "df.describe()"
   ]
  },
  {
   "cell_type": "markdown",
   "id": "07706771-c1b1-4983-b91d-82c4d19b7f2e",
   "metadata": {},
   "source": [
    "<br>The dataset has **6392** entries of pictures and diagnosis and **4784** indicating that not all patients have pictures for both eyes.</br>\n",
    "<br>The ages vary between 1 and 91 years old.</br>\n",
    "<br>Annotations were labeled by trained human readers with quality control management. They classify patients into eight labels, including:</br>\n",
    "\n",
    "- Normal (N),\n",
    "- Diabetes (D),\n",
    "- Glaucoma (G),\n",
    "- Cataract (C),\n",
    "- Age related Macular Degeneration (A),\n",
    "- Hypertension (H),\n",
    "- Pathological Myopia (M),\n",
    "- Other diseases/abnormalities (O)"
   ]
  },
  {
   "cell_type": "code",
   "execution_count": 4,
   "id": "4ff62607-dc23-48c0-ac83-9eb99cf27268",
   "metadata": {},
   "outputs": [
    {
     "data": {
      "text/html": [
       "<div>\n",
       "<style scoped>\n",
       "    .dataframe tbody tr th:only-of-type {\n",
       "        vertical-align: middle;\n",
       "    }\n",
       "\n",
       "    .dataframe tbody tr th {\n",
       "        vertical-align: top;\n",
       "    }\n",
       "\n",
       "    .dataframe thead th {\n",
       "        text-align: right;\n",
       "    }\n",
       "</style>\n",
       "<table border=\"1\" class=\"dataframe\">\n",
       "  <thead>\n",
       "    <tr style=\"text-align: right;\">\n",
       "      <th></th>\n",
       "      <th>ID</th>\n",
       "      <th>Patient Age</th>\n",
       "      <th>Patient Sex</th>\n",
       "      <th>Left-Fundus</th>\n",
       "      <th>Right-Fundus</th>\n",
       "      <th>Left-Diagnostic Keywords</th>\n",
       "      <th>Right-Diagnostic Keywords</th>\n",
       "      <th>N</th>\n",
       "      <th>D</th>\n",
       "      <th>G</th>\n",
       "      <th>C</th>\n",
       "      <th>A</th>\n",
       "      <th>H</th>\n",
       "      <th>M</th>\n",
       "      <th>O</th>\n",
       "      <th>filepath</th>\n",
       "      <th>labels</th>\n",
       "      <th>target</th>\n",
       "      <th>filename</th>\n",
       "    </tr>\n",
       "  </thead>\n",
       "  <tbody>\n",
       "    <tr>\n",
       "      <th>0</th>\n",
       "      <td>0</td>\n",
       "      <td>69</td>\n",
       "      <td>Female</td>\n",
       "      <td>0_left.jpg</td>\n",
       "      <td>0_right.jpg</td>\n",
       "      <td>cataract</td>\n",
       "      <td>normal fundus</td>\n",
       "      <td>0</td>\n",
       "      <td>0</td>\n",
       "      <td>0</td>\n",
       "      <td>1</td>\n",
       "      <td>0</td>\n",
       "      <td>0</td>\n",
       "      <td>0</td>\n",
       "      <td>0</td>\n",
       "      <td>../input/ocular-disease-recognition-odir5k/ODI...</td>\n",
       "      <td>['N']</td>\n",
       "      <td>[1, 0, 0, 0, 0, 0, 0, 0]</td>\n",
       "      <td>0_right.jpg</td>\n",
       "    </tr>\n",
       "    <tr>\n",
       "      <th>3194</th>\n",
       "      <td>0</td>\n",
       "      <td>69</td>\n",
       "      <td>Female</td>\n",
       "      <td>0_left.jpg</td>\n",
       "      <td>0_right.jpg</td>\n",
       "      <td>cataract</td>\n",
       "      <td>normal fundus</td>\n",
       "      <td>0</td>\n",
       "      <td>0</td>\n",
       "      <td>0</td>\n",
       "      <td>1</td>\n",
       "      <td>0</td>\n",
       "      <td>0</td>\n",
       "      <td>0</td>\n",
       "      <td>0</td>\n",
       "      <td>../input/ocular-disease-recognition-odir5k/ODI...</td>\n",
       "      <td>['C']</td>\n",
       "      <td>[0, 0, 0, 1, 0, 0, 0, 0]</td>\n",
       "      <td>0_left.jpg</td>\n",
       "    </tr>\n",
       "    <tr>\n",
       "      <th>3195</th>\n",
       "      <td>1</td>\n",
       "      <td>57</td>\n",
       "      <td>Male</td>\n",
       "      <td>1_left.jpg</td>\n",
       "      <td>1_right.jpg</td>\n",
       "      <td>normal fundus</td>\n",
       "      <td>normal fundus</td>\n",
       "      <td>1</td>\n",
       "      <td>0</td>\n",
       "      <td>0</td>\n",
       "      <td>0</td>\n",
       "      <td>0</td>\n",
       "      <td>0</td>\n",
       "      <td>0</td>\n",
       "      <td>0</td>\n",
       "      <td>../input/ocular-disease-recognition-odir5k/ODI...</td>\n",
       "      <td>['N']</td>\n",
       "      <td>[1, 0, 0, 0, 0, 0, 0, 0]</td>\n",
       "      <td>1_left.jpg</td>\n",
       "    </tr>\n",
       "    <tr>\n",
       "      <th>1</th>\n",
       "      <td>1</td>\n",
       "      <td>57</td>\n",
       "      <td>Male</td>\n",
       "      <td>1_left.jpg</td>\n",
       "      <td>1_right.jpg</td>\n",
       "      <td>normal fundus</td>\n",
       "      <td>normal fundus</td>\n",
       "      <td>1</td>\n",
       "      <td>0</td>\n",
       "      <td>0</td>\n",
       "      <td>0</td>\n",
       "      <td>0</td>\n",
       "      <td>0</td>\n",
       "      <td>0</td>\n",
       "      <td>0</td>\n",
       "      <td>../input/ocular-disease-recognition-odir5k/ODI...</td>\n",
       "      <td>['N']</td>\n",
       "      <td>[1, 0, 0, 0, 0, 0, 0, 0]</td>\n",
       "      <td>1_right.jpg</td>\n",
       "    </tr>\n",
       "    <tr>\n",
       "      <th>2</th>\n",
       "      <td>2</td>\n",
       "      <td>42</td>\n",
       "      <td>Male</td>\n",
       "      <td>2_left.jpg</td>\n",
       "      <td>2_right.jpg</td>\n",
       "      <td>laser spot，moderate non proliferative retinopathy</td>\n",
       "      <td>moderate non proliferative retinopathy</td>\n",
       "      <td>0</td>\n",
       "      <td>1</td>\n",
       "      <td>0</td>\n",
       "      <td>0</td>\n",
       "      <td>0</td>\n",
       "      <td>0</td>\n",
       "      <td>0</td>\n",
       "      <td>1</td>\n",
       "      <td>../input/ocular-disease-recognition-odir5k/ODI...</td>\n",
       "      <td>['D']</td>\n",
       "      <td>[0, 1, 0, 0, 0, 0, 0, 0]</td>\n",
       "      <td>2_right.jpg</td>\n",
       "    </tr>\n",
       "    <tr>\n",
       "      <th>3196</th>\n",
       "      <td>3</td>\n",
       "      <td>66</td>\n",
       "      <td>Male</td>\n",
       "      <td>3_left.jpg</td>\n",
       "      <td>3_right.jpg</td>\n",
       "      <td>normal fundus</td>\n",
       "      <td>branch retinal artery occlusion</td>\n",
       "      <td>0</td>\n",
       "      <td>0</td>\n",
       "      <td>0</td>\n",
       "      <td>0</td>\n",
       "      <td>0</td>\n",
       "      <td>0</td>\n",
       "      <td>0</td>\n",
       "      <td>1</td>\n",
       "      <td>../input/ocular-disease-recognition-odir5k/ODI...</td>\n",
       "      <td>['N']</td>\n",
       "      <td>[1, 0, 0, 0, 0, 0, 0, 0]</td>\n",
       "      <td>3_left.jpg</td>\n",
       "    </tr>\n",
       "    <tr>\n",
       "      <th>3</th>\n",
       "      <td>4</td>\n",
       "      <td>53</td>\n",
       "      <td>Male</td>\n",
       "      <td>4_left.jpg</td>\n",
       "      <td>4_right.jpg</td>\n",
       "      <td>macular epiretinal membrane</td>\n",
       "      <td>mild nonproliferative retinopathy</td>\n",
       "      <td>0</td>\n",
       "      <td>1</td>\n",
       "      <td>0</td>\n",
       "      <td>0</td>\n",
       "      <td>0</td>\n",
       "      <td>0</td>\n",
       "      <td>0</td>\n",
       "      <td>1</td>\n",
       "      <td>../input/ocular-disease-recognition-odir5k/ODI...</td>\n",
       "      <td>['D']</td>\n",
       "      <td>[0, 1, 0, 0, 0, 0, 0, 0]</td>\n",
       "      <td>4_right.jpg</td>\n",
       "    </tr>\n",
       "    <tr>\n",
       "      <th>3197</th>\n",
       "      <td>4</td>\n",
       "      <td>53</td>\n",
       "      <td>Male</td>\n",
       "      <td>4_left.jpg</td>\n",
       "      <td>4_right.jpg</td>\n",
       "      <td>macular epiretinal membrane</td>\n",
       "      <td>mild nonproliferative retinopathy</td>\n",
       "      <td>0</td>\n",
       "      <td>1</td>\n",
       "      <td>0</td>\n",
       "      <td>0</td>\n",
       "      <td>0</td>\n",
       "      <td>0</td>\n",
       "      <td>0</td>\n",
       "      <td>1</td>\n",
       "      <td>../input/ocular-disease-recognition-odir5k/ODI...</td>\n",
       "      <td>['O']</td>\n",
       "      <td>[0, 0, 0, 0, 0, 0, 0, 1]</td>\n",
       "      <td>4_left.jpg</td>\n",
       "    </tr>\n",
       "    <tr>\n",
       "      <th>3198</th>\n",
       "      <td>5</td>\n",
       "      <td>50</td>\n",
       "      <td>Female</td>\n",
       "      <td>5_left.jpg</td>\n",
       "      <td>5_right.jpg</td>\n",
       "      <td>moderate non proliferative retinopathy</td>\n",
       "      <td>moderate non proliferative retinopathy</td>\n",
       "      <td>0</td>\n",
       "      <td>1</td>\n",
       "      <td>0</td>\n",
       "      <td>0</td>\n",
       "      <td>0</td>\n",
       "      <td>0</td>\n",
       "      <td>0</td>\n",
       "      <td>0</td>\n",
       "      <td>../input/ocular-disease-recognition-odir5k/ODI...</td>\n",
       "      <td>['D']</td>\n",
       "      <td>[0, 1, 0, 0, 0, 0, 0, 0]</td>\n",
       "      <td>5_left.jpg</td>\n",
       "    </tr>\n",
       "    <tr>\n",
       "      <th>4</th>\n",
       "      <td>5</td>\n",
       "      <td>50</td>\n",
       "      <td>Female</td>\n",
       "      <td>5_left.jpg</td>\n",
       "      <td>5_right.jpg</td>\n",
       "      <td>moderate non proliferative retinopathy</td>\n",
       "      <td>moderate non proliferative retinopathy</td>\n",
       "      <td>0</td>\n",
       "      <td>1</td>\n",
       "      <td>0</td>\n",
       "      <td>0</td>\n",
       "      <td>0</td>\n",
       "      <td>0</td>\n",
       "      <td>0</td>\n",
       "      <td>0</td>\n",
       "      <td>../input/ocular-disease-recognition-odir5k/ODI...</td>\n",
       "      <td>['D']</td>\n",
       "      <td>[0, 1, 0, 0, 0, 0, 0, 0]</td>\n",
       "      <td>5_right.jpg</td>\n",
       "    </tr>\n",
       "  </tbody>\n",
       "</table>\n",
       "</div>"
      ],
      "text/plain": [
       "      ID  Patient Age Patient Sex Left-Fundus Right-Fundus  \\\n",
       "0      0           69      Female  0_left.jpg  0_right.jpg   \n",
       "3194   0           69      Female  0_left.jpg  0_right.jpg   \n",
       "3195   1           57        Male  1_left.jpg  1_right.jpg   \n",
       "1      1           57        Male  1_left.jpg  1_right.jpg   \n",
       "2      2           42        Male  2_left.jpg  2_right.jpg   \n",
       "3196   3           66        Male  3_left.jpg  3_right.jpg   \n",
       "3      4           53        Male  4_left.jpg  4_right.jpg   \n",
       "3197   4           53        Male  4_left.jpg  4_right.jpg   \n",
       "3198   5           50      Female  5_left.jpg  5_right.jpg   \n",
       "4      5           50      Female  5_left.jpg  5_right.jpg   \n",
       "\n",
       "                               Left-Diagnostic Keywords  \\\n",
       "0                                              cataract   \n",
       "3194                                           cataract   \n",
       "3195                                      normal fundus   \n",
       "1                                         normal fundus   \n",
       "2     laser spot，moderate non proliferative retinopathy   \n",
       "3196                                      normal fundus   \n",
       "3                           macular epiretinal membrane   \n",
       "3197                        macular epiretinal membrane   \n",
       "3198             moderate non proliferative retinopathy   \n",
       "4                moderate non proliferative retinopathy   \n",
       "\n",
       "                   Right-Diagnostic Keywords  N  D  G  C  A  H  M  O  \\\n",
       "0                              normal fundus  0  0  0  1  0  0  0  0   \n",
       "3194                           normal fundus  0  0  0  1  0  0  0  0   \n",
       "3195                           normal fundus  1  0  0  0  0  0  0  0   \n",
       "1                              normal fundus  1  0  0  0  0  0  0  0   \n",
       "2     moderate non proliferative retinopathy  0  1  0  0  0  0  0  1   \n",
       "3196         branch retinal artery occlusion  0  0  0  0  0  0  0  1   \n",
       "3          mild nonproliferative retinopathy  0  1  0  0  0  0  0  1   \n",
       "3197       mild nonproliferative retinopathy  0  1  0  0  0  0  0  1   \n",
       "3198  moderate non proliferative retinopathy  0  1  0  0  0  0  0  0   \n",
       "4     moderate non proliferative retinopathy  0  1  0  0  0  0  0  0   \n",
       "\n",
       "                                               filepath labels  \\\n",
       "0     ../input/ocular-disease-recognition-odir5k/ODI...  ['N']   \n",
       "3194  ../input/ocular-disease-recognition-odir5k/ODI...  ['C']   \n",
       "3195  ../input/ocular-disease-recognition-odir5k/ODI...  ['N']   \n",
       "1     ../input/ocular-disease-recognition-odir5k/ODI...  ['N']   \n",
       "2     ../input/ocular-disease-recognition-odir5k/ODI...  ['D']   \n",
       "3196  ../input/ocular-disease-recognition-odir5k/ODI...  ['N']   \n",
       "3     ../input/ocular-disease-recognition-odir5k/ODI...  ['D']   \n",
       "3197  ../input/ocular-disease-recognition-odir5k/ODI...  ['O']   \n",
       "3198  ../input/ocular-disease-recognition-odir5k/ODI...  ['D']   \n",
       "4     ../input/ocular-disease-recognition-odir5k/ODI...  ['D']   \n",
       "\n",
       "                        target     filename  \n",
       "0     [1, 0, 0, 0, 0, 0, 0, 0]  0_right.jpg  \n",
       "3194  [0, 0, 0, 1, 0, 0, 0, 0]   0_left.jpg  \n",
       "3195  [1, 0, 0, 0, 0, 0, 0, 0]   1_left.jpg  \n",
       "1     [1, 0, 0, 0, 0, 0, 0, 0]  1_right.jpg  \n",
       "2     [0, 1, 0, 0, 0, 0, 0, 0]  2_right.jpg  \n",
       "3196  [1, 0, 0, 0, 0, 0, 0, 0]   3_left.jpg  \n",
       "3     [0, 1, 0, 0, 0, 0, 0, 0]  4_right.jpg  \n",
       "3197  [0, 0, 0, 0, 0, 0, 0, 1]   4_left.jpg  \n",
       "3198  [0, 1, 0, 0, 0, 0, 0, 0]   5_left.jpg  \n",
       "4     [0, 1, 0, 0, 0, 0, 0, 0]  5_right.jpg  "
      ]
     },
     "execution_count": 4,
     "metadata": {},
     "output_type": "execute_result"
    }
   ],
   "source": [
    "df.sort_values(\"ID\").head(10)"
   ]
  },
  {
   "cell_type": "code",
   "execution_count": 5,
   "id": "a9c4408c-9780-4346-a3cb-99ea3a868dfc",
   "metadata": {},
   "outputs": [
    {
     "name": "stdout",
     "output_type": "stream",
     "text": [
      "<class 'pandas.core.frame.DataFrame'>\n",
      "RangeIndex: 6392 entries, 0 to 6391\n",
      "Data columns (total 19 columns):\n",
      " #   Column                     Non-Null Count  Dtype \n",
      "---  ------                     --------------  ----- \n",
      " 0   ID                         6392 non-null   int64 \n",
      " 1   Patient Age                6392 non-null   int64 \n",
      " 2   Patient Sex                6392 non-null   object\n",
      " 3   Left-Fundus                6392 non-null   object\n",
      " 4   Right-Fundus               6392 non-null   object\n",
      " 5   Left-Diagnostic Keywords   6392 non-null   object\n",
      " 6   Right-Diagnostic Keywords  6392 non-null   object\n",
      " 7   N                          6392 non-null   int64 \n",
      " 8   D                          6392 non-null   int64 \n",
      " 9   G                          6392 non-null   int64 \n",
      " 10  C                          6392 non-null   int64 \n",
      " 11  A                          6392 non-null   int64 \n",
      " 12  H                          6392 non-null   int64 \n",
      " 13  M                          6392 non-null   int64 \n",
      " 14  O                          6392 non-null   int64 \n",
      " 15  filepath                   6392 non-null   object\n",
      " 16  labels                     6392 non-null   object\n",
      " 17  target                     6392 non-null   object\n",
      " 18  filename                   6392 non-null   object\n",
      "dtypes: int64(10), object(9)\n",
      "memory usage: 948.9+ KB\n"
     ]
    }
   ],
   "source": [
    "df.info()"
   ]
  },
  {
   "cell_type": "markdown",
   "id": "5e21f230-33a2-4a48-9472-9c5eeefd43ed",
   "metadata": {},
   "source": [
    "> There are no null values in the DataFrame."
   ]
  },
  {
   "cell_type": "markdown",
   "id": "84df3ed6-73f3-4b7a-8217-279d8adef148",
   "metadata": {},
   "source": [
    "### Data distribution plots"
   ]
  },
  {
   "cell_type": "code",
   "execution_count": 6,
   "id": "195ec494-3a8f-48e0-bccb-1a99b249d7ac",
   "metadata": {},
   "outputs": [
    {
     "data": {
      "image/png": "[encoded data removed]",
      "text/plain": [
       "<Figure size 640x480 with 1 Axes>"
      ]
     },
     "metadata": {},
     "output_type": "display_data"
    }
   ],
   "source": [
    "plt.pie(df.groupby(\"Patient Sex\")[\"ID\"].sum(), labels=['Female', 'Male'] ,autopct='%.0f%%')\n",
    "plt.show()"
   ]
  },
  {
   "cell_type": "code",
   "execution_count": 7,
   "id": "5f5918ba-6050-4dca-a42e-80f66570c890",
   "metadata": {},
   "outputs": [
    {
     "data": {
      "image/png": "[encoded data removed]",
      "text/plain": [
       "<Figure size 640x480 with 1 Axes>"
      ]
     },
     "metadata": {},
     "output_type": "display_data"
    }
   ],
   "source": [
    "sns.histplot(df[\"Patient Age\"]);"
   ]
  },
  {
   "cell_type": "code",
   "execution_count": 8,
   "id": "518d1ae2-7b05-447f-94fc-1502283dc48e",
   "metadata": {},
   "outputs": [
    {
     "data": {
      "image/png": "[encoded data removed]",
      "text/plain": [
       "<Figure size 640x480 with 1 Axes>"
      ]
     },
     "metadata": {},
     "output_type": "display_data"
    }
   ],
   "source": [
    "plt.pie(df.groupby(\"labels\")[\"ID\"].sum(), labels=['N', 'O', 'A', 'C', 'D', 'G', 'H', 'M'] ,autopct='%.0f%%')\n",
    "plt.show()"
   ]
  },
  {
   "cell_type": "code",
   "execution_count": 9,
   "id": "a59174f5-0abc-4724-b9a9-b0f3ce59818c",
   "metadata": {},
   "outputs": [
    {
     "data": {
      "text/plain": [
       "<seaborn.axisgrid.FacetGrid at 0x136fb11e0>"
      ]
     },
     "execution_count": 9,
     "metadata": {},
     "output_type": "execute_result"
    },
    {
     "data": {
      "image/png": "[encoded data removed]",
      "text/plain": [
       "<Figure size 1120x800 with 8 Axes>"
      ]
     },
     "metadata": {},
     "output_type": "display_data"
    }
   ],
   "source": [
    "sns.displot(df, x=\"Patient Age\", col=\"labels\", height=4, aspect=.7, col_wrap=4)"
   ]
  },
  {
   "cell_type": "code",
   "execution_count": 10,
   "id": "1574122f-50c1-4621-a980-400d3e4862c4",
   "metadata": {},
   "outputs": [
    {
     "data": {
      "text/plain": [
       "Patient Age  labels\n",
       "1            ['M']     24\n",
       "             ['A']      2\n",
       "             ['N']      2\n",
       "14           ['N']      2\n",
       "15           ['N']      2\n",
       "Name: count, dtype: int64"
      ]
     },
     "execution_count": 10,
     "metadata": {},
     "output_type": "execute_result"
    }
   ],
   "source": [
    "df[df['Patient Age'] <= 15].groupby(\"Patient Age\")[\"labels\"].value_counts()"
   ]
  },
  {
   "cell_type": "markdown",
   "id": "af0784bd-3c9d-49e7-a4f2-b41283162103",
   "metadata": {},
   "source": [
    "> The most common diseases in patients with age smaller than 15 is Pathological Myopia (M)."
   ]
  },
  {
   "cell_type": "code",
   "execution_count": 11,
   "id": "0059cddc-488d-4113-8e6f-93f5e5796437",
   "metadata": {},
   "outputs": [
    {
     "data": {
      "text/plain": [
       "<seaborn.axisgrid.FacetGrid at 0x1371f4dc0>"
      ]
     },
     "execution_count": 11,
     "metadata": {},
     "output_type": "execute_result"
    },
    {
     "data": {
      "image/png": "[encoded data removed]",
      "text/plain": [
       "<Figure size 1220.25x800 with 8 Axes>"
      ]
     },
     "metadata": {},
     "output_type": "display_data"
    }
   ],
   "source": [
    "sns.displot(df, x=\"Patient Sex\", col=\"labels\", hue=\"Patient Sex\", height=4, aspect=.7, col_wrap=4)"
   ]
  },
  {
   "cell_type": "code",
   "execution_count": 12,
   "id": "c1b31e01-a831-498d-b065-878f9ad344d6",
   "metadata": {},
   "outputs": [
    {
     "data": {
      "text/plain": [
       "<Axes: >"
      ]
     },
     "execution_count": 12,
     "metadata": {},
     "output_type": "execute_result"
    },
    {
     "data": {
      "image/png": "[encoded data removed]",
      "text/plain": [
       "<Figure size 640x480 with 2 Axes>"
      ]
     },
     "metadata": {},
     "output_type": "display_data"
    }
   ],
   "source": [
    "from sklearn.preprocessing import LabelEncoder\n",
    "\n",
    "df[\"Gender\"] = LabelEncoder().fit_transform(df[\"Patient Sex\"])\n",
    "\n",
    "matrix = df.select_dtypes(include=[np.number]).drop(columns='ID').corr()\n",
    "sns.heatmap(matrix, cmap=\"Greens\", annot=True)"
   ]
  },
  {
   "cell_type": "code",
   "execution_count": 13,
   "id": "ddeef38e-0e56-4116-b1c0-9ffc6d1a4282",
   "metadata": {},
   "outputs": [],
   "source": [
    "df=df.drop(columns='Gender')"
   ]
  },
  {
   "cell_type": "markdown",
   "id": "7a1edf98-b9b4-4a2e-a006-dbb36e58cd92",
   "metadata": {},
   "source": [
    "> The biggest correlations found were between the patient's age and Cataract, Glaucoma."
   ]
  },
  {
   "cell_type": "markdown",
   "id": "e49d7de7-e1e1-4049-844f-3037d137de80",
   "metadata": {},
   "source": [
    "## Images analysis"
   ]
  },
  {
   "cell_type": "markdown",
   "id": "4c8353bc-a007-44bd-abeb-544b1c986f07",
   "metadata": {
    "jp-MarkdownHeadingCollapsed": true
   },
   "source": [
    "### Load the images form the different folders given in a list of images"
   ]
  },
  {
   "cell_type": "code",
   "execution_count": 14,
   "id": "c8e48418-9be8-44c8-b9ed-d595800ae6fb",
   "metadata": {},
   "outputs": [],
   "source": [
    "path_train = \"/Users/erika/code/caazzi/eyesense/raw_data/ocular-disease-recognition-odir5k/ODIR-5K/ODIR-5K/Training Images\"\n",
    "path_test = \"/Users/erika/code/caazzi/eyesense/raw_data/ocular-disease-recognition-odir5k/ODIR-5K/ODIR-5K/Testing Images\"\n",
    "path_preproc = \"/Users/erika/code/caazzi/eyesense/raw_data/ocular-disease-recognition-odir5k/preprocessed_images\"\n",
    "\n",
    "img_list_train = os.listdir(path_train)\n",
    "img_list_test = os.listdir(path_test)\n",
    "img_list_preproc = os.listdir(path_preproc)\n",
    "\n",
    "#img_dict = {img.strip(\".jpg\"): image.load_img(os.path.join(path, img)) for img in img_list}\n"
   ]
  },
  {
   "cell_type": "code",
   "execution_count": 15,
   "id": "2cce27a7-b69c-4a5e-808c-43300fa31eca",
   "metadata": {},
   "outputs": [],
   "source": [
    "#img_train = [image.load_img(os.path.join(path_train, img)) for img in img_list_train]\n",
    "#img_test = [image.load_img(os.path.join(path_test, img)) for img in img_list_test]\n",
    "#img_preproc = [image.load_img(os.path.join(path_preproc, img)) for img in img_list_preproc]"
   ]
  },
  {
   "cell_type": "code",
   "execution_count": 16,
   "id": "2fe332f7-a49c-40f9-8cda-be780b37238c",
   "metadata": {},
   "outputs": [],
   "source": [
    "#plt.imshow(img_preproc[10])"
   ]
  },
  {
   "cell_type": "code",
   "execution_count": 17,
   "id": "03b778a3-5828-4f5e-a534-f631f7a21db5",
   "metadata": {},
   "outputs": [],
   "source": [
    "#tmp = 0\n",
    "#for i in range(len(img_train)):\n",
    "#    tmp = tmp + img_train[i].size[0]\n",
    "#avg_size_lines = tmp/len(img_train)"
   ]
  },
  {
   "cell_type": "code",
   "execution_count": 18,
   "id": "c75958c5-0ac6-4bee-9302-b922b8620bf7",
   "metadata": {},
   "outputs": [],
   "source": [
    "#avg_size_lines"
   ]
  },
  {
   "cell_type": "code",
   "execution_count": 19,
   "id": "16acbde9-7594-4cc5-880d-6b178130ebc5",
   "metadata": {},
   "outputs": [],
   "source": [
    "#tmp = 0\n",
    "#for i in range(len(img_train)):\n",
    "#    tmp = tmp + img_train[i].size[1]\n",
    "#avg_size_col = tmp/len(img_train)"
   ]
  },
  {
   "cell_type": "code",
   "execution_count": 20,
   "id": "0935e05d-d3b9-4d2b-930d-9a133f512593",
   "metadata": {},
   "outputs": [],
   "source": [
    "#avg_size_col"
   ]
  },
  {
   "cell_type": "markdown",
   "id": "72dcf291-dc44-41f1-bdad-c9f359405108",
   "metadata": {},
   "source": [
    "As imagens do conjunto de treinamento possuem tamanho médio de (2465, 1807)"
   ]
  },
  {
   "cell_type": "code",
   "execution_count": 21,
   "id": "15c0caed-046d-49b5-afd2-d0450dfe1beb",
   "metadata": {},
   "outputs": [],
   "source": [
    "#tmp = 0\n",
    "#for i in range(len(img_test)):\n",
    "#    tmp = tmp + img_test[i].size[0]\n",
    "#avg_size_lines = tmp/len(img_test)"
   ]
  },
  {
   "cell_type": "code",
   "execution_count": 22,
   "id": "77a0cc97-24ee-4c4f-b09a-eff93f51a340",
   "metadata": {},
   "outputs": [],
   "source": [
    "#avg_size_lines"
   ]
  },
  {
   "cell_type": "code",
   "execution_count": 23,
   "id": "282c5ec9-29f2-40b2-91e2-56de31a5a961",
   "metadata": {},
   "outputs": [],
   "source": [
    "#tmp = 0\n",
    "#for i in range(len(img_train)):\n",
    "#    tmp = tmp + img_train[i].size[1]\n",
    "#avg_size_col = tmp/len(img_train)"
   ]
  },
  {
   "cell_type": "code",
   "execution_count": 24,
   "id": "6f84a57c-6c22-491e-b220-76f378663785",
   "metadata": {},
   "outputs": [],
   "source": [
    "#avg_size_col"
   ]
  },
  {
   "cell_type": "markdown",
   "id": "a11059f2-1c45-4467-b6ff-91312f8bd259",
   "metadata": {},
   "source": [
    "As imagens do conjunto de teste possuem tamanho médio de (2520, 1807)"
   ]
  },
  {
   "cell_type": "code",
   "execution_count": 25,
   "id": "3bd14f87-d4b5-45d3-88a1-89068bc35da5",
   "metadata": {},
   "outputs": [],
   "source": [
    "#tmp = 0\n",
    "#for i in range(len(img_preproc)):\n",
    "#    tmp = tmp + img_preproc[i].size[0]\n",
    "#avg_size_lines = tmp/len(img_preproc)"
   ]
  },
  {
   "cell_type": "code",
   "execution_count": 26,
   "id": "bbf32952-5af5-4890-9bbe-7d7d7fd5406b",
   "metadata": {},
   "outputs": [],
   "source": [
    "#avg_size_lines"
   ]
  },
  {
   "cell_type": "code",
   "execution_count": 27,
   "id": "7a07f742-247e-4523-968c-8e03dfe3825f",
   "metadata": {},
   "outputs": [],
   "source": [
    "#tmp = 0\n",
    "#for i in range(len(img_preproc)):\n",
    "#    tmp = tmp + img_preproc[i].size[1]\n",
    "#avg_size_col = tmp/len(img_preproc)"
   ]
  },
  {
   "cell_type": "code",
   "execution_count": 28,
   "id": "a9864174-813b-47b7-ba1a-97fe510147e2",
   "metadata": {},
   "outputs": [],
   "source": [
    "#avg_size_col"
   ]
  },
  {
   "cell_type": "markdown",
   "id": "54d3495b-5dde-48ff-b529-8de1bb582bec",
   "metadata": {},
   "source": [
    "As imagens do conjunto preprocessado possuem tamanho médio de (512, 512)"
   ]
  },
  {
   "cell_type": "markdown",
   "id": "56a5e27b-5caa-41d3-ba97-af390bbb5eb6",
   "metadata": {},
   "source": [
    "### Associate the images to the correspondent row in the DataFrame"
   ]
  },
  {
   "cell_type": "code",
   "execution_count": 29,
   "id": "0f04a2dd-8084-42cc-9cbb-6f3dfdb1f999",
   "metadata": {},
   "outputs": [],
   "source": [
    "image_size = (256, 256)\n",
    "df['images'] = df['filename'].apply(lambda x: image.load_img(os.path.join(path_preproc, x), target_size=image_size))"
   ]
  },
  {
   "cell_type": "code",
   "execution_count": 30,
   "id": "950ce135-4cd5-4837-8149-e508154b350e",
   "metadata": {},
   "outputs": [
    {
     "data": {
      "text/html": [
       "<div>\n",
       "<style scoped>\n",
       "    .dataframe tbody tr th:only-of-type {\n",
       "        vertical-align: middle;\n",
       "    }\n",
       "\n",
       "    .dataframe tbody tr th {\n",
       "        vertical-align: top;\n",
       "    }\n",
       "\n",
       "    .dataframe thead th {\n",
       "        text-align: right;\n",
       "    }\n",
       "</style>\n",
       "<table border=\"1\" class=\"dataframe\">\n",
       "  <thead>\n",
       "    <tr style=\"text-align: right;\">\n",
       "      <th></th>\n",
       "      <th>ID</th>\n",
       "      <th>Patient Age</th>\n",
       "      <th>Patient Sex</th>\n",
       "      <th>Left-Fundus</th>\n",
       "      <th>Right-Fundus</th>\n",
       "      <th>Left-Diagnostic Keywords</th>\n",
       "      <th>Right-Diagnostic Keywords</th>\n",
       "      <th>N</th>\n",
       "      <th>D</th>\n",
       "      <th>G</th>\n",
       "      <th>C</th>\n",
       "      <th>A</th>\n",
       "      <th>H</th>\n",
       "      <th>M</th>\n",
       "      <th>O</th>\n",
       "      <th>filepath</th>\n",
       "      <th>labels</th>\n",
       "      <th>target</th>\n",
       "      <th>filename</th>\n",
       "      <th>images</th>\n",
       "    </tr>\n",
       "  </thead>\n",
       "  <tbody>\n",
       "    <tr>\n",
       "      <th>0</th>\n",
       "      <td>0</td>\n",
       "      <td>69</td>\n",
       "      <td>Female</td>\n",
       "      <td>0_left.jpg</td>\n",
       "      <td>0_right.jpg</td>\n",
       "      <td>cataract</td>\n",
       "      <td>normal fundus</td>\n",
       "      <td>0</td>\n",
       "      <td>0</td>\n",
       "      <td>0</td>\n",
       "      <td>1</td>\n",
       "      <td>0</td>\n",
       "      <td>0</td>\n",
       "      <td>0</td>\n",
       "      <td>0</td>\n",
       "      <td>../input/ocular-disease-recognition-odir5k/ODI...</td>\n",
       "      <td>['N']</td>\n",
       "      <td>[1, 0, 0, 0, 0, 0, 0, 0]</td>\n",
       "      <td>0_right.jpg</td>\n",
       "      <td>&lt;PIL.Image.Image image mode=RGB size=256x256 a...</td>\n",
       "    </tr>\n",
       "    <tr>\n",
       "      <th>1</th>\n",
       "      <td>1</td>\n",
       "      <td>57</td>\n",
       "      <td>Male</td>\n",
       "      <td>1_left.jpg</td>\n",
       "      <td>1_right.jpg</td>\n",
       "      <td>normal fundus</td>\n",
       "      <td>normal fundus</td>\n",
       "      <td>1</td>\n",
       "      <td>0</td>\n",
       "      <td>0</td>\n",
       "      <td>0</td>\n",
       "      <td>0</td>\n",
       "      <td>0</td>\n",
       "      <td>0</td>\n",
       "      <td>0</td>\n",
       "      <td>../input/ocular-disease-recognition-odir5k/ODI...</td>\n",
       "      <td>['N']</td>\n",
       "      <td>[1, 0, 0, 0, 0, 0, 0, 0]</td>\n",
       "      <td>1_right.jpg</td>\n",
       "      <td>&lt;PIL.Image.Image image mode=RGB size=256x256 a...</td>\n",
       "    </tr>\n",
       "    <tr>\n",
       "      <th>2</th>\n",
       "      <td>2</td>\n",
       "      <td>42</td>\n",
       "      <td>Male</td>\n",
       "      <td>2_left.jpg</td>\n",
       "      <td>2_right.jpg</td>\n",
       "      <td>laser spot，moderate non proliferative retinopathy</td>\n",
       "      <td>moderate non proliferative retinopathy</td>\n",
       "      <td>0</td>\n",
       "      <td>1</td>\n",
       "      <td>0</td>\n",
       "      <td>0</td>\n",
       "      <td>0</td>\n",
       "      <td>0</td>\n",
       "      <td>0</td>\n",
       "      <td>1</td>\n",
       "      <td>../input/ocular-disease-recognition-odir5k/ODI...</td>\n",
       "      <td>['D']</td>\n",
       "      <td>[0, 1, 0, 0, 0, 0, 0, 0]</td>\n",
       "      <td>2_right.jpg</td>\n",
       "      <td>&lt;PIL.Image.Image image mode=RGB size=256x256 a...</td>\n",
       "    </tr>\n",
       "    <tr>\n",
       "      <th>3</th>\n",
       "      <td>4</td>\n",
       "      <td>53</td>\n",
       "      <td>Male</td>\n",
       "      <td>4_left.jpg</td>\n",
       "      <td>4_right.jpg</td>\n",
       "      <td>macular epiretinal membrane</td>\n",
       "      <td>mild nonproliferative retinopathy</td>\n",
       "      <td>0</td>\n",
       "      <td>1</td>\n",
       "      <td>0</td>\n",
       "      <td>0</td>\n",
       "      <td>0</td>\n",
       "      <td>0</td>\n",
       "      <td>0</td>\n",
       "      <td>1</td>\n",
       "      <td>../input/ocular-disease-recognition-odir5k/ODI...</td>\n",
       "      <td>['D']</td>\n",
       "      <td>[0, 1, 0, 0, 0, 0, 0, 0]</td>\n",
       "      <td>4_right.jpg</td>\n",
       "      <td>&lt;PIL.Image.Image image mode=RGB size=256x256 a...</td>\n",
       "    </tr>\n",
       "    <tr>\n",
       "      <th>4</th>\n",
       "      <td>5</td>\n",
       "      <td>50</td>\n",
       "      <td>Female</td>\n",
       "      <td>5_left.jpg</td>\n",
       "      <td>5_right.jpg</td>\n",
       "      <td>moderate non proliferative retinopathy</td>\n",
       "      <td>moderate non proliferative retinopathy</td>\n",
       "      <td>0</td>\n",
       "      <td>1</td>\n",
       "      <td>0</td>\n",
       "      <td>0</td>\n",
       "      <td>0</td>\n",
       "      <td>0</td>\n",
       "      <td>0</td>\n",
       "      <td>0</td>\n",
       "      <td>../input/ocular-disease-recognition-odir5k/ODI...</td>\n",
       "      <td>['D']</td>\n",
       "      <td>[0, 1, 0, 0, 0, 0, 0, 0]</td>\n",
       "      <td>5_right.jpg</td>\n",
       "      <td>&lt;PIL.Image.Image image mode=RGB size=256x256 a...</td>\n",
       "    </tr>\n",
       "    <tr>\n",
       "      <th>...</th>\n",
       "      <td>...</td>\n",
       "      <td>...</td>\n",
       "      <td>...</td>\n",
       "      <td>...</td>\n",
       "      <td>...</td>\n",
       "      <td>...</td>\n",
       "      <td>...</td>\n",
       "      <td>...</td>\n",
       "      <td>...</td>\n",
       "      <td>...</td>\n",
       "      <td>...</td>\n",
       "      <td>...</td>\n",
       "      <td>...</td>\n",
       "      <td>...</td>\n",
       "      <td>...</td>\n",
       "      <td>...</td>\n",
       "      <td>...</td>\n",
       "      <td>...</td>\n",
       "      <td>...</td>\n",
       "      <td>...</td>\n",
       "    </tr>\n",
       "    <tr>\n",
       "      <th>6387</th>\n",
       "      <td>4686</td>\n",
       "      <td>63</td>\n",
       "      <td>Male</td>\n",
       "      <td>4686_left.jpg</td>\n",
       "      <td>4686_right.jpg</td>\n",
       "      <td>severe nonproliferative retinopathy</td>\n",
       "      <td>proliferative diabetic retinopathy</td>\n",
       "      <td>0</td>\n",
       "      <td>1</td>\n",
       "      <td>0</td>\n",
       "      <td>0</td>\n",
       "      <td>0</td>\n",
       "      <td>0</td>\n",
       "      <td>0</td>\n",
       "      <td>0</td>\n",
       "      <td>../input/ocular-disease-recognition-odir5k/ODI...</td>\n",
       "      <td>['D']</td>\n",
       "      <td>[0, 1, 0, 0, 0, 0, 0, 0]</td>\n",
       "      <td>4686_left.jpg</td>\n",
       "      <td>&lt;PIL.Image.Image image mode=RGB size=256x256 a...</td>\n",
       "    </tr>\n",
       "    <tr>\n",
       "      <th>6388</th>\n",
       "      <td>4688</td>\n",
       "      <td>42</td>\n",
       "      <td>Male</td>\n",
       "      <td>4688_left.jpg</td>\n",
       "      <td>4688_right.jpg</td>\n",
       "      <td>moderate non proliferative retinopathy</td>\n",
       "      <td>moderate non proliferative retinopathy</td>\n",
       "      <td>0</td>\n",
       "      <td>1</td>\n",
       "      <td>0</td>\n",
       "      <td>0</td>\n",
       "      <td>0</td>\n",
       "      <td>0</td>\n",
       "      <td>0</td>\n",
       "      <td>0</td>\n",
       "      <td>../input/ocular-disease-recognition-odir5k/ODI...</td>\n",
       "      <td>['D']</td>\n",
       "      <td>[0, 1, 0, 0, 0, 0, 0, 0]</td>\n",
       "      <td>4688_left.jpg</td>\n",
       "      <td>&lt;PIL.Image.Image image mode=RGB size=256x256 a...</td>\n",
       "    </tr>\n",
       "    <tr>\n",
       "      <th>6389</th>\n",
       "      <td>4689</td>\n",
       "      <td>54</td>\n",
       "      <td>Male</td>\n",
       "      <td>4689_left.jpg</td>\n",
       "      <td>4689_right.jpg</td>\n",
       "      <td>mild nonproliferative retinopathy</td>\n",
       "      <td>normal fundus</td>\n",
       "      <td>0</td>\n",
       "      <td>1</td>\n",
       "      <td>0</td>\n",
       "      <td>0</td>\n",
       "      <td>0</td>\n",
       "      <td>0</td>\n",
       "      <td>0</td>\n",
       "      <td>0</td>\n",
       "      <td>../input/ocular-disease-recognition-odir5k/ODI...</td>\n",
       "      <td>['D']</td>\n",
       "      <td>[0, 1, 0, 0, 0, 0, 0, 0]</td>\n",
       "      <td>4689_left.jpg</td>\n",
       "      <td>&lt;PIL.Image.Image image mode=RGB size=256x256 a...</td>\n",
       "    </tr>\n",
       "    <tr>\n",
       "      <th>6390</th>\n",
       "      <td>4690</td>\n",
       "      <td>57</td>\n",
       "      <td>Male</td>\n",
       "      <td>4690_left.jpg</td>\n",
       "      <td>4690_right.jpg</td>\n",
       "      <td>mild nonproliferative retinopathy</td>\n",
       "      <td>mild nonproliferative retinopathy</td>\n",
       "      <td>0</td>\n",
       "      <td>1</td>\n",
       "      <td>0</td>\n",
       "      <td>0</td>\n",
       "      <td>0</td>\n",
       "      <td>0</td>\n",
       "      <td>0</td>\n",
       "      <td>0</td>\n",
       "      <td>../input/ocular-disease-recognition-odir5k/ODI...</td>\n",
       "      <td>['D']</td>\n",
       "      <td>[0, 1, 0, 0, 0, 0, 0, 0]</td>\n",
       "      <td>4690_left.jpg</td>\n",
       "      <td>&lt;PIL.Image.Image image mode=RGB size=256x256 a...</td>\n",
       "    </tr>\n",
       "    <tr>\n",
       "      <th>6391</th>\n",
       "      <td>4784</td>\n",
       "      <td>58</td>\n",
       "      <td>Male</td>\n",
       "      <td>4784_left.jpg</td>\n",
       "      <td>4784_right.jpg</td>\n",
       "      <td>hypertensive retinopathy，age-related macular d...</td>\n",
       "      <td>hypertensive retinopathy，age-related macular d...</td>\n",
       "      <td>0</td>\n",
       "      <td>0</td>\n",
       "      <td>0</td>\n",
       "      <td>0</td>\n",
       "      <td>1</td>\n",
       "      <td>1</td>\n",
       "      <td>0</td>\n",
       "      <td>0</td>\n",
       "      <td>../input/ocular-disease-recognition-odir5k/ODI...</td>\n",
       "      <td>['H']</td>\n",
       "      <td>[0, 0, 0, 0, 0, 1, 0, 0]</td>\n",
       "      <td>4784_left.jpg</td>\n",
       "      <td>&lt;PIL.Image.Image image mode=RGB size=256x256 a...</td>\n",
       "    </tr>\n",
       "  </tbody>\n",
       "</table>\n",
       "<p>6392 rows × 20 columns</p>\n",
       "</div>"
      ],
      "text/plain": [
       "        ID  Patient Age Patient Sex    Left-Fundus    Right-Fundus  \\\n",
       "0        0           69      Female     0_left.jpg     0_right.jpg   \n",
       "1        1           57        Male     1_left.jpg     1_right.jpg   \n",
       "2        2           42        Male     2_left.jpg     2_right.jpg   \n",
       "3        4           53        Male     4_left.jpg     4_right.jpg   \n",
       "4        5           50      Female     5_left.jpg     5_right.jpg   \n",
       "...    ...          ...         ...            ...             ...   \n",
       "6387  4686           63        Male  4686_left.jpg  4686_right.jpg   \n",
       "6388  4688           42        Male  4688_left.jpg  4688_right.jpg   \n",
       "6389  4689           54        Male  4689_left.jpg  4689_right.jpg   \n",
       "6390  4690           57        Male  4690_left.jpg  4690_right.jpg   \n",
       "6391  4784           58        Male  4784_left.jpg  4784_right.jpg   \n",
       "\n",
       "                               Left-Diagnostic Keywords  \\\n",
       "0                                              cataract   \n",
       "1                                         normal fundus   \n",
       "2     laser spot，moderate non proliferative retinopathy   \n",
       "3                           macular epiretinal membrane   \n",
       "4                moderate non proliferative retinopathy   \n",
       "...                                                 ...   \n",
       "6387                severe nonproliferative retinopathy   \n",
       "6388             moderate non proliferative retinopathy   \n",
       "6389                  mild nonproliferative retinopathy   \n",
       "6390                  mild nonproliferative retinopathy   \n",
       "6391  hypertensive retinopathy，age-related macular d...   \n",
       "\n",
       "                              Right-Diagnostic Keywords  N  D  G  C  A  H  M  \\\n",
       "0                                         normal fundus  0  0  0  1  0  0  0   \n",
       "1                                         normal fundus  1  0  0  0  0  0  0   \n",
       "2                moderate non proliferative retinopathy  0  1  0  0  0  0  0   \n",
       "3                     mild nonproliferative retinopathy  0  1  0  0  0  0  0   \n",
       "4                moderate non proliferative retinopathy  0  1  0  0  0  0  0   \n",
       "...                                                 ... .. .. .. .. .. .. ..   \n",
       "6387                 proliferative diabetic retinopathy  0  1  0  0  0  0  0   \n",
       "6388             moderate non proliferative retinopathy  0  1  0  0  0  0  0   \n",
       "6389                                      normal fundus  0  1  0  0  0  0  0   \n",
       "6390                  mild nonproliferative retinopathy  0  1  0  0  0  0  0   \n",
       "6391  hypertensive retinopathy，age-related macular d...  0  0  0  0  1  1  0   \n",
       "\n",
       "      O                                           filepath labels  \\\n",
       "0     0  ../input/ocular-disease-recognition-odir5k/ODI...  ['N']   \n",
       "1     0  ../input/ocular-disease-recognition-odir5k/ODI...  ['N']   \n",
       "2     1  ../input/ocular-disease-recognition-odir5k/ODI...  ['D']   \n",
       "3     1  ../input/ocular-disease-recognition-odir5k/ODI...  ['D']   \n",
       "4     0  ../input/ocular-disease-recognition-odir5k/ODI...  ['D']   \n",
       "...  ..                                                ...    ...   \n",
       "6387  0  ../input/ocular-disease-recognition-odir5k/ODI...  ['D']   \n",
       "6388  0  ../input/ocular-disease-recognition-odir5k/ODI...  ['D']   \n",
       "6389  0  ../input/ocular-disease-recognition-odir5k/ODI...  ['D']   \n",
       "6390  0  ../input/ocular-disease-recognition-odir5k/ODI...  ['D']   \n",
       "6391  0  ../input/ocular-disease-recognition-odir5k/ODI...  ['H']   \n",
       "\n",
       "                        target       filename  \\\n",
       "0     [1, 0, 0, 0, 0, 0, 0, 0]    0_right.jpg   \n",
       "1     [1, 0, 0, 0, 0, 0, 0, 0]    1_right.jpg   \n",
       "2     [0, 1, 0, 0, 0, 0, 0, 0]    2_right.jpg   \n",
       "3     [0, 1, 0, 0, 0, 0, 0, 0]    4_right.jpg   \n",
       "4     [0, 1, 0, 0, 0, 0, 0, 0]    5_right.jpg   \n",
       "...                        ...            ...   \n",
       "6387  [0, 1, 0, 0, 0, 0, 0, 0]  4686_left.jpg   \n",
       "6388  [0, 1, 0, 0, 0, 0, 0, 0]  4688_left.jpg   \n",
       "6389  [0, 1, 0, 0, 0, 0, 0, 0]  4689_left.jpg   \n",
       "6390  [0, 1, 0, 0, 0, 0, 0, 0]  4690_left.jpg   \n",
       "6391  [0, 0, 0, 0, 0, 1, 0, 0]  4784_left.jpg   \n",
       "\n",
       "                                                 images  \n",
       "0     <PIL.Image.Image image mode=RGB size=256x256 a...  \n",
       "1     <PIL.Image.Image image mode=RGB size=256x256 a...  \n",
       "2     <PIL.Image.Image image mode=RGB size=256x256 a...  \n",
       "3     <PIL.Image.Image image mode=RGB size=256x256 a...  \n",
       "4     <PIL.Image.Image image mode=RGB size=256x256 a...  \n",
       "...                                                 ...  \n",
       "6387  <PIL.Image.Image image mode=RGB size=256x256 a...  \n",
       "6388  <PIL.Image.Image image mode=RGB size=256x256 a...  \n",
       "6389  <PIL.Image.Image image mode=RGB size=256x256 a...  \n",
       "6390  <PIL.Image.Image image mode=RGB size=256x256 a...  \n",
       "6391  <PIL.Image.Image image mode=RGB size=256x256 a...  \n",
       "\n",
       "[6392 rows x 20 columns]"
      ]
     },
     "execution_count": 30,
     "metadata": {},
     "output_type": "execute_result"
    }
   ],
   "source": [
    "df"
   ]
  },
  {
   "cell_type": "markdown",
   "id": "b55d1634-591e-4b83-ae3f-457a08e8b1d5",
   "metadata": {
    "jp-MarkdownHeadingCollapsed": true
   },
   "source": [
    "### Associate the tensors to the correspondent row in the DataFrame."
   ]
  },
  {
   "cell_type": "code",
   "execution_count": 31,
   "id": "44ca6eaf-b221-4ab8-9269-dfd479468141",
   "metadata": {},
   "outputs": [],
   "source": [
    "#df['tensor images'] = df['images'].apply(lambda x: tf.convert_to_tensor(img_to_array(x)))"
   ]
  },
  {
   "cell_type": "code",
   "execution_count": 32,
   "id": "ce8aaf4b-c33a-4a06-9c8e-fad8a162ad7c",
   "metadata": {},
   "outputs": [],
   "source": [
    "#df"
   ]
  },
  {
   "cell_type": "markdown",
   "id": "468869fd-68c2-498a-b977-1e3b6094e1c8",
   "metadata": {},
   "source": [
    "## PCA analysis"
   ]
  },
  {
   "cell_type": "code",
   "execution_count": 33,
   "id": "954e61dd-162e-4b35-b614-24aacff2996d",
   "metadata": {},
   "outputs": [
    {
     "name": "stdout",
     "output_type": "stream",
     "text": [
      "- Images shape: (6392,)\n",
      "- Target shape: (6392,)\n",
      "- Number of classes: (8,)\n"
     ]
    }
   ],
   "source": [
    "print(f\"- Images shape: {df.images.shape}\")\n",
    "print(f\"- Target shape: {df.target.shape}\")\n",
    "print(f\"- Number of classes: {np.unique(df.target).shape}\")"
   ]
  },
  {
   "cell_type": "code",
   "execution_count": 34,
   "id": "36bb2e83-8fa6-42e6-b12b-c035c7d2ed85",
   "metadata": {},
   "outputs": [
    {
     "data": {
      "text/plain": [
       "(256, 256, 3)"
      ]
     },
     "execution_count": 34,
     "metadata": {},
     "output_type": "execute_result"
    }
   ],
   "source": [
    "img_to_array(df['images'][0]).shape"
   ]
  },
  {
   "cell_type": "code",
   "execution_count": 35,
   "id": "b044969b-1067-47ec-b9d1-e52b54f54908",
   "metadata": {},
   "outputs": [
    {
     "data": {
      "text/plain": [
       "(196608,)"
      ]
     },
     "execution_count": 35,
     "metadata": {},
     "output_type": "execute_result"
    }
   ],
   "source": [
    "img_to_array(df['images'][0]).flatten().shape"
   ]
  },
  {
   "cell_type": "code",
   "execution_count": 36,
   "id": "7d67f193-046d-4a54-aeaf-ca1cfe9af99f",
   "metadata": {},
   "outputs": [],
   "source": [
    "#features = df['images'].apply(lambda x: img_to_array(x).flatten())"
   ]
  },
  {
   "cell_type": "code",
   "execution_count": 37,
   "id": "4868a467-fee1-4596-a424-abd598aa383a",
   "metadata": {},
   "outputs": [],
   "source": [
    "def process_images(df, batch_size=500):\n",
    "    \"\"\"\n",
    "    Converte imagens para arrays achatados em batches para reduzir uso de memória.\n",
    "    \"\"\"\n",
    "    num_images = len(df)\n",
    "    batch_features = []\n",
    "\n",
    "    for i in range(0, num_images, batch_size):\n",
    "        batch = df['images'][i:i+batch_size]  # Seleciona um lote de imagens\n",
    "        batch_processed = [img_to_array(img).flatten() for img in batch]\n",
    "        batch_features.append(np.array(batch_processed, dtype=np.float16))  # Converte para NumPy array\n",
    "\n",
    "    return np.vstack(batch_features)  # Junta os batches em um único array grande"
   ]
  },
  {
   "cell_type": "code",
   "execution_count": 38,
   "id": "1d995607-f6d1-4478-af10-e3dc3b64f3b8",
   "metadata": {},
   "outputs": [
    {
     "name": "stdout",
     "output_type": "stream",
     "text": [
      "Formato correto de X: (6392, 196608)\n"
     ]
    }
   ],
   "source": [
    "X = process_images(df, batch_size=150)\n",
    "print(f\"Formato correto de X: {X.shape}\")"
   ]
  },
  {
   "cell_type": "code",
   "execution_count": 39,
   "id": "18f81966-4ecd-43c0-bdae-5b4e600483c1",
   "metadata": {},
   "outputs": [],
   "source": [
    "from sklearn.decomposition import PCA\n",
    "\n",
    "pca = PCA(n_components=50) \n",
    "X_pca = pca.fit_transform(X)"
   ]
  },
  {
   "cell_type": "code",
   "execution_count": 52,
   "id": "e1a39593-1cdb-40a6-b2de-a092464d6134",
   "metadata": {},
   "outputs": [
    {
     "data": {
      "image/png": "[encoded data removed]",
      "text/plain": [
       "<Figure size 640x480 with 1 Axes>"
      ]
     },
     "metadata": {},
     "output_type": "display_data"
    }
   ],
   "source": [
    "plt.plot(np.cumsum(pca.explained_variance_ratio_))\n",
    "plt.xlabel(\"Number of Components\")\n",
    "plt.ylabel(\"Explained Variance\")\n",
    "plt.title(\"PCA - Explained Variance by Components\")\n",
    "\n",
    "plt.show()"
   ]
  },
  {
   "cell_type": "code",
   "execution_count": 44,
   "id": "7f8cc236-5fab-43d6-9fd9-94775926155c",
   "metadata": {},
   "outputs": [
    {
     "data": {
      "text/plain": [
       "(50, 196608)"
      ]
     },
     "execution_count": 44,
     "metadata": {},
     "output_type": "execute_result"
    }
   ],
   "source": [
    "pca.components_.shape"
   ]
  },
  {
   "cell_type": "code",
   "execution_count": 53,
   "id": "548862c9-077d-4f26-93c3-674f40d4af6d",
   "metadata": {},
   "outputs": [],
   "source": [
    "y = df['labels']"
   ]
  },
  {
   "cell_type": "markdown",
   "id": "7828ac48-a806-4118-b636-611af41b0f38",
   "metadata": {},
   "source": [
    "### Cross-validate with KNN"
   ]
  },
  {
   "cell_type": "code",
   "execution_count": 78,
   "id": "f3a58b12-a8f5-4fba-88d4-6212c4de8d43",
   "metadata": {},
   "outputs": [],
   "source": [
    "from sklearn.model_selection import cross_val_score\n",
    "from sklearn.neighbors import KNeighborsClassifier\n",
    "\n",
    "acc_n = {}\n",
    "for n in range(1, 101):\n",
    "    knn = KNeighborsClassifier(n_neighbors=n)\n",
    "    mean_acc = cross_val_score(knn, X=X_pca, y=y, scoring='accuracy', cv=5).mean()\n",
    "    acc_n[n] = mean_acc"
   ]
  },
  {
   "cell_type": "code",
   "execution_count": 79,
   "id": "97cbaf02-65bf-4fe8-82ea-06456efa6856",
   "metadata": {},
   "outputs": [
    {
     "data": {
      "text/plain": [
       "[<matplotlib.lines.Line2D at 0x3264aaaa0>]"
      ]
     },
     "execution_count": 79,
     "metadata": {},
     "output_type": "execute_result"
    },
    {
     "data": {
      "image/png": "[encoded data removed]",
      "text/plain": [
       "<Figure size 640x480 with 1 Axes>"
      ]
     },
     "metadata": {},
     "output_type": "display_data"
    }
   ],
   "source": [
    "plt.plot(acc_n.keys(), acc_n.values())"
   ]
  },
  {
   "cell_type": "markdown",
   "id": "2c5fdea7-dbde-4425-ac88-a5572b533ccb",
   "metadata": {},
   "source": [
    "> Number of neigbohrs that improve accuracy: **30**"
   ]
  },
  {
   "cell_type": "code",
   "execution_count": 54,
   "id": "615bd860-1fb1-4c80-94d1-4bd1ce9f56cd",
   "metadata": {},
   "outputs": [],
   "source": [
    "from sklearn.model_selection import train_test_split\n",
    "X_train, X_test, y_train, y_test = train_test_split(X_pca, y, test_size=0.2, random_state=42)"
   ]
  },
  {
   "cell_type": "code",
   "execution_count": 80,
   "id": "81bcbf70-13fb-404e-8f1d-70c419134f56",
   "metadata": {},
   "outputs": [
    {
     "data": {
      "text/html": [
       "<style>#sk-container-id-2 {\n",
       "  /* Definition of color scheme common for light and dark mode */\n",
       "  --sklearn-color-text: #000;\n",
       "  --sklearn-color-text-muted: #666;\n",
       "  --sklearn-color-line: gray;\n",
       "  /* Definition of color scheme for unfitted estimators */\n",
       "  --sklearn-color-unfitted-level-0: #fff5e6;\n",
       "  --sklearn-color-unfitted-level-1: #f6e4d2;\n",
       "  --sklearn-color-unfitted-level-2: #ffe0b3;\n",
       "  --sklearn-color-unfitted-level-3: chocolate;\n",
       "  /* Definition of color scheme for fitted estimators */\n",
       "  --sklearn-color-fitted-level-0: #f0f8ff;\n",
       "  --sklearn-color-fitted-level-1: #d4ebff;\n",
       "  --sklearn-color-fitted-level-2: #b3dbfd;\n",
       "  --sklearn-color-fitted-level-3: cornflowerblue;\n",
       "\n",
       "  /* Specific color for light theme */\n",
       "  --sklearn-color-text-on-default-background: var(--sg-text-color, var(--theme-code-foreground, var(--jp-content-font-color1, black)));\n",
       "  --sklearn-color-background: var(--sg-background-color, var(--theme-background, var(--jp-layout-color0, white)));\n",
       "  --sklearn-color-border-box: var(--sg-text-color, var(--theme-code-foreground, var(--jp-content-font-color1, black)));\n",
       "  --sklearn-color-icon: #696969;\n",
       "\n",
       "  @media (prefers-color-scheme: dark) {\n",
       "    /* Redefinition of color scheme for dark theme */\n",
       "    --sklearn-color-text-on-default-background: var(--sg-text-color, var(--theme-code-foreground, var(--jp-content-font-color1, white)));\n",
       "    --sklearn-color-background: var(--sg-background-color, var(--theme-background, var(--jp-layout-color0, #111)));\n",
       "    --sklearn-color-border-box: var(--sg-text-color, var(--theme-code-foreground, var(--jp-content-font-color1, white)));\n",
       "    --sklearn-color-icon: #878787;\n",
       "  }\n",
       "}\n",
       "\n",
       "#sk-container-id-2 {\n",
       "  color: var(--sklearn-color-text);\n",
       "}\n",
       "\n",
       "#sk-container-id-2 pre {\n",
       "  padding: 0;\n",
       "}\n",
       "\n",
       "#sk-container-id-2 input.sk-hidden--visually {\n",
       "  border: 0;\n",
       "  clip: rect(1px 1px 1px 1px);\n",
       "  clip: rect(1px, 1px, 1px, 1px);\n",
       "  height: 1px;\n",
       "  margin: -1px;\n",
       "  overflow: hidden;\n",
       "  padding: 0;\n",
       "  position: absolute;\n",
       "  width: 1px;\n",
       "}\n",
       "\n",
       "#sk-container-id-2 div.sk-dashed-wrapped {\n",
       "  border: 1px dashed var(--sklearn-color-line);\n",
       "  margin: 0 0.4em 0.5em 0.4em;\n",
       "  box-sizing: border-box;\n",
       "  padding-bottom: 0.4em;\n",
       "  background-color: var(--sklearn-color-background);\n",
       "}\n",
       "\n",
       "#sk-container-id-2 div.sk-container {\n",
       "  /* jupyter's `normalize.less` sets `[hidden] { display: none; }`\n",
       "     but bootstrap.min.css set `[hidden] { display: none !important; }`\n",
       "     so we also need the `!important` here to be able to override the\n",
       "     default hidden behavior on the sphinx rendered scikit-learn.org.\n",
       "     See: https://github.com/scikit-learn/scikit-learn/issues/21755 */\n",
       "  display: inline-block !important;\n",
       "  position: relative;\n",
       "}\n",
       "\n",
       "#sk-container-id-2 div.sk-text-repr-fallback {\n",
       "  display: none;\n",
       "}\n",
       "\n",
       "div.sk-parallel-item,\n",
       "div.sk-serial,\n",
       "div.sk-item {\n",
       "  /* draw centered vertical line to link estimators */\n",
       "  background-image: linear-gradient(var(--sklearn-color-text-on-default-background), var(--sklearn-color-text-on-default-background));\n",
       "  background-size: 2px 100%;\n",
       "  background-repeat: no-repeat;\n",
       "  background-position: center center;\n",
       "}\n",
       "\n",
       "/* Parallel-specific style estimator block */\n",
       "\n",
       "#sk-container-id-2 div.sk-parallel-item::after {\n",
       "  content: \"\";\n",
       "  width: 100%;\n",
       "  border-bottom: 2px solid var(--sklearn-color-text-on-default-background);\n",
       "  flex-grow: 1;\n",
       "}\n",
       "\n",
       "#sk-container-id-2 div.sk-parallel {\n",
       "  display: flex;\n",
       "  align-items: stretch;\n",
       "  justify-content: center;\n",
       "  background-color: var(--sklearn-color-background);\n",
       "  position: relative;\n",
       "}\n",
       "\n",
       "#sk-container-id-2 div.sk-parallel-item {\n",
       "  display: flex;\n",
       "  flex-direction: column;\n",
       "}\n",
       "\n",
       "#sk-container-id-2 div.sk-parallel-item:first-child::after {\n",
       "  align-self: flex-end;\n",
       "  width: 50%;\n",
       "}\n",
       "\n",
       "#sk-container-id-2 div.sk-parallel-item:last-child::after {\n",
       "  align-self: flex-start;\n",
       "  width: 50%;\n",
       "}\n",
       "\n",
       "#sk-container-id-2 div.sk-parallel-item:only-child::after {\n",
       "  width: 0;\n",
       "}\n",
       "\n",
       "/* Serial-specific style estimator block */\n",
       "\n",
       "#sk-container-id-2 div.sk-serial {\n",
       "  display: flex;\n",
       "  flex-direction: column;\n",
       "  align-items: center;\n",
       "  background-color: var(--sklearn-color-background);\n",
       "  padding-right: 1em;\n",
       "  padding-left: 1em;\n",
       "}\n",
       "\n",
       "\n",
       "/* Toggleable style: style used for estimator/Pipeline/ColumnTransformer box that is\n",
       "clickable and can be expanded/collapsed.\n",
       "- Pipeline and ColumnTransformer use this feature and define the default style\n",
       "- Estimators will overwrite some part of the style using the `sk-estimator` class\n",
       "*/\n",
       "\n",
       "/* Pipeline and ColumnTransformer style (default) */\n",
       "\n",
       "#sk-container-id-2 div.sk-toggleable {\n",
       "  /* Default theme specific background. It is overwritten whether we have a\n",
       "  specific estimator or a Pipeline/ColumnTransformer */\n",
       "  background-color: var(--sklearn-color-background);\n",
       "}\n",
       "\n",
       "/* Toggleable label */\n",
       "#sk-container-id-2 label.sk-toggleable__label {\n",
       "  cursor: pointer;\n",
       "  display: flex;\n",
       "  width: 100%;\n",
       "  margin-bottom: 0;\n",
       "  padding: 0.5em;\n",
       "  box-sizing: border-box;\n",
       "  text-align: center;\n",
       "  align-items: start;\n",
       "  justify-content: space-between;\n",
       "  gap: 0.5em;\n",
       "}\n",
       "\n",
       "#sk-container-id-2 label.sk-toggleable__label .caption {\n",
       "  font-size: 0.6rem;\n",
       "  font-weight: lighter;\n",
       "  color: var(--sklearn-color-text-muted);\n",
       "}\n",
       "\n",
       "#sk-container-id-2 label.sk-toggleable__label-arrow:before {\n",
       "  /* Arrow on the left of the label */\n",
       "  content: \"▸\";\n",
       "  float: left;\n",
       "  margin-right: 0.25em;\n",
       "  color: var(--sklearn-color-icon);\n",
       "}\n",
       "\n",
       "#sk-container-id-2 label.sk-toggleable__label-arrow:hover:before {\n",
       "  color: var(--sklearn-color-text);\n",
       "}\n",
       "\n",
       "/* Toggleable content - dropdown */\n",
       "\n",
       "#sk-container-id-2 div.sk-toggleable__content {\n",
       "  max-height: 0;\n",
       "  max-width: 0;\n",
       "  overflow: hidden;\n",
       "  text-align: left;\n",
       "  /* unfitted */\n",
       "  background-color: var(--sklearn-color-unfitted-level-0);\n",
       "}\n",
       "\n",
       "#sk-container-id-2 div.sk-toggleable__content.fitted {\n",
       "  /* fitted */\n",
       "  background-color: var(--sklearn-color-fitted-level-0);\n",
       "}\n",
       "\n",
       "#sk-container-id-2 div.sk-toggleable__content pre {\n",
       "  margin: 0.2em;\n",
       "  border-radius: 0.25em;\n",
       "  color: var(--sklearn-color-text);\n",
       "  /* unfitted */\n",
       "  background-color: var(--sklearn-color-unfitted-level-0);\n",
       "}\n",
       "\n",
       "#sk-container-id-2 div.sk-toggleable__content.fitted pre {\n",
       "  /* unfitted */\n",
       "  background-color: var(--sklearn-color-fitted-level-0);\n",
       "}\n",
       "\n",
       "#sk-container-id-2 input.sk-toggleable__control:checked~div.sk-toggleable__content {\n",
       "  /* Expand drop-down */\n",
       "  max-height: 200px;\n",
       "  max-width: 100%;\n",
       "  overflow: auto;\n",
       "}\n",
       "\n",
       "#sk-container-id-2 input.sk-toggleable__control:checked~label.sk-toggleable__label-arrow:before {\n",
       "  content: \"▾\";\n",
       "}\n",
       "\n",
       "/* Pipeline/ColumnTransformer-specific style */\n",
       "\n",
       "#sk-container-id-2 div.sk-label input.sk-toggleable__control:checked~label.sk-toggleable__label {\n",
       "  color: var(--sklearn-color-text);\n",
       "  background-color: var(--sklearn-color-unfitted-level-2);\n",
       "}\n",
       "\n",
       "#sk-container-id-2 div.sk-label.fitted input.sk-toggleable__control:checked~label.sk-toggleable__label {\n",
       "  background-color: var(--sklearn-color-fitted-level-2);\n",
       "}\n",
       "\n",
       "/* Estimator-specific style */\n",
       "\n",
       "/* Colorize estimator box */\n",
       "#sk-container-id-2 div.sk-estimator input.sk-toggleable__control:checked~label.sk-toggleable__label {\n",
       "  /* unfitted */\n",
       "  background-color: var(--sklearn-color-unfitted-level-2);\n",
       "}\n",
       "\n",
       "#sk-container-id-2 div.sk-estimator.fitted input.sk-toggleable__control:checked~label.sk-toggleable__label {\n",
       "  /* fitted */\n",
       "  background-color: var(--sklearn-color-fitted-level-2);\n",
       "}\n",
       "\n",
       "#sk-container-id-2 div.sk-label label.sk-toggleable__label,\n",
       "#sk-container-id-2 div.sk-label label {\n",
       "  /* The background is the default theme color */\n",
       "  color: var(--sklearn-color-text-on-default-background);\n",
       "}\n",
       "\n",
       "/* On hover, darken the color of the background */\n",
       "#sk-container-id-2 div.sk-label:hover label.sk-toggleable__label {\n",
       "  color: var(--sklearn-color-text);\n",
       "  background-color: var(--sklearn-color-unfitted-level-2);\n",
       "}\n",
       "\n",
       "/* Label box, darken color on hover, fitted */\n",
       "#sk-container-id-2 div.sk-label.fitted:hover label.sk-toggleable__label.fitted {\n",
       "  color: var(--sklearn-color-text);\n",
       "  background-color: var(--sklearn-color-fitted-level-2);\n",
       "}\n",
       "\n",
       "/* Estimator label */\n",
       "\n",
       "#sk-container-id-2 div.sk-label label {\n",
       "  font-family: monospace;\n",
       "  font-weight: bold;\n",
       "  display: inline-block;\n",
       "  line-height: 1.2em;\n",
       "}\n",
       "\n",
       "#sk-container-id-2 div.sk-label-container {\n",
       "  text-align: center;\n",
       "}\n",
       "\n",
       "/* Estimator-specific */\n",
       "#sk-container-id-2 div.sk-estimator {\n",
       "  font-family: monospace;\n",
       "  border: 1px dotted var(--sklearn-color-border-box);\n",
       "  border-radius: 0.25em;\n",
       "  box-sizing: border-box;\n",
       "  margin-bottom: 0.5em;\n",
       "  /* unfitted */\n",
       "  background-color: var(--sklearn-color-unfitted-level-0);\n",
       "}\n",
       "\n",
       "#sk-container-id-2 div.sk-estimator.fitted {\n",
       "  /* fitted */\n",
       "  background-color: var(--sklearn-color-fitted-level-0);\n",
       "}\n",
       "\n",
       "/* on hover */\n",
       "#sk-container-id-2 div.sk-estimator:hover {\n",
       "  /* unfitted */\n",
       "  background-color: var(--sklearn-color-unfitted-level-2);\n",
       "}\n",
       "\n",
       "#sk-container-id-2 div.sk-estimator.fitted:hover {\n",
       "  /* fitted */\n",
       "  background-color: var(--sklearn-color-fitted-level-2);\n",
       "}\n",
       "\n",
       "/* Specification for estimator info (e.g. \"i\" and \"?\") */\n",
       "\n",
       "/* Common style for \"i\" and \"?\" */\n",
       "\n",
       ".sk-estimator-doc-link,\n",
       "a:link.sk-estimator-doc-link,\n",
       "a:visited.sk-estimator-doc-link {\n",
       "  float: right;\n",
       "  font-size: smaller;\n",
       "  line-height: 1em;\n",
       "  font-family: monospace;\n",
       "  background-color: var(--sklearn-color-background);\n",
       "  border-radius: 1em;\n",
       "  height: 1em;\n",
       "  width: 1em;\n",
       "  text-decoration: none !important;\n",
       "  margin-left: 0.5em;\n",
       "  text-align: center;\n",
       "  /* unfitted */\n",
       "  border: var(--sklearn-color-unfitted-level-1) 1pt solid;\n",
       "  color: var(--sklearn-color-unfitted-level-1);\n",
       "}\n",
       "\n",
       ".sk-estimator-doc-link.fitted,\n",
       "a:link.sk-estimator-doc-link.fitted,\n",
       "a:visited.sk-estimator-doc-link.fitted {\n",
       "  /* fitted */\n",
       "  border: var(--sklearn-color-fitted-level-1) 1pt solid;\n",
       "  color: var(--sklearn-color-fitted-level-1);\n",
       "}\n",
       "\n",
       "/* On hover */\n",
       "div.sk-estimator:hover .sk-estimator-doc-link:hover,\n",
       ".sk-estimator-doc-link:hover,\n",
       "div.sk-label-container:hover .sk-estimator-doc-link:hover,\n",
       ".sk-estimator-doc-link:hover {\n",
       "  /* unfitted */\n",
       "  background-color: var(--sklearn-color-unfitted-level-3);\n",
       "  color: var(--sklearn-color-background);\n",
       "  text-decoration: none;\n",
       "}\n",
       "\n",
       "div.sk-estimator.fitted:hover .sk-estimator-doc-link.fitted:hover,\n",
       ".sk-estimator-doc-link.fitted:hover,\n",
       "div.sk-label-container:hover .sk-estimator-doc-link.fitted:hover,\n",
       ".sk-estimator-doc-link.fitted:hover {\n",
       "  /* fitted */\n",
       "  background-color: var(--sklearn-color-fitted-level-3);\n",
       "  color: var(--sklearn-color-background);\n",
       "  text-decoration: none;\n",
       "}\n",
       "\n",
       "/* Span, style for the box shown on hovering the info icon */\n",
       ".sk-estimator-doc-link span {\n",
       "  display: none;\n",
       "  z-index: 9999;\n",
       "  position: relative;\n",
       "  font-weight: normal;\n",
       "  right: .2ex;\n",
       "  padding: .5ex;\n",
       "  margin: .5ex;\n",
       "  width: min-content;\n",
       "  min-width: 20ex;\n",
       "  max-width: 50ex;\n",
       "  color: var(--sklearn-color-text);\n",
       "  box-shadow: 2pt 2pt 4pt #999;\n",
       "  /* unfitted */\n",
       "  background: var(--sklearn-color-unfitted-level-0);\n",
       "  border: .5pt solid var(--sklearn-color-unfitted-level-3);\n",
       "}\n",
       "\n",
       ".sk-estimator-doc-link.fitted span {\n",
       "  /* fitted */\n",
       "  background: var(--sklearn-color-fitted-level-0);\n",
       "  border: var(--sklearn-color-fitted-level-3);\n",
       "}\n",
       "\n",
       ".sk-estimator-doc-link:hover span {\n",
       "  display: block;\n",
       "}\n",
       "\n",
       "/* \"?\"-specific style due to the `<a>` HTML tag */\n",
       "\n",
       "#sk-container-id-2 a.estimator_doc_link {\n",
       "  float: right;\n",
       "  font-size: 1rem;\n",
       "  line-height: 1em;\n",
       "  font-family: monospace;\n",
       "  background-color: var(--sklearn-color-background);\n",
       "  border-radius: 1rem;\n",
       "  height: 1rem;\n",
       "  width: 1rem;\n",
       "  text-decoration: none;\n",
       "  /* unfitted */\n",
       "  color: var(--sklearn-color-unfitted-level-1);\n",
       "  border: var(--sklearn-color-unfitted-level-1) 1pt solid;\n",
       "}\n",
       "\n",
       "#sk-container-id-2 a.estimator_doc_link.fitted {\n",
       "  /* fitted */\n",
       "  border: var(--sklearn-color-fitted-level-1) 1pt solid;\n",
       "  color: var(--sklearn-color-fitted-level-1);\n",
       "}\n",
       "\n",
       "/* On hover */\n",
       "#sk-container-id-2 a.estimator_doc_link:hover {\n",
       "  /* unfitted */\n",
       "  background-color: var(--sklearn-color-unfitted-level-3);\n",
       "  color: var(--sklearn-color-background);\n",
       "  text-decoration: none;\n",
       "}\n",
       "\n",
       "#sk-container-id-2 a.estimator_doc_link.fitted:hover {\n",
       "  /* fitted */\n",
       "  background-color: var(--sklearn-color-fitted-level-3);\n",
       "}\n",
       "</style><div id=\"sk-container-id-2\" class=\"sk-top-container\"><div class=\"sk-text-repr-fallback\"><pre>KNeighborsClassifier(n_neighbors=30)</pre><b>In a Jupyter environment, please rerun this cell to show the HTML representation or trust the notebook. <br />On GitHub, the HTML representation is unable to render, please try loading this page with nbviewer.org.</b></div><div class=\"sk-container\" hidden><div class=\"sk-item\"><div class=\"sk-estimator fitted sk-toggleable\"><input class=\"sk-toggleable__control sk-hidden--visually\" id=\"sk-estimator-id-2\" type=\"checkbox\" checked><label for=\"sk-estimator-id-2\" class=\"sk-toggleable__label fitted sk-toggleable__label-arrow\"><div><div>KNeighborsClassifier</div></div><div><a class=\"sk-estimator-doc-link fitted\" rel=\"noreferrer\" target=\"_blank\" href=\"https://scikit-learn.org/1.6/modules/generated/sklearn.neighbors.KNeighborsClassifier.html\">?<span>Documentation for KNeighborsClassifier</span></a><span class=\"sk-estimator-doc-link fitted\">i<span>Fitted</span></span></div></label><div class=\"sk-toggleable__content fitted\"><pre>KNeighborsClassifier(n_neighbors=30)</pre></div> </div></div></div></div>"
      ],
      "text/plain": [
       "KNeighborsClassifier(n_neighbors=30)"
      ]
     },
     "execution_count": 80,
     "metadata": {},
     "output_type": "execute_result"
    }
   ],
   "source": [
    "knn = KNeighborsClassifier(n_neighbors=30)  # Teste diferentes valores de K\n",
    "knn.fit(X_train, y_train)"
   ]
  },
  {
   "cell_type": "code",
   "execution_count": 81,
   "id": "f3f9927d-2223-4360-9121-d1654528134c",
   "metadata": {},
   "outputs": [],
   "source": [
    "y_pred = knn.predict(X_test)"
   ]
  },
  {
   "cell_type": "code",
   "execution_count": 82,
   "id": "14f18437-b8da-469f-b7ce-c6dea478735d",
   "metadata": {},
   "outputs": [
    {
     "data": {
      "text/plain": [
       "array([\"['N']\", \"['N']\", \"['N']\", ..., \"['D']\", \"['N']\", \"['N']\"],\n",
       "      dtype=object)"
      ]
     },
     "execution_count": 82,
     "metadata": {},
     "output_type": "execute_result"
    }
   ],
   "source": [
    "y_pred"
   ]
  },
  {
   "cell_type": "code",
   "execution_count": 83,
   "id": "ed703622-c73f-4223-8f3a-c522d04af8b9",
   "metadata": {},
   "outputs": [
    {
     "name": "stdout",
     "output_type": "stream",
     "text": [
      "Acurácia do KNN: 0.45\n"
     ]
    }
   ],
   "source": [
    "from sklearn.metrics import accuracy_score\n",
    "print(f\"Acurácia do KNN: {accuracy_score(y_test, y_pred):.2f}\")"
   ]
  },
  {
   "cell_type": "code",
   "execution_count": null,
   "id": "76369563-f328-4085-a6fd-f7585d32cd69",
   "metadata": {},
   "outputs": [],
   "source": []
  }
 ],
 "metadata": {
  "kernelspec": {
   "display_name": "Python 3 (ipykernel)",
   "language": "python",
   "name": "python3"
  },
  "language_info": {
   "codemirror_mode": {
    "name": "ipython",
    "version": 3
   },
   "file_extension": ".py",
   "mimetype": "text/x-python",
   "name": "python",
   "nbconvert_exporter": "python",
   "pygments_lexer": "ipython3",
   "version": "3.10.6"
  }
 },
 "nbformat": 4,
 "nbformat_minor": 5
}
