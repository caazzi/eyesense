{
 "cells": [
  {
   "cell_type": "markdown",
   "id": "cb46b1ee-e5c4-4bbd-96fe-c9cb0d88858d",
   "metadata": {},
   "source": [
    "# Eyesense"
   ]
  },
  {
   "cell_type": "markdown",
   "id": "f29f06b2-d9d6-48ba-9e60-5b8fb1e3c4fe",
   "metadata": {},
   "source": [
    "Ocular Disease Intelligent Recognition (ODIR) is a structured ophthalmic database of 5,000 patients with age, color fundus photographs from left and right eyes and doctors' diagnostic keywords from doctors.\n",
    "\n",
    "This dataset is meant to represent ‘‘real-life’’ set of patient information collected by Shanggong Medical Technology Co., Ltd. from different hospitals/medical centers in China. In these institutions, fundus images are captured by various cameras in the market, such as Canon, Zeiss and Kowa, resulting into varied image resolutions.\n",
    "Annotations were labeled by trained human readers with quality control management. They classify patient into eight labels including:\n",
    "\n",
    "-Normal (N),\n",
    "-Diabetes (D),\n",
    "-Glaucoma (G),\n",
    "-Cataract (C),\n",
    "-Age related Macular Degeneration (A),\n",
    "-Hypertension (H),\n",
    "-Pathological Myopia (M),\n",
    "-Other diseases/abnormalities (O)"
   ]
  },
  {
   "cell_type": "code",
   "execution_count": 1,
   "id": "f0813c10-3b30-4fa5-b514-8195ec645fdb",
   "metadata": {},
   "outputs": [
    {
     "name": "stderr",
     "output_type": "stream",
     "text": [
      "2025-03-21 01:14:28.877803: I tensorflow/core/util/port.cc:153] oneDNN custom operations are on. You may see slightly different numerical results due to floating-point round-off errors from different computation orders. To turn them off, set the environment variable `TF_ENABLE_ONEDNN_OPTS=0`.\n",
      "2025-03-21 01:14:29.141192: E external/local_xla/xla/stream_executor/cuda/cuda_fft.cc:467] Unable to register cuFFT factory: Attempting to register factory for plugin cuFFT when one has already been registered\n",
      "WARNING: All log messages before absl::InitializeLog() is called are written to STDERR\n",
      "E0000 00:00:1742519669.247428  392559 cuda_dnn.cc:8579] Unable to register cuDNN factory: Attempting to register factory for plugin cuDNN when one has already been registered\n",
      "E0000 00:00:1742519669.277362  392559 cuda_blas.cc:1407] Unable to register cuBLAS factory: Attempting to register factory for plugin cuBLAS when one has already been registered\n",
      "W0000 00:00:1742519669.475062  392559 computation_placer.cc:177] computation placer already registered. Please check linkage and avoid linking the same target more than once.\n",
      "W0000 00:00:1742519669.475136  392559 computation_placer.cc:177] computation placer already registered. Please check linkage and avoid linking the same target more than once.\n",
      "W0000 00:00:1742519669.475139  392559 computation_placer.cc:177] computation placer already registered. Please check linkage and avoid linking the same target more than once.\n",
      "W0000 00:00:1742519669.475141  392559 computation_placer.cc:177] computation placer already registered. Please check linkage and avoid linking the same target more than once.\n",
      "2025-03-21 01:14:29.516437: I tensorflow/core/platform/cpu_feature_guard.cc:210] This TensorFlow binary is optimized to use available CPU instructions in performance-critical operations.\n",
      "To enable the following instructions: AVX2 AVX_VNNI FMA, in other operations, rebuild TensorFlow with the appropriate compiler flags.\n"
     ]
    }
   ],
   "source": [
    "from tensorflow.keras import layers, models, optimizers, callbacks # type: ignore\n",
    "from tensorflow.keras.utils import image_dataset_from_directory # type: ignore\n",
    "import tensorflow as tf\n",
    "import matplotlib.pyplot as plt\n",
    "from tensorflow.keras.regularizers import l2 # type: ignore\n",
    "import pathlib\n",
    "from sklearn.metrics import classification_report\n",
    "from tensorflow.keras.applications import Xception\n",
    "from collections import Counter\n",
    "import numpy as np"
   ]
  },
  {
   "cell_type": "code",
   "execution_count": 2,
   "id": "493f6710-ea56-44dd-aa9d-69685d155016",
   "metadata": {},
   "outputs": [],
   "source": [
    "def plot_history(history, title='', axs=None, exp_name=\"\"):\n",
    "    if axs is not None:\n",
    "        ax1, ax2, ax3 = axs\n",
    "    else:\n",
    "        f, (ax1, ax2, ax3) = plt.subplots(1, 3, figsize=(12, 4))\n",
    "    if len(exp_name) > 0 and exp_name[0] != '_':\n",
    "        exp_name = '_' + exp_name\n",
    "    ax1.plot(history.history['loss'], label = 'train' + exp_name)\n",
    "    ax1.plot(history.history['val_loss'], label = 'val' + exp_name)\n",
    "    #ax1.set_ylim(0., 1.8)\n",
    "    ax1.autoscale()\n",
    "    ax1.set_title('Loss')\n",
    "    ax1.legend()\n",
    "\n",
    "    ax2.plot(history.history['accuracy'], label='train accuracy'  + exp_name)\n",
    "    ax2.plot(history.history['val_accuracy'], label='val accuracy'  + exp_name)\n",
    "    #ax2.set_ylim(0.4, 1.)\n",
    "    ax2.autoscale()\n",
    "    ax2.set_title('Accuracy')\n",
    "    ax2.legend()\n",
    "\n",
    "    ax3.plot(history.history['recall'], label='train recall'  + exp_name)\n",
    "    ax3.plot(history.history['val_recall'], label='val recall'  + exp_name)\n",
    "    #ax2.set_ylim(0.4, 1.)\n",
    "    ax3.autoscale()\n",
    "    ax3.set_title('Recall')\n",
    "    ax3.legend()\n",
    "\n",
    "    f.savefig(\"Xception-02.png\")\n",
    "    \n",
    "    return (ax1, ax2, ax3)"
   ]
  },
  {
   "cell_type": "markdown",
   "id": "e49d7de7-e1e1-4049-844f-3037d137de80",
   "metadata": {},
   "source": [
    "# Preprocess images"
   ]
  },
  {
   "cell_type": "code",
   "execution_count": 3,
   "id": "825a6a19-6072-46ae-ab1f-0d81e579d44d",
   "metadata": {},
   "outputs": [
    {
     "name": "stdout",
     "output_type": "stream",
     "text": [
      "Found 10197 files belonging to 7 classes.\n"
     ]
    },
    {
     "name": "stderr",
     "output_type": "stream",
     "text": [
      "W0000 00:00:1742519680.970106  392559 gpu_device.cc:2341] Cannot dlopen some GPU libraries. Please make sure the missing libraries mentioned above are installed properly if you would like to use GPU. Follow the guide at https://www.tensorflow.org/install/gpu for how to download and setup the required libraries for your platform.\n",
      "Skipping registering GPU devices...\n"
     ]
    },
    {
     "name": "stdout",
     "output_type": "stream",
     "text": [
      "Found 1133 files belonging to 7 classes.\n",
      "Found 451 files belonging to 7 classes.\n"
     ]
    }
   ],
   "source": [
    "batch_size = 32\n",
    "img_height = 299\n",
    "img_width  = 299\n",
    "\n",
    "#Adjust the path according to your machine\n",
    "data_dir_train = pathlib.Path('../data_train/')\n",
    "data_dir_val = pathlib.Path('../data_val/')\n",
    "data_dir_test  = pathlib.Path('../data_test/')\n",
    "\n",
    "\n",
    "train_ds = image_dataset_from_directory(\n",
    "            data_dir_train,\n",
    "            image_size=(img_height, img_width),\n",
    "            batch_size=batch_size)\n",
    "\n",
    "val_ds = image_dataset_from_directory(\n",
    "            data_dir_val,\n",
    "            image_size=(img_height, img_width),\n",
    "            batch_size=batch_size)\n",
    "\n",
    "test_ds = image_dataset_from_directory(\n",
    "              data_dir_test,\n",
    "              image_size=(img_height, img_width),\n",
    "              batch_size=batch_size)"
   ]
  },
  {
   "cell_type": "markdown",
   "id": "4701e418-e52f-4c11-b56e-b77bed8aae9b",
   "metadata": {},
   "source": [
    "We can try do decrease the size of majoritary classes in the training dataset"
   ]
  },
  {
   "cell_type": "code",
   "execution_count": 4,
   "id": "6ea7955b-a4b3-43db-b6b2-23a0ee01eee3",
   "metadata": {},
   "outputs": [
    {
     "name": "stdout",
     "output_type": "stream",
     "text": [
      "👉The shape of each train batch is (32, 299, 299, 3)\n",
      "  The shape of each target batch is (32,)\n"
     ]
    }
   ],
   "source": [
    "for image_batch, labels_batch in train_ds:\n",
    "  print(f\"👉The shape of each train batch is {image_batch.shape}\")\n",
    "  print(f\"  The shape of each target batch is {labels_batch.shape}\")\n",
    "  break"
   ]
  },
  {
   "cell_type": "markdown",
   "id": "838424a5-823c-4a5a-b638-b2ed3f85c881",
   "metadata": {},
   "source": [
    "# Normalizing the images"
   ]
  },
  {
   "cell_type": "code",
   "execution_count": 5,
   "id": "8a6ef009-41fb-4345-b864-7e69d2824255",
   "metadata": {},
   "outputs": [
    {
     "data": {
      "text/plain": [
       "['cataract',\n",
       " 'degeneration',\n",
       " 'diabets',\n",
       " 'glaucoma',\n",
       " 'hypertension',\n",
       " 'myopia',\n",
       " 'normal']"
      ]
     },
     "execution_count": 5,
     "metadata": {},
     "output_type": "execute_result"
    }
   ],
   "source": [
    "train_ds.class_names"
   ]
  },
  {
   "cell_type": "code",
   "execution_count": 6,
   "id": "d29a5341-173a-463e-9a91-f4cc4b915218",
   "metadata": {},
   "outputs": [],
   "source": [
    "#Normalization of the image tensors\n",
    "normalization_layer =   layers.Rescaling(1./255)\n",
    "normalized_train_ds = train_ds.map(lambda x, y: (normalization_layer(x), y))\n",
    "normalized_val_ds   =   val_ds.map(lambda x, y: (normalization_layer(x), y))\n",
    "normalized_test_ds  =  test_ds.map(lambda x, y: (normalization_layer(x), y))"
   ]
  },
  {
   "cell_type": "code",
   "execution_count": 7,
   "id": "fb8e6271-82ec-4ba1-8e65-b5c7d2512068",
   "metadata": {},
   "outputs": [],
   "source": [
    "# Improve performance with prefetching\n",
    "#normalized_train_ds = train_ds.prefetch(tf.data.AUTOTUNE)\n",
    "#normalized_val_ds   = val_ds.prefetch(tf.data.AUTOTUNE)"
   ]
  },
  {
   "cell_type": "markdown",
   "id": "f4d8196d-af41-4ced-9281-20bb00846a38",
   "metadata": {},
   "source": [
    "# Create weights"
   ]
  },
  {
   "cell_type": "code",
   "execution_count": 8,
   "id": "8fd52d71-c838-4199-93bb-67ffe3000406",
   "metadata": {},
   "outputs": [
    {
     "name": "stdout",
     "output_type": "stream",
     "text": [
      "Category 4: 744 images\n",
      "Category 3: 1648 images\n",
      "Category 6: 2070 images\n",
      "Category 1: 1536 images\n",
      "Category 2: 1159 images\n",
      "Category 0: 1696 images\n",
      "Category 5: 1344 images\n"
     ]
    },
    {
     "name": "stderr",
     "output_type": "stream",
     "text": [
      "2025-03-21 01:14:56.137251: I tensorflow/core/framework/local_rendezvous.cc:407] Local rendezvous is aborting with status: OUT_OF_RANGE: End of sequence\n"
     ]
    },
    {
     "data": {
      "text/plain": [
       "{4: 1.9579493087557602,\n",
       " 3: 0.8839285714285714,\n",
       " 6: 0.7037267080745341,\n",
       " 1: 0.9483816964285714,\n",
       " 2: 1.2568716874152595,\n",
       " 0: 0.8589117250673854,\n",
       " 5: 1.0838647959183674}"
      ]
     },
     "execution_count": 8,
     "metadata": {},
     "output_type": "execute_result"
    }
   ],
   "source": [
    "# Extract label counts\n",
    "label_counts = Counter()\n",
    "for _, labels in train_ds:  # Iterate through the batches\n",
    "    label_counts.update(labels.numpy())  # Count occurrences of each label\n",
    "\n",
    "# Display counts for each category\n",
    "class_weight = {}\n",
    "\n",
    "n_samples = sum(label_counts.values())\n",
    "for label, count_per_label in label_counts.items():\n",
    "    class_weight[int(label)] = float((n_samples/count_per_label)/7)\n",
    "    print(f\"Category {label}: {count_per_label} images\")\n",
    "\n",
    "class_weight"
   ]
  },
  {
   "cell_type": "markdown",
   "id": "056e12cd-11a6-4dec-b0aa-76ec56400fa3",
   "metadata": {},
   "source": [
    "# Creating a model"
   ]
  },
  {
   "cell_type": "code",
   "execution_count": 9,
   "id": "f444bd43-e49e-449d-84ba-8b5034a87b1c",
   "metadata": {},
   "outputs": [],
   "source": [
    "# Load the Xception model\n",
    "base_model = Xception(weights='imagenet', include_top=False, input_shape=(299, 299, 3))\n",
    "\n",
    "# Freeze the base model layers\n",
    "for layer in base_model.layers:\n",
    "    layer.trainable = False\n",
    "\n",
    "\n",
    "x = base_model.output\n",
    "x = layers.GlobalAveragePooling2D()(x)  # Global Average Pooling replaces the fully connected layers\n",
    "x = layers.Dropout(0.5)(x)  # Dropout for regularization\n",
    "x = layers.Dense(1024, activation='relu')(x)  # Fully connected layer\n",
    "x = layers.Dropout(0.5)(x)\n",
    "predictions = layers.Dense(7, activation='softmax')(x)  # Output layer for 7 classes\n",
    "\n",
    "# Create the full model\n",
    "model = models.Model(inputs=base_model.input, outputs=predictions)\n"
   ]
  },
  {
   "cell_type": "code",
   "execution_count": 10,
   "id": "4c46ef04-4188-4371-94f1-2fd2a5d16c40",
   "metadata": {},
   "outputs": [],
   "source": [
    "lr_schedule = optimizers.schedules.ExponentialDecay(\n",
    "    initial_learning_rate=0.001,\n",
    "    decay_steps=1000,\n",
    "    decay_rate=0.9\n",
    ")"
   ]
  },
  {
   "cell_type": "code",
   "execution_count": 11,
   "id": "b4337444-678b-4638-beca-2cc96a03e720",
   "metadata": {},
   "outputs": [],
   "source": [
    "def preprocess_data(image, label):\n",
    "    num_classes = 7  # Replace with your actual number of classes\n",
    "    label = tf.one_hot(label, depth=num_classes)  # Convert to one-hot encoding\n",
    "    return image, label\n",
    "\n",
    "# Apply preprocessing to the dataset\n",
    "processed_train_ds = normalized_train_ds.map(preprocess_data)\n",
    "processed_val_ds   = normalized_val_ds.map(preprocess_data)\n"
   ]
  },
  {
   "cell_type": "code",
   "execution_count": 12,
   "id": "c35f6130-b0fb-4c77-9bbd-484aa9c2c0e9",
   "metadata": {},
   "outputs": [],
   "source": [
    "\n",
    "model.compile(\n",
    "    optimizer= optimizers.Adam(learning_rate=lr_schedule),\n",
    "    loss= tf.losses.CategoricalCrossentropy(),\n",
    "    metrics=['accuracy', tf.keras.metrics.Recall()]\n",
    ")\n",
    "\n",
    "es = callbacks.EarlyStopping(patience=20, restore_best_weights=True)"
   ]
  },
  {
   "cell_type": "code",
   "execution_count": 13,
   "id": "a2bf14b6-c924-4495-ba7a-69b4cd4879f4",
   "metadata": {},
   "outputs": [
    {
     "name": "stdout",
     "output_type": "stream",
     "text": [
      "👉The shape of each train batch is (32, 299, 299, 3)\n",
      "  The shape of each target batch is (32, 7)\n"
     ]
    }
   ],
   "source": [
    "for image_batch, labels_batch in processed_train_ds:\n",
    "  print(f\"👉The shape of each train batch is {image_batch.shape}\")\n",
    "  print(f\"  The shape of each target batch is {labels_batch.shape}\")\n",
    "  break"
   ]
  },
  {
   "cell_type": "code",
   "execution_count": 14,
   "id": "7155d443-172d-4c69-803c-b61482b3170b",
   "metadata": {},
   "outputs": [
    {
     "name": "stdout",
     "output_type": "stream",
     "text": [
      "Epoch 1/100\n",
      "\u001b[1m319/319\u001b[0m \u001b[32m━━━━━━━━━━━━━━━━━━━━\u001b[0m\u001b[37m\u001b[0m \u001b[1m656s\u001b[0m 2s/step - accuracy: 0.4818 - loss: 1.3456 - recall: 0.3100 - val_accuracy: 0.5931 - val_loss: 1.0892 - val_recall: 0.2056\n",
      "Epoch 2/100\n",
      "\u001b[1m319/319\u001b[0m \u001b[32m━━━━━━━━━━━━━━━━━━━━\u001b[0m\u001b[37m\u001b[0m \u001b[1m651s\u001b[0m 2s/step - accuracy: 0.5885 - loss: 1.0521 - recall: 0.4122 - val_accuracy: 0.5163 - val_loss: 1.1769 - val_recall: 0.2418\n",
      "Epoch 3/100\n",
      "\u001b[1m319/319\u001b[0m \u001b[32m━━━━━━━━━━━━━━━━━━━━\u001b[0m\u001b[37m\u001b[0m \u001b[1m716s\u001b[0m 2s/step - accuracy: 0.6096 - loss: 0.9823 - recall: 0.4597 - val_accuracy: 0.5525 - val_loss: 1.1330 - val_recall: 0.2083\n",
      "Epoch 4/100\n",
      "\u001b[1m319/319\u001b[0m \u001b[32m━━━━━━━━━━━━━━━━━━━━\u001b[0m\u001b[37m\u001b[0m \u001b[1m651s\u001b[0m 2s/step - accuracy: 0.6290 - loss: 0.9250 - recall: 0.4770 - val_accuracy: 0.5516 - val_loss: 1.1064 - val_recall: 0.2251\n",
      "Epoch 5/100\n",
      "\u001b[1m319/319\u001b[0m \u001b[32m━━━━━━━━━━━━━━━━━━━━\u001b[0m\u001b[37m\u001b[0m \u001b[1m649s\u001b[0m 2s/step - accuracy: 0.6493 - loss: 0.8865 - recall: 0.5018 - val_accuracy: 0.5207 - val_loss: 1.1689 - val_recall: 0.2083\n",
      "Epoch 6/100\n",
      "\u001b[1m319/319\u001b[0m \u001b[32m━━━━━━━━━━━━━━━━━━━━\u001b[0m\u001b[37m\u001b[0m \u001b[1m650s\u001b[0m 2s/step - accuracy: 0.6627 - loss: 0.8509 - recall: 0.5278 - val_accuracy: 0.5269 - val_loss: 1.1478 - val_recall: 0.2207\n",
      "Epoch 7/100\n",
      "\u001b[1m319/319\u001b[0m \u001b[32m━━━━━━━━━━━━━━━━━━━━\u001b[0m\u001b[37m\u001b[0m \u001b[1m651s\u001b[0m 2s/step - accuracy: 0.6737 - loss: 0.8203 - recall: 0.5396 - val_accuracy: 0.5207 - val_loss: 1.1659 - val_recall: 0.2436\n",
      "Epoch 8/100\n",
      "\u001b[1m319/319\u001b[0m \u001b[32m━━━━━━━━━━━━━━━━━━━━\u001b[0m\u001b[37m\u001b[0m \u001b[1m653s\u001b[0m 2s/step - accuracy: 0.6784 - loss: 0.8060 - recall: 0.5461 - val_accuracy: 0.5658 - val_loss: 1.0881 - val_recall: 0.2789\n",
      "Epoch 9/100\n",
      "\u001b[1m319/319\u001b[0m \u001b[32m━━━━━━━━━━━━━━━━━━━━\u001b[0m\u001b[37m\u001b[0m \u001b[1m676s\u001b[0m 2s/step - accuracy: 0.6893 - loss: 0.7806 - recall: 0.5581 - val_accuracy: 0.5949 - val_loss: 1.0390 - val_recall: 0.3292\n",
      "Epoch 10/100\n",
      "\u001b[1m319/319\u001b[0m \u001b[32m━━━━━━━━━━━━━━━━━━━━\u001b[0m\u001b[37m\u001b[0m \u001b[1m649s\u001b[0m 2s/step - accuracy: 0.7049 - loss: 0.7340 - recall: 0.5858 - val_accuracy: 0.5790 - val_loss: 1.0671 - val_recall: 0.3592\n",
      "Epoch 11/100\n",
      "\u001b[1m319/319\u001b[0m \u001b[32m━━━━━━━━━━━━━━━━━━━━\u001b[0m\u001b[37m\u001b[0m \u001b[1m649s\u001b[0m 2s/step - accuracy: 0.7124 - loss: 0.7239 - recall: 0.6009 - val_accuracy: 0.5834 - val_loss: 1.0376 - val_recall: 0.3548\n",
      "Epoch 12/100\n",
      "\u001b[1m319/319\u001b[0m \u001b[32m━━━━━━━━━━━━━━━━━━━━\u001b[0m\u001b[37m\u001b[0m \u001b[1m680s\u001b[0m 2s/step - accuracy: 0.7203 - loss: 0.7001 - recall: 0.6054 - val_accuracy: 0.5878 - val_loss: 1.0401 - val_recall: 0.3601\n",
      "Epoch 13/100\n",
      "\u001b[1m319/319\u001b[0m \u001b[32m━━━━━━━━━━━━━━━━━━━━\u001b[0m\u001b[37m\u001b[0m \u001b[1m648s\u001b[0m 2s/step - accuracy: 0.7336 - loss: 0.6790 - recall: 0.6200 - val_accuracy: 0.5499 - val_loss: 1.0909 - val_recall: 0.3116\n",
      "Epoch 14/100\n",
      "\u001b[1m319/319\u001b[0m \u001b[32m━━━━━━━━━━━━━━━━━━━━\u001b[0m\u001b[37m\u001b[0m \u001b[1m652s\u001b[0m 2s/step - accuracy: 0.7393 - loss: 0.6508 - recall: 0.6402 - val_accuracy: 0.5587 - val_loss: 1.0894 - val_recall: 0.3283\n",
      "Epoch 15/100\n",
      "\u001b[1m319/319\u001b[0m \u001b[32m━━━━━━━━━━━━━━━━━━━━\u001b[0m\u001b[37m\u001b[0m \u001b[1m651s\u001b[0m 2s/step - accuracy: 0.7379 - loss: 0.6492 - recall: 0.6522 - val_accuracy: 0.5781 - val_loss: 1.0393 - val_recall: 0.3769\n",
      "Epoch 16/100\n",
      "\u001b[1m319/319\u001b[0m \u001b[32m━━━━━━━━━━━━━━━━━━━━\u001b[0m\u001b[37m\u001b[0m \u001b[1m662s\u001b[0m 2s/step - accuracy: 0.7446 - loss: 0.6160 - recall: 0.6554 - val_accuracy: 0.5869 - val_loss: 1.0517 - val_recall: 0.3495\n",
      "Epoch 17/100\n",
      "\u001b[1m319/319\u001b[0m \u001b[32m━━━━━━━━━━━━━━━━━━━━\u001b[0m\u001b[37m\u001b[0m \u001b[1m650s\u001b[0m 2s/step - accuracy: 0.7549 - loss: 0.6135 - recall: 0.6592 - val_accuracy: 0.5755 - val_loss: 1.0945 - val_recall: 0.4078\n",
      "Epoch 18/100\n",
      "\u001b[1m319/319\u001b[0m \u001b[32m━━━━━━━━━━━━━━━━━━━━\u001b[0m\u001b[37m\u001b[0m \u001b[1m647s\u001b[0m 2s/step - accuracy: 0.7583 - loss: 0.5990 - recall: 0.6708 - val_accuracy: 0.5914 - val_loss: 1.0149 - val_recall: 0.4360\n",
      "Epoch 19/100\n",
      "\u001b[1m319/319\u001b[0m \u001b[32m━━━━━━━━━━━━━━━━━━━━\u001b[0m\u001b[37m\u001b[0m \u001b[1m649s\u001b[0m 2s/step - accuracy: 0.7716 - loss: 0.5712 - recall: 0.6846 - val_accuracy: 0.5737 - val_loss: 1.0645 - val_recall: 0.3583\n",
      "Epoch 20/100\n",
      "\u001b[1m319/319\u001b[0m \u001b[32m━━━━━━━━━━━━━━━━━━━━\u001b[0m\u001b[37m\u001b[0m \u001b[1m651s\u001b[0m 2s/step - accuracy: 0.7690 - loss: 0.5656 - recall: 0.6867 - val_accuracy: 0.5728 - val_loss: 1.0617 - val_recall: 0.3672\n",
      "Epoch 21/100\n",
      "\u001b[1m319/319\u001b[0m \u001b[32m━━━━━━━━━━━━━━━━━━━━\u001b[0m\u001b[37m\u001b[0m \u001b[1m655s\u001b[0m 2s/step - accuracy: 0.7767 - loss: 0.5542 - recall: 0.6941 - val_accuracy: 0.5878 - val_loss: 1.0248 - val_recall: 0.3751\n",
      "Epoch 22/100\n",
      "\u001b[1m319/319\u001b[0m \u001b[32m━━━━━━━━━━━━━━━━━━━━\u001b[0m\u001b[37m\u001b[0m \u001b[1m650s\u001b[0m 2s/step - accuracy: 0.7754 - loss: 0.5422 - recall: 0.6956 - val_accuracy: 0.5966 - val_loss: 1.0239 - val_recall: 0.3981\n",
      "Epoch 23/100\n",
      "\u001b[1m319/319\u001b[0m \u001b[32m━━━━━━━━━━━━━━━━━━━━\u001b[0m\u001b[37m\u001b[0m \u001b[1m650s\u001b[0m 2s/step - accuracy: 0.7862 - loss: 0.5171 - recall: 0.7183 - val_accuracy: 0.5843 - val_loss: 1.0494 - val_recall: 0.4078\n",
      "Epoch 24/100\n",
      "\u001b[1m319/319\u001b[0m \u001b[32m━━━━━━━━━━━━━━━━━━━━\u001b[0m\u001b[37m\u001b[0m \u001b[1m651s\u001b[0m 2s/step - accuracy: 0.7985 - loss: 0.5014 - recall: 0.7273 - val_accuracy: 0.5949 - val_loss: 1.0463 - val_recall: 0.3981\n",
      "Epoch 25/100\n",
      "\u001b[1m319/319\u001b[0m \u001b[32m━━━━━━━━━━━━━━━━━━━━\u001b[0m\u001b[37m\u001b[0m \u001b[1m652s\u001b[0m 2s/step - accuracy: 0.7906 - loss: 0.5119 - recall: 0.7245 - val_accuracy: 0.5993 - val_loss: 1.0227 - val_recall: 0.4148\n",
      "Epoch 26/100\n",
      "\u001b[1m319/319\u001b[0m \u001b[32m━━━━━━━━━━━━━━━━━━━━\u001b[0m\u001b[37m\u001b[0m \u001b[1m651s\u001b[0m 2s/step - accuracy: 0.7906 - loss: 0.5079 - recall: 0.7251 - val_accuracy: 0.5861 - val_loss: 1.0370 - val_recall: 0.3786\n",
      "Epoch 27/100\n",
      "\u001b[1m319/319\u001b[0m \u001b[32m━━━━━━━━━━━━━━━━━━━━\u001b[0m\u001b[37m\u001b[0m \u001b[1m652s\u001b[0m 2s/step - accuracy: 0.7969 - loss: 0.4956 - recall: 0.7314 - val_accuracy: 0.6019 - val_loss: 1.0412 - val_recall: 0.4201\n",
      "Epoch 28/100\n",
      "\u001b[1m319/319\u001b[0m \u001b[32m━━━━━━━━━━━━━━━━━━━━\u001b[0m\u001b[37m\u001b[0m \u001b[1m654s\u001b[0m 2s/step - accuracy: 0.8046 - loss: 0.4723 - recall: 0.7380 - val_accuracy: 0.5922 - val_loss: 1.0427 - val_recall: 0.4069\n",
      "Epoch 29/100\n",
      "\u001b[1m319/319\u001b[0m \u001b[32m━━━━━━━━━━━━━━━━━━━━\u001b[0m\u001b[37m\u001b[0m \u001b[1m653s\u001b[0m 2s/step - accuracy: 0.8076 - loss: 0.4811 - recall: 0.7400 - val_accuracy: 0.6028 - val_loss: 1.0214 - val_recall: 0.4157\n",
      "Epoch 30/100\n",
      "\u001b[1m319/319\u001b[0m \u001b[32m━━━━━━━━━━━━━━━━━━━━\u001b[0m\u001b[37m\u001b[0m \u001b[1m650s\u001b[0m 2s/step - accuracy: 0.8101 - loss: 0.4717 - recall: 0.7477 - val_accuracy: 0.6046 - val_loss: 1.0142 - val_recall: 0.4501\n",
      "Epoch 31/100\n",
      "\u001b[1m319/319\u001b[0m \u001b[32m━━━━━━━━━━━━━━━━━━━━\u001b[0m\u001b[37m\u001b[0m \u001b[1m651s\u001b[0m 2s/step - accuracy: 0.8138 - loss: 0.4610 - recall: 0.7506 - val_accuracy: 0.6046 - val_loss: 1.0261 - val_recall: 0.4369\n",
      "Epoch 32/100\n",
      "\u001b[1m319/319\u001b[0m \u001b[32m━━━━━━━━━━━━━━━━━━━━\u001b[0m\u001b[37m\u001b[0m \u001b[1m649s\u001b[0m 2s/step - accuracy: 0.8116 - loss: 0.4612 - recall: 0.7534 - val_accuracy: 0.5940 - val_loss: 1.0467 - val_recall: 0.4281\n",
      "Epoch 33/100\n",
      "\u001b[1m319/319\u001b[0m \u001b[32m━━━━━━━━━━━━━━━━━━━━\u001b[0m\u001b[37m\u001b[0m \u001b[1m651s\u001b[0m 2s/step - accuracy: 0.8151 - loss: 0.4487 - recall: 0.7567 - val_accuracy: 0.6117 - val_loss: 1.0237 - val_recall: 0.4387\n",
      "Epoch 34/100\n",
      "\u001b[1m319/319\u001b[0m \u001b[32m━━━━━━━━━━━━━━━━━━━━\u001b[0m\u001b[37m\u001b[0m \u001b[1m651s\u001b[0m 2s/step - accuracy: 0.8251 - loss: 0.4390 - recall: 0.7627 - val_accuracy: 0.6037 - val_loss: 1.0307 - val_recall: 0.4369\n",
      "Epoch 35/100\n",
      "\u001b[1m319/319\u001b[0m \u001b[32m━━━━━━━━━━━━━━━━━━━━\u001b[0m\u001b[37m\u001b[0m \u001b[1m652s\u001b[0m 2s/step - accuracy: 0.8288 - loss: 0.4361 - recall: 0.7640 - val_accuracy: 0.6196 - val_loss: 1.0138 - val_recall: 0.4528\n",
      "Epoch 36/100\n",
      "\u001b[1m319/319\u001b[0m \u001b[32m━━━━━━━━━━━━━━━━━━━━\u001b[0m\u001b[37m\u001b[0m \u001b[1m648s\u001b[0m 2s/step - accuracy: 0.8285 - loss: 0.4225 - recall: 0.7705 - val_accuracy: 0.6046 - val_loss: 1.0242 - val_recall: 0.4492\n",
      "Epoch 37/100\n",
      "\u001b[1m319/319\u001b[0m \u001b[32m━━━━━━━━━━━━━━━━━━━━\u001b[0m\u001b[37m\u001b[0m \u001b[1m654s\u001b[0m 2s/step - accuracy: 0.8252 - loss: 0.4307 - recall: 0.7709 - val_accuracy: 0.6090 - val_loss: 1.0367 - val_recall: 0.4501\n",
      "Epoch 38/100\n",
      "\u001b[1m319/319\u001b[0m \u001b[32m━━━━━━━━━━━━━━━━━━━━\u001b[0m\u001b[37m\u001b[0m \u001b[1m651s\u001b[0m 2s/step - accuracy: 0.8277 - loss: 0.4219 - recall: 0.7749 - val_accuracy: 0.6143 - val_loss: 1.0282 - val_recall: 0.4351\n",
      "Epoch 39/100\n",
      "\u001b[1m319/319\u001b[0m \u001b[32m━━━━━━━━━━━━━━━━━━━━\u001b[0m\u001b[37m\u001b[0m \u001b[1m650s\u001b[0m 2s/step - accuracy: 0.8256 - loss: 0.4245 - recall: 0.7688 - val_accuracy: 0.6019 - val_loss: 1.0447 - val_recall: 0.4289\n",
      "Epoch 40/100\n",
      "\u001b[1m319/319\u001b[0m \u001b[32m━━━━━━━━━━━━━━━━━━━━\u001b[0m\u001b[37m\u001b[0m \u001b[1m651s\u001b[0m 2s/step - accuracy: 0.8301 - loss: 0.4165 - recall: 0.7769 - val_accuracy: 0.6055 - val_loss: 1.0267 - val_recall: 0.4528\n",
      "Epoch 41/100\n",
      "\u001b[1m319/319\u001b[0m \u001b[32m━━━━━━━━━━━━━━━━━━━━\u001b[0m\u001b[37m\u001b[0m \u001b[1m668s\u001b[0m 2s/step - accuracy: 0.8345 - loss: 0.4027 - recall: 0.7857 - val_accuracy: 0.6134 - val_loss: 1.0316 - val_recall: 0.4537\n",
      "Epoch 42/100\n",
      "\u001b[1m319/319\u001b[0m \u001b[32m━━━━━━━━━━━━━━━━━━━━\u001b[0m\u001b[37m\u001b[0m \u001b[1m650s\u001b[0m 2s/step - accuracy: 0.8293 - loss: 0.4118 - recall: 0.7809 - val_accuracy: 0.6178 - val_loss: 1.0227 - val_recall: 0.4916\n",
      "Epoch 43/100\n",
      "\u001b[1m319/319\u001b[0m \u001b[32m━━━━━━━━━━━━━━━━━━━━\u001b[0m\u001b[37m\u001b[0m \u001b[1m648s\u001b[0m 2s/step - accuracy: 0.8328 - loss: 0.3970 - recall: 0.7810 - val_accuracy: 0.6072 - val_loss: 1.0252 - val_recall: 0.4510\n",
      "Epoch 44/100\n",
      "\u001b[1m319/319\u001b[0m \u001b[32m━━━━━━━━━━━━━━━━━━━━\u001b[0m\u001b[37m\u001b[0m \u001b[1m649s\u001b[0m 2s/step - accuracy: 0.8437 - loss: 0.3947 - recall: 0.7897 - val_accuracy: 0.6072 - val_loss: 1.0366 - val_recall: 0.4678\n",
      "Epoch 45/100\n",
      "\u001b[1m319/319\u001b[0m \u001b[32m━━━━━━━━━━━━━━━━━━━━\u001b[0m\u001b[37m\u001b[0m \u001b[1m651s\u001b[0m 2s/step - accuracy: 0.8388 - loss: 0.3929 - recall: 0.7903 - val_accuracy: 0.6099 - val_loss: 1.0273 - val_recall: 0.4634\n",
      "Epoch 46/100\n",
      "\u001b[1m319/319\u001b[0m \u001b[32m━━━━━━━━━━━━━━━━━━━━\u001b[0m\u001b[37m\u001b[0m \u001b[1m652s\u001b[0m 2s/step - accuracy: 0.8342 - loss: 0.3888 - recall: 0.7929 - val_accuracy: 0.6178 - val_loss: 1.0253 - val_recall: 0.4713\n",
      "Epoch 47/100\n",
      "\u001b[1m319/319\u001b[0m \u001b[32m━━━━━━━━━━━━━━━━━━━━\u001b[0m\u001b[37m\u001b[0m \u001b[1m655s\u001b[0m 2s/step - accuracy: 0.8437 - loss: 0.3794 - recall: 0.8022 - val_accuracy: 0.6161 - val_loss: 1.0396 - val_recall: 0.4740\n",
      "Epoch 48/100\n",
      "\u001b[1m319/319\u001b[0m \u001b[32m━━━━━━━━━━━━━━━━━━━━\u001b[0m\u001b[37m\u001b[0m \u001b[1m652s\u001b[0m 2s/step - accuracy: 0.8486 - loss: 0.3696 - recall: 0.8038 - val_accuracy: 0.6019 - val_loss: 1.0468 - val_recall: 0.4519\n",
      "Epoch 49/100\n",
      "\u001b[1m319/319\u001b[0m \u001b[32m━━━━━━━━━━━━━━━━━━━━\u001b[0m\u001b[37m\u001b[0m \u001b[1m660s\u001b[0m 2s/step - accuracy: 0.8462 - loss: 0.3692 - recall: 0.8045 - val_accuracy: 0.6090 - val_loss: 1.0333 - val_recall: 0.4784\n",
      "Epoch 50/100\n",
      "\u001b[1m319/319\u001b[0m \u001b[32m━━━━━━━━━━━━━━━━━━━━\u001b[0m\u001b[37m\u001b[0m \u001b[1m654s\u001b[0m 2s/step - accuracy: 0.8440 - loss: 0.3867 - recall: 0.7986 - val_accuracy: 0.6169 - val_loss: 1.0239 - val_recall: 0.4934\n",
      "Epoch 51/100\n",
      "\u001b[1m319/319\u001b[0m \u001b[32m━━━━━━━━━━━━━━━━━━━━\u001b[0m\u001b[37m\u001b[0m \u001b[1m658s\u001b[0m 2s/step - accuracy: 0.8505 - loss: 0.3800 - recall: 0.8050 - val_accuracy: 0.6178 - val_loss: 1.0177 - val_recall: 0.4854\n",
      "Epoch 52/100\n",
      "\u001b[1m319/319\u001b[0m \u001b[32m━━━━━━━━━━━━━━━━━━━━\u001b[0m\u001b[37m\u001b[0m \u001b[1m661s\u001b[0m 2s/step - accuracy: 0.8520 - loss: 0.3743 - recall: 0.8071 - val_accuracy: 0.6081 - val_loss: 1.0366 - val_recall: 0.4678\n",
      "Epoch 53/100\n",
      "\u001b[1m319/319\u001b[0m \u001b[32m━━━━━━━━━━━━━━━━━━━━\u001b[0m\u001b[37m\u001b[0m \u001b[1m657s\u001b[0m 2s/step - accuracy: 0.8485 - loss: 0.3685 - recall: 0.8031 - val_accuracy: 0.6258 - val_loss: 1.0284 - val_recall: 0.4854\n",
      "Epoch 54/100\n",
      "\u001b[1m319/319\u001b[0m \u001b[32m━━━━━━━━━━━━━━━━━━━━\u001b[0m\u001b[37m\u001b[0m \u001b[1m661s\u001b[0m 2s/step - accuracy: 0.8519 - loss: 0.3674 - recall: 0.8110 - val_accuracy: 0.6108 - val_loss: 1.0198 - val_recall: 0.4943\n",
      "Epoch 55/100\n",
      "\u001b[1m319/319\u001b[0m \u001b[32m━━━━━━━━━━━━━━━━━━━━\u001b[0m\u001b[37m\u001b[0m \u001b[1m654s\u001b[0m 2s/step - accuracy: 0.8522 - loss: 0.3547 - recall: 0.8123 - val_accuracy: 0.6187 - val_loss: 1.0233 - val_recall: 0.4846\n"
     ]
    }
   ],
   "source": [
    "history = model.fit(\n",
    "    processed_train_ds,\n",
    "    validation_data=processed_val_ds,\n",
    "    epochs = 100,\n",
    "   # class_weight = class_weight,  #We don't use this when we are using CategoricalFocalCrossentropy as loss function\n",
    "    steps_per_epoch=len(processed_train_ds),\n",
    "    validation_steps=len(processed_val_ds),\n",
    "    callbacks = [es],\n",
    "    verbose = 1\n",
    ")"
   ]
  },
  {
   "cell_type": "markdown",
   "id": "b6908626-7b11-4e0b-8216-8ed1506dbfe5",
   "metadata": {},
   "source": [
    "# Predicting results"
   ]
  },
  {
   "cell_type": "raw",
   "id": "8c1fa39f-694b-4076-b153-561c27219a41",
   "metadata": {},
   "source": [
    "model.compile(\n",
    "    optimizer= optimizers.Adam(learning_rate=lr_schedule),\n",
    "    loss= tf.losses.CategoricalFocalCrossentropy(),\n",
    "    metrics=['accuracy', tf.keras.metrics.Recall()]\n",
    ")\n"
   ]
  },
  {
   "cell_type": "code",
   "execution_count": 19,
   "id": "61f59e75-25a0-4aee-938b-703ae45d379e",
   "metadata": {
    "scrolled": true
   },
   "outputs": [],
   "source": [
    "model.save_weights(\"../saved_model/Xception-02.weights.h5\") "
   ]
  },
  {
   "cell_type": "code",
   "execution_count": 20,
   "id": "09cb6502-a46a-4061-89be-6a07ee5e8e88",
   "metadata": {},
   "outputs": [],
   "source": [
    "model.save('../saved_model/model_Xception-02.keras')"
   ]
  },
  {
   "cell_type": "code",
   "execution_count": 21,
   "id": "f7707502-1e48-4900-ade4-d2c261976d7c",
   "metadata": {},
   "outputs": [
    {
     "name": "stdout",
     "output_type": "stream",
     "text": [
      "\u001b[1m15/15\u001b[0m \u001b[32m━━━━━━━━━━━━━━━━━━━━\u001b[0m\u001b[37m\u001b[0m \u001b[1m26s\u001b[0m 2s/step\n"
     ]
    }
   ],
   "source": [
    "import numpy as np\n",
    "y_true = np.concatenate([y.numpy() for _, y in normalized_test_ds], axis=0)\n",
    "y_pred = model.predict(normalized_test_ds)\n",
    "y_pred_class = np.argmax(y_pred, axis=1)\n"
   ]
  },
  {
   "cell_type": "code",
   "execution_count": 22,
   "id": "248f93be-1e55-44ba-aeae-5515fb0d6893",
   "metadata": {},
   "outputs": [
    {
     "name": "stdout",
     "output_type": "stream",
     "text": [
      "              precision    recall  f1-score   support\n",
      "\n",
      "           0       0.03      0.04      0.04        23\n",
      "           1       0.03      0.05      0.04        21\n",
      "           2       0.27      0.16      0.20       128\n",
      "           3       0.03      0.05      0.04        22\n",
      "           4       0.00      0.00      0.00        10\n",
      "           5       0.05      0.06      0.05        18\n",
      "           6       0.53      0.58      0.55       229\n",
      "\n",
      "    accuracy                           0.35       451\n",
      "   macro avg       0.14      0.13      0.13       451\n",
      "weighted avg       0.35      0.35      0.35       451\n",
      "\n"
     ]
    }
   ],
   "source": [
    "#y_true_class = np.argmax(y_true, axis=1)\n",
    "print(classification_report(y_true, y_pred_class))"
   ]
  },
  {
   "cell_type": "code",
   "execution_count": 23,
   "id": "8325b458-2328-4b83-adb0-6e4142cd16e9",
   "metadata": {},
   "outputs": [
    {
     "data": {
      "image/png": "[encoded data removed]",
      "text/plain": [
       "<Figure size 1200x400 with 3 Axes>"
      ]
     },
     "metadata": {},
     "output_type": "display_data"
    }
   ],
   "source": [
    "ax1, ax2, ax3 = plot_history(history, exp_name= 'Xcep02')"
   ]
  },
  {
   "cell_type": "code",
   "execution_count": 31,
   "id": "300707b2-f09b-480c-8435-fddbe83528cd",
   "metadata": {},
   "outputs": [
    {
     "name": "stdout",
     "output_type": "stream",
     "text": [
      "[2 6 6 6 6 2 6 3 0 1]\n",
      "[3 6 6 6 6 6 2 3 2 2]\n"
     ]
    }
   ],
   "source": [
    "print(y_pred_class[0:10])\n",
    "print( y_true[0:10])"
   ]
  },
  {
   "cell_type": "code",
   "execution_count": null,
   "id": "8d95221e-c8ea-4598-8b17-c96b8d99d0ff",
   "metadata": {},
   "outputs": [],
   "source": []
  }
 ],
 "metadata": {
  "kernelspec": {
   "display_name": "Python 3 (ipykernel)",
   "language": "python",
   "name": "python3"
  },
  "language_info": {
   "codemirror_mode": {
    "name": "ipython",
    "version": 3
   },
   "file_extension": ".py",
   "mimetype": "text/x-python",
   "name": "python",
   "nbconvert_exporter": "python",
   "pygments_lexer": "ipython3",
   "version": "3.10.6"
  }
 },
 "nbformat": 4,
 "nbformat_minor": 5
}
