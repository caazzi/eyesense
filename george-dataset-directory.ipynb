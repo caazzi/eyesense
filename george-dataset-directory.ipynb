{
 "cells": [
  {
   "cell_type": "markdown",
   "id": "cb46b1ee-e5c4-4bbd-96fe-c9cb0d88858d",
   "metadata": {},
   "source": [
    "# Eyesense"
   ]
  },
  {
   "cell_type": "markdown",
   "id": "f29f06b2-d9d6-48ba-9e60-5b8fb1e3c4fe",
   "metadata": {},
   "source": [
    "Ocular Disease Intelligent Recognition (ODIR) is a structured ophthalmic database of 5,000 patients with age, color fundus photographs from left and right eyes and doctors' diagnostic keywords from doctors.\n",
    "\n",
    "This dataset is meant to represent ‘‘real-life’’ set of patient information collected by Shanggong Medical Technology Co., Ltd. from different hospitals/medical centers in China. In these institutions, fundus images are captured by various cameras in the market, such as Canon, Zeiss and Kowa, resulting into varied image resolutions.\n",
    "Annotations were labeled by trained human readers with quality control management. They classify patient into eight labels including:\n",
    "\n",
    "-Normal (N),\n",
    "-Diabetes (D),\n",
    "-Glaucoma (G),\n",
    "-Cataract (C),\n",
    "-Age related Macular Degeneration (A),\n",
    "-Hypertension (H),\n",
    "-Pathological Myopia (M),\n",
    "-Other diseases/abnormalities (O)"
   ]
  },
  {
   "cell_type": "code",
   "execution_count": 3,
   "id": "f0813c10-3b30-4fa5-b514-8195ec645fdb",
   "metadata": {
    "scrolled": true
   },
   "outputs": [],
   "source": [
    "import os\n",
    "from shutil import copy, move\n",
    "import glob\n",
    "import pathlib\n",
    "import pandas as pd"
   ]
  },
  {
   "cell_type": "code",
   "execution_count": 17,
   "id": "e74110a6-a8e5-4cdb-83fa-1ae547bff6c4",
   "metadata": {},
   "outputs": [
    {
     "data": {
      "text/html": [
       "<div>\n",
       "<style scoped>\n",
       "    .dataframe tbody tr th:only-of-type {\n",
       "        vertical-align: middle;\n",
       "    }\n",
       "\n",
       "    .dataframe tbody tr th {\n",
       "        vertical-align: top;\n",
       "    }\n",
       "\n",
       "    .dataframe thead th {\n",
       "        text-align: right;\n",
       "    }\n",
       "</style>\n",
       "<table border=\"1\" class=\"dataframe\">\n",
       "  <thead>\n",
       "    <tr style=\"text-align: right;\">\n",
       "      <th></th>\n",
       "      <th>ID</th>\n",
       "      <th>Patient Age</th>\n",
       "      <th>Patient Sex</th>\n",
       "      <th>Left-Fundus</th>\n",
       "      <th>Right-Fundus</th>\n",
       "      <th>Left-Diagnostic Keywords</th>\n",
       "      <th>Right-Diagnostic Keywords</th>\n",
       "      <th>N</th>\n",
       "      <th>D</th>\n",
       "      <th>G</th>\n",
       "      <th>C</th>\n",
       "      <th>A</th>\n",
       "      <th>H</th>\n",
       "      <th>M</th>\n",
       "      <th>O</th>\n",
       "      <th>filepath</th>\n",
       "      <th>labels</th>\n",
       "      <th>target</th>\n",
       "      <th>filename</th>\n",
       "    </tr>\n",
       "  </thead>\n",
       "  <tbody>\n",
       "    <tr>\n",
       "      <th>0</th>\n",
       "      <td>0</td>\n",
       "      <td>69</td>\n",
       "      <td>Female</td>\n",
       "      <td>0_left.jpg</td>\n",
       "      <td>0_right.jpg</td>\n",
       "      <td>cataract</td>\n",
       "      <td>normal fundus</td>\n",
       "      <td>0</td>\n",
       "      <td>0</td>\n",
       "      <td>0</td>\n",
       "      <td>1</td>\n",
       "      <td>0</td>\n",
       "      <td>0</td>\n",
       "      <td>0</td>\n",
       "      <td>0</td>\n",
       "      <td>../input/ocular-disease-recognition-odir5k/ODI...</td>\n",
       "      <td>['N']</td>\n",
       "      <td>[1, 0, 0, 0, 0, 0, 0, 0]</td>\n",
       "      <td>0_right.jpg</td>\n",
       "    </tr>\n",
       "    <tr>\n",
       "      <th>1</th>\n",
       "      <td>1</td>\n",
       "      <td>57</td>\n",
       "      <td>Male</td>\n",
       "      <td>1_left.jpg</td>\n",
       "      <td>1_right.jpg</td>\n",
       "      <td>normal fundus</td>\n",
       "      <td>normal fundus</td>\n",
       "      <td>1</td>\n",
       "      <td>0</td>\n",
       "      <td>0</td>\n",
       "      <td>0</td>\n",
       "      <td>0</td>\n",
       "      <td>0</td>\n",
       "      <td>0</td>\n",
       "      <td>0</td>\n",
       "      <td>../input/ocular-disease-recognition-odir5k/ODI...</td>\n",
       "      <td>['N']</td>\n",
       "      <td>[1, 0, 0, 0, 0, 0, 0, 0]</td>\n",
       "      <td>1_right.jpg</td>\n",
       "    </tr>\n",
       "    <tr>\n",
       "      <th>2</th>\n",
       "      <td>2</td>\n",
       "      <td>42</td>\n",
       "      <td>Male</td>\n",
       "      <td>2_left.jpg</td>\n",
       "      <td>2_right.jpg</td>\n",
       "      <td>laser spot，moderate non proliferative retinopathy</td>\n",
       "      <td>moderate non proliferative retinopathy</td>\n",
       "      <td>0</td>\n",
       "      <td>1</td>\n",
       "      <td>0</td>\n",
       "      <td>0</td>\n",
       "      <td>0</td>\n",
       "      <td>0</td>\n",
       "      <td>0</td>\n",
       "      <td>1</td>\n",
       "      <td>../input/ocular-disease-recognition-odir5k/ODI...</td>\n",
       "      <td>['D']</td>\n",
       "      <td>[0, 1, 0, 0, 0, 0, 0, 0]</td>\n",
       "      <td>2_right.jpg</td>\n",
       "    </tr>\n",
       "    <tr>\n",
       "      <th>3</th>\n",
       "      <td>4</td>\n",
       "      <td>53</td>\n",
       "      <td>Male</td>\n",
       "      <td>4_left.jpg</td>\n",
       "      <td>4_right.jpg</td>\n",
       "      <td>macular epiretinal membrane</td>\n",
       "      <td>mild nonproliferative retinopathy</td>\n",
       "      <td>0</td>\n",
       "      <td>1</td>\n",
       "      <td>0</td>\n",
       "      <td>0</td>\n",
       "      <td>0</td>\n",
       "      <td>0</td>\n",
       "      <td>0</td>\n",
       "      <td>1</td>\n",
       "      <td>../input/ocular-disease-recognition-odir5k/ODI...</td>\n",
       "      <td>['D']</td>\n",
       "      <td>[0, 1, 0, 0, 0, 0, 0, 0]</td>\n",
       "      <td>4_right.jpg</td>\n",
       "    </tr>\n",
       "    <tr>\n",
       "      <th>4</th>\n",
       "      <td>5</td>\n",
       "      <td>50</td>\n",
       "      <td>Female</td>\n",
       "      <td>5_left.jpg</td>\n",
       "      <td>5_right.jpg</td>\n",
       "      <td>moderate non proliferative retinopathy</td>\n",
       "      <td>moderate non proliferative retinopathy</td>\n",
       "      <td>0</td>\n",
       "      <td>1</td>\n",
       "      <td>0</td>\n",
       "      <td>0</td>\n",
       "      <td>0</td>\n",
       "      <td>0</td>\n",
       "      <td>0</td>\n",
       "      <td>0</td>\n",
       "      <td>../input/ocular-disease-recognition-odir5k/ODI...</td>\n",
       "      <td>['D']</td>\n",
       "      <td>[0, 1, 0, 0, 0, 0, 0, 0]</td>\n",
       "      <td>5_right.jpg</td>\n",
       "    </tr>\n",
       "  </tbody>\n",
       "</table>\n",
       "</div>"
      ],
      "text/plain": [
       "   ID  Patient Age Patient Sex Left-Fundus Right-Fundus  \\\n",
       "0   0           69      Female  0_left.jpg  0_right.jpg   \n",
       "1   1           57        Male  1_left.jpg  1_right.jpg   \n",
       "2   2           42        Male  2_left.jpg  2_right.jpg   \n",
       "3   4           53        Male  4_left.jpg  4_right.jpg   \n",
       "4   5           50      Female  5_left.jpg  5_right.jpg   \n",
       "\n",
       "                            Left-Diagnostic Keywords  \\\n",
       "0                                           cataract   \n",
       "1                                      normal fundus   \n",
       "2  laser spot，moderate non proliferative retinopathy   \n",
       "3                        macular epiretinal membrane   \n",
       "4             moderate non proliferative retinopathy   \n",
       "\n",
       "                Right-Diagnostic Keywords  N  D  G  C  A  H  M  O  \\\n",
       "0                           normal fundus  0  0  0  1  0  0  0  0   \n",
       "1                           normal fundus  1  0  0  0  0  0  0  0   \n",
       "2  moderate non proliferative retinopathy  0  1  0  0  0  0  0  1   \n",
       "3       mild nonproliferative retinopathy  0  1  0  0  0  0  0  1   \n",
       "4  moderate non proliferative retinopathy  0  1  0  0  0  0  0  0   \n",
       "\n",
       "                                            filepath labels  \\\n",
       "0  ../input/ocular-disease-recognition-odir5k/ODI...  ['N']   \n",
       "1  ../input/ocular-disease-recognition-odir5k/ODI...  ['N']   \n",
       "2  ../input/ocular-disease-recognition-odir5k/ODI...  ['D']   \n",
       "3  ../input/ocular-disease-recognition-odir5k/ODI...  ['D']   \n",
       "4  ../input/ocular-disease-recognition-odir5k/ODI...  ['D']   \n",
       "\n",
       "                     target     filename  \n",
       "0  [1, 0, 0, 0, 0, 0, 0, 0]  0_right.jpg  \n",
       "1  [1, 0, 0, 0, 0, 0, 0, 0]  1_right.jpg  \n",
       "2  [0, 1, 0, 0, 0, 0, 0, 0]  2_right.jpg  \n",
       "3  [0, 1, 0, 0, 0, 0, 0, 0]  4_right.jpg  \n",
       "4  [0, 1, 0, 0, 0, 0, 0, 0]  5_right.jpg  "
      ]
     },
     "execution_count": 17,
     "metadata": {},
     "output_type": "execute_result"
    }
   ],
   "source": [
    "df = pd.read_csv(\"raw_data/full_df.csv\")\n",
    "df.head()"
   ]
  },
  {
   "cell_type": "markdown",
   "id": "e49d7de7-e1e1-4049-844f-3037d137de80",
   "metadata": {},
   "source": [
    "# Image categorization"
   ]
  },
  {
   "cell_type": "code",
   "execution_count": 6,
   "id": "69e13ba1-ddf5-4f65-b9ed-9a8d13a79e87",
   "metadata": {},
   "outputs": [],
   "source": [
    "dir_path = '../raw_data/raw_data/ODIR-5K/ODIR-5K/Training Images/'   #According to my computer.\n",
    "img_list = os.listdir(dir_path)"
   ]
  },
  {
   "cell_type": "markdown",
   "id": "1ddf4b72-61d9-4e73-97f4-3f739f13368d",
   "metadata": {},
   "source": [
    "We're not going to use the images categorized as 'Others'"
   ]
  },
  {
   "cell_type": "code",
   "execution_count": 7,
   "id": "0a8e4730-1dc9-4fae-b991-7e7fdaf9f8db",
   "metadata": {},
   "outputs": [],
   "source": [
    "if os.path.isdir('data_train/normal') is False:\n",
    "    os.makedirs('data_train/normal')\n",
    "    os.makedirs('data_train/diabets')\n",
    "    os.makedirs('data_train/glaucoma')\n",
    "    os.makedirs('data_train/cataract')\n",
    "    os.makedirs('data_train/degeneration')\n",
    "    os.makedirs('data_train/hypertension')\n",
    "    os.makedirs('data_train/myopia')"
   ]
  },
  {
   "cell_type": "code",
   "execution_count": 8,
   "id": "79d040f7-1fd2-468e-ad15-4a2b578f648d",
   "metadata": {},
   "outputs": [],
   "source": [
    "if os.path.isdir('data_test/normal') is False:\n",
    "    os.makedirs('data_test/normal')\n",
    "    os.makedirs('data_test/diabets')\n",
    "    os.makedirs('data_test/glaucoma')\n",
    "    os.makedirs('data_test/cataract')\n",
    "    os.makedirs('data_test/degeneration')\n",
    "    os.makedirs('data_test/hypertension')\n",
    "    os.makedirs('data_test/myopia')"
   ]
  },
  {
   "cell_type": "code",
   "execution_count": 9,
   "id": "4ae47319-8fe2-4071-9407-c3ff4d68d1c4",
   "metadata": {},
   "outputs": [],
   "source": [
    "if len(os.listdir('data_train/normal')) == 0:  # Check if the directory is empty\n",
    "\n",
    "    for file in df.filename[df.labels == \"['N']\"]:\n",
    "        copy(os.path.join(dir_path, file) , 'data_train/normal')\n",
    "    for file in df.filename[df.labels == \"['D']\"]:\n",
    "        copy(os.path.join(dir_path, file) , 'data_train/diabets')\n",
    "    for file in df.filename[df.labels == \"['G']\"]:\n",
    "        copy(os.path.join(dir_path, file) , 'data_train/glaucoma')\n",
    "    for file in df.filename[df.labels == \"['C']\"]:\n",
    "        copy(os.path.join(dir_path, file) , 'data_train/cataract')\n",
    "    for file in df.filename[df.labels == \"['A']\"]:\n",
    "        copy(os.path.join(dir_path, file) , 'data_train/degeneration')\n",
    "    for file in df.filename[df.labels == \"['H']\"]:\n",
    "        copy(os.path.join(dir_path, file) , 'data_train/hypertension')\n",
    "    for file in df.filename[df.labels == \"['M']\"]:\n",
    "        copy(os.path.join(dir_path, file) , 'data_train/myopia')\n",
    "\n",
    "else:\n",
    "    print(\"The directory 'data_train/normal' is not empty\")\n",
    "    print(f\"\\nProbably the files from {dir_path} were already copied into 'data_train/normal'.\")\n",
    "   "
   ]
  },
  {
   "cell_type": "code",
   "execution_count": 10,
   "id": "3e061676-ada9-402f-b922-9f2d458e939f",
   "metadata": {},
   "outputs": [],
   "source": [
    "import random\n",
    "\n",
    "source_paths = ['data_train/normal', 'data_train/diabets', 'data_train/glaucoma', 'data_train/cataract', \n",
    "                'data_train/degeneration', 'data_train/hypertension',\n",
    "                'data_train/myopia']  \n",
    "\n",
    "if len(os.listdir('data_test/normal')) == 0:\n",
    "    for source in source_paths:\n",
    "        dest = source.replace('data_train', 'data_test')\n",
    "        n_files = int(0.1*len(os.listdir(source)) )   #Taking 10% of each folder\n",
    "        for file in random.sample(os.listdir(source), n_files): \n",
    "            move(f\"{source}/{file}\", dest)\n",
    "else:\n",
    "    print(\"The directory 'data_test/normal' is not empty\")\n",
    "    print(f\"\\nProbably the files from {dir_path} were already copied into 'data_test/normal'.\")"
   ]
  },
  {
   "cell_type": "code",
   "execution_count": 11,
   "id": "74670608-5aff-4d21-af6a-bc858cea04d2",
   "metadata": {},
   "outputs": [],
   "source": [
    "data_dir_train = pathlib.Path('data_train')\n",
    "data_dir_test  = pathlib.Path('data_test')"
   ]
  },
  {
   "cell_type": "code",
   "execution_count": 12,
   "id": "a33c01de-ce75-4972-bd19-ee2ba08400b4",
   "metadata": {},
   "outputs": [
    {
     "name": "stdout",
     "output_type": "stream",
     "text": [
      "Train: 5119\n",
      "Test:  565\n"
     ]
    }
   ],
   "source": [
    "train_length = len(list(data_dir_train.glob('*/*.jpg')))\n",
    "test_length  = len(list(data_dir_test.glob('*/*.jpg')))\n",
    "\n",
    "print(f\"Train: {train_length}\")\n",
    "print(f\"Test:  {test_length}\")"
   ]
  },
  {
   "cell_type": "code",
   "execution_count": 18,
   "id": "9c598e08-d1f2-4c5f-b619-b0b1f6ec5e13",
   "metadata": {},
   "outputs": [
    {
     "data": {
      "text/plain": [
       "708"
      ]
     },
     "execution_count": 18,
     "metadata": {},
     "output_type": "execute_result"
    }
   ],
   "source": [
    "len(df[df.labels == \"['O']\"])"
   ]
  },
  {
   "cell_type": "code",
   "execution_count": 19,
   "id": "585b5342-97f8-46c3-8c72-7ed005b0fdc9",
   "metadata": {},
   "outputs": [],
   "source": [
    "assert (test_length + train_length)  == (len(df) - len(df[df.labels == \"['O']\"]) )"
   ]
  },
  {
   "cell_type": "code",
   "execution_count": null,
   "id": "64e38dca-8c5e-44d4-803d-09c9d6ac90f9",
   "metadata": {},
   "outputs": [],
   "source": []
  }
 ],
 "metadata": {
  "kernelspec": {
   "display_name": "Python (myenv)",
   "language": "python",
   "name": "myenv"
  },
  "language_info": {
   "codemirror_mode": {
    "name": "ipython",
    "version": 3
   },
   "file_extension": ".py",
   "mimetype": "text/x-python",
   "name": "python",
   "nbconvert_exporter": "python",
   "pygments_lexer": "ipython3",
   "version": "3.10.6"
  }
 },
 "nbformat": 4,
 "nbformat_minor": 5
}
