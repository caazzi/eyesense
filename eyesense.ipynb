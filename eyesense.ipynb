{
 "cells": [
  {
   "cell_type": "markdown",
   "id": "5d9ab8dc-4e43-4991-a6c5-6c923043e548",
   "metadata": {},
   "source": [
    "# Eyesense"
   ]
  },
  {
   "cell_type": "markdown",
   "id": "c76437f3-18f7-4872-855a-f7ab6d14fc09",
   "metadata": {},
   "source": [
    "Ocular Disease Intelligent Recognition (ODIR) is a structured ophthalmic database of 5,000 patients with age, color fundus photographs from left and right eyes and doctors' diagnostic keywords from doctors.\n",
    "\n",
    "This dataset is meant to represent ‘‘real-life’’ set of patient information collected by Shanggong Medical Technology Co., Ltd. from different hospitals/medical centers in China. In these institutions, fundus images are captured by various cameras in the market, such as Canon, Zeiss and Kowa, resulting into varied image resolutions.\n",
    "Annotations were labeled by trained human readers with quality control management. They classify patient into eight labels including:\n",
    "\n",
    "-Normal (N),\n",
    "-Diabetes (D),\n",
    "-Glaucoma (G),\n",
    "-Cataract (C),\n",
    "-Age related Macular Degeneration (A),\n",
    "-Hypertension (H),\n",
    "-Pathological Myopia (M)\n",
    "\n",
    "Source: https://www.kaggle.com/datasets/andrewmvd/ocular-disease-recognition-odir5k/data"
   ]
  },
  {
   "cell_type": "code",
   "execution_count": 37,
   "id": "f90c0408-a15d-463d-b5b9-37db8ed734ba",
   "metadata": {},
   "outputs": [],
   "source": [
    "import pandas as pd\n",
    "import numpy as np\n",
    "import os\n",
    "import seaborn as sns\n",
    "import matplotlib.pyplot as plt\n",
    "import random\n",
    "from shutil import copy, move\n",
    "\n",
    "import cv2\n",
    "from PIL import Image, ImageEnhance\n",
    "\n",
    "from sklearn.preprocessing import LabelEncoder\n",
    "from sklearn.decomposition import PCA\n",
    "from sklearn.model_selection import cross_val_score\n",
    "from sklearn.neighbors import KNeighborsClassifier\n",
    "from sklearn.ensemble import RandomForestClassifier\n",
    "from sklearn.metrics import accuracy_score, precision_score, recall_score, f1_score, ConfusionMatrixDisplay\n",
    "\n",
    "\n",
    "import tensorflow as tf\n",
    "from tensorflow import losses\n",
    "from tensorflow.keras.preprocessing import image_dataset_from_directory\n",
    "from tensorflow.keras import layers, models, optimizers, callbacks, regularizers\n",
    "from tensorflow.keras.callbacks import EarlyStopping\n",
    "from tensorflow.keras.applications import ResNet50"
   ]
  },
  {
   "cell_type": "markdown",
   "id": "e88cbfed-84bb-41e4-8ecb-d517430451f5",
   "metadata": {},
   "source": [
    "## Dataset analysis"
   ]
  },
  {
   "cell_type": "markdown",
   "id": "b0520a73-2d9b-4862-aa0e-5e1afae85355",
   "metadata": {},
   "source": [
    "### General information about the data"
   ]
  },
  {
   "cell_type": "code",
   "execution_count": 7,
   "id": "0922049d-58b3-4eb4-9086-e76d8bc16840",
   "metadata": {},
   "outputs": [],
   "source": [
    "df = pd.read_csv(\"/Users/erika/code/caazzi/eyesense/raw_data/ocular-disease-recognition-odir5k/full_df.csv\")"
   ]
  },
  {
   "cell_type": "code",
   "execution_count": 3,
   "id": "2069fc4c-491d-41cf-a764-a03bea74a057",
   "metadata": {},
   "outputs": [
    {
     "data": {
      "text/html": [
       "<div>\n",
       "<style scoped>\n",
       "    .dataframe tbody tr th:only-of-type {\n",
       "        vertical-align: middle;\n",
       "    }\n",
       "\n",
       "    .dataframe tbody tr th {\n",
       "        vertical-align: top;\n",
       "    }\n",
       "\n",
       "    .dataframe thead th {\n",
       "        text-align: right;\n",
       "    }\n",
       "</style>\n",
       "<table border=\"1\" class=\"dataframe\">\n",
       "  <thead>\n",
       "    <tr style=\"text-align: right;\">\n",
       "      <th></th>\n",
       "      <th>ID</th>\n",
       "      <th>Patient Age</th>\n",
       "      <th>N</th>\n",
       "      <th>D</th>\n",
       "      <th>G</th>\n",
       "      <th>C</th>\n",
       "      <th>A</th>\n",
       "      <th>H</th>\n",
       "      <th>M</th>\n",
       "      <th>O</th>\n",
       "    </tr>\n",
       "  </thead>\n",
       "  <tbody>\n",
       "    <tr>\n",
       "      <th>count</th>\n",
       "      <td>6392.000000</td>\n",
       "      <td>6392.000000</td>\n",
       "      <td>6392.000000</td>\n",
       "      <td>6392.000000</td>\n",
       "      <td>6392.000000</td>\n",
       "      <td>6392.000000</td>\n",
       "      <td>6392.000000</td>\n",
       "      <td>6392.000000</td>\n",
       "      <td>6392.000000</td>\n",
       "      <td>6392.000000</td>\n",
       "    </tr>\n",
       "    <tr>\n",
       "      <th>mean</th>\n",
       "      <td>2271.150814</td>\n",
       "      <td>57.857947</td>\n",
       "      <td>0.328692</td>\n",
       "      <td>0.332134</td>\n",
       "      <td>0.062109</td>\n",
       "      <td>0.062891</td>\n",
       "      <td>0.049906</td>\n",
       "      <td>0.031758</td>\n",
       "      <td>0.047872</td>\n",
       "      <td>0.248436</td>\n",
       "    </tr>\n",
       "    <tr>\n",
       "      <th>std</th>\n",
       "      <td>1417.559018</td>\n",
       "      <td>11.727737</td>\n",
       "      <td>0.469775</td>\n",
       "      <td>0.471016</td>\n",
       "      <td>0.241372</td>\n",
       "      <td>0.242786</td>\n",
       "      <td>0.217768</td>\n",
       "      <td>0.175370</td>\n",
       "      <td>0.213513</td>\n",
       "      <td>0.432139</td>\n",
       "    </tr>\n",
       "    <tr>\n",
       "      <th>min</th>\n",
       "      <td>0.000000</td>\n",
       "      <td>1.000000</td>\n",
       "      <td>0.000000</td>\n",
       "      <td>0.000000</td>\n",
       "      <td>0.000000</td>\n",
       "      <td>0.000000</td>\n",
       "      <td>0.000000</td>\n",
       "      <td>0.000000</td>\n",
       "      <td>0.000000</td>\n",
       "      <td>0.000000</td>\n",
       "    </tr>\n",
       "    <tr>\n",
       "      <th>25%</th>\n",
       "      <td>920.750000</td>\n",
       "      <td>51.000000</td>\n",
       "      <td>0.000000</td>\n",
       "      <td>0.000000</td>\n",
       "      <td>0.000000</td>\n",
       "      <td>0.000000</td>\n",
       "      <td>0.000000</td>\n",
       "      <td>0.000000</td>\n",
       "      <td>0.000000</td>\n",
       "      <td>0.000000</td>\n",
       "    </tr>\n",
       "    <tr>\n",
       "      <th>50%</th>\n",
       "      <td>2419.500000</td>\n",
       "      <td>59.000000</td>\n",
       "      <td>0.000000</td>\n",
       "      <td>0.000000</td>\n",
       "      <td>0.000000</td>\n",
       "      <td>0.000000</td>\n",
       "      <td>0.000000</td>\n",
       "      <td>0.000000</td>\n",
       "      <td>0.000000</td>\n",
       "      <td>0.000000</td>\n",
       "    </tr>\n",
       "    <tr>\n",
       "      <th>75%</th>\n",
       "      <td>3294.000000</td>\n",
       "      <td>66.000000</td>\n",
       "      <td>1.000000</td>\n",
       "      <td>1.000000</td>\n",
       "      <td>0.000000</td>\n",
       "      <td>0.000000</td>\n",
       "      <td>0.000000</td>\n",
       "      <td>0.000000</td>\n",
       "      <td>0.000000</td>\n",
       "      <td>0.000000</td>\n",
       "    </tr>\n",
       "    <tr>\n",
       "      <th>max</th>\n",
       "      <td>4784.000000</td>\n",
       "      <td>91.000000</td>\n",
       "      <td>1.000000</td>\n",
       "      <td>1.000000</td>\n",
       "      <td>1.000000</td>\n",
       "      <td>1.000000</td>\n",
       "      <td>1.000000</td>\n",
       "      <td>1.000000</td>\n",
       "      <td>1.000000</td>\n",
       "      <td>1.000000</td>\n",
       "    </tr>\n",
       "  </tbody>\n",
       "</table>\n",
       "</div>"
      ],
      "text/plain": [
       "                ID  Patient Age            N            D            G  \\\n",
       "count  6392.000000  6392.000000  6392.000000  6392.000000  6392.000000   \n",
       "mean   2271.150814    57.857947     0.328692     0.332134     0.062109   \n",
       "std    1417.559018    11.727737     0.469775     0.471016     0.241372   \n",
       "min       0.000000     1.000000     0.000000     0.000000     0.000000   \n",
       "25%     920.750000    51.000000     0.000000     0.000000     0.000000   \n",
       "50%    2419.500000    59.000000     0.000000     0.000000     0.000000   \n",
       "75%    3294.000000    66.000000     1.000000     1.000000     0.000000   \n",
       "max    4784.000000    91.000000     1.000000     1.000000     1.000000   \n",
       "\n",
       "                 C            A            H            M            O  \n",
       "count  6392.000000  6392.000000  6392.000000  6392.000000  6392.000000  \n",
       "mean      0.062891     0.049906     0.031758     0.047872     0.248436  \n",
       "std       0.242786     0.217768     0.175370     0.213513     0.432139  \n",
       "min       0.000000     0.000000     0.000000     0.000000     0.000000  \n",
       "25%       0.000000     0.000000     0.000000     0.000000     0.000000  \n",
       "50%       0.000000     0.000000     0.000000     0.000000     0.000000  \n",
       "75%       0.000000     0.000000     0.000000     0.000000     0.000000  \n",
       "max       1.000000     1.000000     1.000000     1.000000     1.000000  "
      ]
     },
     "execution_count": 3,
     "metadata": {},
     "output_type": "execute_result"
    }
   ],
   "source": [
    "df.describe()"
   ]
  },
  {
   "cell_type": "markdown",
   "id": "da4d1548-c33e-42aa-b7ac-2dd17e4f2b55",
   "metadata": {},
   "source": [
    "<br>The dataset has **6392** entries of pictures and diagnosis and **4784** indicating that not all patients have pictures for both eyes.</br>\n",
    "<br>The ages vary between 1 and 91 years old.</br>"
   ]
  },
  {
   "cell_type": "code",
   "execution_count": 4,
   "id": "c1b79e0d-019f-4c14-b0ff-db4426043ffe",
   "metadata": {},
   "outputs": [
    {
     "data": {
      "text/html": [
       "<div>\n",
       "<style scoped>\n",
       "    .dataframe tbody tr th:only-of-type {\n",
       "        vertical-align: middle;\n",
       "    }\n",
       "\n",
       "    .dataframe tbody tr th {\n",
       "        vertical-align: top;\n",
       "    }\n",
       "\n",
       "    .dataframe thead th {\n",
       "        text-align: right;\n",
       "    }\n",
       "</style>\n",
       "<table border=\"1\" class=\"dataframe\">\n",
       "  <thead>\n",
       "    <tr style=\"text-align: right;\">\n",
       "      <th></th>\n",
       "      <th>ID</th>\n",
       "      <th>Patient Age</th>\n",
       "      <th>Patient Sex</th>\n",
       "      <th>Left-Fundus</th>\n",
       "      <th>Right-Fundus</th>\n",
       "      <th>Left-Diagnostic Keywords</th>\n",
       "      <th>Right-Diagnostic Keywords</th>\n",
       "      <th>N</th>\n",
       "      <th>D</th>\n",
       "      <th>G</th>\n",
       "      <th>C</th>\n",
       "      <th>A</th>\n",
       "      <th>H</th>\n",
       "      <th>M</th>\n",
       "      <th>O</th>\n",
       "      <th>filepath</th>\n",
       "      <th>labels</th>\n",
       "      <th>target</th>\n",
       "      <th>filename</th>\n",
       "    </tr>\n",
       "  </thead>\n",
       "  <tbody>\n",
       "    <tr>\n",
       "      <th>0</th>\n",
       "      <td>0</td>\n",
       "      <td>69</td>\n",
       "      <td>Female</td>\n",
       "      <td>0_left.jpg</td>\n",
       "      <td>0_right.jpg</td>\n",
       "      <td>cataract</td>\n",
       "      <td>normal fundus</td>\n",
       "      <td>0</td>\n",
       "      <td>0</td>\n",
       "      <td>0</td>\n",
       "      <td>1</td>\n",
       "      <td>0</td>\n",
       "      <td>0</td>\n",
       "      <td>0</td>\n",
       "      <td>0</td>\n",
       "      <td>../input/ocular-disease-recognition-odir5k/ODI...</td>\n",
       "      <td>['N']</td>\n",
       "      <td>[1, 0, 0, 0, 0, 0, 0, 0]</td>\n",
       "      <td>0_right.jpg</td>\n",
       "    </tr>\n",
       "    <tr>\n",
       "      <th>3194</th>\n",
       "      <td>0</td>\n",
       "      <td>69</td>\n",
       "      <td>Female</td>\n",
       "      <td>0_left.jpg</td>\n",
       "      <td>0_right.jpg</td>\n",
       "      <td>cataract</td>\n",
       "      <td>normal fundus</td>\n",
       "      <td>0</td>\n",
       "      <td>0</td>\n",
       "      <td>0</td>\n",
       "      <td>1</td>\n",
       "      <td>0</td>\n",
       "      <td>0</td>\n",
       "      <td>0</td>\n",
       "      <td>0</td>\n",
       "      <td>../input/ocular-disease-recognition-odir5k/ODI...</td>\n",
       "      <td>['C']</td>\n",
       "      <td>[0, 0, 0, 1, 0, 0, 0, 0]</td>\n",
       "      <td>0_left.jpg</td>\n",
       "    </tr>\n",
       "    <tr>\n",
       "      <th>3195</th>\n",
       "      <td>1</td>\n",
       "      <td>57</td>\n",
       "      <td>Male</td>\n",
       "      <td>1_left.jpg</td>\n",
       "      <td>1_right.jpg</td>\n",
       "      <td>normal fundus</td>\n",
       "      <td>normal fundus</td>\n",
       "      <td>1</td>\n",
       "      <td>0</td>\n",
       "      <td>0</td>\n",
       "      <td>0</td>\n",
       "      <td>0</td>\n",
       "      <td>0</td>\n",
       "      <td>0</td>\n",
       "      <td>0</td>\n",
       "      <td>../input/ocular-disease-recognition-odir5k/ODI...</td>\n",
       "      <td>['N']</td>\n",
       "      <td>[1, 0, 0, 0, 0, 0, 0, 0]</td>\n",
       "      <td>1_left.jpg</td>\n",
       "    </tr>\n",
       "    <tr>\n",
       "      <th>1</th>\n",
       "      <td>1</td>\n",
       "      <td>57</td>\n",
       "      <td>Male</td>\n",
       "      <td>1_left.jpg</td>\n",
       "      <td>1_right.jpg</td>\n",
       "      <td>normal fundus</td>\n",
       "      <td>normal fundus</td>\n",
       "      <td>1</td>\n",
       "      <td>0</td>\n",
       "      <td>0</td>\n",
       "      <td>0</td>\n",
       "      <td>0</td>\n",
       "      <td>0</td>\n",
       "      <td>0</td>\n",
       "      <td>0</td>\n",
       "      <td>../input/ocular-disease-recognition-odir5k/ODI...</td>\n",
       "      <td>['N']</td>\n",
       "      <td>[1, 0, 0, 0, 0, 0, 0, 0]</td>\n",
       "      <td>1_right.jpg</td>\n",
       "    </tr>\n",
       "    <tr>\n",
       "      <th>2</th>\n",
       "      <td>2</td>\n",
       "      <td>42</td>\n",
       "      <td>Male</td>\n",
       "      <td>2_left.jpg</td>\n",
       "      <td>2_right.jpg</td>\n",
       "      <td>laser spot，moderate non proliferative retinopathy</td>\n",
       "      <td>moderate non proliferative retinopathy</td>\n",
       "      <td>0</td>\n",
       "      <td>1</td>\n",
       "      <td>0</td>\n",
       "      <td>0</td>\n",
       "      <td>0</td>\n",
       "      <td>0</td>\n",
       "      <td>0</td>\n",
       "      <td>1</td>\n",
       "      <td>../input/ocular-disease-recognition-odir5k/ODI...</td>\n",
       "      <td>['D']</td>\n",
       "      <td>[0, 1, 0, 0, 0, 0, 0, 0]</td>\n",
       "      <td>2_right.jpg</td>\n",
       "    </tr>\n",
       "    <tr>\n",
       "      <th>3196</th>\n",
       "      <td>3</td>\n",
       "      <td>66</td>\n",
       "      <td>Male</td>\n",
       "      <td>3_left.jpg</td>\n",
       "      <td>3_right.jpg</td>\n",
       "      <td>normal fundus</td>\n",
       "      <td>branch retinal artery occlusion</td>\n",
       "      <td>0</td>\n",
       "      <td>0</td>\n",
       "      <td>0</td>\n",
       "      <td>0</td>\n",
       "      <td>0</td>\n",
       "      <td>0</td>\n",
       "      <td>0</td>\n",
       "      <td>1</td>\n",
       "      <td>../input/ocular-disease-recognition-odir5k/ODI...</td>\n",
       "      <td>['N']</td>\n",
       "      <td>[1, 0, 0, 0, 0, 0, 0, 0]</td>\n",
       "      <td>3_left.jpg</td>\n",
       "    </tr>\n",
       "    <tr>\n",
       "      <th>3</th>\n",
       "      <td>4</td>\n",
       "      <td>53</td>\n",
       "      <td>Male</td>\n",
       "      <td>4_left.jpg</td>\n",
       "      <td>4_right.jpg</td>\n",
       "      <td>macular epiretinal membrane</td>\n",
       "      <td>mild nonproliferative retinopathy</td>\n",
       "      <td>0</td>\n",
       "      <td>1</td>\n",
       "      <td>0</td>\n",
       "      <td>0</td>\n",
       "      <td>0</td>\n",
       "      <td>0</td>\n",
       "      <td>0</td>\n",
       "      <td>1</td>\n",
       "      <td>../input/ocular-disease-recognition-odir5k/ODI...</td>\n",
       "      <td>['D']</td>\n",
       "      <td>[0, 1, 0, 0, 0, 0, 0, 0]</td>\n",
       "      <td>4_right.jpg</td>\n",
       "    </tr>\n",
       "    <tr>\n",
       "      <th>3197</th>\n",
       "      <td>4</td>\n",
       "      <td>53</td>\n",
       "      <td>Male</td>\n",
       "      <td>4_left.jpg</td>\n",
       "      <td>4_right.jpg</td>\n",
       "      <td>macular epiretinal membrane</td>\n",
       "      <td>mild nonproliferative retinopathy</td>\n",
       "      <td>0</td>\n",
       "      <td>1</td>\n",
       "      <td>0</td>\n",
       "      <td>0</td>\n",
       "      <td>0</td>\n",
       "      <td>0</td>\n",
       "      <td>0</td>\n",
       "      <td>1</td>\n",
       "      <td>../input/ocular-disease-recognition-odir5k/ODI...</td>\n",
       "      <td>['O']</td>\n",
       "      <td>[0, 0, 0, 0, 0, 0, 0, 1]</td>\n",
       "      <td>4_left.jpg</td>\n",
       "    </tr>\n",
       "    <tr>\n",
       "      <th>3198</th>\n",
       "      <td>5</td>\n",
       "      <td>50</td>\n",
       "      <td>Female</td>\n",
       "      <td>5_left.jpg</td>\n",
       "      <td>5_right.jpg</td>\n",
       "      <td>moderate non proliferative retinopathy</td>\n",
       "      <td>moderate non proliferative retinopathy</td>\n",
       "      <td>0</td>\n",
       "      <td>1</td>\n",
       "      <td>0</td>\n",
       "      <td>0</td>\n",
       "      <td>0</td>\n",
       "      <td>0</td>\n",
       "      <td>0</td>\n",
       "      <td>0</td>\n",
       "      <td>../input/ocular-disease-recognition-odir5k/ODI...</td>\n",
       "      <td>['D']</td>\n",
       "      <td>[0, 1, 0, 0, 0, 0, 0, 0]</td>\n",
       "      <td>5_left.jpg</td>\n",
       "    </tr>\n",
       "    <tr>\n",
       "      <th>4</th>\n",
       "      <td>5</td>\n",
       "      <td>50</td>\n",
       "      <td>Female</td>\n",
       "      <td>5_left.jpg</td>\n",
       "      <td>5_right.jpg</td>\n",
       "      <td>moderate non proliferative retinopathy</td>\n",
       "      <td>moderate non proliferative retinopathy</td>\n",
       "      <td>0</td>\n",
       "      <td>1</td>\n",
       "      <td>0</td>\n",
       "      <td>0</td>\n",
       "      <td>0</td>\n",
       "      <td>0</td>\n",
       "      <td>0</td>\n",
       "      <td>0</td>\n",
       "      <td>../input/ocular-disease-recognition-odir5k/ODI...</td>\n",
       "      <td>['D']</td>\n",
       "      <td>[0, 1, 0, 0, 0, 0, 0, 0]</td>\n",
       "      <td>5_right.jpg</td>\n",
       "    </tr>\n",
       "  </tbody>\n",
       "</table>\n",
       "</div>"
      ],
      "text/plain": [
       "      ID  Patient Age Patient Sex Left-Fundus Right-Fundus  \\\n",
       "0      0           69      Female  0_left.jpg  0_right.jpg   \n",
       "3194   0           69      Female  0_left.jpg  0_right.jpg   \n",
       "3195   1           57        Male  1_left.jpg  1_right.jpg   \n",
       "1      1           57        Male  1_left.jpg  1_right.jpg   \n",
       "2      2           42        Male  2_left.jpg  2_right.jpg   \n",
       "3196   3           66        Male  3_left.jpg  3_right.jpg   \n",
       "3      4           53        Male  4_left.jpg  4_right.jpg   \n",
       "3197   4           53        Male  4_left.jpg  4_right.jpg   \n",
       "3198   5           50      Female  5_left.jpg  5_right.jpg   \n",
       "4      5           50      Female  5_left.jpg  5_right.jpg   \n",
       "\n",
       "                               Left-Diagnostic Keywords  \\\n",
       "0                                              cataract   \n",
       "3194                                           cataract   \n",
       "3195                                      normal fundus   \n",
       "1                                         normal fundus   \n",
       "2     laser spot，moderate non proliferative retinopathy   \n",
       "3196                                      normal fundus   \n",
       "3                           macular epiretinal membrane   \n",
       "3197                        macular epiretinal membrane   \n",
       "3198             moderate non proliferative retinopathy   \n",
       "4                moderate non proliferative retinopathy   \n",
       "\n",
       "                   Right-Diagnostic Keywords  N  D  G  C  A  H  M  O  \\\n",
       "0                              normal fundus  0  0  0  1  0  0  0  0   \n",
       "3194                           normal fundus  0  0  0  1  0  0  0  0   \n",
       "3195                           normal fundus  1  0  0  0  0  0  0  0   \n",
       "1                              normal fundus  1  0  0  0  0  0  0  0   \n",
       "2     moderate non proliferative retinopathy  0  1  0  0  0  0  0  1   \n",
       "3196         branch retinal artery occlusion  0  0  0  0  0  0  0  1   \n",
       "3          mild nonproliferative retinopathy  0  1  0  0  0  0  0  1   \n",
       "3197       mild nonproliferative retinopathy  0  1  0  0  0  0  0  1   \n",
       "3198  moderate non proliferative retinopathy  0  1  0  0  0  0  0  0   \n",
       "4     moderate non proliferative retinopathy  0  1  0  0  0  0  0  0   \n",
       "\n",
       "                                               filepath labels  \\\n",
       "0     ../input/ocular-disease-recognition-odir5k/ODI...  ['N']   \n",
       "3194  ../input/ocular-disease-recognition-odir5k/ODI...  ['C']   \n",
       "3195  ../input/ocular-disease-recognition-odir5k/ODI...  ['N']   \n",
       "1     ../input/ocular-disease-recognition-odir5k/ODI...  ['N']   \n",
       "2     ../input/ocular-disease-recognition-odir5k/ODI...  ['D']   \n",
       "3196  ../input/ocular-disease-recognition-odir5k/ODI...  ['N']   \n",
       "3     ../input/ocular-disease-recognition-odir5k/ODI...  ['D']   \n",
       "3197  ../input/ocular-disease-recognition-odir5k/ODI...  ['O']   \n",
       "3198  ../input/ocular-disease-recognition-odir5k/ODI...  ['D']   \n",
       "4     ../input/ocular-disease-recognition-odir5k/ODI...  ['D']   \n",
       "\n",
       "                        target     filename  \n",
       "0     [1, 0, 0, 0, 0, 0, 0, 0]  0_right.jpg  \n",
       "3194  [0, 0, 0, 1, 0, 0, 0, 0]   0_left.jpg  \n",
       "3195  [1, 0, 0, 0, 0, 0, 0, 0]   1_left.jpg  \n",
       "1     [1, 0, 0, 0, 0, 0, 0, 0]  1_right.jpg  \n",
       "2     [0, 1, 0, 0, 0, 0, 0, 0]  2_right.jpg  \n",
       "3196  [1, 0, 0, 0, 0, 0, 0, 0]   3_left.jpg  \n",
       "3     [0, 1, 0, 0, 0, 0, 0, 0]  4_right.jpg  \n",
       "3197  [0, 0, 0, 0, 0, 0, 0, 1]   4_left.jpg  \n",
       "3198  [0, 1, 0, 0, 0, 0, 0, 0]   5_left.jpg  \n",
       "4     [0, 1, 0, 0, 0, 0, 0, 0]  5_right.jpg  "
      ]
     },
     "execution_count": 4,
     "metadata": {},
     "output_type": "execute_result"
    }
   ],
   "source": [
    "df.sort_values(\"ID\").head(10)"
   ]
  },
  {
   "cell_type": "code",
   "execution_count": 5,
   "id": "3e35b58d-1a47-4c86-9610-607c245df8b4",
   "metadata": {},
   "outputs": [
    {
     "name": "stdout",
     "output_type": "stream",
     "text": [
      "<class 'pandas.core.frame.DataFrame'>\n",
      "RangeIndex: 6392 entries, 0 to 6391\n",
      "Data columns (total 19 columns):\n",
      " #   Column                     Non-Null Count  Dtype \n",
      "---  ------                     --------------  ----- \n",
      " 0   ID                         6392 non-null   int64 \n",
      " 1   Patient Age                6392 non-null   int64 \n",
      " 2   Patient Sex                6392 non-null   object\n",
      " 3   Left-Fundus                6392 non-null   object\n",
      " 4   Right-Fundus               6392 non-null   object\n",
      " 5   Left-Diagnostic Keywords   6392 non-null   object\n",
      " 6   Right-Diagnostic Keywords  6392 non-null   object\n",
      " 7   N                          6392 non-null   int64 \n",
      " 8   D                          6392 non-null   int64 \n",
      " 9   G                          6392 non-null   int64 \n",
      " 10  C                          6392 non-null   int64 \n",
      " 11  A                          6392 non-null   int64 \n",
      " 12  H                          6392 non-null   int64 \n",
      " 13  M                          6392 non-null   int64 \n",
      " 14  O                          6392 non-null   int64 \n",
      " 15  filepath                   6392 non-null   object\n",
      " 16  labels                     6392 non-null   object\n",
      " 17  target                     6392 non-null   object\n",
      " 18  filename                   6392 non-null   object\n",
      "dtypes: int64(10), object(9)\n",
      "memory usage: 948.9+ KB\n"
     ]
    }
   ],
   "source": [
    "df.info()"
   ]
  },
  {
   "cell_type": "markdown",
   "id": "5373eb95-1026-46a6-a5ed-c6e1d021d226",
   "metadata": {},
   "source": [
    "> There are no null values in the DataFrame."
   ]
  },
  {
   "cell_type": "code",
   "execution_count": 49,
   "id": "ce8460bb-0b54-4d57-92a2-3685ef699afd",
   "metadata": {},
   "outputs": [
    {
     "name": "stdout",
     "output_type": "stream",
     "text": [
      "Number of images of the right eye 3194\n",
      "Number of images of the left eye 3198\n"
     ]
    }
   ],
   "source": [
    "left = 0\n",
    "right = 0\n",
    "for row in df[\"filename\"]:\n",
    "    if \"right\" in row:\n",
    "        right += 1\n",
    "    if \"left\" in row:\n",
    "        left += 1\n",
    "\n",
    "print(f\"Number of images of the right eye {right}\")\n",
    "print(f\"Number of images of the left eye {left}\")"
   ]
  },
  {
   "cell_type": "markdown",
   "id": "9722d53e-9117-4817-b02a-1c8464aa0373",
   "metadata": {},
   "source": [
    "### Data distribution plots"
   ]
  },
  {
   "cell_type": "code",
   "execution_count": 6,
   "id": "ecc209d6-d7ed-4e1f-b2d2-9a1754497964",
   "metadata": {},
   "outputs": [
    {
     "data": {
      "text/plain": [
       "Patient Sex\n",
       "Male      3424\n",
       "Female    2968\n",
       "Name: count, dtype: int64"
      ]
     },
     "execution_count": 6,
     "metadata": {},
     "output_type": "execute_result"
    }
   ],
   "source": [
    "df[\"Patient Sex\"].value_counts()"
   ]
  },
  {
   "cell_type": "code",
   "execution_count": 7,
   "id": "aef2d91f-1be5-43ef-83bc-8cbdbbca177f",
   "metadata": {},
   "outputs": [
    {
     "data": {
      "image/png": "[encoded data removed]",
      "text/plain": [
       "<Figure size 640x480 with 1 Axes>"
      ]
     },
     "metadata": {},
     "output_type": "display_data"
    }
   ],
   "source": [
    "plt.pie(df[\"Patient Sex\"].value_counts(), labels=['Male', 'Female'] ,autopct='%.0f%%')\n",
    "plt.show()"
   ]
  },
  {
   "cell_type": "markdown",
   "id": "9b83506a-0bd0-4e2c-8f78-fd74e0ab1496",
   "metadata": {},
   "source": [
    "> The majority of the patients were male."
   ]
  },
  {
   "cell_type": "code",
   "execution_count": 8,
   "id": "b4c7facd-9a7d-40d7-807f-9e8519aa9bbd",
   "metadata": {},
   "outputs": [
    {
     "data": {
      "image/png": "[encoded data removed]",
      "text/plain": [
       "<Figure size 640x480 with 1 Axes>"
      ]
     },
     "metadata": {},
     "output_type": "display_data"
    }
   ],
   "source": [
    "sns.histplot(df[\"Patient Age\"]);"
   ]
  },
  {
   "cell_type": "markdown",
   "id": "d4cb2506-1ac6-40dd-8a0e-170fb6125ecb",
   "metadata": {},
   "source": [
    "> The patient age was aproximately a normal distribution, centered at ~60 years. There are a few patients of 1 year old."
   ]
  },
  {
   "cell_type": "code",
   "execution_count": 9,
   "id": "0c7d1597-20da-4f32-9872-5ffa7dd76475",
   "metadata": {},
   "outputs": [
    {
     "data": {
      "text/plain": [
       "labels\n",
       "['N']    2873\n",
       "['D']    1608\n",
       "['O']     708\n",
       "['C']     293\n",
       "['G']     284\n",
       "['A']     266\n",
       "['M']     232\n",
       "['H']     128\n",
       "Name: count, dtype: int64"
      ]
     },
     "execution_count": 9,
     "metadata": {},
     "output_type": "execute_result"
    }
   ],
   "source": [
    "df['labels'].value_counts()"
   ]
  },
  {
   "cell_type": "code",
   "execution_count": 10,
   "id": "d0c73ef8-10ed-4898-9efd-518fd2ff0400",
   "metadata": {},
   "outputs": [
    {
     "data": {
      "image/png": "[encoded data removed]",
      "text/plain": [
       "<Figure size 640x480 with 1 Axes>"
      ]
     },
     "metadata": {},
     "output_type": "display_data"
    }
   ],
   "source": [
    "plt.pie(df['labels'].value_counts(), labels=['N', 'D', 'O', 'C', 'G', 'A', 'M', 'H'] ,autopct='%.0f%%')\n",
    "plt.show()"
   ]
  },
  {
   "cell_type": "markdown",
   "id": "c9cd3842-cf01-428f-9662-d63a2efba0c3",
   "metadata": {},
   "source": [
    "> The major class is \"Normal\", thus if our model classifies all the images as \"N\", our baseline accuracy will be 45%"
   ]
  },
  {
   "cell_type": "code",
   "execution_count": 11,
   "id": "414211ca-1377-497e-90e9-c0a1905c8dd8",
   "metadata": {},
   "outputs": [
    {
     "data": {
      "image/png": "[encoded data removed]",
      "text/plain": [
       "<Figure size 1120x800 with 8 Axes>"
      ]
     },
     "metadata": {},
     "output_type": "display_data"
    }
   ],
   "source": [
    "sns.displot(df, x=\"Patient Age\", col=\"labels\", height=4, aspect=.7, col_wrap=4);"
   ]
  },
  {
   "cell_type": "code",
   "execution_count": 12,
   "id": "574195b6-e1ec-48ca-bd62-779bed7a93fd",
   "metadata": {},
   "outputs": [
    {
     "data": {
      "text/plain": [
       "Patient Age  labels\n",
       "1            ['M']     24\n",
       "             ['A']      2\n",
       "             ['N']      2\n",
       "14           ['N']      2\n",
       "15           ['N']      2\n",
       "Name: count, dtype: int64"
      ]
     },
     "execution_count": 12,
     "metadata": {},
     "output_type": "execute_result"
    }
   ],
   "source": [
    "df[df['Patient Age'] <= 15].groupby(\"Patient Age\")[\"labels\"].value_counts()"
   ]
  },
  {
   "cell_type": "markdown",
   "id": "ed106f96-385b-42c0-9c9e-0a6b55e75ed7",
   "metadata": {},
   "source": [
    "> The most common diseases in patients with age smaller than 15 is Pathological Myopia (M)."
   ]
  },
  {
   "cell_type": "code",
   "execution_count": 13,
   "id": "dfe461c2-d550-445a-97bc-1087184b10a4",
   "metadata": {},
   "outputs": [
    {
     "data": {
      "text/plain": [
       "<seaborn.axisgrid.FacetGrid at 0x16b3c0ac0>"
      ]
     },
     "execution_count": 13,
     "metadata": {},
     "output_type": "execute_result"
    },
    {
     "data": {
      "image/png": "[encoded data removed]",
      "text/plain": [
       "<Figure size 1220.25x800 with 8 Axes>"
      ]
     },
     "metadata": {},
     "output_type": "display_data"
    }
   ],
   "source": [
    "sns.displot(df, x=\"Patient Sex\", col=\"labels\", hue=\"Patient Sex\", height=4, aspect=.7, col_wrap=4)"
   ]
  },
  {
   "cell_type": "code",
   "execution_count": 14,
   "id": "e62adcbe-16a2-461e-870a-ccf5c26899fb",
   "metadata": {},
   "outputs": [
    {
     "data": {
      "image/png": "[encoded data removed]",
      "text/plain": [
       "<Figure size 640x480 with 2 Axes>"
      ]
     },
     "metadata": {},
     "output_type": "display_data"
    }
   ],
   "source": [
    "df[\"Gender\"] = LabelEncoder().fit_transform(df[\"Patient Sex\"])\n",
    "\n",
    "matrix = df.select_dtypes(include=[np.number]).drop(columns='ID').corr()\n",
    "sns.heatmap(matrix, cmap=\"Greens\", annot=True);\n",
    "df=df.drop(columns='Gender')"
   ]
  },
  {
   "cell_type": "markdown",
   "id": "35c447f6-f78a-4b30-a7eb-28ee7bac9d1b",
   "metadata": {},
   "source": [
    "> The biggest correlations found were between the patient's age and Cataract, Glaucoma."
   ]
  },
  {
   "cell_type": "markdown",
   "id": "1abaa589-5acb-45de-a916-1196b65f5f04",
   "metadata": {},
   "source": [
    "## Images organization and augmentation"
   ]
  },
  {
   "cell_type": "markdown",
   "id": "1a7a01af-0ad2-455c-9647-460b0385cdf6",
   "metadata": {},
   "source": [
    "### Image organization"
   ]
  },
  {
   "cell_type": "code",
   "execution_count": 64,
   "id": "e1ecd658-7803-4de4-b234-9335a7255077",
   "metadata": {},
   "outputs": [],
   "source": [
    "# Gets the path to the raw data and creates a list with the image names\n",
    "\n",
    "dir_path = os.path.join(os.getcwd(), 'raw_data', 'ocular-disease-recognition-odir5k', 'preprocessed_images')\n",
    "img_list = os.listdir(dir_path)"
   ]
  },
  {
   "cell_type": "code",
   "execution_count": 65,
   "id": "c484b4de-925c-4cbf-a900-6a8d521501df",
   "metadata": {},
   "outputs": [],
   "source": [
    "# Creates the folders necessary to organize the images in different folders according to their classification\n",
    "\n",
    "if os.path.isdir('data_train/normal') is False:\n",
    "    os.makedirs('data_train/normal')\n",
    "    os.makedirs('data_train/diabets')\n",
    "    os.makedirs('data_train/glaucoma')\n",
    "    os.makedirs('data_train/cataract')\n",
    "    os.makedirs('data_train/degeneration')\n",
    "    os.makedirs('data_train/hypertension')\n",
    "    os.makedirs('data_train/myopia')\n",
    "    os.makedirs('data_train/others')"
   ]
  },
  {
   "cell_type": "code",
   "execution_count": 66,
   "id": "eb190626-30d4-442c-97d7-63e011f72a1c",
   "metadata": {},
   "outputs": [],
   "source": [
    "# Creates the folders necessary for test\n",
    "if os.path.isdir('data_test/normal') is False:\n",
    "    os.makedirs('data_test/normal')\n",
    "    os.makedirs('data_test/diabets')\n",
    "    os.makedirs('data_test/glaucoma')\n",
    "    os.makedirs('data_test/cataract')\n",
    "    os.makedirs('data_test/degeneration')\n",
    "    os.makedirs('data_test/hypertension')\n",
    "    os.makedirs('data_test/myopia')\n",
    "    os.makedirs('data_test/others')"
   ]
  },
  {
   "cell_type": "code",
   "execution_count": 67,
   "id": "35e765be-8670-45be-a27d-4e6c7b0354e7",
   "metadata": {},
   "outputs": [],
   "source": [
    "# Creates the folders necessary for validation\n",
    "if os.path.isdir('data_val/normal') is False:\n",
    "    os.makedirs('data_val/normal')\n",
    "    os.makedirs('data_val/diabets')\n",
    "    os.makedirs('data_val/glaucoma')\n",
    "    os.makedirs('data_val/cataract')\n",
    "    os.makedirs('data_val/degeneration')\n",
    "    os.makedirs('data_val/hypertension')\n",
    "    os.makedirs('data_val/myopia')\n",
    "    os.makedirs('data_val/others')"
   ]
  },
  {
   "cell_type": "code",
   "execution_count": 68,
   "id": "e706217a-1948-4611-b824-f5b8c803558f",
   "metadata": {},
   "outputs": [],
   "source": [
    "if len(os.listdir('data_train/normal')) == 0:  # Check if the directory is empty\n",
    "\n",
    "\n",
    "    # Copies the training images in the corresponding directory according to the dataframe classification\n",
    "    \n",
    "    for file in df.filename[df.labels == \"['N']\"]:\n",
    "        copy(os.path.join(dir_path, file) , 'data_train/normal')\n",
    "    for file in df.filename[df.labels == \"['D']\"]:\n",
    "        copy(os.path.join(dir_path, file) , 'data_train/diabets')\n",
    "    for file in df.filename[df.labels == \"['G']\"]:\n",
    "        copy(os.path.join(dir_path, file) , 'data_train/glaucoma')\n",
    "    for file in df.filename[df.labels == \"['C']\"]:\n",
    "        copy(os.path.join(dir_path, file) , 'data_train/cataract')\n",
    "    for file in df.filename[df.labels == \"['A']\"]:\n",
    "        copy(os.path.join(dir_path, file) , 'data_train/degeneration')\n",
    "    for file in df.filename[df.labels == \"['H']\"]:\n",
    "        copy(os.path.join(dir_path, file) , 'data_train/hypertension')\n",
    "    for file in df.filename[df.labels == \"['M']\"]:\n",
    "        copy(os.path.join(dir_path, file) , 'data_train/myopia')\n",
    "    for file in df.filename[df.labels == \"['O']\"]:\n",
    "        copy(os.path.join(dir_path, file) , 'data_train/others')\n",
    "\n",
    "else:\n",
    "    print(\"The directory 'data_train/normal' is not empty\")\n",
    "    print(f\"\\nProbably the files from {dir_path} were already copied into 'data_train/normal'.\")"
   ]
  },
  {
   "cell_type": "code",
   "execution_count": 69,
   "id": "436294af-ab97-4e8c-b2ac-7d4abfb80f78",
   "metadata": {},
   "outputs": [],
   "source": [
    "train_dir = os.path.join(os.getcwd(), 'data_train')\n",
    "test_dir = os.path.join(os.getcwd(), 'data_test')\n",
    "val_dir = os.path.join(os.getcwd(), 'data_val')"
   ]
  },
  {
   "cell_type": "code",
   "execution_count": 70,
   "id": "b31d13d4-ff00-40f8-91ec-d561d2276c37",
   "metadata": {},
   "outputs": [],
   "source": [
    "# Ensure test and validation directories exist\n",
    "for base_dir in [test_dir, val_dir]:\n",
    "    for subdir in os.listdir(train_dir):\n",
    "        os.makedirs(os.path.join(base_dir, subdir), exist_ok=True)\n",
    "\n",
    "# Move files: 10% for test, 20% for validation\n",
    "for subdir in os.listdir(train_dir):\n",
    "    source_path = os.path.join(train_dir, subdir)\n",
    "    test_dest = os.path.join(test_dir, subdir)\n",
    "    val_dest = os.path.join(val_dir, subdir)\n",
    "\n",
    "    if len(os.listdir(test_dest)) == 0 and len(os.listdir(val_dest)) == 0:\n",
    "        files = os.listdir(source_path)\n",
    "        n_test = int(0.1 * len(files))  # 10% for test\n",
    "        n_val = int(0.2 * len(files))   # 20% for validation\n",
    "\n",
    "        test_files = random.sample(files, n_test)\n",
    "        remaining_files = [f for f in files if f not in test_files]\n",
    "        val_files = random.sample(remaining_files, n_val)\n",
    "\n",
    "        # Move test files using os.rename\n",
    "        for file in test_files:\n",
    "            os.rename(os.path.join(source_path, file), os.path.join(test_dest, file))\n",
    "\n",
    "        # Move validation files using os.rename\n",
    "        for file in val_files:\n",
    "            os.rename(os.path.join(source_path, file), os.path.join(val_dest, file))\n",
    "\n",
    "    else:\n",
    "        print(f\"⚠️ The test/validation directories for '{subdir}' are not empty.\")\n",
    "        print(f\"   The files from {source_path} were probably already moved.\")\n"
   ]
  },
  {
   "cell_type": "code",
   "execution_count": 71,
   "id": "840cee1c-d3b1-4c3b-91e4-f449c2b5f9cb",
   "metadata": {},
   "outputs": [
    {
     "name": "stdout",
     "output_type": "stream",
     "text": [
      "Train: 4483\n",
      "Test:  635\n",
      "Val:  1274\n"
     ]
    }
   ],
   "source": [
    "train_length = sum(len([f for f in files if f.endswith('.jpg')]) for _, _, files in os.walk(train_dir))\n",
    "test_length = sum(len([f for f in files if f.endswith('.jpg')]) for _, _, files in os.walk(test_dir))\n",
    "val_length = sum(len([f for f in files if f.endswith('.jpg')]) for _, _, files in os.walk(val_dir))\n",
    "\n",
    "print(f\"Train: {train_length}\")\n",
    "print(f\"Test:  {test_length}\")\n",
    "print(f\"Val:  {val_length}\")"
   ]
  },
  {
   "cell_type": "markdown",
   "id": "b02a6b8a-2308-4c9a-8779-242cf56affbb",
   "metadata": {},
   "source": [
    "### Image augmentation"
   ]
  },
  {
   "cell_type": "code",
   "execution_count": 72,
   "id": "abe54eb7-321d-4c23-8db9-1f3b84676dcc",
   "metadata": {},
   "outputs": [],
   "source": [
    "def count_images_per_class(data_dir):\n",
    "    \"\"\"\n",
    "    Conta o número de imagens em cada classe dentro do diretório.\n",
    "\n",
    "    Args:\n",
    "        data_dir (str): Caminho do diretório contendo as subpastas das classes.\n",
    "\n",
    "    Returns:\n",
    "        dict: Dicionário contendo {classe: número de imagens}.\n",
    "    \"\"\"\n",
    "    class_counts = {}\n",
    "    for class_name in os.listdir(data_dir):\n",
    "        class_path = os.path.join(data_dir, class_name)\n",
    "        if os.path.isdir(class_path):\n",
    "            class_counts[class_name] = len([f for f in os.listdir(class_path) if f.endswith(('.jpg', '.png'))])\n",
    "    return class_counts\n",
    "\n",
    "def augment_fundus_image(image_path, output_dir):\n",
    "    \"\"\"\n",
    "    Aplica data augmentation em uma imagem de fundo de olho e salva a imagem aumentada.\n",
    "\n",
    "    Args:\n",
    "        image_path (str): Caminho da imagem original.\n",
    "        output_dir (str): Diretório onde a imagem aumentada será salva.\n",
    "    \"\"\"\n",
    "    img = Image.open(image_path)\n",
    "    filename, ext = os.path.splitext(os.path.basename(image_path))\n",
    "    \n",
    "    augmentations = [\n",
    "        lambda img: img.rotate(random.uniform(-20, 20), resample=Image.BICUBIC),\n",
    "        lambda img: img.transpose(Image.FLIP_LEFT_RIGHT),\n",
    "        lambda img: ImageEnhance.Brightness(img).enhance(1.15),\n",
    "        lambda img: ImageEnhance.Brightness(img).enhance(0.85),\n",
    "        lambda img: ImageEnhance.Contrast(img).enhance(1.15),\n",
    "        lambda img: Image.fromarray(cv2.GaussianBlur(np.array(img), (5, 5), 0)),\n",
    "        lambda img: img.crop((10, 10, img.width-10, img.height-10)).resize(img.size, Image.BICUBIC),\n",
    "        lambda img: img.resize((int(img.width * 1.1), int(img.height * 1.1)), Image.BICUBIC).crop(\n",
    "            ((int(img.width * 1.1) - img.width) // 2, \n",
    "             (int(img.height * 1.1) - img.height) // 2, \n",
    "             img.width + (int(img.width * 1.1) - img.width) // 2, \n",
    "             img.height + (int(img.height * 1.1) - img.height) // 2)\n",
    "        )\n",
    "    ]\n",
    "    \n",
    "    aug_img = random.choice(augmentations)(img)\n",
    "    aug_img.save(os.path.join(output_dir, f\"{filename}_aug{random.randint(1000,9999)}{ext}\"))\n",
    "\n",
    "def balance_dataset(data_dir):\n",
    "    \"\"\"\n",
    "    Equilibra o dataset aplicando data augmentation para as classes minoritárias até alcançar a classe majoritária.\n",
    "\n",
    "    Args:\n",
    "        data_dir (str): Caminho do diretório contendo as subpastas das classes.\n",
    "    \"\"\"\n",
    "    class_counts = count_images_per_class(data_dir)\n",
    "    max_count = max(class_counts.values())\n",
    "\n",
    "    for class_name, count in class_counts.items():\n",
    "        if count < max_count:\n",
    "            class_dir = os.path.join(data_dir, class_name)\n",
    "            images = [os.path.join(class_dir, f) for f in os.listdir(class_dir) if f.endswith(('.jpg', '.png'))]\n",
    "            images_needed = max_count - count\n",
    "\n",
    "            while images_needed > 0:\n",
    "                for image_path in images:\n",
    "                    if images_needed <= 0:\n",
    "                        break\n",
    "                    augment_fundus_image(image_path, class_dir)\n",
    "                    images_needed -= 1"
   ]
  },
  {
   "cell_type": "code",
   "execution_count": 73,
   "id": "72568552-43a6-4f3f-93aa-3aeb84b9c0de",
   "metadata": {},
   "outputs": [
    {
     "name": "stdout",
     "output_type": "stream",
     "text": [
      "{'hypertension': 2009, 'cataract': 2012, 'glaucoma': 2011, 'diabets': 2012, 'others': 2012, 'normal': 2012, 'degeneration': 2011, 'myopia': 2010}\n"
     ]
    }
   ],
   "source": [
    "# Balanceia o dataset\n",
    "balance_dataset(train_dir)\n",
    "\n",
    "# Verifica o novo número de imagens por classe\n",
    "print(count_images_per_class(train_dir))"
   ]
  },
  {
   "cell_type": "code",
   "execution_count": 74,
   "id": "1e0c92f9-a506-43a3-9709-b56a1cd67721",
   "metadata": {},
   "outputs": [
    {
     "name": "stdout",
     "output_type": "stream",
     "text": [
      "📂 Class 'hypertension': 2009 images\n",
      "📂 Class 'cataract': 2012 images\n",
      "📂 Class 'glaucoma': 2011 images\n",
      "📂 Class 'diabets': 2012 images\n",
      "📂 Class 'others': 2012 images\n",
      "📂 Class 'normal': 2012 images\n",
      "📂 Class 'degeneration': 2011 images\n",
      "📂 Class 'myopia': 2010 images\n",
      "\n",
      "📊 Total number of images: 16089\n"
     ]
    }
   ],
   "source": [
    "# Dictionary to store the image count per class\n",
    "image_counts = {}\n",
    "\n",
    "# Iterate through each subfolder in the training directory\n",
    "for subdir, _, files in os.walk(train_dir):\n",
    "    num_images = len([f for f in files if f.endswith('.jpg')])\n",
    "    \n",
    "    if num_images > 0:  # Avoid displaying empty directories\n",
    "        class_name = os.path.basename(subdir)  # Class name (folder name)\n",
    "        image_counts[class_name] = num_images\n",
    "\n",
    "# Display the image count per class\n",
    "for class_name, count in image_counts.items():\n",
    "    print(f\"📂 Class '{class_name}': {count} images\")\n",
    "\n",
    "# Total image count\n",
    "total_images = sum(image_counts.values())\n",
    "print(f\"\\n📊 Total number of images: {total_images}\")"
   ]
  },
  {
   "cell_type": "code",
   "execution_count": 75,
   "id": "911cc440-bed4-4504-87e7-36ac7b1396e2",
   "metadata": {},
   "outputs": [],
   "source": [
    "batch_size = 8\n",
    "img_height = 256\n",
    "img_width  = 256"
   ]
  },
  {
   "cell_type": "code",
   "execution_count": 76,
   "id": "e8cf287f-8986-49fe-8df9-629aa05e1a2c",
   "metadata": {},
   "outputs": [
    {
     "name": "stdout",
     "output_type": "stream",
     "text": [
      "Found 16089 files belonging to 8 classes.\n"
     ]
    }
   ],
   "source": [
    "train_ds = image_dataset_from_directory(\n",
    "  train_dir,\n",
    "  image_size=(img_height, img_width),\n",
    "  batch_size=batch_size)"
   ]
  },
  {
   "cell_type": "code",
   "execution_count": 77,
   "id": "0501d538-2c83-49d7-8841-475d7f8af3dc",
   "metadata": {},
   "outputs": [
    {
     "name": "stdout",
     "output_type": "stream",
     "text": [
      "Found 1274 files belonging to 8 classes.\n"
     ]
    }
   ],
   "source": [
    "val_ds = image_dataset_from_directory(\n",
    "  val_dir,\n",
    "  image_size=(img_height, img_width),\n",
    "  batch_size=batch_size)"
   ]
  },
  {
   "cell_type": "code",
   "execution_count": 78,
   "id": "e059e643-88ae-4737-948d-5dfc2e32995a",
   "metadata": {},
   "outputs": [
    {
     "data": {
      "text/plain": [
       "['cataract',\n",
       " 'degeneration',\n",
       " 'diabets',\n",
       " 'glaucoma',\n",
       " 'hypertension',\n",
       " 'myopia',\n",
       " 'normal',\n",
       " 'others']"
      ]
     },
     "execution_count": 78,
     "metadata": {},
     "output_type": "execute_result"
    }
   ],
   "source": [
    "class_names_train = train_ds.class_names\n",
    "class_names_train"
   ]
  },
  {
   "cell_type": "code",
   "execution_count": 79,
   "id": "baf81202-0986-471a-927d-d1be442d08ae",
   "metadata": {},
   "outputs": [
    {
     "data": {
      "text/plain": [
       "['cataract',\n",
       " 'degeneration',\n",
       " 'diabets',\n",
       " 'glaucoma',\n",
       " 'hypertension',\n",
       " 'myopia',\n",
       " 'normal',\n",
       " 'others']"
      ]
     },
     "execution_count": 79,
     "metadata": {},
     "output_type": "execute_result"
    }
   ],
   "source": [
    "class_names_val = val_ds.class_names\n",
    "class_names_val"
   ]
  },
  {
   "cell_type": "markdown",
   "id": "24dcae02-bacb-42e3-8dba-da45510db24a",
   "metadata": {},
   "source": [
    "## PCA"
   ]
  },
  {
   "cell_type": "markdown",
   "id": "fe2e129f-a864-45bc-b1d4-b2b595b3b3e4",
   "metadata": {},
   "source": [
    "### Check-list"
   ]
  },
  {
   "cell_type": "code",
   "execution_count": 80,
   "id": "83f8eeee-f780-472e-b44a-eaea0892adf1",
   "metadata": {},
   "outputs": [
    {
     "name": "stdout",
     "output_type": "stream",
     "text": [
      "✅ All images have the same size: (512, 512)\n",
      "✅ All images are in the same color mode: RGB\n",
      "✅ Sufficient number of images: 16089\n"
     ]
    }
   ],
   "source": [
    "# Main directory for the images\n",
    "path_augm = \"data_train\"\n",
    "\n",
    "# Sets to store the verifications\n",
    "sizes = set()  # Stores unique sizes of the images\n",
    "modes = set()  # Stores the color modes (RGB, L, RGBA, etc.)\n",
    "num_images = 0  # Counts the processed images\n",
    "\n",
    "# Loops through all subfolders and archives\n",
    "for root, _, files in os.walk(path_augm):\n",
    "    for img_name in files:\n",
    "        img_path = os.path.join(root, img_name)\n",
    "\n",
    "        try:\n",
    "            with Image.open(img_path) as img:\n",
    "                sizes.add(img.size)  # Adiciona tamanho da imagem\n",
    "                modes.add(img.mode)  # Adiciona modo de cor (ex: 'RGB', 'L')\n",
    "                num_images += 1\n",
    "        except Exception as e:\n",
    "            print(f\"Error opening {img_path}: {e}\")\n",
    "\n",
    "# Checks if all images are PCA-compatible\n",
    "if len(sizes) > 1:\n",
    "    print(f\"🚨 Error: The images have different sizes: {sizes}\")\n",
    "    print(\"⚠️ All images need to have the same size for PCA.\")\n",
    "else:\n",
    "    print(f\"✅ All images have the same size: {list(sizes)[0]}\")\n",
    "\n",
    "if len(modes) > 1:\n",
    "    print(f\"🚨 Error: The images have different color modes: {modes}\")\n",
    "    print(\"⚠️ Converting all images to the same format might be necessary (e.g., RGB).\")\n",
    "else:\n",
    "    print(f\"✅ All images are in the same color mode: {list(modes)[0]}\")\n",
    "\n",
    "if num_images < 2:\n",
    "    print(\"🚨 Error: Too few images found for PCA. More samples are needed.\")\n",
    "else:\n",
    "    print(f\"✅ Sufficient number of images: {num_images}\")"
   ]
  },
  {
   "cell_type": "code",
   "execution_count": 81,
   "id": "f301f8d4-6ebe-4abf-b111-f4626c3ab2c3",
   "metadata": {},
   "outputs": [
    {
     "data": {
      "image/png": "[encoded data removed]",
      "text/plain": [
       "<Figure size 640x480 with 1 Axes>"
      ]
     },
     "metadata": {},
     "output_type": "display_data"
    }
   ],
   "source": [
    "imgs = []\n",
    "\n",
    "# Loops through all subfolders and files\n",
    "for root, _, files in os.walk(path_augm):\n",
    "    for img_name in files:\n",
    "        img_path = os.path.join(root, img_name)\n",
    "        \n",
    "        try:\n",
    "            img = cv2.imread(img_path, cv2.IMREAD_GRAYSCALE)  # Convert to grayscale\n",
    "            if img is None:\n",
    "                print(f\"⚠️ Error loading image: {img_path}\")\n",
    "                continue  # Skip corrupted or incompatible images\n",
    "            \n",
    "            img = cv2.resize(img, (128, 128))  # Resize to a fixed size\n",
    "            imgs.append(img)\n",
    "        \n",
    "        except Exception as e:\n",
    "            print(f\"⚠️ Error processing {img_path}: {e}\")\n",
    "\n",
    "# Check if there are any images before calculating the mean\n",
    "if len(imgs) == 0:\n",
    "    print(\"🚨 No valid images found!\")\n",
    "else:\n",
    "    # Calculate the mean of the images\n",
    "    mean_img = np.mean(imgs, axis=0)\n",
    "\n",
    "    # Display the mean image\n",
    "    plt.imshow(mean_img, cmap='gray')\n",
    "    plt.title(\"Average of Images\")\n",
    "    plt.axis(\"off\")\n",
    "    plt.show()\n"
   ]
  },
  {
   "cell_type": "markdown",
   "id": "09983594-bd0f-49ac-919e-0eca0a7250ac",
   "metadata": {},
   "source": [
    "### Flattening and decomposing"
   ]
  },
  {
   "cell_type": "code",
   "execution_count": 83,
   "id": "2598a60d-0f4a-487d-8ab9-ade747602528",
   "metadata": {},
   "outputs": [
    {
     "name": "stderr",
     "output_type": "stream",
     "text": [
      "2025-03-21 10:34:29.922158: I tensorflow/core/framework/local_rendezvous.cc:407] Local rendezvous is aborting with status: OUT_OF_RANGE: End of sequence\n"
     ]
    },
    {
     "name": "stdout",
     "output_type": "stream",
     "text": [
      "Shape of X_pca: (16089, 196608)\n",
      "Shape of y: (16089,)\n",
      "Unique classes: [0 1 2 3 4 5 6 7]\n"
     ]
    }
   ],
   "source": [
    "import numpy as np\n",
    "import tensorflow as tf\n",
    "\n",
    "# Lists to store flattened images and labels\n",
    "X_list = []\n",
    "y_list = []\n",
    "\n",
    "# Iterate over the dataset\n",
    "for batch in train_ds:\n",
    "    images, labels = batch  # Get the images and labels\n",
    "    \n",
    "    # Resize images to (256, 256)\n",
    "    images = tf.image.resize(images, (img_height, img_width)).numpy()\n",
    "\n",
    "    # Normalize images to [0,1]\n",
    "    images = images / 255.0  \n",
    "\n",
    "    # Flatten each image\n",
    "    flattened_images = images.reshape(images.shape[0], -1)  \n",
    "    \n",
    "    X_list.append(flattened_images)\n",
    "    y_list.append(labels.numpy())  # Convert labels to NumPy\n",
    "\n",
    "# Convert lists to NumPy arrays\n",
    "X_pca = np.vstack(X_list)  # Matrix of flattened images\n",
    "y = np.concatenate(y_list)  # Corresponding labels vector\n",
    "\n",
    "print(f\"Shape of X_pca: {X_pca.shape}\")  # Expected: (N_images, 256*256*3)\n",
    "print(f\"Shape of y: {y.shape}\")  # Expected: (N_images,)\n",
    "print(f\"Unique classes: {np.unique(y)}\")\n"
   ]
  },
  {
   "cell_type": "code",
   "execution_count": null,
   "id": "52e2de73-2b4f-4719-a501-c451ce6fb081",
   "metadata": {},
   "outputs": [],
   "source": [
    "pca = PCA(n_components=25) \n",
    "X_pca_model = pca.fit_transform(X_pca)"
   ]
  },
  {
   "cell_type": "code",
   "execution_count": null,
   "id": "ef88b5b7-2f77-4c58-a79e-d9c1ba58f19d",
   "metadata": {},
   "outputs": [],
   "source": [
    "plt.plot(np.cumsum(pca.explained_variance_ratio_))\n",
    "plt.xlabel(\"Number of Components\")\n",
    "plt.ylabel(\"Explained Variance\")\n",
    "plt.title(\"PCA - Explained Variance by Components\")\n",
    "\n",
    "plt.show()"
   ]
  },
  {
   "cell_type": "code",
   "execution_count": 43,
   "id": "576f811e-ea4b-44f0-bcad-0648235759ee",
   "metadata": {},
   "outputs": [
    {
     "name": "stdout",
     "output_type": "stream",
     "text": [
      "Shape of X_pca_val: (636, 196608)\n",
      "Shape of y_val: (636,)\n",
      "Unique classes: [0 1 2 3 4 5 6 7]\n"
     ]
    },
    {
     "name": "stderr",
     "output_type": "stream",
     "text": [
      "2025-03-20 11:32:42.465778: I tensorflow/core/framework/local_rendezvous.cc:407] Local rendezvous is aborting with status: OUT_OF_RANGE: End of sequence\n"
     ]
    }
   ],
   "source": [
    "# Flattening and normalization of the validation images\n",
    "# Lists to store flattened images and labels\n",
    "X_list = []\n",
    "y_list = []\n",
    "\n",
    "# Iterate over the dataset\n",
    "for batch in val_ds:\n",
    "    images, labels = batch  # Get the images and labels\n",
    "    \n",
    "    images = images.numpy() / 255.0  # Normalize images to [0,1]\n",
    "    flattened_images = images.reshape(images.shape[0], -1)  # Flatten each image\n",
    "    \n",
    "    X_list.append(flattened_images)\n",
    "    y_list.append(labels.numpy())  # Convert labels to NumPy\n",
    "\n",
    "# Convert lists to NumPy arrays\n",
    "X_pca_val = np.vstack(X_list)  # Matrix of flattened images\n",
    "y_val = np.concatenate(y_list)  # Corresponding labels vector\n",
    "\n",
    "print(f\"Shape of X_pca_val: {X_pca_val.shape}\")  # (N_images, 196608)\n",
    "print(f\"Shape of y_val: {y_val.shape}\")  # (N_images,)\n",
    "print(f\"Unique classes: {np.unique(y_val)}\")  # Check available classes"
   ]
  },
  {
   "cell_type": "markdown",
   "id": "33cdbda9-da79-43a8-88e7-07963ccf9b39",
   "metadata": {
    "jp-MarkdownHeadingCollapsed": true
   },
   "source": [
    "## Naive model with KNN"
   ]
  },
  {
   "cell_type": "markdown",
   "id": "7ca85482-98a9-4e9f-b4ac-92a90f884054",
   "metadata": {},
   "source": [
    "### Cross-validate"
   ]
  },
  {
   "cell_type": "code",
   "execution_count": 44,
   "id": "d8e99d0a-b4e5-4537-8fef-770a1b7f3eea",
   "metadata": {},
   "outputs": [
    {
     "name": "stderr",
     "output_type": "stream",
     "text": [
      "python(42871) MallocStackLogging: can't turn off malloc stack logging because it was not enabled.\n"
     ]
    }
   ],
   "source": [
    "acc_n = {}\n",
    "for n in range(1, 101):\n",
    "    knn = KNeighborsClassifier(n_neighbors=n)\n",
    "    mean_acc = cross_val_score(knn, X=X_pca_model, y=y, scoring='accuracy', cv=5).mean()\n",
    "    acc_n[n] = mean_acc"
   ]
  },
  {
   "cell_type": "code",
   "execution_count": 45,
   "id": "1aa5ef46-c888-4123-acc7-6518dfc4ee07",
   "metadata": {},
   "outputs": [
    {
     "data": {
      "image/png": "[encoded data removed]",
      "text/plain": [
       "<Figure size 640x480 with 1 Axes>"
      ]
     },
     "metadata": {},
     "output_type": "display_data"
    }
   ],
   "source": [
    "plt.plot(acc_n.keys(), acc_n.values());"
   ]
  },
  {
   "cell_type": "markdown",
   "id": "ec93bc82-0054-4f9a-9dac-b61b5e8c0bed",
   "metadata": {},
   "source": [
    "### Hold-out"
   ]
  },
  {
   "cell_type": "code",
   "execution_count": 46,
   "id": "8d252a4c-f266-4caf-ba88-25f2ef431486",
   "metadata": {},
   "outputs": [],
   "source": [
    "X_pca_model_val = pca.transform(X_pca_val)"
   ]
  },
  {
   "cell_type": "code",
   "execution_count": 47,
   "id": "b877e397-102a-4db1-8eaf-e575e1eb8d54",
   "metadata": {},
   "outputs": [
    {
     "data": {
      "text/html": [
       "<style>#sk-container-id-1 {\n",
       "  /* Definition of color scheme common for light and dark mode */\n",
       "  --sklearn-color-text: #000;\n",
       "  --sklearn-color-text-muted: #666;\n",
       "  --sklearn-color-line: gray;\n",
       "  /* Definition of color scheme for unfitted estimators */\n",
       "  --sklearn-color-unfitted-level-0: #fff5e6;\n",
       "  --sklearn-color-unfitted-level-1: #f6e4d2;\n",
       "  --sklearn-color-unfitted-level-2: #ffe0b3;\n",
       "  --sklearn-color-unfitted-level-3: chocolate;\n",
       "  /* Definition of color scheme for fitted estimators */\n",
       "  --sklearn-color-fitted-level-0: #f0f8ff;\n",
       "  --sklearn-color-fitted-level-1: #d4ebff;\n",
       "  --sklearn-color-fitted-level-2: #b3dbfd;\n",
       "  --sklearn-color-fitted-level-3: cornflowerblue;\n",
       "\n",
       "  /* Specific color for light theme */\n",
       "  --sklearn-color-text-on-default-background: var(--sg-text-color, var(--theme-code-foreground, var(--jp-content-font-color1, black)));\n",
       "  --sklearn-color-background: var(--sg-background-color, var(--theme-background, var(--jp-layout-color0, white)));\n",
       "  --sklearn-color-border-box: var(--sg-text-color, var(--theme-code-foreground, var(--jp-content-font-color1, black)));\n",
       "  --sklearn-color-icon: #696969;\n",
       "\n",
       "  @media (prefers-color-scheme: dark) {\n",
       "    /* Redefinition of color scheme for dark theme */\n",
       "    --sklearn-color-text-on-default-background: var(--sg-text-color, var(--theme-code-foreground, var(--jp-content-font-color1, white)));\n",
       "    --sklearn-color-background: var(--sg-background-color, var(--theme-background, var(--jp-layout-color0, #111)));\n",
       "    --sklearn-color-border-box: var(--sg-text-color, var(--theme-code-foreground, var(--jp-content-font-color1, white)));\n",
       "    --sklearn-color-icon: #878787;\n",
       "  }\n",
       "}\n",
       "\n",
       "#sk-container-id-1 {\n",
       "  color: var(--sklearn-color-text);\n",
       "}\n",
       "\n",
       "#sk-container-id-1 pre {\n",
       "  padding: 0;\n",
       "}\n",
       "\n",
       "#sk-container-id-1 input.sk-hidden--visually {\n",
       "  border: 0;\n",
       "  clip: rect(1px 1px 1px 1px);\n",
       "  clip: rect(1px, 1px, 1px, 1px);\n",
       "  height: 1px;\n",
       "  margin: -1px;\n",
       "  overflow: hidden;\n",
       "  padding: 0;\n",
       "  position: absolute;\n",
       "  width: 1px;\n",
       "}\n",
       "\n",
       "#sk-container-id-1 div.sk-dashed-wrapped {\n",
       "  border: 1px dashed var(--sklearn-color-line);\n",
       "  margin: 0 0.4em 0.5em 0.4em;\n",
       "  box-sizing: border-box;\n",
       "  padding-bottom: 0.4em;\n",
       "  background-color: var(--sklearn-color-background);\n",
       "}\n",
       "\n",
       "#sk-container-id-1 div.sk-container {\n",
       "  /* jupyter's `normalize.less` sets `[hidden] { display: none; }`\n",
       "     but bootstrap.min.css set `[hidden] { display: none !important; }`\n",
       "     so we also need the `!important` here to be able to override the\n",
       "     default hidden behavior on the sphinx rendered scikit-learn.org.\n",
       "     See: https://github.com/scikit-learn/scikit-learn/issues/21755 */\n",
       "  display: inline-block !important;\n",
       "  position: relative;\n",
       "}\n",
       "\n",
       "#sk-container-id-1 div.sk-text-repr-fallback {\n",
       "  display: none;\n",
       "}\n",
       "\n",
       "div.sk-parallel-item,\n",
       "div.sk-serial,\n",
       "div.sk-item {\n",
       "  /* draw centered vertical line to link estimators */\n",
       "  background-image: linear-gradient(var(--sklearn-color-text-on-default-background), var(--sklearn-color-text-on-default-background));\n",
       "  background-size: 2px 100%;\n",
       "  background-repeat: no-repeat;\n",
       "  background-position: center center;\n",
       "}\n",
       "\n",
       "/* Parallel-specific style estimator block */\n",
       "\n",
       "#sk-container-id-1 div.sk-parallel-item::after {\n",
       "  content: \"\";\n",
       "  width: 100%;\n",
       "  border-bottom: 2px solid var(--sklearn-color-text-on-default-background);\n",
       "  flex-grow: 1;\n",
       "}\n",
       "\n",
       "#sk-container-id-1 div.sk-parallel {\n",
       "  display: flex;\n",
       "  align-items: stretch;\n",
       "  justify-content: center;\n",
       "  background-color: var(--sklearn-color-background);\n",
       "  position: relative;\n",
       "}\n",
       "\n",
       "#sk-container-id-1 div.sk-parallel-item {\n",
       "  display: flex;\n",
       "  flex-direction: column;\n",
       "}\n",
       "\n",
       "#sk-container-id-1 div.sk-parallel-item:first-child::after {\n",
       "  align-self: flex-end;\n",
       "  width: 50%;\n",
       "}\n",
       "\n",
       "#sk-container-id-1 div.sk-parallel-item:last-child::after {\n",
       "  align-self: flex-start;\n",
       "  width: 50%;\n",
       "}\n",
       "\n",
       "#sk-container-id-1 div.sk-parallel-item:only-child::after {\n",
       "  width: 0;\n",
       "}\n",
       "\n",
       "/* Serial-specific style estimator block */\n",
       "\n",
       "#sk-container-id-1 div.sk-serial {\n",
       "  display: flex;\n",
       "  flex-direction: column;\n",
       "  align-items: center;\n",
       "  background-color: var(--sklearn-color-background);\n",
       "  padding-right: 1em;\n",
       "  padding-left: 1em;\n",
       "}\n",
       "\n",
       "\n",
       "/* Toggleable style: style used for estimator/Pipeline/ColumnTransformer box that is\n",
       "clickable and can be expanded/collapsed.\n",
       "- Pipeline and ColumnTransformer use this feature and define the default style\n",
       "- Estimators will overwrite some part of the style using the `sk-estimator` class\n",
       "*/\n",
       "\n",
       "/* Pipeline and ColumnTransformer style (default) */\n",
       "\n",
       "#sk-container-id-1 div.sk-toggleable {\n",
       "  /* Default theme specific background. It is overwritten whether we have a\n",
       "  specific estimator or a Pipeline/ColumnTransformer */\n",
       "  background-color: var(--sklearn-color-background);\n",
       "}\n",
       "\n",
       "/* Toggleable label */\n",
       "#sk-container-id-1 label.sk-toggleable__label {\n",
       "  cursor: pointer;\n",
       "  display: flex;\n",
       "  width: 100%;\n",
       "  margin-bottom: 0;\n",
       "  padding: 0.5em;\n",
       "  box-sizing: border-box;\n",
       "  text-align: center;\n",
       "  align-items: start;\n",
       "  justify-content: space-between;\n",
       "  gap: 0.5em;\n",
       "}\n",
       "\n",
       "#sk-container-id-1 label.sk-toggleable__label .caption {\n",
       "  font-size: 0.6rem;\n",
       "  font-weight: lighter;\n",
       "  color: var(--sklearn-color-text-muted);\n",
       "}\n",
       "\n",
       "#sk-container-id-1 label.sk-toggleable__label-arrow:before {\n",
       "  /* Arrow on the left of the label */\n",
       "  content: \"▸\";\n",
       "  float: left;\n",
       "  margin-right: 0.25em;\n",
       "  color: var(--sklearn-color-icon);\n",
       "}\n",
       "\n",
       "#sk-container-id-1 label.sk-toggleable__label-arrow:hover:before {\n",
       "  color: var(--sklearn-color-text);\n",
       "}\n",
       "\n",
       "/* Toggleable content - dropdown */\n",
       "\n",
       "#sk-container-id-1 div.sk-toggleable__content {\n",
       "  max-height: 0;\n",
       "  max-width: 0;\n",
       "  overflow: hidden;\n",
       "  text-align: left;\n",
       "  /* unfitted */\n",
       "  background-color: var(--sklearn-color-unfitted-level-0);\n",
       "}\n",
       "\n",
       "#sk-container-id-1 div.sk-toggleable__content.fitted {\n",
       "  /* fitted */\n",
       "  background-color: var(--sklearn-color-fitted-level-0);\n",
       "}\n",
       "\n",
       "#sk-container-id-1 div.sk-toggleable__content pre {\n",
       "  margin: 0.2em;\n",
       "  border-radius: 0.25em;\n",
       "  color: var(--sklearn-color-text);\n",
       "  /* unfitted */\n",
       "  background-color: var(--sklearn-color-unfitted-level-0);\n",
       "}\n",
       "\n",
       "#sk-container-id-1 div.sk-toggleable__content.fitted pre {\n",
       "  /* unfitted */\n",
       "  background-color: var(--sklearn-color-fitted-level-0);\n",
       "}\n",
       "\n",
       "#sk-container-id-1 input.sk-toggleable__control:checked~div.sk-toggleable__content {\n",
       "  /* Expand drop-down */\n",
       "  max-height: 200px;\n",
       "  max-width: 100%;\n",
       "  overflow: auto;\n",
       "}\n",
       "\n",
       "#sk-container-id-1 input.sk-toggleable__control:checked~label.sk-toggleable__label-arrow:before {\n",
       "  content: \"▾\";\n",
       "}\n",
       "\n",
       "/* Pipeline/ColumnTransformer-specific style */\n",
       "\n",
       "#sk-container-id-1 div.sk-label input.sk-toggleable__control:checked~label.sk-toggleable__label {\n",
       "  color: var(--sklearn-color-text);\n",
       "  background-color: var(--sklearn-color-unfitted-level-2);\n",
       "}\n",
       "\n",
       "#sk-container-id-1 div.sk-label.fitted input.sk-toggleable__control:checked~label.sk-toggleable__label {\n",
       "  background-color: var(--sklearn-color-fitted-level-2);\n",
       "}\n",
       "\n",
       "/* Estimator-specific style */\n",
       "\n",
       "/* Colorize estimator box */\n",
       "#sk-container-id-1 div.sk-estimator input.sk-toggleable__control:checked~label.sk-toggleable__label {\n",
       "  /* unfitted */\n",
       "  background-color: var(--sklearn-color-unfitted-level-2);\n",
       "}\n",
       "\n",
       "#sk-container-id-1 div.sk-estimator.fitted input.sk-toggleable__control:checked~label.sk-toggleable__label {\n",
       "  /* fitted */\n",
       "  background-color: var(--sklearn-color-fitted-level-2);\n",
       "}\n",
       "\n",
       "#sk-container-id-1 div.sk-label label.sk-toggleable__label,\n",
       "#sk-container-id-1 div.sk-label label {\n",
       "  /* The background is the default theme color */\n",
       "  color: var(--sklearn-color-text-on-default-background);\n",
       "}\n",
       "\n",
       "/* On hover, darken the color of the background */\n",
       "#sk-container-id-1 div.sk-label:hover label.sk-toggleable__label {\n",
       "  color: var(--sklearn-color-text);\n",
       "  background-color: var(--sklearn-color-unfitted-level-2);\n",
       "}\n",
       "\n",
       "/* Label box, darken color on hover, fitted */\n",
       "#sk-container-id-1 div.sk-label.fitted:hover label.sk-toggleable__label.fitted {\n",
       "  color: var(--sklearn-color-text);\n",
       "  background-color: var(--sklearn-color-fitted-level-2);\n",
       "}\n",
       "\n",
       "/* Estimator label */\n",
       "\n",
       "#sk-container-id-1 div.sk-label label {\n",
       "  font-family: monospace;\n",
       "  font-weight: bold;\n",
       "  display: inline-block;\n",
       "  line-height: 1.2em;\n",
       "}\n",
       "\n",
       "#sk-container-id-1 div.sk-label-container {\n",
       "  text-align: center;\n",
       "}\n",
       "\n",
       "/* Estimator-specific */\n",
       "#sk-container-id-1 div.sk-estimator {\n",
       "  font-family: monospace;\n",
       "  border: 1px dotted var(--sklearn-color-border-box);\n",
       "  border-radius: 0.25em;\n",
       "  box-sizing: border-box;\n",
       "  margin-bottom: 0.5em;\n",
       "  /* unfitted */\n",
       "  background-color: var(--sklearn-color-unfitted-level-0);\n",
       "}\n",
       "\n",
       "#sk-container-id-1 div.sk-estimator.fitted {\n",
       "  /* fitted */\n",
       "  background-color: var(--sklearn-color-fitted-level-0);\n",
       "}\n",
       "\n",
       "/* on hover */\n",
       "#sk-container-id-1 div.sk-estimator:hover {\n",
       "  /* unfitted */\n",
       "  background-color: var(--sklearn-color-unfitted-level-2);\n",
       "}\n",
       "\n",
       "#sk-container-id-1 div.sk-estimator.fitted:hover {\n",
       "  /* fitted */\n",
       "  background-color: var(--sklearn-color-fitted-level-2);\n",
       "}\n",
       "\n",
       "/* Specification for estimator info (e.g. \"i\" and \"?\") */\n",
       "\n",
       "/* Common style for \"i\" and \"?\" */\n",
       "\n",
       ".sk-estimator-doc-link,\n",
       "a:link.sk-estimator-doc-link,\n",
       "a:visited.sk-estimator-doc-link {\n",
       "  float: right;\n",
       "  font-size: smaller;\n",
       "  line-height: 1em;\n",
       "  font-family: monospace;\n",
       "  background-color: var(--sklearn-color-background);\n",
       "  border-radius: 1em;\n",
       "  height: 1em;\n",
       "  width: 1em;\n",
       "  text-decoration: none !important;\n",
       "  margin-left: 0.5em;\n",
       "  text-align: center;\n",
       "  /* unfitted */\n",
       "  border: var(--sklearn-color-unfitted-level-1) 1pt solid;\n",
       "  color: var(--sklearn-color-unfitted-level-1);\n",
       "}\n",
       "\n",
       ".sk-estimator-doc-link.fitted,\n",
       "a:link.sk-estimator-doc-link.fitted,\n",
       "a:visited.sk-estimator-doc-link.fitted {\n",
       "  /* fitted */\n",
       "  border: var(--sklearn-color-fitted-level-1) 1pt solid;\n",
       "  color: var(--sklearn-color-fitted-level-1);\n",
       "}\n",
       "\n",
       "/* On hover */\n",
       "div.sk-estimator:hover .sk-estimator-doc-link:hover,\n",
       ".sk-estimator-doc-link:hover,\n",
       "div.sk-label-container:hover .sk-estimator-doc-link:hover,\n",
       ".sk-estimator-doc-link:hover {\n",
       "  /* unfitted */\n",
       "  background-color: var(--sklearn-color-unfitted-level-3);\n",
       "  color: var(--sklearn-color-background);\n",
       "  text-decoration: none;\n",
       "}\n",
       "\n",
       "div.sk-estimator.fitted:hover .sk-estimator-doc-link.fitted:hover,\n",
       ".sk-estimator-doc-link.fitted:hover,\n",
       "div.sk-label-container:hover .sk-estimator-doc-link.fitted:hover,\n",
       ".sk-estimator-doc-link.fitted:hover {\n",
       "  /* fitted */\n",
       "  background-color: var(--sklearn-color-fitted-level-3);\n",
       "  color: var(--sklearn-color-background);\n",
       "  text-decoration: none;\n",
       "}\n",
       "\n",
       "/* Span, style for the box shown on hovering the info icon */\n",
       ".sk-estimator-doc-link span {\n",
       "  display: none;\n",
       "  z-index: 9999;\n",
       "  position: relative;\n",
       "  font-weight: normal;\n",
       "  right: .2ex;\n",
       "  padding: .5ex;\n",
       "  margin: .5ex;\n",
       "  width: min-content;\n",
       "  min-width: 20ex;\n",
       "  max-width: 50ex;\n",
       "  color: var(--sklearn-color-text);\n",
       "  box-shadow: 2pt 2pt 4pt #999;\n",
       "  /* unfitted */\n",
       "  background: var(--sklearn-color-unfitted-level-0);\n",
       "  border: .5pt solid var(--sklearn-color-unfitted-level-3);\n",
       "}\n",
       "\n",
       ".sk-estimator-doc-link.fitted span {\n",
       "  /* fitted */\n",
       "  background: var(--sklearn-color-fitted-level-0);\n",
       "  border: var(--sklearn-color-fitted-level-3);\n",
       "}\n",
       "\n",
       ".sk-estimator-doc-link:hover span {\n",
       "  display: block;\n",
       "}\n",
       "\n",
       "/* \"?\"-specific style due to the `<a>` HTML tag */\n",
       "\n",
       "#sk-container-id-1 a.estimator_doc_link {\n",
       "  float: right;\n",
       "  font-size: 1rem;\n",
       "  line-height: 1em;\n",
       "  font-family: monospace;\n",
       "  background-color: var(--sklearn-color-background);\n",
       "  border-radius: 1rem;\n",
       "  height: 1rem;\n",
       "  width: 1rem;\n",
       "  text-decoration: none;\n",
       "  /* unfitted */\n",
       "  color: var(--sklearn-color-unfitted-level-1);\n",
       "  border: var(--sklearn-color-unfitted-level-1) 1pt solid;\n",
       "}\n",
       "\n",
       "#sk-container-id-1 a.estimator_doc_link.fitted {\n",
       "  /* fitted */\n",
       "  border: var(--sklearn-color-fitted-level-1) 1pt solid;\n",
       "  color: var(--sklearn-color-fitted-level-1);\n",
       "}\n",
       "\n",
       "/* On hover */\n",
       "#sk-container-id-1 a.estimator_doc_link:hover {\n",
       "  /* unfitted */\n",
       "  background-color: var(--sklearn-color-unfitted-level-3);\n",
       "  color: var(--sklearn-color-background);\n",
       "  text-decoration: none;\n",
       "}\n",
       "\n",
       "#sk-container-id-1 a.estimator_doc_link.fitted:hover {\n",
       "  /* fitted */\n",
       "  background-color: var(--sklearn-color-fitted-level-3);\n",
       "}\n",
       "</style><div id=\"sk-container-id-1\" class=\"sk-top-container\"><div class=\"sk-text-repr-fallback\"><pre>KNeighborsClassifier(n_neighbors=1)</pre><b>In a Jupyter environment, please rerun this cell to show the HTML representation or trust the notebook. <br />On GitHub, the HTML representation is unable to render, please try loading this page with nbviewer.org.</b></div><div class=\"sk-container\" hidden><div class=\"sk-item\"><div class=\"sk-estimator fitted sk-toggleable\"><input class=\"sk-toggleable__control sk-hidden--visually\" id=\"sk-estimator-id-1\" type=\"checkbox\" checked><label for=\"sk-estimator-id-1\" class=\"sk-toggleable__label fitted sk-toggleable__label-arrow\"><div><div>KNeighborsClassifier</div></div><div><a class=\"sk-estimator-doc-link fitted\" rel=\"noreferrer\" target=\"_blank\" href=\"https://scikit-learn.org/1.6/modules/generated/sklearn.neighbors.KNeighborsClassifier.html\">?<span>Documentation for KNeighborsClassifier</span></a><span class=\"sk-estimator-doc-link fitted\">i<span>Fitted</span></span></div></label><div class=\"sk-toggleable__content fitted\"><pre>KNeighborsClassifier(n_neighbors=1)</pre></div> </div></div></div></div>"
      ],
      "text/plain": [
       "KNeighborsClassifier(n_neighbors=1)"
      ]
     },
     "execution_count": 47,
     "metadata": {},
     "output_type": "execute_result"
    }
   ],
   "source": [
    "knn = KNeighborsClassifier(n_neighbors=1)\n",
    "knn.fit(X_pca_model, y)"
   ]
  },
  {
   "cell_type": "code",
   "execution_count": 48,
   "id": "2167f607-ed6e-4721-a5d1-c5971aece7e2",
   "metadata": {},
   "outputs": [],
   "source": [
    "y_pred = knn.predict(X_pca_model_val)"
   ]
  },
  {
   "cell_type": "markdown",
   "id": "f5874a31-1dd8-4a3e-a711-0de1d662b04a",
   "metadata": {},
   "source": [
    "### Metrics"
   ]
  },
  {
   "cell_type": "code",
   "execution_count": 49,
   "id": "57e281b2-0023-42ca-ada8-3857ac41b94a",
   "metadata": {},
   "outputs": [
    {
     "name": "stdout",
     "output_type": "stream",
     "text": [
      "The model's accuracy is: 0.3050314465408805\n",
      "The model's precision is: 0.3652282987580978\n",
      "The model's recall is: 0.3050314465408805\n",
      "The F1 score is: 0.32019687180043815\n"
     ]
    }
   ],
   "source": [
    "# Calculate the metrics correctly for multiclass classification\n",
    "accuracy = accuracy_score(y_val, y_pred)\n",
    "precision = precision_score(y_val, y_pred, average='weighted')\n",
    "recall = recall_score(y_val, y_pred, average='weighted')\n",
    "f1 = f1_score(y_val, y_pred, average='weighted')\n",
    "\n",
    "# Show results\n",
    "print(f\"The model's accuracy is: {accuracy}\")\n",
    "print(f\"The model's precision is: {precision}\")\n",
    "print(f\"The model's recall is: {recall}\")\n",
    "print(f\"The F1 score is: {f1}\")"
   ]
  },
  {
   "cell_type": "code",
   "execution_count": 50,
   "id": "67fafec5-899a-47e2-a0be-17f16c0fe325",
   "metadata": {},
   "outputs": [
    {
     "data": {
      "image/png": "[encoded data removed]",
      "text/plain": [
       "<Figure size 640x480 with 2 Axes>"
      ]
     },
     "metadata": {},
     "output_type": "display_data"
    }
   ],
   "source": [
    "ConfusionMatrixDisplay.from_predictions(y_val, y_pred)\n",
    "plt.show()"
   ]
  },
  {
   "cell_type": "markdown",
   "id": "841b9b1a-c91b-49dd-8fe3-3d09b1319ce3",
   "metadata": {
    "jp-MarkdownHeadingCollapsed": true
   },
   "source": [
    "## Naive model with Random Forest Classifier"
   ]
  },
  {
   "cell_type": "markdown",
   "id": "c4f30fc4-385f-4059-8a33-ddb211a8f872",
   "metadata": {},
   "source": [
    "### Cross-validate"
   ]
  },
  {
   "cell_type": "code",
   "execution_count": null,
   "id": "14867f3c-1b78-40fd-a483-12f895ad5164",
   "metadata": {},
   "outputs": [],
   "source": [
    "RFClass = RandomForestClassifier()\n",
    "mean_acc = cross_val_score(RFClass, X=X_pca_model, y=y, scoring='accuracy', cv=5).mean()\n",
    "mean_acc"
   ]
  },
  {
   "cell_type": "markdown",
   "id": "d1d7de79-5057-4889-9836-3f068e5a7056",
   "metadata": {},
   "source": [
    "### Hold-out"
   ]
  },
  {
   "cell_type": "code",
   "execution_count": null,
   "id": "20d7754d-24fa-4039-b070-e6892c0e91a7",
   "metadata": {},
   "outputs": [],
   "source": [
    "RFClass.fit(X_pca_model, y)\n",
    "y_pred = RFClass.predict(X_pca_model_val)"
   ]
  },
  {
   "cell_type": "markdown",
   "id": "a8d0181a-ae61-4050-8246-6e5c1ad70a5f",
   "metadata": {},
   "source": [
    "### Metrics"
   ]
  },
  {
   "cell_type": "code",
   "execution_count": null,
   "id": "a9aa772d-1c61-48cc-a404-bd811ef8e9fe",
   "metadata": {},
   "outputs": [],
   "source": [
    "# Calculate the metrics correctly for multiclass classification\n",
    "accuracy = accuracy_score(y_val, y_pred)\n",
    "precision = precision_score(y_val, y_pred, average='weighted')\n",
    "recall = recall_score(y_val, y_pred, average='weighted')\n",
    "f1 = f1_score(y_val, y_pred, average='weighted')\n",
    "\n",
    "# Show results\n",
    "print(f\"The model's accuracy is: {accuracy}\")\n",
    "print(f\"The model's precision is: {precision}\")\n",
    "print(f\"The model's recall is: {recall}\")\n",
    "print(f\"The F1 score is: {f1}\")"
   ]
  },
  {
   "cell_type": "code",
   "execution_count": null,
   "id": "ca0837af-803c-4b41-ba38-1fecd0a2d50c",
   "metadata": {},
   "outputs": [],
   "source": [
    "ConfusionMatrixDisplay.from_predictions(y_val, y_pred)\n",
    "plt.show()"
   ]
  },
  {
   "cell_type": "markdown",
   "id": "678ea6ff-b7f1-4d86-9e3c-dc3e14669fc6",
   "metadata": {
    "jp-MarkdownHeadingCollapsed": true
   },
   "source": [
    "## CNN"
   ]
  },
  {
   "cell_type": "code",
   "execution_count": 41,
   "id": "61f9d2f0-3c92-473c-a3dc-3a9aec785c5a",
   "metadata": {},
   "outputs": [],
   "source": [
    "def initialize_model():\n",
    "    model = models.Sequential([\n",
    "          tf.keras.layers.Rescaling(1./255),\n",
    "          \n",
    "          tf.keras.layers.Conv2D(32, (3,3), activation='relu', padding='same', \n",
    "                                 kernel_regularizer=regularizers.l2(0.001)),\n",
    "          tf.keras.layers.MaxPooling2D(pool_size=(2,2)),\n",
    "          tf.keras.layers.Dropout(0.3),\n",
    "\n",
    "          tf.keras.layers.Conv2D(64, (3,3), activation='relu', padding='same', \n",
    "                                 kernel_regularizer=regularizers.l2(0.001)),\n",
    "          tf.keras.layers.MaxPooling2D(pool_size=(2,2)),\n",
    "          tf.keras.layers.Dropout(0.4),\n",
    "\n",
    "          tf.keras.layers.Conv2D(128, (3,3), activation='relu', padding='same', \n",
    "                                 kernel_regularizer=regularizers.l2(0.001)),\n",
    "          tf.keras.layers.MaxPooling2D(pool_size=(2,2)),\n",
    "          tf.keras.layers.Dropout(0.4),\n",
    "\n",
    "          tf.keras.layers.Flatten(),\n",
    "          tf.keras.layers.Dense(128, activation='relu', kernel_regularizer=regularizers.l2(0.001)),\n",
    "          tf.keras.layers.Dropout(0.5),\n",
    "          tf.keras.layers.Dense(8, activation='softmax')\n",
    "        ])\n",
    "\n",
    "    optimizer = tf.keras.optimizers.Adam(learning_rate=0.0003)\n",
    "\n",
    "    model.compile(\n",
    "          optimizer=optimizer,\n",
    "          loss=tf.losses.SparseCategoricalCrossentropy(from_logits=False),\n",
    "          metrics=['accuracy'])\n",
    "    \n",
    "    return model"
   ]
  },
  {
   "cell_type": "code",
   "execution_count": 42,
   "id": "ae790a12-847b-43a0-999d-7c8586c95977",
   "metadata": {},
   "outputs": [],
   "source": [
    "model = initialize_model()"
   ]
  },
  {
   "cell_type": "code",
   "execution_count": 43,
   "id": "7ab84cae-8f50-4313-8589-8cb41d193cba",
   "metadata": {},
   "outputs": [
    {
     "data": {
      "text/html": [
       "<pre style=\"white-space:pre;overflow-x:auto;line-height:normal;font-family:Menlo,'DejaVu Sans Mono',consolas,'Courier New',monospace\"><span style=\"font-weight: bold\">Model: \"sequential_3\"</span>\n",
       "</pre>\n"
      ],
      "text/plain": [
       "\u001b[1mModel: \"sequential_3\"\u001b[0m\n"
      ]
     },
     "metadata": {},
     "output_type": "display_data"
    },
    {
     "data": {
      "text/html": [
       "<pre style=\"white-space:pre;overflow-x:auto;line-height:normal;font-family:Menlo,'DejaVu Sans Mono',consolas,'Courier New',monospace\">┏━━━━━━━━━━━━━━━━━━━━━━━━━━━━━━━━━┳━━━━━━━━━━━━━━━━━━━━━━━━┳━━━━━━━━━━━━━━━┓\n",
       "┃<span style=\"font-weight: bold\"> Layer (type)                    </span>┃<span style=\"font-weight: bold\"> Output Shape           </span>┃<span style=\"font-weight: bold\">       Param # </span>┃\n",
       "┡━━━━━━━━━━━━━━━━━━━━━━━━━━━━━━━━━╇━━━━━━━━━━━━━━━━━━━━━━━━╇━━━━━━━━━━━━━━━┩\n",
       "│ rescaling_3 (<span style=\"color: #0087ff; text-decoration-color: #0087ff\">Rescaling</span>)         │ ?                      │   <span style=\"color: #00af00; text-decoration-color: #00af00\">0</span> (unbuilt) │\n",
       "├─────────────────────────────────┼────────────────────────┼───────────────┤\n",
       "│ conv2d_6 (<span style=\"color: #0087ff; text-decoration-color: #0087ff\">Conv2D</span>)               │ ?                      │   <span style=\"color: #00af00; text-decoration-color: #00af00\">0</span> (unbuilt) │\n",
       "├─────────────────────────────────┼────────────────────────┼───────────────┤\n",
       "│ max_pooling2d_6 (<span style=\"color: #0087ff; text-decoration-color: #0087ff\">MaxPooling2D</span>)  │ ?                      │             <span style=\"color: #00af00; text-decoration-color: #00af00\">0</span> │\n",
       "├─────────────────────────────────┼────────────────────────┼───────────────┤\n",
       "│ dropout_7 (<span style=\"color: #0087ff; text-decoration-color: #0087ff\">Dropout</span>)             │ ?                      │             <span style=\"color: #00af00; text-decoration-color: #00af00\">0</span> │\n",
       "├─────────────────────────────────┼────────────────────────┼───────────────┤\n",
       "│ conv2d_7 (<span style=\"color: #0087ff; text-decoration-color: #0087ff\">Conv2D</span>)               │ ?                      │   <span style=\"color: #00af00; text-decoration-color: #00af00\">0</span> (unbuilt) │\n",
       "├─────────────────────────────────┼────────────────────────┼───────────────┤\n",
       "│ max_pooling2d_7 (<span style=\"color: #0087ff; text-decoration-color: #0087ff\">MaxPooling2D</span>)  │ ?                      │             <span style=\"color: #00af00; text-decoration-color: #00af00\">0</span> │\n",
       "├─────────────────────────────────┼────────────────────────┼───────────────┤\n",
       "│ dropout_8 (<span style=\"color: #0087ff; text-decoration-color: #0087ff\">Dropout</span>)             │ ?                      │             <span style=\"color: #00af00; text-decoration-color: #00af00\">0</span> │\n",
       "├─────────────────────────────────┼────────────────────────┼───────────────┤\n",
       "│ conv2d_8 (<span style=\"color: #0087ff; text-decoration-color: #0087ff\">Conv2D</span>)               │ ?                      │   <span style=\"color: #00af00; text-decoration-color: #00af00\">0</span> (unbuilt) │\n",
       "├─────────────────────────────────┼────────────────────────┼───────────────┤\n",
       "│ max_pooling2d_8 (<span style=\"color: #0087ff; text-decoration-color: #0087ff\">MaxPooling2D</span>)  │ ?                      │             <span style=\"color: #00af00; text-decoration-color: #00af00\">0</span> │\n",
       "├─────────────────────────────────┼────────────────────────┼───────────────┤\n",
       "│ dropout_9 (<span style=\"color: #0087ff; text-decoration-color: #0087ff\">Dropout</span>)             │ ?                      │             <span style=\"color: #00af00; text-decoration-color: #00af00\">0</span> │\n",
       "├─────────────────────────────────┼────────────────────────┼───────────────┤\n",
       "│ flatten_2 (<span style=\"color: #0087ff; text-decoration-color: #0087ff\">Flatten</span>)             │ ?                      │   <span style=\"color: #00af00; text-decoration-color: #00af00\">0</span> (unbuilt) │\n",
       "├─────────────────────────────────┼────────────────────────┼───────────────┤\n",
       "│ dense_4 (<span style=\"color: #0087ff; text-decoration-color: #0087ff\">Dense</span>)                 │ ?                      │   <span style=\"color: #00af00; text-decoration-color: #00af00\">0</span> (unbuilt) │\n",
       "├─────────────────────────────────┼────────────────────────┼───────────────┤\n",
       "│ dropout_10 (<span style=\"color: #0087ff; text-decoration-color: #0087ff\">Dropout</span>)            │ ?                      │             <span style=\"color: #00af00; text-decoration-color: #00af00\">0</span> │\n",
       "├─────────────────────────────────┼────────────────────────┼───────────────┤\n",
       "│ dense_5 (<span style=\"color: #0087ff; text-decoration-color: #0087ff\">Dense</span>)                 │ ?                      │   <span style=\"color: #00af00; text-decoration-color: #00af00\">0</span> (unbuilt) │\n",
       "└─────────────────────────────────┴────────────────────────┴───────────────┘\n",
       "</pre>\n"
      ],
      "text/plain": [
       "┏━━━━━━━━━━━━━━━━━━━━━━━━━━━━━━━━━┳━━━━━━━━━━━━━━━━━━━━━━━━┳━━━━━━━━━━━━━━━┓\n",
       "┃\u001b[1m \u001b[0m\u001b[1mLayer (type)                   \u001b[0m\u001b[1m \u001b[0m┃\u001b[1m \u001b[0m\u001b[1mOutput Shape          \u001b[0m\u001b[1m \u001b[0m┃\u001b[1m \u001b[0m\u001b[1m      Param #\u001b[0m\u001b[1m \u001b[0m┃\n",
       "┡━━━━━━━━━━━━━━━━━━━━━━━━━━━━━━━━━╇━━━━━━━━━━━━━━━━━━━━━━━━╇━━━━━━━━━━━━━━━┩\n",
       "│ rescaling_3 (\u001b[38;5;33mRescaling\u001b[0m)         │ ?                      │   \u001b[38;5;34m0\u001b[0m (unbuilt) │\n",
       "├─────────────────────────────────┼────────────────────────┼───────────────┤\n",
       "│ conv2d_6 (\u001b[38;5;33mConv2D\u001b[0m)               │ ?                      │   \u001b[38;5;34m0\u001b[0m (unbuilt) │\n",
       "├─────────────────────────────────┼────────────────────────┼───────────────┤\n",
       "│ max_pooling2d_6 (\u001b[38;5;33mMaxPooling2D\u001b[0m)  │ ?                      │             \u001b[38;5;34m0\u001b[0m │\n",
       "├─────────────────────────────────┼────────────────────────┼───────────────┤\n",
       "│ dropout_7 (\u001b[38;5;33mDropout\u001b[0m)             │ ?                      │             \u001b[38;5;34m0\u001b[0m │\n",
       "├─────────────────────────────────┼────────────────────────┼───────────────┤\n",
       "│ conv2d_7 (\u001b[38;5;33mConv2D\u001b[0m)               │ ?                      │   \u001b[38;5;34m0\u001b[0m (unbuilt) │\n",
       "├─────────────────────────────────┼────────────────────────┼───────────────┤\n",
       "│ max_pooling2d_7 (\u001b[38;5;33mMaxPooling2D\u001b[0m)  │ ?                      │             \u001b[38;5;34m0\u001b[0m │\n",
       "├─────────────────────────────────┼────────────────────────┼───────────────┤\n",
       "│ dropout_8 (\u001b[38;5;33mDropout\u001b[0m)             │ ?                      │             \u001b[38;5;34m0\u001b[0m │\n",
       "├─────────────────────────────────┼────────────────────────┼───────────────┤\n",
       "│ conv2d_8 (\u001b[38;5;33mConv2D\u001b[0m)               │ ?                      │   \u001b[38;5;34m0\u001b[0m (unbuilt) │\n",
       "├─────────────────────────────────┼────────────────────────┼───────────────┤\n",
       "│ max_pooling2d_8 (\u001b[38;5;33mMaxPooling2D\u001b[0m)  │ ?                      │             \u001b[38;5;34m0\u001b[0m │\n",
       "├─────────────────────────────────┼────────────────────────┼───────────────┤\n",
       "│ dropout_9 (\u001b[38;5;33mDropout\u001b[0m)             │ ?                      │             \u001b[38;5;34m0\u001b[0m │\n",
       "├─────────────────────────────────┼────────────────────────┼───────────────┤\n",
       "│ flatten_2 (\u001b[38;5;33mFlatten\u001b[0m)             │ ?                      │   \u001b[38;5;34m0\u001b[0m (unbuilt) │\n",
       "├─────────────────────────────────┼────────────────────────┼───────────────┤\n",
       "│ dense_4 (\u001b[38;5;33mDense\u001b[0m)                 │ ?                      │   \u001b[38;5;34m0\u001b[0m (unbuilt) │\n",
       "├─────────────────────────────────┼────────────────────────┼───────────────┤\n",
       "│ dropout_10 (\u001b[38;5;33mDropout\u001b[0m)            │ ?                      │             \u001b[38;5;34m0\u001b[0m │\n",
       "├─────────────────────────────────┼────────────────────────┼───────────────┤\n",
       "│ dense_5 (\u001b[38;5;33mDense\u001b[0m)                 │ ?                      │   \u001b[38;5;34m0\u001b[0m (unbuilt) │\n",
       "└─────────────────────────────────┴────────────────────────┴───────────────┘\n"
      ]
     },
     "metadata": {},
     "output_type": "display_data"
    },
    {
     "data": {
      "text/html": [
       "<pre style=\"white-space:pre;overflow-x:auto;line-height:normal;font-family:Menlo,'DejaVu Sans Mono',consolas,'Courier New',monospace\"><span style=\"font-weight: bold\"> Total params: </span><span style=\"color: #00af00; text-decoration-color: #00af00\">0</span> (0.00 B)\n",
       "</pre>\n"
      ],
      "text/plain": [
       "\u001b[1m Total params: \u001b[0m\u001b[38;5;34m0\u001b[0m (0.00 B)\n"
      ]
     },
     "metadata": {},
     "output_type": "display_data"
    },
    {
     "data": {
      "text/html": [
       "<pre style=\"white-space:pre;overflow-x:auto;line-height:normal;font-family:Menlo,'DejaVu Sans Mono',consolas,'Courier New',monospace\"><span style=\"font-weight: bold\"> Trainable params: </span><span style=\"color: #00af00; text-decoration-color: #00af00\">0</span> (0.00 B)\n",
       "</pre>\n"
      ],
      "text/plain": [
       "\u001b[1m Trainable params: \u001b[0m\u001b[38;5;34m0\u001b[0m (0.00 B)\n"
      ]
     },
     "metadata": {},
     "output_type": "display_data"
    },
    {
     "data": {
      "text/html": [
       "<pre style=\"white-space:pre;overflow-x:auto;line-height:normal;font-family:Menlo,'DejaVu Sans Mono',consolas,'Courier New',monospace\"><span style=\"font-weight: bold\"> Non-trainable params: </span><span style=\"color: #00af00; text-decoration-color: #00af00\">0</span> (0.00 B)\n",
       "</pre>\n"
      ],
      "text/plain": [
       "\u001b[1m Non-trainable params: \u001b[0m\u001b[38;5;34m0\u001b[0m (0.00 B)\n"
      ]
     },
     "metadata": {},
     "output_type": "display_data"
    }
   ],
   "source": [
    "model.summary()"
   ]
  },
  {
   "cell_type": "code",
   "execution_count": 44,
   "id": "60ddfdab-6b33-42fc-babb-48c459815f0f",
   "metadata": {},
   "outputs": [],
   "source": [
    "es = EarlyStopping(patience=5, restore_best_weights=True)"
   ]
  },
  {
   "cell_type": "code",
   "execution_count": 45,
   "id": "b9ba676b-4b3f-4e50-b516-f1f34500af55",
   "metadata": {},
   "outputs": [
    {
     "name": "stdout",
     "output_type": "stream",
     "text": [
      "Epoch 1/50\n",
      "\u001b[1m1408/1408\u001b[0m \u001b[32m━━━━━━━━━━━━━━━━━━━━\u001b[0m\u001b[37m\u001b[0m \u001b[1m562s\u001b[0m 398ms/step - accuracy: 0.2467 - loss: 2.2025 - val_accuracy: 0.4027 - val_loss: 1.8396\n",
      "Epoch 2/50\n",
      "\u001b[1m1408/1408\u001b[0m \u001b[32m━━━━━━━━━━━━━━━━━━━━\u001b[0m\u001b[37m\u001b[0m \u001b[1m602s\u001b[0m 427ms/step - accuracy: 0.3962 - loss: 1.7790 - val_accuracy: 0.4435 - val_loss: 1.7748\n",
      "Epoch 3/50\n",
      "\u001b[1m1408/1408\u001b[0m \u001b[32m━━━━━━━━━━━━━━━━━━━━\u001b[0m\u001b[37m\u001b[0m \u001b[1m634s\u001b[0m 450ms/step - accuracy: 0.4827 - loss: 1.5619 - val_accuracy: 0.4419 - val_loss: 1.7556\n",
      "Epoch 4/50\n",
      "\u001b[1m1408/1408\u001b[0m \u001b[32m━━━━━━━━━━━━━━━━━━━━\u001b[0m\u001b[37m\u001b[0m \u001b[1m639s\u001b[0m 454ms/step - accuracy: 0.5102 - loss: 1.4994 - val_accuracy: 0.4474 - val_loss: 1.7443\n",
      "Epoch 5/50\n",
      "\u001b[1m1408/1408\u001b[0m \u001b[32m━━━━━━━━━━━━━━━━━━━━\u001b[0m\u001b[37m\u001b[0m \u001b[1m629s\u001b[0m 447ms/step - accuracy: 0.5308 - loss: 1.4420 - val_accuracy: 0.4505 - val_loss: 1.7123\n",
      "Epoch 6/50\n",
      "\u001b[1m1408/1408\u001b[0m \u001b[32m━━━━━━━━━━━━━━━━━━━━\u001b[0m\u001b[37m\u001b[0m \u001b[1m639s\u001b[0m 454ms/step - accuracy: 0.5463 - loss: 1.4262 - val_accuracy: 0.4482 - val_loss: 1.7158\n",
      "Epoch 7/50\n",
      "\u001b[1m1408/1408\u001b[0m \u001b[32m━━━━━━━━━━━━━━━━━━━━\u001b[0m\u001b[37m\u001b[0m \u001b[1m628s\u001b[0m 446ms/step - accuracy: 0.5489 - loss: 1.3993 - val_accuracy: 0.4443 - val_loss: 1.7092\n",
      "Epoch 8/50\n",
      "\u001b[1m1408/1408\u001b[0m \u001b[32m━━━━━━━━━━━━━━━━━━━━\u001b[0m\u001b[37m\u001b[0m \u001b[1m628s\u001b[0m 446ms/step - accuracy: 0.5615 - loss: 1.3649 - val_accuracy: 0.4537 - val_loss: 1.7059\n",
      "Epoch 9/50\n",
      "\u001b[1m1408/1408\u001b[0m \u001b[32m━━━━━━━━━━━━━━━━━━━━\u001b[0m\u001b[37m\u001b[0m \u001b[1m574s\u001b[0m 408ms/step - accuracy: 0.5764 - loss: 1.3306 - val_accuracy: 0.4490 - val_loss: 1.6891\n",
      "Epoch 10/50\n",
      "\u001b[1m1408/1408\u001b[0m \u001b[32m━━━━━━━━━━━━━━━━━━━━\u001b[0m\u001b[37m\u001b[0m \u001b[1m503s\u001b[0m 357ms/step - accuracy: 0.5802 - loss: 1.3114 - val_accuracy: 0.4537 - val_loss: 1.6852\n",
      "Epoch 11/50\n",
      "\u001b[1m1408/1408\u001b[0m \u001b[32m━━━━━━━━━━━━━━━━━━━━\u001b[0m\u001b[37m\u001b[0m \u001b[1m512s\u001b[0m 363ms/step - accuracy: 0.6014 - loss: 1.2813 - val_accuracy: 0.4498 - val_loss: 1.6868\n",
      "Epoch 12/50\n",
      "\u001b[1m1408/1408\u001b[0m \u001b[32m━━━━━━━━━━━━━━━━━━━━\u001b[0m\u001b[37m\u001b[0m \u001b[1m549s\u001b[0m 390ms/step - accuracy: 0.6072 - loss: 1.2580 - val_accuracy: 0.4505 - val_loss: 1.6765\n",
      "Epoch 13/50\n",
      "\u001b[1m1408/1408\u001b[0m \u001b[32m━━━━━━━━━━━━━━━━━━━━\u001b[0m\u001b[37m\u001b[0m \u001b[1m537s\u001b[0m 381ms/step - accuracy: 0.6071 - loss: 1.2487 - val_accuracy: 0.4631 - val_loss: 1.6646\n",
      "Epoch 14/50\n",
      "\u001b[1m1408/1408\u001b[0m \u001b[32m━━━━━━━━━━━━━━━━━━━━\u001b[0m\u001b[37m\u001b[0m \u001b[1m641s\u001b[0m 455ms/step - accuracy: 0.6177 - loss: 1.2324 - val_accuracy: 0.4513 - val_loss: 1.6899\n",
      "Epoch 15/50\n",
      "\u001b[1m1408/1408\u001b[0m \u001b[32m━━━━━━━━━━━━━━━━━━━━\u001b[0m\u001b[37m\u001b[0m \u001b[1m626s\u001b[0m 445ms/step - accuracy: 0.6272 - loss: 1.2062 - val_accuracy: 0.4639 - val_loss: 1.6516\n",
      "Epoch 16/50\n",
      "\u001b[1m1408/1408\u001b[0m \u001b[32m━━━━━━━━━━━━━━━━━━━━\u001b[0m\u001b[37m\u001b[0m \u001b[1m555s\u001b[0m 394ms/step - accuracy: 0.6410 - loss: 1.1953 - val_accuracy: 0.4584 - val_loss: 1.6664\n",
      "Epoch 17/50\n",
      "\u001b[1m1408/1408\u001b[0m \u001b[32m━━━━━━━━━━━━━━━━━━━━\u001b[0m\u001b[37m\u001b[0m \u001b[1m604s\u001b[0m 429ms/step - accuracy: 0.6404 - loss: 1.1859 - val_accuracy: 0.4592 - val_loss: 1.6567\n",
      "Epoch 18/50\n",
      "\u001b[1m1408/1408\u001b[0m \u001b[32m━━━━━━━━━━━━━━━━━━━━\u001b[0m\u001b[37m\u001b[0m \u001b[1m639s\u001b[0m 454ms/step - accuracy: 0.6501 - loss: 1.1606 - val_accuracy: 0.4521 - val_loss: 1.6484\n",
      "Epoch 19/50\n",
      "\u001b[1m1408/1408\u001b[0m \u001b[32m━━━━━━━━━━━━━━━━━━━━\u001b[0m\u001b[37m\u001b[0m \u001b[1m588s\u001b[0m 418ms/step - accuracy: 0.6635 - loss: 1.1486 - val_accuracy: 0.4592 - val_loss: 1.6703\n",
      "Epoch 20/50\n",
      "\u001b[1m1408/1408\u001b[0m \u001b[32m━━━━━━━━━━━━━━━━━━━━\u001b[0m\u001b[37m\u001b[0m \u001b[1m850s\u001b[0m 604ms/step - accuracy: 0.6601 - loss: 1.1355 - val_accuracy: 0.4600 - val_loss: 1.6477\n",
      "Epoch 21/50\n",
      "\u001b[1m1408/1408\u001b[0m \u001b[32m━━━━━━━━━━━━━━━━━━━━\u001b[0m\u001b[37m\u001b[0m \u001b[1m744s\u001b[0m 528ms/step - accuracy: 0.6599 - loss: 1.1454 - val_accuracy: 0.4600 - val_loss: 1.6548\n",
      "Epoch 22/50\n",
      "\u001b[1m1408/1408\u001b[0m \u001b[32m━━━━━━━━━━━━━━━━━━━━\u001b[0m\u001b[37m\u001b[0m \u001b[1m666s\u001b[0m 473ms/step - accuracy: 0.6593 - loss: 1.1322 - val_accuracy: 0.4639 - val_loss: 1.6559\n",
      "Epoch 23/50\n",
      "\u001b[1m1408/1408\u001b[0m \u001b[32m━━━━━━━━━━━━━━━━━━━━\u001b[0m\u001b[37m\u001b[0m \u001b[1m920s\u001b[0m 653ms/step - accuracy: 0.6718 - loss: 1.1177 - val_accuracy: 0.4584 - val_loss: 1.6562\n",
      "Epoch 24/50\n",
      "\u001b[1m 588/1408\u001b[0m \u001b[32m━━━━━━━━\u001b[0m\u001b[37m━━━━━━━━━━━━\u001b[0m \u001b[1m9:22\u001b[0m 686ms/step - accuracy: 0.6727 - loss: 1.1160 "
     ]
    },
    {
     "ename": "KeyboardInterrupt",
     "evalue": "",
     "output_type": "error",
     "traceback": [
      "\u001b[0;31m---------------------------------------------------------------------------\u001b[0m",
      "\u001b[0;31mKeyboardInterrupt\u001b[0m                         Traceback (most recent call last)",
      "Cell \u001b[0;32mIn[45], line 1\u001b[0m\n\u001b[0;32m----> 1\u001b[0m history \u001b[38;5;241m=\u001b[39m \u001b[43mmodel\u001b[49m\u001b[38;5;241;43m.\u001b[39;49m\u001b[43mfit\u001b[49m\u001b[43m(\u001b[49m\n\u001b[1;32m      2\u001b[0m \u001b[43m    \u001b[49m\u001b[43mtrain_ds\u001b[49m\u001b[43m,\u001b[49m\n\u001b[1;32m      3\u001b[0m \u001b[43m    \u001b[49m\u001b[43mvalidation_data\u001b[49m\u001b[38;5;241;43m=\u001b[39;49m\u001b[43mval_ds\u001b[49m\u001b[43m,\u001b[49m\n\u001b[1;32m      4\u001b[0m \u001b[43m    \u001b[49m\u001b[43mepochs\u001b[49m\u001b[43m \u001b[49m\u001b[38;5;241;43m=\u001b[39;49m\u001b[43m \u001b[49m\u001b[38;5;241;43m50\u001b[39;49m\u001b[43m,\u001b[49m\n\u001b[1;32m      5\u001b[0m \u001b[43m    \u001b[49m\u001b[43mcallbacks\u001b[49m\u001b[43m \u001b[49m\u001b[38;5;241;43m=\u001b[39;49m\u001b[43m \u001b[49m\u001b[43m[\u001b[49m\u001b[43mes\u001b[49m\u001b[43m]\u001b[49m\u001b[43m,\u001b[49m\n\u001b[1;32m      6\u001b[0m \u001b[43m    \u001b[49m\u001b[43mverbose\u001b[49m\u001b[43m \u001b[49m\u001b[38;5;241;43m=\u001b[39;49m\u001b[43m \u001b[49m\u001b[38;5;241;43m1\u001b[39;49m\n\u001b[1;32m      7\u001b[0m \u001b[43m)\u001b[49m\n",
      "File \u001b[0;32m~/.pyenv/versions/3.10.6/envs/eyesense/lib/python3.10/site-packages/keras/src/utils/traceback_utils.py:117\u001b[0m, in \u001b[0;36mfilter_traceback.<locals>.error_handler\u001b[0;34m(*args, **kwargs)\u001b[0m\n\u001b[1;32m    115\u001b[0m filtered_tb \u001b[38;5;241m=\u001b[39m \u001b[38;5;28;01mNone\u001b[39;00m\n\u001b[1;32m    116\u001b[0m \u001b[38;5;28;01mtry\u001b[39;00m:\n\u001b[0;32m--> 117\u001b[0m     \u001b[38;5;28;01mreturn\u001b[39;00m \u001b[43mfn\u001b[49m\u001b[43m(\u001b[49m\u001b[38;5;241;43m*\u001b[39;49m\u001b[43margs\u001b[49m\u001b[43m,\u001b[49m\u001b[43m \u001b[49m\u001b[38;5;241;43m*\u001b[39;49m\u001b[38;5;241;43m*\u001b[39;49m\u001b[43mkwargs\u001b[49m\u001b[43m)\u001b[49m\n\u001b[1;32m    118\u001b[0m \u001b[38;5;28;01mexcept\u001b[39;00m \u001b[38;5;167;01mException\u001b[39;00m \u001b[38;5;28;01mas\u001b[39;00m e:\n\u001b[1;32m    119\u001b[0m     filtered_tb \u001b[38;5;241m=\u001b[39m _process_traceback_frames(e\u001b[38;5;241m.\u001b[39m__traceback__)\n",
      "File \u001b[0;32m~/.pyenv/versions/3.10.6/envs/eyesense/lib/python3.10/site-packages/keras/src/backend/tensorflow/trainer.py:371\u001b[0m, in \u001b[0;36mTensorFlowTrainer.fit\u001b[0;34m(self, x, y, batch_size, epochs, verbose, callbacks, validation_split, validation_data, shuffle, class_weight, sample_weight, initial_epoch, steps_per_epoch, validation_steps, validation_batch_size, validation_freq)\u001b[0m\n\u001b[1;32m    369\u001b[0m \u001b[38;5;28;01mfor\u001b[39;00m step, iterator \u001b[38;5;129;01min\u001b[39;00m epoch_iterator:\n\u001b[1;32m    370\u001b[0m     callbacks\u001b[38;5;241m.\u001b[39mon_train_batch_begin(step)\n\u001b[0;32m--> 371\u001b[0m     logs \u001b[38;5;241m=\u001b[39m \u001b[38;5;28;43mself\u001b[39;49m\u001b[38;5;241;43m.\u001b[39;49m\u001b[43mtrain_function\u001b[49m\u001b[43m(\u001b[49m\u001b[43miterator\u001b[49m\u001b[43m)\u001b[49m\n\u001b[1;32m    372\u001b[0m     callbacks\u001b[38;5;241m.\u001b[39mon_train_batch_end(step, logs)\n\u001b[1;32m    373\u001b[0m     \u001b[38;5;28;01mif\u001b[39;00m \u001b[38;5;28mself\u001b[39m\u001b[38;5;241m.\u001b[39mstop_training:\n",
      "File \u001b[0;32m~/.pyenv/versions/3.10.6/envs/eyesense/lib/python3.10/site-packages/keras/src/backend/tensorflow/trainer.py:219\u001b[0m, in \u001b[0;36mTensorFlowTrainer._make_function.<locals>.function\u001b[0;34m(iterator)\u001b[0m\n\u001b[1;32m    215\u001b[0m \u001b[38;5;28;01mdef\u001b[39;00m\u001b[38;5;250m \u001b[39m\u001b[38;5;21mfunction\u001b[39m(iterator):\n\u001b[1;32m    216\u001b[0m     \u001b[38;5;28;01mif\u001b[39;00m \u001b[38;5;28misinstance\u001b[39m(\n\u001b[1;32m    217\u001b[0m         iterator, (tf\u001b[38;5;241m.\u001b[39mdata\u001b[38;5;241m.\u001b[39mIterator, tf\u001b[38;5;241m.\u001b[39mdistribute\u001b[38;5;241m.\u001b[39mDistributedIterator)\n\u001b[1;32m    218\u001b[0m     ):\n\u001b[0;32m--> 219\u001b[0m         opt_outputs \u001b[38;5;241m=\u001b[39m \u001b[43mmulti_step_on_iterator\u001b[49m\u001b[43m(\u001b[49m\u001b[43miterator\u001b[49m\u001b[43m)\u001b[49m\n\u001b[1;32m    220\u001b[0m         \u001b[38;5;28;01mif\u001b[39;00m \u001b[38;5;129;01mnot\u001b[39;00m opt_outputs\u001b[38;5;241m.\u001b[39mhas_value():\n\u001b[1;32m    221\u001b[0m             \u001b[38;5;28;01mraise\u001b[39;00m \u001b[38;5;167;01mStopIteration\u001b[39;00m\n",
      "File \u001b[0;32m~/.pyenv/versions/3.10.6/envs/eyesense/lib/python3.10/site-packages/tensorflow/python/util/traceback_utils.py:150\u001b[0m, in \u001b[0;36mfilter_traceback.<locals>.error_handler\u001b[0;34m(*args, **kwargs)\u001b[0m\n\u001b[1;32m    148\u001b[0m filtered_tb \u001b[38;5;241m=\u001b[39m \u001b[38;5;28;01mNone\u001b[39;00m\n\u001b[1;32m    149\u001b[0m \u001b[38;5;28;01mtry\u001b[39;00m:\n\u001b[0;32m--> 150\u001b[0m   \u001b[38;5;28;01mreturn\u001b[39;00m \u001b[43mfn\u001b[49m\u001b[43m(\u001b[49m\u001b[38;5;241;43m*\u001b[39;49m\u001b[43margs\u001b[49m\u001b[43m,\u001b[49m\u001b[43m \u001b[49m\u001b[38;5;241;43m*\u001b[39;49m\u001b[38;5;241;43m*\u001b[39;49m\u001b[43mkwargs\u001b[49m\u001b[43m)\u001b[49m\n\u001b[1;32m    151\u001b[0m \u001b[38;5;28;01mexcept\u001b[39;00m \u001b[38;5;167;01mException\u001b[39;00m \u001b[38;5;28;01mas\u001b[39;00m e:\n\u001b[1;32m    152\u001b[0m   filtered_tb \u001b[38;5;241m=\u001b[39m _process_traceback_frames(e\u001b[38;5;241m.\u001b[39m__traceback__)\n",
      "File \u001b[0;32m~/.pyenv/versions/3.10.6/envs/eyesense/lib/python3.10/site-packages/tensorflow/python/eager/polymorphic_function/polymorphic_function.py:833\u001b[0m, in \u001b[0;36mFunction.__call__\u001b[0;34m(self, *args, **kwds)\u001b[0m\n\u001b[1;32m    830\u001b[0m compiler \u001b[38;5;241m=\u001b[39m \u001b[38;5;124m\"\u001b[39m\u001b[38;5;124mxla\u001b[39m\u001b[38;5;124m\"\u001b[39m \u001b[38;5;28;01mif\u001b[39;00m \u001b[38;5;28mself\u001b[39m\u001b[38;5;241m.\u001b[39m_jit_compile \u001b[38;5;28;01melse\u001b[39;00m \u001b[38;5;124m\"\u001b[39m\u001b[38;5;124mnonXla\u001b[39m\u001b[38;5;124m\"\u001b[39m\n\u001b[1;32m    832\u001b[0m \u001b[38;5;28;01mwith\u001b[39;00m OptionalXlaContext(\u001b[38;5;28mself\u001b[39m\u001b[38;5;241m.\u001b[39m_jit_compile):\n\u001b[0;32m--> 833\u001b[0m   result \u001b[38;5;241m=\u001b[39m \u001b[38;5;28;43mself\u001b[39;49m\u001b[38;5;241;43m.\u001b[39;49m\u001b[43m_call\u001b[49m\u001b[43m(\u001b[49m\u001b[38;5;241;43m*\u001b[39;49m\u001b[43margs\u001b[49m\u001b[43m,\u001b[49m\u001b[43m \u001b[49m\u001b[38;5;241;43m*\u001b[39;49m\u001b[38;5;241;43m*\u001b[39;49m\u001b[43mkwds\u001b[49m\u001b[43m)\u001b[49m\n\u001b[1;32m    835\u001b[0m new_tracing_count \u001b[38;5;241m=\u001b[39m \u001b[38;5;28mself\u001b[39m\u001b[38;5;241m.\u001b[39mexperimental_get_tracing_count()\n\u001b[1;32m    836\u001b[0m without_tracing \u001b[38;5;241m=\u001b[39m (tracing_count \u001b[38;5;241m==\u001b[39m new_tracing_count)\n",
      "File \u001b[0;32m~/.pyenv/versions/3.10.6/envs/eyesense/lib/python3.10/site-packages/tensorflow/python/eager/polymorphic_function/polymorphic_function.py:878\u001b[0m, in \u001b[0;36mFunction._call\u001b[0;34m(self, *args, **kwds)\u001b[0m\n\u001b[1;32m    875\u001b[0m \u001b[38;5;28mself\u001b[39m\u001b[38;5;241m.\u001b[39m_lock\u001b[38;5;241m.\u001b[39mrelease()\n\u001b[1;32m    876\u001b[0m \u001b[38;5;66;03m# In this case we have not created variables on the first call. So we can\u001b[39;00m\n\u001b[1;32m    877\u001b[0m \u001b[38;5;66;03m# run the first trace but we should fail if variables are created.\u001b[39;00m\n\u001b[0;32m--> 878\u001b[0m results \u001b[38;5;241m=\u001b[39m \u001b[43mtracing_compilation\u001b[49m\u001b[38;5;241;43m.\u001b[39;49m\u001b[43mcall_function\u001b[49m\u001b[43m(\u001b[49m\n\u001b[1;32m    879\u001b[0m \u001b[43m    \u001b[49m\u001b[43margs\u001b[49m\u001b[43m,\u001b[49m\u001b[43m \u001b[49m\u001b[43mkwds\u001b[49m\u001b[43m,\u001b[49m\u001b[43m \u001b[49m\u001b[38;5;28;43mself\u001b[39;49m\u001b[38;5;241;43m.\u001b[39;49m\u001b[43m_variable_creation_config\u001b[49m\n\u001b[1;32m    880\u001b[0m \u001b[43m\u001b[49m\u001b[43m)\u001b[49m\n\u001b[1;32m    881\u001b[0m \u001b[38;5;28;01mif\u001b[39;00m \u001b[38;5;28mself\u001b[39m\u001b[38;5;241m.\u001b[39m_created_variables:\n\u001b[1;32m    882\u001b[0m   \u001b[38;5;28;01mraise\u001b[39;00m \u001b[38;5;167;01mValueError\u001b[39;00m(\u001b[38;5;124m\"\u001b[39m\u001b[38;5;124mCreating variables on a non-first call to a function\u001b[39m\u001b[38;5;124m\"\u001b[39m\n\u001b[1;32m    883\u001b[0m                    \u001b[38;5;124m\"\u001b[39m\u001b[38;5;124m decorated with tf.function.\u001b[39m\u001b[38;5;124m\"\u001b[39m)\n",
      "File \u001b[0;32m~/.pyenv/versions/3.10.6/envs/eyesense/lib/python3.10/site-packages/tensorflow/python/eager/polymorphic_function/tracing_compilation.py:139\u001b[0m, in \u001b[0;36mcall_function\u001b[0;34m(args, kwargs, tracing_options)\u001b[0m\n\u001b[1;32m    137\u001b[0m bound_args \u001b[38;5;241m=\u001b[39m function\u001b[38;5;241m.\u001b[39mfunction_type\u001b[38;5;241m.\u001b[39mbind(\u001b[38;5;241m*\u001b[39margs, \u001b[38;5;241m*\u001b[39m\u001b[38;5;241m*\u001b[39mkwargs)\n\u001b[1;32m    138\u001b[0m flat_inputs \u001b[38;5;241m=\u001b[39m function\u001b[38;5;241m.\u001b[39mfunction_type\u001b[38;5;241m.\u001b[39munpack_inputs(bound_args)\n\u001b[0;32m--> 139\u001b[0m \u001b[38;5;28;01mreturn\u001b[39;00m \u001b[43mfunction\u001b[49m\u001b[38;5;241;43m.\u001b[39;49m\u001b[43m_call_flat\u001b[49m\u001b[43m(\u001b[49m\u001b[43m  \u001b[49m\u001b[38;5;66;43;03m# pylint: disable=protected-access\u001b[39;49;00m\n\u001b[1;32m    140\u001b[0m \u001b[43m    \u001b[49m\u001b[43mflat_inputs\u001b[49m\u001b[43m,\u001b[49m\u001b[43m \u001b[49m\u001b[43mcaptured_inputs\u001b[49m\u001b[38;5;241;43m=\u001b[39;49m\u001b[43mfunction\u001b[49m\u001b[38;5;241;43m.\u001b[39;49m\u001b[43mcaptured_inputs\u001b[49m\n\u001b[1;32m    141\u001b[0m \u001b[43m\u001b[49m\u001b[43m)\u001b[49m\n",
      "File \u001b[0;32m~/.pyenv/versions/3.10.6/envs/eyesense/lib/python3.10/site-packages/tensorflow/python/eager/polymorphic_function/concrete_function.py:1322\u001b[0m, in \u001b[0;36mConcreteFunction._call_flat\u001b[0;34m(self, tensor_inputs, captured_inputs)\u001b[0m\n\u001b[1;32m   1318\u001b[0m possible_gradient_type \u001b[38;5;241m=\u001b[39m gradients_util\u001b[38;5;241m.\u001b[39mPossibleTapeGradientTypes(args)\n\u001b[1;32m   1319\u001b[0m \u001b[38;5;28;01mif\u001b[39;00m (possible_gradient_type \u001b[38;5;241m==\u001b[39m gradients_util\u001b[38;5;241m.\u001b[39mPOSSIBLE_GRADIENT_TYPES_NONE\n\u001b[1;32m   1320\u001b[0m     \u001b[38;5;129;01mand\u001b[39;00m executing_eagerly):\n\u001b[1;32m   1321\u001b[0m   \u001b[38;5;66;03m# No tape is watching; skip to running the function.\u001b[39;00m\n\u001b[0;32m-> 1322\u001b[0m   \u001b[38;5;28;01mreturn\u001b[39;00m \u001b[38;5;28;43mself\u001b[39;49m\u001b[38;5;241;43m.\u001b[39;49m\u001b[43m_inference_function\u001b[49m\u001b[38;5;241;43m.\u001b[39;49m\u001b[43mcall_preflattened\u001b[49m\u001b[43m(\u001b[49m\u001b[43margs\u001b[49m\u001b[43m)\u001b[49m\n\u001b[1;32m   1323\u001b[0m forward_backward \u001b[38;5;241m=\u001b[39m \u001b[38;5;28mself\u001b[39m\u001b[38;5;241m.\u001b[39m_select_forward_and_backward_functions(\n\u001b[1;32m   1324\u001b[0m     args,\n\u001b[1;32m   1325\u001b[0m     possible_gradient_type,\n\u001b[1;32m   1326\u001b[0m     executing_eagerly)\n\u001b[1;32m   1327\u001b[0m forward_function, args_with_tangents \u001b[38;5;241m=\u001b[39m forward_backward\u001b[38;5;241m.\u001b[39mforward()\n",
      "File \u001b[0;32m~/.pyenv/versions/3.10.6/envs/eyesense/lib/python3.10/site-packages/tensorflow/python/eager/polymorphic_function/atomic_function.py:216\u001b[0m, in \u001b[0;36mAtomicFunction.call_preflattened\u001b[0;34m(self, args)\u001b[0m\n\u001b[1;32m    214\u001b[0m \u001b[38;5;28;01mdef\u001b[39;00m\u001b[38;5;250m \u001b[39m\u001b[38;5;21mcall_preflattened\u001b[39m(\u001b[38;5;28mself\u001b[39m, args: Sequence[core\u001b[38;5;241m.\u001b[39mTensor]) \u001b[38;5;241m-\u001b[39m\u001b[38;5;241m>\u001b[39m Any:\n\u001b[1;32m    215\u001b[0m \u001b[38;5;250m  \u001b[39m\u001b[38;5;124;03m\"\"\"Calls with flattened tensor inputs and returns the structured output.\"\"\"\u001b[39;00m\n\u001b[0;32m--> 216\u001b[0m   flat_outputs \u001b[38;5;241m=\u001b[39m \u001b[38;5;28;43mself\u001b[39;49m\u001b[38;5;241;43m.\u001b[39;49m\u001b[43mcall_flat\u001b[49m\u001b[43m(\u001b[49m\u001b[38;5;241;43m*\u001b[39;49m\u001b[43margs\u001b[49m\u001b[43m)\u001b[49m\n\u001b[1;32m    217\u001b[0m   \u001b[38;5;28;01mreturn\u001b[39;00m \u001b[38;5;28mself\u001b[39m\u001b[38;5;241m.\u001b[39mfunction_type\u001b[38;5;241m.\u001b[39mpack_output(flat_outputs)\n",
      "File \u001b[0;32m~/.pyenv/versions/3.10.6/envs/eyesense/lib/python3.10/site-packages/tensorflow/python/eager/polymorphic_function/atomic_function.py:251\u001b[0m, in \u001b[0;36mAtomicFunction.call_flat\u001b[0;34m(self, *args)\u001b[0m\n\u001b[1;32m    249\u001b[0m \u001b[38;5;28;01mwith\u001b[39;00m record\u001b[38;5;241m.\u001b[39mstop_recording():\n\u001b[1;32m    250\u001b[0m   \u001b[38;5;28;01mif\u001b[39;00m \u001b[38;5;28mself\u001b[39m\u001b[38;5;241m.\u001b[39m_bound_context\u001b[38;5;241m.\u001b[39mexecuting_eagerly():\n\u001b[0;32m--> 251\u001b[0m     outputs \u001b[38;5;241m=\u001b[39m \u001b[38;5;28;43mself\u001b[39;49m\u001b[38;5;241;43m.\u001b[39;49m\u001b[43m_bound_context\u001b[49m\u001b[38;5;241;43m.\u001b[39;49m\u001b[43mcall_function\u001b[49m\u001b[43m(\u001b[49m\n\u001b[1;32m    252\u001b[0m \u001b[43m        \u001b[49m\u001b[38;5;28;43mself\u001b[39;49m\u001b[38;5;241;43m.\u001b[39;49m\u001b[43mname\u001b[49m\u001b[43m,\u001b[49m\n\u001b[1;32m    253\u001b[0m \u001b[43m        \u001b[49m\u001b[38;5;28;43mlist\u001b[39;49m\u001b[43m(\u001b[49m\u001b[43margs\u001b[49m\u001b[43m)\u001b[49m\u001b[43m,\u001b[49m\n\u001b[1;32m    254\u001b[0m \u001b[43m        \u001b[49m\u001b[38;5;28;43mlen\u001b[39;49m\u001b[43m(\u001b[49m\u001b[38;5;28;43mself\u001b[39;49m\u001b[38;5;241;43m.\u001b[39;49m\u001b[43mfunction_type\u001b[49m\u001b[38;5;241;43m.\u001b[39;49m\u001b[43mflat_outputs\u001b[49m\u001b[43m)\u001b[49m\u001b[43m,\u001b[49m\n\u001b[1;32m    255\u001b[0m \u001b[43m    \u001b[49m\u001b[43m)\u001b[49m\n\u001b[1;32m    256\u001b[0m   \u001b[38;5;28;01melse\u001b[39;00m:\n\u001b[1;32m    257\u001b[0m     outputs \u001b[38;5;241m=\u001b[39m make_call_op_in_graph(\n\u001b[1;32m    258\u001b[0m         \u001b[38;5;28mself\u001b[39m,\n\u001b[1;32m    259\u001b[0m         \u001b[38;5;28mlist\u001b[39m(args),\n\u001b[1;32m    260\u001b[0m         \u001b[38;5;28mself\u001b[39m\u001b[38;5;241m.\u001b[39m_bound_context\u001b[38;5;241m.\u001b[39mfunction_call_options\u001b[38;5;241m.\u001b[39mas_attrs(),\n\u001b[1;32m    261\u001b[0m     )\n",
      "File \u001b[0;32m~/.pyenv/versions/3.10.6/envs/eyesense/lib/python3.10/site-packages/tensorflow/python/eager/context.py:1688\u001b[0m, in \u001b[0;36mContext.call_function\u001b[0;34m(self, name, tensor_inputs, num_outputs)\u001b[0m\n\u001b[1;32m   1686\u001b[0m cancellation_context \u001b[38;5;241m=\u001b[39m cancellation\u001b[38;5;241m.\u001b[39mcontext()\n\u001b[1;32m   1687\u001b[0m \u001b[38;5;28;01mif\u001b[39;00m cancellation_context \u001b[38;5;129;01mis\u001b[39;00m \u001b[38;5;28;01mNone\u001b[39;00m:\n\u001b[0;32m-> 1688\u001b[0m   outputs \u001b[38;5;241m=\u001b[39m \u001b[43mexecute\u001b[49m\u001b[38;5;241;43m.\u001b[39;49m\u001b[43mexecute\u001b[49m\u001b[43m(\u001b[49m\n\u001b[1;32m   1689\u001b[0m \u001b[43m      \u001b[49m\u001b[43mname\u001b[49m\u001b[38;5;241;43m.\u001b[39;49m\u001b[43mdecode\u001b[49m\u001b[43m(\u001b[49m\u001b[38;5;124;43m\"\u001b[39;49m\u001b[38;5;124;43mutf-8\u001b[39;49m\u001b[38;5;124;43m\"\u001b[39;49m\u001b[43m)\u001b[49m\u001b[43m,\u001b[49m\n\u001b[1;32m   1690\u001b[0m \u001b[43m      \u001b[49m\u001b[43mnum_outputs\u001b[49m\u001b[38;5;241;43m=\u001b[39;49m\u001b[43mnum_outputs\u001b[49m\u001b[43m,\u001b[49m\n\u001b[1;32m   1691\u001b[0m \u001b[43m      \u001b[49m\u001b[43minputs\u001b[49m\u001b[38;5;241;43m=\u001b[39;49m\u001b[43mtensor_inputs\u001b[49m\u001b[43m,\u001b[49m\n\u001b[1;32m   1692\u001b[0m \u001b[43m      \u001b[49m\u001b[43mattrs\u001b[49m\u001b[38;5;241;43m=\u001b[39;49m\u001b[43mattrs\u001b[49m\u001b[43m,\u001b[49m\n\u001b[1;32m   1693\u001b[0m \u001b[43m      \u001b[49m\u001b[43mctx\u001b[49m\u001b[38;5;241;43m=\u001b[39;49m\u001b[38;5;28;43mself\u001b[39;49m\u001b[43m,\u001b[49m\n\u001b[1;32m   1694\u001b[0m \u001b[43m  \u001b[49m\u001b[43m)\u001b[49m\n\u001b[1;32m   1695\u001b[0m \u001b[38;5;28;01melse\u001b[39;00m:\n\u001b[1;32m   1696\u001b[0m   outputs \u001b[38;5;241m=\u001b[39m execute\u001b[38;5;241m.\u001b[39mexecute_with_cancellation(\n\u001b[1;32m   1697\u001b[0m       name\u001b[38;5;241m.\u001b[39mdecode(\u001b[38;5;124m\"\u001b[39m\u001b[38;5;124mutf-8\u001b[39m\u001b[38;5;124m\"\u001b[39m),\n\u001b[1;32m   1698\u001b[0m       num_outputs\u001b[38;5;241m=\u001b[39mnum_outputs,\n\u001b[0;32m   (...)\u001b[0m\n\u001b[1;32m   1702\u001b[0m       cancellation_manager\u001b[38;5;241m=\u001b[39mcancellation_context,\n\u001b[1;32m   1703\u001b[0m   )\n",
      "File \u001b[0;32m~/.pyenv/versions/3.10.6/envs/eyesense/lib/python3.10/site-packages/tensorflow/python/eager/execute.py:53\u001b[0m, in \u001b[0;36mquick_execute\u001b[0;34m(op_name, num_outputs, inputs, attrs, ctx, name)\u001b[0m\n\u001b[1;32m     51\u001b[0m \u001b[38;5;28;01mtry\u001b[39;00m:\n\u001b[1;32m     52\u001b[0m   ctx\u001b[38;5;241m.\u001b[39mensure_initialized()\n\u001b[0;32m---> 53\u001b[0m   tensors \u001b[38;5;241m=\u001b[39m \u001b[43mpywrap_tfe\u001b[49m\u001b[38;5;241;43m.\u001b[39;49m\u001b[43mTFE_Py_Execute\u001b[49m\u001b[43m(\u001b[49m\u001b[43mctx\u001b[49m\u001b[38;5;241;43m.\u001b[39;49m\u001b[43m_handle\u001b[49m\u001b[43m,\u001b[49m\u001b[43m \u001b[49m\u001b[43mdevice_name\u001b[49m\u001b[43m,\u001b[49m\u001b[43m \u001b[49m\u001b[43mop_name\u001b[49m\u001b[43m,\u001b[49m\n\u001b[1;32m     54\u001b[0m \u001b[43m                                      \u001b[49m\u001b[43minputs\u001b[49m\u001b[43m,\u001b[49m\u001b[43m \u001b[49m\u001b[43mattrs\u001b[49m\u001b[43m,\u001b[49m\u001b[43m \u001b[49m\u001b[43mnum_outputs\u001b[49m\u001b[43m)\u001b[49m\n\u001b[1;32m     55\u001b[0m \u001b[38;5;28;01mexcept\u001b[39;00m core\u001b[38;5;241m.\u001b[39m_NotOkStatusException \u001b[38;5;28;01mas\u001b[39;00m e:\n\u001b[1;32m     56\u001b[0m   \u001b[38;5;28;01mif\u001b[39;00m name \u001b[38;5;129;01mis\u001b[39;00m \u001b[38;5;129;01mnot\u001b[39;00m \u001b[38;5;28;01mNone\u001b[39;00m:\n",
      "\u001b[0;31mKeyboardInterrupt\u001b[0m: "
     ]
    }
   ],
   "source": [
    "history = model.fit(\n",
    "    train_ds,\n",
    "    validation_data=val_ds,\n",
    "    epochs = 50,\n",
    "    callbacks = [es],\n",
    "    verbose = 1\n",
    ")"
   ]
  },
  {
   "cell_type": "code",
   "execution_count": null,
   "id": "9fdd1e15-eb31-4c9c-8751-8f12a658587e",
   "metadata": {},
   "outputs": [],
   "source": [
    "def plot_history(history, title='', axs=None, exp_name=\"\"):\n",
    "    if axs is not None:\n",
    "        ax1, ax2 = axs\n",
    "    else:\n",
    "        f, (ax1, ax2) = plt.subplots(1, 2, figsize=(12, 4))\n",
    "\n",
    "    if len(exp_name) > 0 and exp_name[0] != '_':\n",
    "        exp_name = '_' + exp_name\n",
    "    ax1.plot(history.history['loss'], label = 'train' + exp_name)\n",
    "    ax1.plot(history.history['val_loss'], label = 'val' + exp_name)\n",
    "    #ax1.set_ylim(0., 2.2)\n",
    "    ax1.autoscale()\n",
    "    ax1.set_title('loss')\n",
    "    ax1.legend()\n",
    "\n",
    "    ax2.plot(history.history['accuracy'], label='train accuracy'  + exp_name)\n",
    "    ax2.plot(history.history['val_accuracy'], label='val accuracy'  + exp_name)\n",
    "    #ax2.set_ylim(0.25, 1.)\n",
    "    ax2.autoscale()\n",
    "    ax2.set_title('Accuracy')\n",
    "    ax2.legend()\n",
    "    return (ax1, ax2)"
   ]
  },
  {
   "cell_type": "code",
   "execution_count": null,
   "id": "1708d214-b99f-4b40-8202-c3b55de163c7",
   "metadata": {},
   "outputs": [],
   "source": [
    "plot_history(history, exp_name= 'Optimized CNN model');"
   ]
  },
  {
   "cell_type": "code",
   "execution_count": null,
   "id": "d7c349d9-d33a-4d3a-8018-2e55a638dec3",
   "metadata": {},
   "outputs": [],
   "source": [
    "test_ds = image_dataset_from_directory(\n",
    "  data_dir_test,\n",
    "  image_size=(img_height, img_width),\n",
    "  batch_size=batch_size)"
   ]
  },
  {
   "cell_type": "code",
   "execution_count": null,
   "id": "392885e5-f86f-4fda-9aa5-85d44134684b",
   "metadata": {},
   "outputs": [],
   "source": [
    "y_pred = model.predict(test_ds)"
   ]
  },
  {
   "cell_type": "code",
   "execution_count": null,
   "id": "ca53256e-228b-4846-aa85-c25d41e8b03e",
   "metadata": {},
   "outputs": [],
   "source": [
    "X_list = []\n",
    "y_list = []\n",
    "\n",
    "for images, labels in test_ds:\n",
    "    X_list.append(images.numpy())  \n",
    "    y_list.append(labels.numpy())  \n",
    "\n",
    "X_test = np.concatenate(X_list, axis=0)\n",
    "y_test = np.concatenate(y_list, axis=0)\n",
    "\n",
    "print(f\"Shape of X_test: {X_test.shape}\")  # (N_imagens, img_height, img_width, 3)\n",
    "print(f\"Shape of y_test: {y_test.shape}\")  # (N_imagens,)"
   ]
  },
  {
   "cell_type": "markdown",
   "id": "cbd6d4bd-b439-4e9d-b432-493cd0dacc72",
   "metadata": {},
   "source": [
    "### Metrics"
   ]
  },
  {
   "cell_type": "code",
   "execution_count": null,
   "id": "6dfee4a1-fa79-478a-b37d-5f68aec305f9",
   "metadata": {},
   "outputs": [],
   "source": [
    "# Calculate the metrics correctly for multiclass classification\n",
    "accuracy = accuracy_score(y_test, y_pred)\n",
    "precision = precision_score(y_test, y_pred, average='weighted')\n",
    "recall = recall_score(y_test, y_pred, average='weighted')\n",
    "f1 = f1_score(y_test, y_pred, average='weighted')\n",
    "\n",
    "# Show results\n",
    "print(f\"The model's accuracy is: {accuracy}\")\n",
    "print(f\"The model's precision is: {precision}\")\n",
    "print(f\"The model's recall is: {recall}\")\n",
    "print(f\"The F1 score is: {f1}\")"
   ]
  },
  {
   "cell_type": "code",
   "execution_count": null,
   "id": "fdaa7ea4-8e9b-4301-8f16-33b8546e3b88",
   "metadata": {},
   "outputs": [],
   "source": [
    "ConfusionMatrixDisplay.from_predictions(y_test, y_pred)\n",
    "plt.show()"
   ]
  },
  {
   "cell_type": "markdown",
   "id": "cbce7a42-4fa3-4789-a8bc-548f3ca43b3f",
   "metadata": {
    "jp-MarkdownHeadingCollapsed": true
   },
   "source": [
    "## Resnet"
   ]
  },
  {
   "cell_type": "code",
   "execution_count": null,
   "id": "6355992b-a0d7-4e60-9702-155add19fcea",
   "metadata": {},
   "outputs": [],
   "source": [
    "base_model = ResNet50(weights='imagenet', include_top=False, input_shape=(256, 256, 3))\n",
    "base_model.trainable = False  # Freeze the base model\n",
    "# Add custom layers for your classification task\n",
    "\n",
    "x = layers.GlobalAveragePooling2D()(base_model.output)\n",
    "x = layers.Dense(128, activation='relu')(x)\n",
    "#x = layers.Dropout(0.5)(x)\n",
    "output = layers.Dense(8, activation='softmax')(x)  # the number of your classes\n",
    "\n",
    "model_resnet = models.Model(inputs=base_model.input, outputs=output)"
   ]
  },
  {
   "cell_type": "code",
   "execution_count": null,
   "id": "fb21d4e0-14cd-4199-87b4-716e6190e9af",
   "metadata": {},
   "outputs": [],
   "source": [
    "model_resnet.compile(\n",
    "    optimizer= optimizers.Adam(learning_rate=0.001),\n",
    "    loss=losses.SparseCategoricalCrossentropy(from_logits=False),\n",
    "    metrics=['accuracy']\n",
    ")"
   ]
  },
  {
   "cell_type": "code",
   "execution_count": null,
   "id": "1008fb5a-1adf-4c17-ad87-eb9d4a66f10a",
   "metadata": {},
   "outputs": [],
   "source": [
    "es = callbacks.EarlyStopping(monitor='val_loss', patience=5, restore_best_weights=True)"
   ]
  },
  {
   "cell_type": "code",
   "execution_count": null,
   "id": "9ab45d5a-5a44-47b9-8598-697bf517f627",
   "metadata": {},
   "outputs": [],
   "source": [
    "history = model_resnet.fit(\n",
    "    train_ds,\n",
    "    validation_data=val_ds,\n",
    "    epochs = 50,\n",
    "    callbacks = [es],\n",
    "    verbose = 1\n",
    ")"
   ]
  },
  {
   "cell_type": "code",
   "execution_count": null,
   "id": "e1d19adc-5bcc-4d0d-9dfa-449b24d7238a",
   "metadata": {},
   "outputs": [],
   "source": [
    "plot_history(history, exp_name= 'First Resnet model');"
   ]
  },
  {
   "cell_type": "code",
   "execution_count": null,
   "id": "f188c9ec-1838-41af-8d93-292d06490b09",
   "metadata": {},
   "outputs": [],
   "source": [
    "y_pred = model_resnet.predict(test_ds)"
   ]
  },
  {
   "cell_type": "markdown",
   "id": "ea1a5e06-3ee2-443d-b1dc-cdea6a3e789c",
   "metadata": {},
   "source": [
    "### Metrics"
   ]
  },
  {
   "cell_type": "code",
   "execution_count": null,
   "id": "f543c669-cfaa-496a-ae2c-4beb5585aaf3",
   "metadata": {},
   "outputs": [],
   "source": [
    "# Calculate the metrics correctly for multiclass classification\n",
    "accuracy = accuracy_score(y_test, y_pred)\n",
    "precision = precision_score(y_test, y_pred, average='weighted')\n",
    "recall = recall_score(y_test, y_pred, average='weighted')\n",
    "f1 = f1_score(y_test, y_pred, average='weighted')\n",
    "\n",
    "# Show results\n",
    "print(f\"The model's accuracy is: {accuracy}\")\n",
    "print(f\"The model's precision is: {precision}\")\n",
    "print(f\"The model's recall is: {recall}\")\n",
    "print(f\"The F1 score is: {f1}\")"
   ]
  },
  {
   "cell_type": "code",
   "execution_count": null,
   "id": "24d73c67-cf21-4455-88fa-4489c76b892c",
   "metadata": {},
   "outputs": [],
   "source": [
    "ConfusionMatrixDisplay.from_predictions(y_test, y_pred)\n",
    "plt.show()"
   ]
  },
  {
   "cell_type": "code",
   "execution_count": null,
   "id": "29fde654-8a95-4502-bdfd-a78fc4a80734",
   "metadata": {},
   "outputs": [],
   "source": []
  }
 ],
 "metadata": {
  "kernelspec": {
   "display_name": "Python 3 (ipykernel)",
   "language": "python",
   "name": "python3"
  },
  "language_info": {
   "codemirror_mode": {
    "name": "ipython",
    "version": 3
   },
   "file_extension": ".py",
   "mimetype": "text/x-python",
   "name": "python",
   "nbconvert_exporter": "python",
   "pygments_lexer": "ipython3",
   "version": "3.10.6"
  }
 },
 "nbformat": 4,
 "nbformat_minor": 5
}
