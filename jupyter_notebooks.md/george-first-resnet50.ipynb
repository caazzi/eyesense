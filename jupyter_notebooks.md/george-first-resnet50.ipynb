{
 "cells": [
  {
   "cell_type": "markdown",
   "id": "cb46b1ee-e5c4-4bbd-96fe-c9cb0d88858d",
   "metadata": {},
   "source": [
    "# Eyesense"
   ]
  },
  {
   "cell_type": "markdown",
   "id": "f29f06b2-d9d6-48ba-9e60-5b8fb1e3c4fe",
   "metadata": {},
   "source": [
    "Ocular Disease Intelligent Recognition (ODIR) is a structured ophthalmic database of 5,000 patients with age, color fundus photographs from left and right eyes and doctors' diagnostic keywords from doctors.\n",
    "\n",
    "This dataset is meant to represent ‘‘real-life’’ set of patient information collected by Shanggong Medical Technology Co., Ltd. from different hospitals/medical centers in China. In these institutions, fundus images are captured by various cameras in the market, such as Canon, Zeiss and Kowa, resulting into varied image resolutions.\n",
    "Annotations were labeled by trained human readers with quality control management. They classify patient into eight labels including:\n",
    "\n",
    "-Normal (N),\n",
    "-Diabetes (D),\n",
    "-Glaucoma (G),\n",
    "-Cataract (C),\n",
    "-Age related Macular Degeneration (A),\n",
    "-Hypertension (H),\n",
    "-Pathological Myopia (M),\n",
    "-Other diseases/abnormalities (O)"
   ]
  },
  {
   "cell_type": "code",
   "execution_count": 1,
   "id": "f0813c10-3b30-4fa5-b514-8195ec645fdb",
   "metadata": {},
   "outputs": [
    {
     "name": "stderr",
     "output_type": "stream",
     "text": [
      "2025-03-18 09:44:53.993545: I tensorflow/core/util/port.cc:153] oneDNN custom operations are on. You may see slightly different numerical results due to floating-point round-off errors from different computation orders. To turn them off, set the environment variable `TF_ENABLE_ONEDNN_OPTS=0`.\n",
      "2025-03-18 09:44:54.029130: E external/local_xla/xla/stream_executor/cuda/cuda_fft.cc:467] Unable to register cuFFT factory: Attempting to register factory for plugin cuFFT when one has already been registered\n",
      "WARNING: All log messages before absl::InitializeLog() is called are written to STDERR\n",
      "E0000 00:00:1742291094.059452 1369428 cuda_dnn.cc:8579] Unable to register cuDNN factory: Attempting to register factory for plugin cuDNN when one has already been registered\n",
      "E0000 00:00:1742291094.068222 1369428 cuda_blas.cc:1407] Unable to register cuBLAS factory: Attempting to register factory for plugin cuBLAS when one has already been registered\n",
      "W0000 00:00:1742291094.097450 1369428 computation_placer.cc:177] computation placer already registered. Please check linkage and avoid linking the same target more than once.\n",
      "W0000 00:00:1742291094.097475 1369428 computation_placer.cc:177] computation placer already registered. Please check linkage and avoid linking the same target more than once.\n",
      "W0000 00:00:1742291094.097478 1369428 computation_placer.cc:177] computation placer already registered. Please check linkage and avoid linking the same target more than once.\n",
      "W0000 00:00:1742291094.097479 1369428 computation_placer.cc:177] computation placer already registered. Please check linkage and avoid linking the same target more than once.\n",
      "2025-03-18 09:44:54.106851: I tensorflow/core/platform/cpu_feature_guard.cc:210] This TensorFlow binary is optimized to use available CPU instructions in performance-critical operations.\n",
      "To enable the following instructions: AVX2 AVX_VNNI FMA, in other operations, rebuild TensorFlow with the appropriate compiler flags.\n"
     ]
    }
   ],
   "source": [
    "from tensorflow.keras import layers, models, optimizers, callbacks # type: ignore\n",
    "from tensorflow.keras.preprocessing import image_dataset_from_directory # type: ignore\n",
    "from tensorflow import losses, image, data\n",
    "import matplotlib.pyplot as plt\n",
    "from tensorflow.keras.applications import ResNet50 # type: ignore\n",
    "from tensorflow.keras.applications.resnet50 import preprocess_input, decode_predictions # type: ignore\n",
    "import pathlib"
   ]
  },
  {
   "cell_type": "markdown",
   "id": "e49d7de7-e1e1-4049-844f-3037d137de80",
   "metadata": {},
   "source": [
    "# Preprocess images"
   ]
  },
  {
   "cell_type": "code",
   "execution_count": 2,
   "id": "825a6a19-6072-46ae-ab1f-0d81e579d44d",
   "metadata": {},
   "outputs": [
    {
     "name": "stdout",
     "output_type": "stream",
     "text": [
      "Found 5119 files belonging to 7 classes.\n",
      "Using 4096 files for training.\n"
     ]
    },
    {
     "name": "stderr",
     "output_type": "stream",
     "text": [
      "W0000 00:00:1742291101.619648 1369428 gpu_device.cc:2341] Cannot dlopen some GPU libraries. Please make sure the missing libraries mentioned above are installed properly if you would like to use GPU. Follow the guide at https://www.tensorflow.org/install/gpu for how to download and setup the required libraries for your platform.\n",
      "Skipping registering GPU devices...\n"
     ]
    },
    {
     "name": "stdout",
     "output_type": "stream",
     "text": [
      "Found 5119 files belonging to 7 classes.\n",
      "Using 1023 files for validation.\n",
      "Found 565 files belonging to 7 classes.\n"
     ]
    }
   ],
   "source": [
    "batch_size = 32\n",
    "img_height = 224\n",
    "img_width  = 224\n",
    "\n",
    "#Adjust the path according to your machine\n",
    "data_dir_train = pathlib.Path('../my_notebooks/data_train/')\n",
    "data_dir_test  = pathlib.Path('../my_notebooks/data_test/')\n",
    "\n",
    "\n",
    "train_ds = image_dataset_from_directory(\n",
    "            data_dir_train,\n",
    "            validation_split=0.2,\n",
    "            subset=\"training\",\n",
    "            seed=10,\n",
    "            image_size=(img_height, img_width),\n",
    "            batch_size=batch_size)\n",
    "\n",
    "val_ds = image_dataset_from_directory(\n",
    "            data_dir_train,\n",
    "            validation_split=0.2,\n",
    "            subset=\"validation\",\n",
    "            seed=10,\n",
    "            image_size=(img_height, img_width),\n",
    "            batch_size=batch_size)\n",
    "\n",
    "test_ds = image_dataset_from_directory(\n",
    "  data_dir_test,\n",
    "  seed=10,\n",
    "  image_size=(img_height, img_width),\n",
    "  batch_size=batch_size)"
   ]
  },
  {
   "cell_type": "code",
   "execution_count": 3,
   "id": "6ea7955b-a4b3-43db-b6b2-23a0ee01eee3",
   "metadata": {},
   "outputs": [
    {
     "name": "stdout",
     "output_type": "stream",
     "text": [
      "👉The shape of each train batch is (32, 224, 224, 3)\n",
      "  The shape of each target batch is (32,)\n"
     ]
    }
   ],
   "source": [
    "for image_batch, labels_batch in train_ds:\n",
    "  print(f\"👉The shape of each train batch is {image_batch.shape}\")\n",
    "  print(f\"  The shape of each target batch is {labels_batch.shape}\")\n",
    "  break"
   ]
  },
  {
   "cell_type": "markdown",
   "id": "74c520e7-ff64-4ab3-b2ed-6cb8e4084c7e",
   "metadata": {},
   "source": [
    "# Normalizing the images"
   ]
  },
  {
   "cell_type": "code",
   "execution_count": 4,
   "id": "2ea084b9-e223-4c9b-b497-a88e3f571308",
   "metadata": {},
   "outputs": [],
   "source": [
    "normalization_layer =   layers.Rescaling(1./255)\n",
    "normalized_train_ds = train_ds.map(lambda x, y: (normalization_layer(x), y))\n",
    "normalized_val_ds   =   val_ds.map(lambda x, y: (normalization_layer(x), y))\n",
    "normalized_test_ds  =  test_ds.map(lambda x, y: (normalization_layer(x), y))"
   ]
  },
  {
   "cell_type": "code",
   "execution_count": 5,
   "id": "8a6ef009-41fb-4345-b864-7e69d2824255",
   "metadata": {},
   "outputs": [
    {
     "data": {
      "text/plain": [
       "['cataract',\n",
       " 'degeneration',\n",
       " 'diabets',\n",
       " 'glaucoma',\n",
       " 'hypertension',\n",
       " 'myopia',\n",
       " 'normal']"
      ]
     },
     "execution_count": 5,
     "metadata": {},
     "output_type": "execute_result"
    }
   ],
   "source": [
    "train_ds.class_names"
   ]
  },
  {
   "cell_type": "code",
   "execution_count": 6,
   "id": "ad0e4b4b-0de6-4a5f-a552-fc7cb165483d",
   "metadata": {},
   "outputs": [
    {
     "name": "stdout",
     "output_type": "stream",
     "text": [
      "Category 6: 2055 images\n",
      "Category 0: 216 images\n",
      "Category 2: 1170 images\n",
      "Category 3: 197 images\n",
      "Category 4: 97 images\n",
      "Category 1: 190 images\n",
      "Category 5: 171 images\n"
     ]
    },
    {
     "name": "stderr",
     "output_type": "stream",
     "text": [
      "2025-03-18 09:45:07.908167: I tensorflow/core/framework/local_rendezvous.cc:407] Local rendezvous is aborting with status: OUT_OF_RANGE: End of sequence\n"
     ]
    },
    {
     "data": {
      "text/plain": [
       "{6: 1.2,\n",
       " 0: 2.9027777777777777,\n",
       " 2: 1.3512820512820514,\n",
       " 3: 3.0862944162436547,\n",
       " 4: 5.237113402061856,\n",
       " 1: 3.163157894736842,\n",
       " 5: 3.4035087719298245}"
      ]
     },
     "execution_count": 6,
     "metadata": {},
     "output_type": "execute_result"
    }
   ],
   "source": [
    "from collections import Counter\n",
    "import numpy as np\n",
    "\n",
    "# Extract label counts\n",
    "label_counts = Counter()\n",
    "for _, labels in train_ds:  # Iterate through the batches\n",
    "    label_counts.update(labels.numpy())  # Count occurrences of each label\n",
    "\n",
    "# Display counts for each category\n",
    "class_weight = {}\n",
    "alpha = 0.2\n",
    "max_count = max(label_counts.items())[1]\n",
    "for label, count in label_counts.items():\n",
    "    class_weight[int(label)] = float(1 + alpha*max_count/count)\n",
    "    print(f\"Category {label}: {count} images\")\n",
    "\n",
    "class_weight"
   ]
  },
  {
   "cell_type": "code",
   "execution_count": 7,
   "id": "c6b87d51-7011-4ab9-877d-50aefd8760e9",
   "metadata": {},
   "outputs": [],
   "source": [
    "#class_weight = {0:3, 1:3, 2:2, 3:3, 4:3, 5:3, 6:1}"
   ]
  },
  {
   "cell_type": "markdown",
   "id": "056e12cd-11a6-4dec-b0aa-76ec56400fa3",
   "metadata": {},
   "source": [
    "# Creating a model"
   ]
  },
  {
   "cell_type": "code",
   "execution_count": 8,
   "id": "74670608-5aff-4d21-af6a-bc858cea04d2",
   "metadata": {},
   "outputs": [],
   "source": [
    "base_model = ResNet50(weights='imagenet', include_top=False, input_shape=(224, 224, 3))\n",
    "base_model.trainable = False  # Freeze the base model\n",
    "# Add custom layers for your classification task\n",
    "\n",
    "x = layers.GlobalAveragePooling2D()(base_model.output)\n",
    "x = layers.Dense(128, activation='relu')(x)\n",
    "#x = layers.Dropout(0.5)(x)\n",
    "output = layers.Dense(7, activation='softmax')(x)  # the number of your classes\n",
    "\n",
    "model = models.Model(inputs=base_model.input, outputs=output)"
   ]
  },
  {
   "cell_type": "code",
   "execution_count": 9,
   "id": "a842deb3-b218-437a-aa21-df869232a477",
   "metadata": {},
   "outputs": [],
   "source": [
    "#model.summary()"
   ]
  },
  {
   "cell_type": "code",
   "execution_count": 10,
   "id": "5eb85552-e72c-4668-bf7b-a04e8b0ecfcb",
   "metadata": {},
   "outputs": [],
   "source": [
    "model.compile(\n",
    "    optimizer= optimizers.Adam(learning_rate=0.001),\n",
    "    loss=losses.SparseCategoricalCrossentropy(from_logits=False),\n",
    "    metrics=['accuracy']\n",
    ")"
   ]
  },
  {
   "cell_type": "code",
   "execution_count": 11,
   "id": "b9c1e551-1cf3-4c49-ad0d-0b7324fe0859",
   "metadata": {},
   "outputs": [],
   "source": [
    "def plot_history(history, title='', axs=None, exp_name=\"\"):\n",
    "    if axs is not None:\n",
    "        ax1, ax2 = axs\n",
    "    else:\n",
    "        f, (ax1, ax2) = plt.subplots(1, 2, figsize=(12, 4))\n",
    "\n",
    "    if len(exp_name) > 0 and exp_name[0] != '_':\n",
    "        exp_name = '_' + exp_name\n",
    "    ax1.plot(history.history['loss'], label = 'train' + exp_name)\n",
    "    ax1.plot(history.history['val_loss'], label = 'val' + exp_name)\n",
    "    ax1.set_ylim(0., 1.8)\n",
    "    #ax1.autoscale()\n",
    "    ax1.set_title('loss')\n",
    "    ax1.legend()\n",
    "\n",
    "    ax2.plot(history.history['accuracy'], label='train accuracy'  + exp_name)\n",
    "    ax2.plot(history.history['val_accuracy'], label='val accuracy'  + exp_name)\n",
    "    ax2.set_ylim(0.4, 1.)\n",
    "    #ax2.autoscale()\n",
    "    ax2.set_title('Accuracy')\n",
    "    ax2.legend()\n",
    "    return (ax1, ax2)"
   ]
  },
  {
   "cell_type": "markdown",
   "id": "6c82b510-2a69-4321-a310-fcea0ce58786",
   "metadata": {},
   "source": [
    "# Training the model"
   ]
  },
  {
   "cell_type": "code",
   "execution_count": 12,
   "id": "a3bed323-053e-4a14-bbf2-bb11de2c2c25",
   "metadata": {},
   "outputs": [],
   "source": [
    "es = callbacks.EarlyStopping(patience=5, restore_best_weights=True)\n",
    "\n",
    "# Improve performance with prefetching\n",
    "#train_ds = train_ds.prefetch(data.AUTOTUNE)\n",
    "#val_ds   = val_ds.prefetch(data.AUTOTUNE)"
   ]
  },
  {
   "cell_type": "code",
   "execution_count": 13,
   "id": "a1bd94cc-3997-4650-b705-07050aa1e1ec",
   "metadata": {},
   "outputs": [
    {
     "data": {
      "text/plain": [
       "['cataract',\n",
       " 'degeneration',\n",
       " 'diabets',\n",
       " 'glaucoma',\n",
       " 'hypertension',\n",
       " 'myopia',\n",
       " 'normal']"
      ]
     },
     "execution_count": 13,
     "metadata": {},
     "output_type": "execute_result"
    }
   ],
   "source": [
    "train_ds.class_names"
   ]
  },
  {
   "cell_type": "code",
   "execution_count": 14,
   "id": "81f12c55-8bfc-4403-9519-e4513def3f5b",
   "metadata": {},
   "outputs": [
    {
     "name": "stdout",
     "output_type": "stream",
     "text": [
      "Epoch 1/5\n",
      "\u001b[1m128/128\u001b[0m \u001b[32m━━━━━━━━━━━━━━━━━━━━\u001b[0m\u001b[37m\u001b[0m \u001b[1m151s\u001b[0m 1s/step - accuracy: 0.4575 - loss: 3.1330 - val_accuracy: 0.4985 - val_loss: 1.4503\n",
      "Epoch 2/5\n"
     ]
    },
    {
     "name": "stderr",
     "output_type": "stream",
     "text": [
      "2025-03-18 09:47:40.408686: W tensorflow/core/kernels/data/prefetch_autotuner.cc:52] Prefetch autotuner tried to allocate 19267840 bytes after encountering the first element of size 19267840 bytes.This already causes the autotune ram budget to be exceeded. To stay within the ram budget, either increase the ram budget or reduce element size\n"
     ]
    },
    {
     "name": "stdout",
     "output_type": "stream",
     "text": [
      "\u001b[1m128/128\u001b[0m \u001b[32m━━━━━━━━━━━━━━━━━━━━\u001b[0m\u001b[37m\u001b[0m \u001b[1m144s\u001b[0m 1s/step - accuracy: 0.4822 - loss: 2.9914 - val_accuracy: 0.5191 - val_loss: 1.3756\n",
      "Epoch 3/5\n",
      "\u001b[1m128/128\u001b[0m \u001b[32m━━━━━━━━━━━━━━━━━━━━\u001b[0m\u001b[37m\u001b[0m \u001b[1m142s\u001b[0m 1s/step - accuracy: 0.5073 - loss: 2.9114 - val_accuracy: 0.5220 - val_loss: 1.4519\n",
      "Epoch 4/5\n",
      "\u001b[1m128/128\u001b[0m \u001b[32m━━━━━━━━━━━━━━━━━━━━\u001b[0m\u001b[37m\u001b[0m \u001b[1m144s\u001b[0m 1s/step - accuracy: 0.4909 - loss: 2.9644 - val_accuracy: 0.5239 - val_loss: 1.3993\n",
      "Epoch 5/5\n",
      "\u001b[1m128/128\u001b[0m \u001b[32m━━━━━━━━━━━━━━━━━━━━\u001b[0m\u001b[37m\u001b[0m \u001b[1m144s\u001b[0m 1s/step - accuracy: 0.4978 - loss: 2.9670 - val_accuracy: 0.5210 - val_loss: 1.4312\n"
     ]
    }
   ],
   "source": [
    "history = model.fit(\n",
    "    normalized_train_ds,\n",
    "    validation_data=normalized_val_ds,\n",
    "    epochs = 5,\n",
    "    #callbacks = [es],\n",
    "    class_weight = class_weight,\n",
    "    verbose = 1\n",
    ")"
   ]
  },
  {
   "cell_type": "code",
   "execution_count": 15,
   "id": "f9215874-5ade-4483-b29d-4b6460237bf1",
   "metadata": {},
   "outputs": [
    {
     "data": {
      "image/png": "[encoded data removed]",
      "text/plain": [
       "<Figure size 1200x400 with 2 Axes>"
      ]
     },
     "metadata": {},
     "output_type": "display_data"
    }
   ],
   "source": [
    "ax1, ax2 = plot_history(history, exp_name= 'Freezed layers');"
   ]
  },
  {
   "cell_type": "markdown",
   "id": "84dda245-ab61-451d-8a3c-37ebfbc00882",
   "metadata": {},
   "source": [
    "We're going to gradually unfreeze some layers"
   ]
  },
  {
   "cell_type": "code",
   "execution_count": 16,
   "id": "9fca724f-7441-461b-b267-f69c321f27b0",
   "metadata": {},
   "outputs": [],
   "source": [
    "for layer in base_model.layers[-3:]:  # Adjust the number of layers to unfreeze\n",
    "    layer.trainable = True\n",
    "\n",
    "model.compile(\n",
    "    optimizer= optimizers.Adam(learning_rate=0.00005),\n",
    "    loss=losses.SparseCategoricalCrossentropy(from_logits=False),\n",
    "    metrics=['accuracy']\n",
    ")"
   ]
  },
  {
   "cell_type": "code",
   "execution_count": 17,
   "id": "cb9aff7e-c7d1-47da-ac4e-2c2c0dfb8e38",
   "metadata": {},
   "outputs": [
    {
     "name": "stdout",
     "output_type": "stream",
     "text": [
      "Epoch 1/1000\n",
      "\u001b[1m128/128\u001b[0m \u001b[32m━━━━━━━━━━━━━━━━━━━━\u001b[0m\u001b[37m\u001b[0m \u001b[1m152s\u001b[0m 1s/step - accuracy: 0.4148 - loss: 2.5626 - val_accuracy: 0.5024 - val_loss: 1.4753\n",
      "Epoch 2/1000\n",
      "\u001b[1m128/128\u001b[0m \u001b[32m━━━━━━━━━━━━━━━━━━━━\u001b[0m\u001b[37m\u001b[0m \u001b[1m145s\u001b[0m 1s/step - accuracy: 0.4873 - loss: 1.3103 - val_accuracy: 0.5357 - val_loss: 1.1703\n",
      "Epoch 3/1000\n",
      "\u001b[1m128/128\u001b[0m \u001b[32m━━━━━━━━━━━━━━━━━━━━\u001b[0m\u001b[37m\u001b[0m \u001b[1m146s\u001b[0m 1s/step - accuracy: 0.5394 - loss: 1.1356 - val_accuracy: 0.5816 - val_loss: 1.0838\n",
      "Epoch 4/1000\n",
      "\u001b[1m128/128\u001b[0m \u001b[32m━━━━━━━━━━━━━━━━━━━━\u001b[0m\u001b[37m\u001b[0m \u001b[1m144s\u001b[0m 1s/step - accuracy: 0.5717 - loss: 1.0579 - val_accuracy: 0.5943 - val_loss: 1.0472\n",
      "Epoch 5/1000\n",
      "\u001b[1m128/128\u001b[0m \u001b[32m━━━━━━━━━━━━━━━━━━━━\u001b[0m\u001b[37m\u001b[0m \u001b[1m145s\u001b[0m 1s/step - accuracy: 0.5942 - loss: 1.0237 - val_accuracy: 0.5924 - val_loss: 1.0167\n",
      "Epoch 6/1000\n",
      "\u001b[1m128/128\u001b[0m \u001b[32m━━━━━━━━━━━━━━━━━━━━\u001b[0m\u001b[37m\u001b[0m \u001b[1m144s\u001b[0m 1s/step - accuracy: 0.5985 - loss: 0.9907 - val_accuracy: 0.6002 - val_loss: 1.0036\n",
      "Epoch 7/1000\n",
      "\u001b[1m128/128\u001b[0m \u001b[32m━━━━━━━━━━━━━━━━━━━━\u001b[0m\u001b[37m\u001b[0m \u001b[1m144s\u001b[0m 1s/step - accuracy: 0.6139 - loss: 0.9524 - val_accuracy: 0.6022 - val_loss: 0.9833\n",
      "Epoch 8/1000\n",
      "\u001b[1m128/128\u001b[0m \u001b[32m━━━━━━━━━━━━━━━━━━━━\u001b[0m\u001b[37m\u001b[0m \u001b[1m145s\u001b[0m 1s/step - accuracy: 0.6219 - loss: 0.9403 - val_accuracy: 0.6129 - val_loss: 0.9729\n",
      "Epoch 9/1000\n",
      "\u001b[1m128/128\u001b[0m \u001b[32m━━━━━━━━━━━━━━━━━━━━\u001b[0m\u001b[37m\u001b[0m \u001b[1m145s\u001b[0m 1s/step - accuracy: 0.6229 - loss: 0.9308 - val_accuracy: 0.6129 - val_loss: 0.9634\n",
      "Epoch 10/1000\n",
      "\u001b[1m128/128\u001b[0m \u001b[32m━━━━━━━━━━━━━━━━━━━━\u001b[0m\u001b[37m\u001b[0m \u001b[1m145s\u001b[0m 1s/step - accuracy: 0.6349 - loss: 0.9117 - val_accuracy: 0.6168 - val_loss: 0.9527\n",
      "Epoch 11/1000\n",
      "\u001b[1m128/128\u001b[0m \u001b[32m━━━━━━━━━━━━━━━━━━━━\u001b[0m\u001b[37m\u001b[0m \u001b[1m145s\u001b[0m 1s/step - accuracy: 0.6433 - loss: 0.8864 - val_accuracy: 0.6178 - val_loss: 0.9524\n",
      "Epoch 12/1000\n",
      "\u001b[1m128/128\u001b[0m \u001b[32m━━━━━━━━━━━━━━━━━━━━\u001b[0m\u001b[37m\u001b[0m \u001b[1m145s\u001b[0m 1s/step - accuracy: 0.6451 - loss: 0.8755 - val_accuracy: 0.6109 - val_loss: 0.9454\n",
      "Epoch 13/1000\n",
      "\u001b[1m128/128\u001b[0m \u001b[32m━━━━━━━━━━━━━━━━━━━━\u001b[0m\u001b[37m\u001b[0m \u001b[1m144s\u001b[0m 1s/step - accuracy: 0.6519 - loss: 0.8695 - val_accuracy: 0.6139 - val_loss: 0.9443\n",
      "Epoch 14/1000\n",
      "\u001b[1m128/128\u001b[0m \u001b[32m━━━━━━━━━━━━━━━━━━━━\u001b[0m\u001b[37m\u001b[0m \u001b[1m145s\u001b[0m 1s/step - accuracy: 0.6621 - loss: 0.8500 - val_accuracy: 0.6188 - val_loss: 0.9358\n",
      "Epoch 15/1000\n",
      "\u001b[1m128/128\u001b[0m \u001b[32m━━━━━━━━━━━━━━━━━━━━\u001b[0m\u001b[37m\u001b[0m \u001b[1m145s\u001b[0m 1s/step - accuracy: 0.6651 - loss: 0.8355 - val_accuracy: 0.6207 - val_loss: 0.9335\n",
      "Epoch 16/1000\n",
      "\u001b[1m128/128\u001b[0m \u001b[32m━━━━━━━━━━━━━━━━━━━━\u001b[0m\u001b[37m\u001b[0m \u001b[1m145s\u001b[0m 1s/step - accuracy: 0.6659 - loss: 0.8328 - val_accuracy: 0.6227 - val_loss: 0.9315\n",
      "Epoch 17/1000\n",
      "\u001b[1m128/128\u001b[0m \u001b[32m━━━━━━━━━━━━━━━━━━━━\u001b[0m\u001b[37m\u001b[0m \u001b[1m145s\u001b[0m 1s/step - accuracy: 0.6685 - loss: 0.8244 - val_accuracy: 0.6188 - val_loss: 0.9271\n",
      "Epoch 18/1000\n",
      "\u001b[1m128/128\u001b[0m \u001b[32m━━━━━━━━━━━━━━━━━━━━\u001b[0m\u001b[37m\u001b[0m \u001b[1m144s\u001b[0m 1s/step - accuracy: 0.6676 - loss: 0.8215 - val_accuracy: 0.6178 - val_loss: 0.9288\n",
      "Epoch 19/1000\n",
      "\u001b[1m128/128\u001b[0m \u001b[32m━━━━━━━━━━━━━━━━━━━━\u001b[0m\u001b[37m\u001b[0m \u001b[1m144s\u001b[0m 1s/step - accuracy: 0.6679 - loss: 0.8110 - val_accuracy: 0.6188 - val_loss: 0.9298\n",
      "Epoch 20/1000\n",
      "\u001b[1m128/128\u001b[0m \u001b[32m━━━━━━━━━━━━━━━━━━━━\u001b[0m\u001b[37m\u001b[0m \u001b[1m145s\u001b[0m 1s/step - accuracy: 0.6710 - loss: 0.8088 - val_accuracy: 0.6188 - val_loss: 0.9185\n",
      "Epoch 21/1000\n",
      "\u001b[1m128/128\u001b[0m \u001b[32m━━━━━━━━━━━━━━━━━━━━\u001b[0m\u001b[37m\u001b[0m \u001b[1m144s\u001b[0m 1s/step - accuracy: 0.6879 - loss: 0.7904 - val_accuracy: 0.6158 - val_loss: 0.9191\n",
      "Epoch 22/1000\n",
      "\u001b[1m128/128\u001b[0m \u001b[32m━━━━━━━━━━━━━━━━━━━━\u001b[0m\u001b[37m\u001b[0m \u001b[1m146s\u001b[0m 1s/step - accuracy: 0.6779 - loss: 0.7878 - val_accuracy: 0.6246 - val_loss: 0.9177\n",
      "Epoch 23/1000\n",
      "\u001b[1m128/128\u001b[0m \u001b[32m━━━━━━━━━━━━━━━━━━━━\u001b[0m\u001b[37m\u001b[0m \u001b[1m146s\u001b[0m 1s/step - accuracy: 0.6882 - loss: 0.7811 - val_accuracy: 0.6266 - val_loss: 0.9167\n",
      "Epoch 24/1000\n",
      "\u001b[1m128/128\u001b[0m \u001b[32m━━━━━━━━━━━━━━━━━━━━\u001b[0m\u001b[37m\u001b[0m \u001b[1m145s\u001b[0m 1s/step - accuracy: 0.6879 - loss: 0.7676 - val_accuracy: 0.6256 - val_loss: 0.9174\n",
      "Epoch 25/1000\n",
      "\u001b[1m128/128\u001b[0m \u001b[32m━━━━━━━━━━━━━━━━━━━━\u001b[0m\u001b[37m\u001b[0m \u001b[1m144s\u001b[0m 1s/step - accuracy: 0.6919 - loss: 0.7598 - val_accuracy: 0.6354 - val_loss: 0.9105\n",
      "Epoch 26/1000\n",
      "\u001b[1m128/128\u001b[0m \u001b[32m━━━━━━━━━━━━━━━━━━━━\u001b[0m\u001b[37m\u001b[0m \u001b[1m144s\u001b[0m 1s/step - accuracy: 0.6952 - loss: 0.7597 - val_accuracy: 0.6403 - val_loss: 0.9111\n",
      "Epoch 27/1000\n",
      "\u001b[1m128/128\u001b[0m \u001b[32m━━━━━━━━━━━━━━━━━━━━\u001b[0m\u001b[37m\u001b[0m \u001b[1m145s\u001b[0m 1s/step - accuracy: 0.7002 - loss: 0.7472 - val_accuracy: 0.6315 - val_loss: 0.9107\n",
      "Epoch 28/1000\n",
      "\u001b[1m128/128\u001b[0m \u001b[32m━━━━━━━━━━━━━━━━━━━━\u001b[0m\u001b[37m\u001b[0m \u001b[1m144s\u001b[0m 1s/step - accuracy: 0.7007 - loss: 0.7415 - val_accuracy: 0.6344 - val_loss: 0.9097\n",
      "Epoch 29/1000\n",
      "\u001b[1m128/128\u001b[0m \u001b[32m━━━━━━━━━━━━━━━━━━━━\u001b[0m\u001b[37m\u001b[0m \u001b[1m146s\u001b[0m 1s/step - accuracy: 0.7051 - loss: 0.7291 - val_accuracy: 0.6383 - val_loss: 0.9079\n",
      "Epoch 30/1000\n",
      "\u001b[1m128/128\u001b[0m \u001b[32m━━━━━━━━━━━━━━━━━━━━\u001b[0m\u001b[37m\u001b[0m \u001b[1m144s\u001b[0m 1s/step - accuracy: 0.7139 - loss: 0.7215 - val_accuracy: 0.6344 - val_loss: 0.9166\n",
      "Epoch 31/1000\n",
      "\u001b[1m128/128\u001b[0m \u001b[32m━━━━━━━━━━━━━━━━━━━━\u001b[0m\u001b[37m\u001b[0m \u001b[1m143s\u001b[0m 1s/step - accuracy: 0.7206 - loss: 0.7193 - val_accuracy: 0.6393 - val_loss: 0.9064\n",
      "Epoch 32/1000\n",
      "\u001b[1m128/128\u001b[0m \u001b[32m━━━━━━━━━━━━━━━━━━━━\u001b[0m\u001b[37m\u001b[0m \u001b[1m144s\u001b[0m 1s/step - accuracy: 0.7157 - loss: 0.7141 - val_accuracy: 0.6383 - val_loss: 0.9039\n",
      "Epoch 33/1000\n",
      "\u001b[1m128/128\u001b[0m \u001b[32m━━━━━━━━━━━━━━━━━━━━\u001b[0m\u001b[37m\u001b[0m \u001b[1m143s\u001b[0m 1s/step - accuracy: 0.7155 - loss: 0.7119 - val_accuracy: 0.6364 - val_loss: 0.9068\n",
      "Epoch 34/1000\n",
      "\u001b[1m128/128\u001b[0m \u001b[32m━━━━━━━━━━━━━━━━━━━━\u001b[0m\u001b[37m\u001b[0m \u001b[1m144s\u001b[0m 1s/step - accuracy: 0.7256 - loss: 0.6994 - val_accuracy: 0.6315 - val_loss: 0.9172\n",
      "Epoch 35/1000\n",
      "\u001b[1m128/128\u001b[0m \u001b[32m━━━━━━━━━━━━━━━━━━━━\u001b[0m\u001b[37m\u001b[0m \u001b[1m145s\u001b[0m 1s/step - accuracy: 0.7174 - loss: 0.7060 - val_accuracy: 0.6364 - val_loss: 0.9052\n",
      "Epoch 36/1000\n",
      "\u001b[1m128/128\u001b[0m \u001b[32m━━━━━━━━━━━━━━━━━━━━\u001b[0m\u001b[37m\u001b[0m \u001b[1m145s\u001b[0m 1s/step - accuracy: 0.7292 - loss: 0.6860 - val_accuracy: 0.6393 - val_loss: 0.9016\n",
      "Epoch 37/1000\n",
      "\u001b[1m128/128\u001b[0m \u001b[32m━━━━━━━━━━━━━━━━━━━━\u001b[0m\u001b[37m\u001b[0m \u001b[1m151s\u001b[0m 1s/step - accuracy: 0.7292 - loss: 0.6802 - val_accuracy: 0.6442 - val_loss: 0.9043\n",
      "Epoch 38/1000\n",
      "\u001b[1m128/128\u001b[0m \u001b[32m━━━━━━━━━━━━━━━━━━━━\u001b[0m\u001b[37m\u001b[0m \u001b[1m144s\u001b[0m 1s/step - accuracy: 0.7360 - loss: 0.6777 - val_accuracy: 0.6383 - val_loss: 0.9091\n",
      "Epoch 39/1000\n",
      "\u001b[1m128/128\u001b[0m \u001b[32m━━━━━━━━━━━━━━━━━━━━\u001b[0m\u001b[37m\u001b[0m \u001b[1m145s\u001b[0m 1s/step - accuracy: 0.7334 - loss: 0.6745 - val_accuracy: 0.6334 - val_loss: 0.9066\n",
      "Epoch 40/1000\n",
      "\u001b[1m128/128\u001b[0m \u001b[32m━━━━━━━━━━━━━━━━━━━━\u001b[0m\u001b[37m\u001b[0m \u001b[1m145s\u001b[0m 1s/step - accuracy: 0.7446 - loss: 0.6620 - val_accuracy: 0.6403 - val_loss: 0.9040\n",
      "Epoch 41/1000\n",
      "\u001b[1m128/128\u001b[0m \u001b[32m━━━━━━━━━━━━━━━━━━━━\u001b[0m\u001b[37m\u001b[0m \u001b[1m144s\u001b[0m 1s/step - accuracy: 0.7426 - loss: 0.6658 - val_accuracy: 0.6364 - val_loss: 0.9056\n"
     ]
    }
   ],
   "source": [
    "history = model.fit(\n",
    "    train_ds,\n",
    "    validation_data=val_ds,\n",
    "    epochs = 1000,\n",
    "    callbacks = [es],\n",
    "    verbose = 1\n",
    ")"
   ]
  },
  {
   "cell_type": "code",
   "execution_count": 18,
   "id": "aad75c35-a082-46b4-a1ba-ead3dd5dd9cc",
   "metadata": {},
   "outputs": [
    {
     "data": {
      "image/png": "[encoded data removed]",
      "text/plain": [
       "<Figure size 1200x400 with 2 Axes>"
      ]
     },
     "metadata": {},
     "output_type": "display_data"
    }
   ],
   "source": [
    "ax1, ax2 = plot_history(history, exp_name= '3_unfreezed_layers');"
   ]
  },
  {
   "cell_type": "markdown",
   "id": "b96b152a-2f3b-407d-ab84-725d72c815cd",
   "metadata": {},
   "source": [
    "Unfreeze more layers and see what happens."
   ]
  },
  {
   "cell_type": "raw",
   "id": "8ba49d34-0257-4d29-a3ab-e70fd7c6d8d2",
   "metadata": {},
   "source": [
    "for layer in base_model.layers[-10:]:  # Adjust the number of layers to unfreeze\n",
    "    layer.trainable = False\n",
    "\n",
    "model.compile(\n",
    "    optimizer= optimizers.Adam(learning_rate=0.0002),\n",
    "    loss=losses.SparseCategoricalCrossentropy(from_logits=False),\n",
    "    metrics=['accuracy'])"
   ]
  },
  {
   "cell_type": "raw",
   "id": "995507f9-5360-4229-9270-17806dcd9d46",
   "metadata": {},
   "source": [
    "history = model.fit(\n",
    "    train_ds,\n",
    "    validation_data=val_ds,\n",
    "    epochs = 500,\n",
    "    callbacks = [es],\n",
    "    verbose = 1\n",
    ")"
   ]
  },
  {
   "cell_type": "raw",
   "id": "cc32a693-1a62-4e20-a3dc-ed05b9a4f6da",
   "metadata": {},
   "source": [
    "ax1, ax2 = plot_history(history, exp_name= 'Freezed_layers');"
   ]
  },
  {
   "cell_type": "markdown",
   "id": "b6908626-7b11-4e0b-8216-8ed1506dbfe5",
   "metadata": {},
   "source": [
    "# Predicting results"
   ]
  },
  {
   "cell_type": "code",
   "execution_count": 23,
   "id": "d385cda5-1447-4bbe-9857-a281c454377f",
   "metadata": {},
   "outputs": [
    {
     "name": "stdout",
     "output_type": "stream",
     "text": [
      "Requirement already satisfied: pyyaml in /home/george/.pyenv/versions/3.10.6/envs/eyesense/lib/python3.10/site-packages (6.0.2)\n",
      "Requirement already satisfied: h5py in /home/george/.pyenv/versions/3.10.6/envs/eyesense/lib/python3.10/site-packages (3.13.0)\n",
      "Requirement already satisfied: numpy>=1.19.3 in /home/george/.pyenv/versions/3.10.6/envs/eyesense/lib/python3.10/site-packages (from h5py) (2.1.3)\n"
     ]
    }
   ],
   "source": [
    "!pip install pyyaml h5py"
   ]
  },
  {
   "cell_type": "code",
   "execution_count": 25,
   "id": "a4e54ba5-d6dd-48fe-8b17-ddb4041c9b98",
   "metadata": {},
   "outputs": [],
   "source": [
    "!mkdir -p saved_model\n",
    "#model.save('saved_model/my_model')"
   ]
  },
  {
   "cell_type": "code",
   "execution_count": 26,
   "id": "b9332af5-ff93-4151-98e6-83ec85cfd225",
   "metadata": {},
   "outputs": [
    {
     "name": "stdout",
     "output_type": "stream",
     "text": [
      "data_test\t\t\tgeorge-first-cnn.ipynb\t\traw_data\n",
      "data_train\t\t\tgeorge-first-exploratory.ipynb\tsaved_model\n",
      "george-dataset-directory.ipynb\tgeorge_first_model.ipynb\ttest\n",
      "george-first-cnn-2.ipynb\tgeorge-first-resnet50.ipynb\tUntitled.ipynb\n"
     ]
    }
   ],
   "source": [
    "!ls"
   ]
  },
  {
   "cell_type": "code",
   "execution_count": 28,
   "id": "6d0f15e7-adc9-4d76-8111-3a540ddac89c",
   "metadata": {},
   "outputs": [
    {
     "name": "stdout",
     "output_type": "stream",
     "text": [
      "INFO:tensorflow:Assets written to: saved_model/my_model/assets\n"
     ]
    },
    {
     "name": "stderr",
     "output_type": "stream",
     "text": [
      "INFO:tensorflow:Assets written to: saved_model/my_model/assets\n"
     ]
    },
    {
     "name": "stdout",
     "output_type": "stream",
     "text": [
      "Saved artifact at 'saved_model/my_model'. The following endpoints are available:\n",
      "\n",
      "* Endpoint 'serve'\n",
      "  args_0 (POSITIONAL_ONLY): TensorSpec(shape=(None, 224, 224, 3), dtype=tf.float32, name='keras_tensor')\n",
      "Output Type:\n",
      "  TensorSpec(shape=(None, 7), dtype=tf.float32, name=None)\n",
      "Captures:\n",
      "  139913832796176: TensorSpec(shape=(), dtype=tf.resource, name=None)\n",
      "  139910658842064: TensorSpec(shape=(), dtype=tf.resource, name=None)\n",
      "  139910658846112: TensorSpec(shape=(), dtype=tf.resource, name=None)\n",
      "  139910658848224: TensorSpec(shape=(), dtype=tf.resource, name=None)\n",
      "  139910658844880: TensorSpec(shape=(), dtype=tf.resource, name=None)\n",
      "  139910658846640: TensorSpec(shape=(), dtype=tf.resource, name=None)\n",
      "  139910653227280: TensorSpec(shape=(), dtype=tf.resource, name=None)\n",
      "  139910653219536: TensorSpec(shape=(), dtype=tf.resource, name=None)\n",
      "  139910653226752: TensorSpec(shape=(), dtype=tf.resource, name=None)\n",
      "  139910653229392: TensorSpec(shape=(), dtype=tf.resource, name=None)\n",
      "  139910653225168: TensorSpec(shape=(), dtype=tf.resource, name=None)\n",
      "  139910653223408: TensorSpec(shape=(), dtype=tf.resource, name=None)\n",
      "  139910653219360: TensorSpec(shape=(), dtype=tf.resource, name=None)\n",
      "  139910653284720: TensorSpec(shape=(), dtype=tf.resource, name=None)\n",
      "  139910653284192: TensorSpec(shape=(), dtype=tf.resource, name=None)\n",
      "  139910653286832: TensorSpec(shape=(), dtype=tf.resource, name=None)\n",
      "  139910653282608: TensorSpec(shape=(), dtype=tf.resource, name=None)\n",
      "  139910653280848: TensorSpec(shape=(), dtype=tf.resource, name=None)\n",
      "  139910653292816: TensorSpec(shape=(), dtype=tf.resource, name=None)\n",
      "  139910653283840: TensorSpec(shape=(), dtype=tf.resource, name=None)\n",
      "  139910658846464: TensorSpec(shape=(), dtype=tf.resource, name=None)\n",
      "  139910653220416: TensorSpec(shape=(), dtype=tf.resource, name=None)\n",
      "  139910653219888: TensorSpec(shape=(), dtype=tf.resource, name=None)\n",
      "  139910653222528: TensorSpec(shape=(), dtype=tf.resource, name=None)\n",
      "  139910653218304: TensorSpec(shape=(), dtype=tf.resource, name=None)\n",
      "  139910653216544: TensorSpec(shape=(), dtype=tf.resource, name=None)\n",
      "  139910653292288: TensorSpec(shape=(), dtype=tf.resource, name=None)\n",
      "  139910653294928: TensorSpec(shape=(), dtype=tf.resource, name=None)\n",
      "  139910653290704: TensorSpec(shape=(), dtype=tf.resource, name=None)\n",
      "  139910653288944: TensorSpec(shape=(), dtype=tf.resource, name=None)\n",
      "  139910653283664: TensorSpec(shape=(), dtype=tf.resource, name=None)\n",
      "  139910653367872: TensorSpec(shape=(), dtype=tf.resource, name=None)\n",
      "  139910653367344: TensorSpec(shape=(), dtype=tf.resource, name=None)\n",
      "  139910653369984: TensorSpec(shape=(), dtype=tf.resource, name=None)\n",
      "  139910653365760: TensorSpec(shape=(), dtype=tf.resource, name=None)\n",
      "  139910653364000: TensorSpec(shape=(), dtype=tf.resource, name=None)\n",
      "  139910653375968: TensorSpec(shape=(), dtype=tf.resource, name=None)\n",
      "  139910653366992: TensorSpec(shape=(), dtype=tf.resource, name=None)\n",
      "  139910653375440: TensorSpec(shape=(), dtype=tf.resource, name=None)\n",
      "  139910653378080: TensorSpec(shape=(), dtype=tf.resource, name=None)\n",
      "  139910653373856: TensorSpec(shape=(), dtype=tf.resource, name=None)\n",
      "  139910653372096: TensorSpec(shape=(), dtype=tf.resource, name=None)\n",
      "  139910653366816: TensorSpec(shape=(), dtype=tf.resource, name=None)\n",
      "  139910653466176: TensorSpec(shape=(), dtype=tf.resource, name=None)\n",
      "  139910653465648: TensorSpec(shape=(), dtype=tf.resource, name=None)\n",
      "  139910653468288: TensorSpec(shape=(), dtype=tf.resource, name=None)\n",
      "  139910653464064: TensorSpec(shape=(), dtype=tf.resource, name=None)\n",
      "  139910653462304: TensorSpec(shape=(), dtype=tf.resource, name=None)\n",
      "  139910653475680: TensorSpec(shape=(), dtype=tf.resource, name=None)\n",
      "  139910653472512: TensorSpec(shape=(), dtype=tf.resource, name=None)\n",
      "  139910653473392: TensorSpec(shape=(), dtype=tf.resource, name=None)\n",
      "  139910653473216: TensorSpec(shape=(), dtype=tf.resource, name=None)\n",
      "  139910653474976: TensorSpec(shape=(), dtype=tf.resource, name=None)\n",
      "  139910653474448: TensorSpec(shape=(), dtype=tf.resource, name=None)\n",
      "  139910653465120: TensorSpec(shape=(), dtype=tf.resource, name=None)\n",
      "  139910653565888: TensorSpec(shape=(), dtype=tf.resource, name=None)\n",
      "  139910653565360: TensorSpec(shape=(), dtype=tf.resource, name=None)\n",
      "  139910653568000: TensorSpec(shape=(), dtype=tf.resource, name=None)\n",
      "  139910653563776: TensorSpec(shape=(), dtype=tf.resource, name=None)\n",
      "  139910653562016: TensorSpec(shape=(), dtype=tf.resource, name=None)\n",
      "  139910653573984: TensorSpec(shape=(), dtype=tf.resource, name=None)\n",
      "  139910653570816: TensorSpec(shape=(), dtype=tf.resource, name=None)\n",
      "  139910653571696: TensorSpec(shape=(), dtype=tf.resource, name=None)\n",
      "  139910653571520: TensorSpec(shape=(), dtype=tf.resource, name=None)\n",
      "  139910653573280: TensorSpec(shape=(), dtype=tf.resource, name=None)\n",
      "  139910653572752: TensorSpec(shape=(), dtype=tf.resource, name=None)\n",
      "  139910653623312: TensorSpec(shape=(), dtype=tf.resource, name=None)\n",
      "  139910653620144: TensorSpec(shape=(), dtype=tf.resource, name=None)\n",
      "  139910653621024: TensorSpec(shape=(), dtype=tf.resource, name=None)\n",
      "  139910653620848: TensorSpec(shape=(), dtype=tf.resource, name=None)\n",
      "  139910653622432: TensorSpec(shape=(), dtype=tf.resource, name=None)\n",
      "  139910653706304: TensorSpec(shape=(), dtype=tf.resource, name=None)\n",
      "  139910653615392: TensorSpec(shape=(), dtype=tf.resource, name=None)\n",
      "  139910653713520: TensorSpec(shape=(), dtype=tf.resource, name=None)\n",
      "  139910653712992: TensorSpec(shape=(), dtype=tf.resource, name=None)\n",
      "  139910653715632: TensorSpec(shape=(), dtype=tf.resource, name=None)\n",
      "  139910653711408: TensorSpec(shape=(), dtype=tf.resource, name=None)\n",
      "  139910653709648: TensorSpec(shape=(), dtype=tf.resource, name=None)\n",
      "  139910653721616: TensorSpec(shape=(), dtype=tf.resource, name=None)\n",
      "  139910653718448: TensorSpec(shape=(), dtype=tf.resource, name=None)\n",
      "  139910653564832: TensorSpec(shape=(), dtype=tf.resource, name=None)\n",
      "  139910653616448: TensorSpec(shape=(), dtype=tf.resource, name=None)\n",
      "  139910653615920: TensorSpec(shape=(), dtype=tf.resource, name=None)\n",
      "  139910653618560: TensorSpec(shape=(), dtype=tf.resource, name=None)\n",
      "  139910653614336: TensorSpec(shape=(), dtype=tf.resource, name=None)\n",
      "  139910653612576: TensorSpec(shape=(), dtype=tf.resource, name=None)\n",
      "  139910653719328: TensorSpec(shape=(), dtype=tf.resource, name=None)\n",
      "  139910653719152: TensorSpec(shape=(), dtype=tf.resource, name=None)\n",
      "  139910653720736: TensorSpec(shape=(), dtype=tf.resource, name=None)\n",
      "  139910642663488: TensorSpec(shape=(), dtype=tf.resource, name=None)\n",
      "  139910653712464: TensorSpec(shape=(), dtype=tf.resource, name=None)\n",
      "  139910642672112: TensorSpec(shape=(), dtype=tf.resource, name=None)\n",
      "  139910642671584: TensorSpec(shape=(), dtype=tf.resource, name=None)\n",
      "  139910642674224: TensorSpec(shape=(), dtype=tf.resource, name=None)\n",
      "  139910642670000: TensorSpec(shape=(), dtype=tf.resource, name=None)\n",
      "  139910642668240: TensorSpec(shape=(), dtype=tf.resource, name=None)\n",
      "  139910642671232: TensorSpec(shape=(), dtype=tf.resource, name=None)\n",
      "  139910642677216: TensorSpec(shape=(), dtype=tf.resource, name=None)\n",
      "  139910642780288: TensorSpec(shape=(), dtype=tf.resource, name=None)\n",
      "  139910642779408: TensorSpec(shape=(), dtype=tf.resource, name=None)\n",
      "  139910642678976: TensorSpec(shape=(), dtype=tf.resource, name=None)\n",
      "  139910642779584: TensorSpec(shape=(), dtype=tf.resource, name=None)\n",
      "  139910642786800: TensorSpec(shape=(), dtype=tf.resource, name=None)\n",
      "  139910642778352: TensorSpec(shape=(), dtype=tf.resource, name=None)\n",
      "  139910642786272: TensorSpec(shape=(), dtype=tf.resource, name=None)\n",
      "  139910642788912: TensorSpec(shape=(), dtype=tf.resource, name=None)\n",
      "  139910642784688: TensorSpec(shape=(), dtype=tf.resource, name=None)\n",
      "  139910642782928: TensorSpec(shape=(), dtype=tf.resource, name=None)\n",
      "  139910642793136: TensorSpec(shape=(), dtype=tf.resource, name=None)\n",
      "  139910642793840: TensorSpec(shape=(), dtype=tf.resource, name=None)\n",
      "  139910642896384: TensorSpec(shape=(), dtype=tf.resource, name=None)\n",
      "  139910642894800: TensorSpec(shape=(), dtype=tf.resource, name=None)\n",
      "  139910642894096: TensorSpec(shape=(), dtype=tf.resource, name=None)\n",
      "  139910642895680: TensorSpec(shape=(), dtype=tf.resource, name=None)\n",
      "  139910642902896: TensorSpec(shape=(), dtype=tf.resource, name=None)\n",
      "  139910642894448: TensorSpec(shape=(), dtype=tf.resource, name=None)\n",
      "  139910642902368: TensorSpec(shape=(), dtype=tf.resource, name=None)\n",
      "  139910642905008: TensorSpec(shape=(), dtype=tf.resource, name=None)\n",
      "  139910642900784: TensorSpec(shape=(), dtype=tf.resource, name=None)\n",
      "  139910642899024: TensorSpec(shape=(), dtype=tf.resource, name=None)\n",
      "  139910642907824: TensorSpec(shape=(), dtype=tf.resource, name=None)\n",
      "  139910642908528: TensorSpec(shape=(), dtype=tf.resource, name=None)\n",
      "  139910642994688: TensorSpec(shape=(), dtype=tf.resource, name=None)\n",
      "  139910642992048: TensorSpec(shape=(), dtype=tf.resource, name=None)\n",
      "  139910642994160: TensorSpec(shape=(), dtype=tf.resource, name=None)\n",
      "  139910642992928: TensorSpec(shape=(), dtype=tf.resource, name=None)\n",
      "  139910643002608: TensorSpec(shape=(), dtype=tf.resource, name=None)\n",
      "  139910642992400: TensorSpec(shape=(), dtype=tf.resource, name=None)\n",
      "  139910643002080: TensorSpec(shape=(), dtype=tf.resource, name=None)\n",
      "  139910643004720: TensorSpec(shape=(), dtype=tf.resource, name=None)\n",
      "  139910643000496: TensorSpec(shape=(), dtype=tf.resource, name=None)\n",
      "  139910642998736: TensorSpec(shape=(), dtype=tf.resource, name=None)\n",
      "  139910642992224: TensorSpec(shape=(), dtype=tf.resource, name=None)\n",
      "  139910643061104: TensorSpec(shape=(), dtype=tf.resource, name=None)\n",
      "  139910643060576: TensorSpec(shape=(), dtype=tf.resource, name=None)\n",
      "  139910643062160: TensorSpec(shape=(), dtype=tf.resource, name=None)\n",
      "  139910643057232: TensorSpec(shape=(), dtype=tf.resource, name=None)\n",
      "  139910643059872: TensorSpec(shape=(), dtype=tf.resource, name=None)\n",
      "  139910643068144: TensorSpec(shape=(), dtype=tf.resource, name=None)\n",
      "  139910643059344: TensorSpec(shape=(), dtype=tf.resource, name=None)\n",
      "  139910643067616: TensorSpec(shape=(), dtype=tf.resource, name=None)\n",
      "  139910643070256: TensorSpec(shape=(), dtype=tf.resource, name=None)\n",
      "  139910643066032: TensorSpec(shape=(), dtype=tf.resource, name=None)\n",
      "  139910643064272: TensorSpec(shape=(), dtype=tf.resource, name=None)\n",
      "  139910643183008: TensorSpec(shape=(), dtype=tf.resource, name=None)\n",
      "  139910643173504: TensorSpec(shape=(), dtype=tf.resource, name=None)\n",
      "  139910643182480: TensorSpec(shape=(), dtype=tf.resource, name=None)\n",
      "  139910643185120: TensorSpec(shape=(), dtype=tf.resource, name=None)\n",
      "  139910643180896: TensorSpec(shape=(), dtype=tf.resource, name=None)\n",
      "  139910643179136: TensorSpec(shape=(), dtype=tf.resource, name=None)\n",
      "  139910643175088: TensorSpec(shape=(), dtype=tf.resource, name=None)\n",
      "  139910643257888: TensorSpec(shape=(), dtype=tf.resource, name=None)\n",
      "  139910643257360: TensorSpec(shape=(), dtype=tf.resource, name=None)\n",
      "  139910643258944: TensorSpec(shape=(), dtype=tf.resource, name=None)\n",
      "  139910643254016: TensorSpec(shape=(), dtype=tf.resource, name=None)\n",
      "  139910643256656: TensorSpec(shape=(), dtype=tf.resource, name=None)\n",
      "  139910643264928: TensorSpec(shape=(), dtype=tf.resource, name=None)\n",
      "  139910643256128: TensorSpec(shape=(), dtype=tf.resource, name=None)\n",
      "  139910643059168: TensorSpec(shape=(), dtype=tf.resource, name=None)\n",
      "  139910643176144: TensorSpec(shape=(), dtype=tf.resource, name=None)\n",
      "  139910643175616: TensorSpec(shape=(), dtype=tf.resource, name=None)\n",
      "  139910643178256: TensorSpec(shape=(), dtype=tf.resource, name=None)\n",
      "  139910643174032: TensorSpec(shape=(), dtype=tf.resource, name=None)\n",
      "  139910643172272: TensorSpec(shape=(), dtype=tf.resource, name=None)\n",
      "  139910643264400: TensorSpec(shape=(), dtype=tf.resource, name=None)\n",
      "  139910643267040: TensorSpec(shape=(), dtype=tf.resource, name=None)\n",
      "  139910643262816: TensorSpec(shape=(), dtype=tf.resource, name=None)\n",
      "  139910643261056: TensorSpec(shape=(), dtype=tf.resource, name=None)\n",
      "  139910643255952: TensorSpec(shape=(), dtype=tf.resource, name=None)\n",
      "  139910643356544: TensorSpec(shape=(), dtype=tf.resource, name=None)\n",
      "  139910643356016: TensorSpec(shape=(), dtype=tf.resource, name=None)\n",
      "  139910643358656: TensorSpec(shape=(), dtype=tf.resource, name=None)\n",
      "  139910643354432: TensorSpec(shape=(), dtype=tf.resource, name=None)\n",
      "  139910643352672: TensorSpec(shape=(), dtype=tf.resource, name=None)\n",
      "  139910643364640: TensorSpec(shape=(), dtype=tf.resource, name=None)\n",
      "  139910643355664: TensorSpec(shape=(), dtype=tf.resource, name=None)\n",
      "  139910643364112: TensorSpec(shape=(), dtype=tf.resource, name=None)\n",
      "  139910643366752: TensorSpec(shape=(), dtype=tf.resource, name=None)\n",
      "  139910643362528: TensorSpec(shape=(), dtype=tf.resource, name=None)\n",
      "  139910643360768: TensorSpec(shape=(), dtype=tf.resource, name=None)\n",
      "  139910643355488: TensorSpec(shape=(), dtype=tf.resource, name=None)\n",
      "  139910643454848: TensorSpec(shape=(), dtype=tf.resource, name=None)\n",
      "  139910643454320: TensorSpec(shape=(), dtype=tf.resource, name=None)\n",
      "  139910643456960: TensorSpec(shape=(), dtype=tf.resource, name=None)\n",
      "  139910643452736: TensorSpec(shape=(), dtype=tf.resource, name=None)\n",
      "  139910643450976: TensorSpec(shape=(), dtype=tf.resource, name=None)\n",
      "  139910643464352: TensorSpec(shape=(), dtype=tf.resource, name=None)\n",
      "  139910643453968: TensorSpec(shape=(), dtype=tf.resource, name=None)\n",
      "  139910643463824: TensorSpec(shape=(), dtype=tf.resource, name=None)\n",
      "  139910643461360: TensorSpec(shape=(), dtype=tf.resource, name=None)\n",
      "  139910643462240: TensorSpec(shape=(), dtype=tf.resource, name=None)\n",
      "  139910643460480: TensorSpec(shape=(), dtype=tf.resource, name=None)\n",
      "  139910643453792: TensorSpec(shape=(), dtype=tf.resource, name=None)\n",
      "  139910643521792: TensorSpec(shape=(), dtype=tf.resource, name=None)\n",
      "  139910643521264: TensorSpec(shape=(), dtype=tf.resource, name=None)\n",
      "  139910643523904: TensorSpec(shape=(), dtype=tf.resource, name=None)\n",
      "  139910643519680: TensorSpec(shape=(), dtype=tf.resource, name=None)\n",
      "  139910643517920: TensorSpec(shape=(), dtype=tf.resource, name=None)\n",
      "  139910643529888: TensorSpec(shape=(), dtype=tf.resource, name=None)\n",
      "  139910643520912: TensorSpec(shape=(), dtype=tf.resource, name=None)\n",
      "  139910643529360: TensorSpec(shape=(), dtype=tf.resource, name=None)\n",
      "  139910643526896: TensorSpec(shape=(), dtype=tf.resource, name=None)\n",
      "  139910643527776: TensorSpec(shape=(), dtype=tf.resource, name=None)\n",
      "  139910643526016: TensorSpec(shape=(), dtype=tf.resource, name=None)\n",
      "  139910643520736: TensorSpec(shape=(), dtype=tf.resource, name=None)\n",
      "  139910641557120: TensorSpec(shape=(), dtype=tf.resource, name=None)\n",
      "  139910641556592: TensorSpec(shape=(), dtype=tf.resource, name=None)\n",
      "  139910641559232: TensorSpec(shape=(), dtype=tf.resource, name=None)\n",
      "  139910641555008: TensorSpec(shape=(), dtype=tf.resource, name=None)\n",
      "  139910641553248: TensorSpec(shape=(), dtype=tf.resource, name=None)\n",
      "  139910641565216: TensorSpec(shape=(), dtype=tf.resource, name=None)\n",
      "  139910641562048: TensorSpec(shape=(), dtype=tf.resource, name=None)\n",
      "  139910641632528: TensorSpec(shape=(), dtype=tf.resource, name=None)\n",
      "  139910641561872: TensorSpec(shape=(), dtype=tf.resource, name=None)\n",
      "  139910641563632: TensorSpec(shape=(), dtype=tf.resource, name=None)\n",
      "  139910641631824: TensorSpec(shape=(), dtype=tf.resource, name=None)\n",
      "  139910641556064: TensorSpec(shape=(), dtype=tf.resource, name=None)\n",
      "  139910641639040: TensorSpec(shape=(), dtype=tf.resource, name=None)\n",
      "  139910641638512: TensorSpec(shape=(), dtype=tf.resource, name=None)\n",
      "  139910641641152: TensorSpec(shape=(), dtype=tf.resource, name=None)\n",
      "  139910641636928: TensorSpec(shape=(), dtype=tf.resource, name=None)\n",
      "  139910641635168: TensorSpec(shape=(), dtype=tf.resource, name=None)\n",
      "  139910641638160: TensorSpec(shape=(), dtype=tf.resource, name=None)\n",
      "  139910641645552: TensorSpec(shape=(), dtype=tf.resource, name=None)\n",
      "  139910641699472: TensorSpec(shape=(), dtype=tf.resource, name=None)\n",
      "  139910641697360: TensorSpec(shape=(), dtype=tf.resource, name=None)\n",
      "  139910641698592: TensorSpec(shape=(), dtype=tf.resource, name=None)\n",
      "  139910641698064: TensorSpec(shape=(), dtype=tf.resource, name=None)\n",
      "  139910641705984: TensorSpec(shape=(), dtype=tf.resource, name=None)\n",
      "  139910641698944: TensorSpec(shape=(), dtype=tf.resource, name=None)\n",
      "  139910641705456: TensorSpec(shape=(), dtype=tf.resource, name=None)\n",
      "  139910641708096: TensorSpec(shape=(), dtype=tf.resource, name=None)\n",
      "  139910641703872: TensorSpec(shape=(), dtype=tf.resource, name=None)\n",
      "  139910641702112: TensorSpec(shape=(), dtype=tf.resource, name=None)\n",
      "  139910641710912: TensorSpec(shape=(), dtype=tf.resource, name=None)\n",
      "  139910641711616: TensorSpec(shape=(), dtype=tf.resource, name=None)\n",
      "  139910641830544: TensorSpec(shape=(), dtype=tf.resource, name=None)\n",
      "  139910641829664: TensorSpec(shape=(), dtype=tf.resource, name=None)\n",
      "  139910641828256: TensorSpec(shape=(), dtype=tf.resource, name=None)\n",
      "  139910641829840: TensorSpec(shape=(), dtype=tf.resource, name=None)\n",
      "  139910641704928: TensorSpec(shape=(), dtype=tf.resource, name=None)\n",
      "  139910641838464: TensorSpec(shape=(), dtype=tf.resource, name=None)\n",
      "  139910641837936: TensorSpec(shape=(), dtype=tf.resource, name=None)\n",
      "  139910641840576: TensorSpec(shape=(), dtype=tf.resource, name=None)\n",
      "  139910641836352: TensorSpec(shape=(), dtype=tf.resource, name=None)\n",
      "  139910641834592: TensorSpec(shape=(), dtype=tf.resource, name=None)\n",
      "  139910641843392: TensorSpec(shape=(), dtype=tf.resource, name=None)\n",
      "  139910641828784: TensorSpec(shape=(), dtype=tf.resource, name=None)\n",
      "  139910641896432: TensorSpec(shape=(), dtype=tf.resource, name=None)\n",
      "  139910641895904: TensorSpec(shape=(), dtype=tf.resource, name=None)\n",
      "  139910641893616: TensorSpec(shape=(), dtype=tf.resource, name=None)\n",
      "  139910641895728: TensorSpec(shape=(), dtype=tf.resource, name=None)\n",
      "  139910641904000: TensorSpec(shape=(), dtype=tf.resource, name=None)\n",
      "  139910641895200: TensorSpec(shape=(), dtype=tf.resource, name=None)\n",
      "  139910641903472: TensorSpec(shape=(), dtype=tf.resource, name=None)\n",
      "  139910641906112: TensorSpec(shape=(), dtype=tf.resource, name=None)\n",
      "  139910641901888: TensorSpec(shape=(), dtype=tf.resource, name=None)\n",
      "  139910641900128: TensorSpec(shape=(), dtype=tf.resource, name=None)\n",
      "  139910642035248: TensorSpec(shape=(), dtype=tf.resource, name=None)\n",
      "  139910642027680: TensorSpec(shape=(), dtype=tf.resource, name=None)\n",
      "  139910642034720: TensorSpec(shape=(), dtype=tf.resource, name=None)\n",
      "  139910642037360: TensorSpec(shape=(), dtype=tf.resource, name=None)\n",
      "  139910642033136: TensorSpec(shape=(), dtype=tf.resource, name=None)\n",
      "  139910642031376: TensorSpec(shape=(), dtype=tf.resource, name=None)\n",
      "  139910642040176: TensorSpec(shape=(), dtype=tf.resource, name=None)\n",
      "  139910642027504: TensorSpec(shape=(), dtype=tf.resource, name=None)\n",
      "  139910642076832: TensorSpec(shape=(), dtype=tf.resource, name=None)\n",
      "  139910642076304: TensorSpec(shape=(), dtype=tf.resource, name=None)\n",
      "  139910642074016: TensorSpec(shape=(), dtype=tf.resource, name=None)\n",
      "  139910642076128: TensorSpec(shape=(), dtype=tf.resource, name=None)\n",
      "  139910642084400: TensorSpec(shape=(), dtype=tf.resource, name=None)\n",
      "  139910642075600: TensorSpec(shape=(), dtype=tf.resource, name=None)\n",
      "  139910641895024: TensorSpec(shape=(), dtype=tf.resource, name=None)\n",
      "  139910642029440: TensorSpec(shape=(), dtype=tf.resource, name=None)\n",
      "  139910642028912: TensorSpec(shape=(), dtype=tf.resource, name=None)\n",
      "  139910642030496: TensorSpec(shape=(), dtype=tf.resource, name=None)\n",
      "  139910642025568: TensorSpec(shape=(), dtype=tf.resource, name=None)\n",
      "  139910642028208: TensorSpec(shape=(), dtype=tf.resource, name=None)\n",
      "  139910642083872: TensorSpec(shape=(), dtype=tf.resource, name=None)\n",
      "  139910642086512: TensorSpec(shape=(), dtype=tf.resource, name=None)\n",
      "  139910642082288: TensorSpec(shape=(), dtype=tf.resource, name=None)\n",
      "  139910642080528: TensorSpec(shape=(), dtype=tf.resource, name=None)\n",
      "  139910642075424: TensorSpec(shape=(), dtype=tf.resource, name=None)\n",
      "  139910642177072: TensorSpec(shape=(), dtype=tf.resource, name=None)\n",
      "  139910642176544: TensorSpec(shape=(), dtype=tf.resource, name=None)\n",
      "  139910642178128: TensorSpec(shape=(), dtype=tf.resource, name=None)\n",
      "  139910642173200: TensorSpec(shape=(), dtype=tf.resource, name=None)\n",
      "  139910642175840: TensorSpec(shape=(), dtype=tf.resource, name=None)\n",
      "  139910642184112: TensorSpec(shape=(), dtype=tf.resource, name=None)\n",
      "  139910642175312: TensorSpec(shape=(), dtype=tf.resource, name=None)\n",
      "  139910642183584: TensorSpec(shape=(), dtype=tf.resource, name=None)\n",
      "  139910642186224: TensorSpec(shape=(), dtype=tf.resource, name=None)\n",
      "  139910642182000: TensorSpec(shape=(), dtype=tf.resource, name=None)\n",
      "  139910642180240: TensorSpec(shape=(), dtype=tf.resource, name=None)\n",
      "  139910642175136: TensorSpec(shape=(), dtype=tf.resource, name=None)\n",
      "  139910642291760: TensorSpec(shape=(), dtype=tf.resource, name=None)\n",
      "  139910642291232: TensorSpec(shape=(), dtype=tf.resource, name=None)\n",
      "  139910642292816: TensorSpec(shape=(), dtype=tf.resource, name=None)\n",
      "  139910642287888: TensorSpec(shape=(), dtype=tf.resource, name=None)\n",
      "  139910642290528: TensorSpec(shape=(), dtype=tf.resource, name=None)\n",
      "  139910642300208: TensorSpec(shape=(), dtype=tf.resource, name=None)\n",
      "  139910642288064: TensorSpec(shape=(), dtype=tf.resource, name=None)\n",
      "  139910642299680: TensorSpec(shape=(), dtype=tf.resource, name=None)\n",
      "  139910642302320: TensorSpec(shape=(), dtype=tf.resource, name=None)\n",
      "  139910642298096: TensorSpec(shape=(), dtype=tf.resource, name=None)\n",
      "  139910642296336: TensorSpec(shape=(), dtype=tf.resource, name=None)\n",
      "  139910642289824: TensorSpec(shape=(), dtype=tf.resource, name=None)\n",
      "  139910642374032: TensorSpec(shape=(), dtype=tf.resource, name=None)\n",
      "  139910642373504: TensorSpec(shape=(), dtype=tf.resource, name=None)\n",
      "  139910642376144: TensorSpec(shape=(), dtype=tf.resource, name=None)\n",
      "  139910642371920: TensorSpec(shape=(), dtype=tf.resource, name=None)\n",
      "  139910642370160: TensorSpec(shape=(), dtype=tf.resource, name=None)\n",
      "  139910642382128: TensorSpec(shape=(), dtype=tf.resource, name=None)\n",
      "  139910642373152: TensorSpec(shape=(), dtype=tf.resource, name=None)\n",
      "  139910642381600: TensorSpec(shape=(), dtype=tf.resource, name=None)\n",
      "  139910642384240: TensorSpec(shape=(), dtype=tf.resource, name=None)\n",
      "  139910642380016: TensorSpec(shape=(), dtype=tf.resource, name=None)\n",
      "  139910642378256: TensorSpec(shape=(), dtype=tf.resource, name=None)\n",
      "  139910642384064: TensorSpec(shape=(), dtype=tf.resource, name=None)\n",
      "  139910642456480: TensorSpec(shape=(), dtype=tf.resource, name=None)\n",
      "  139910642381248: TensorSpec(shape=(), dtype=tf.resource, name=None)\n",
      "  139910642463168: TensorSpec(shape=(), dtype=tf.resource, name=None)\n"
     ]
    }
   ],
   "source": [
    "model.export('saved_model/my_model')"
   ]
  },
  {
   "cell_type": "code",
   "execution_count": null,
   "id": "de909f91-8dd0-48d3-b8bd-2c2669ce2653",
   "metadata": {},
   "outputs": [],
   "source": []
  },
  {
   "cell_type": "code",
   "execution_count": 19,
   "id": "26d11089-e6af-43fb-a39d-23e433893bbb",
   "metadata": {},
   "outputs": [],
   "source": [
    "from sklearn.metrics import classification_report"
   ]
  },
  {
   "cell_type": "code",
   "execution_count": 20,
   "id": "b87a5f6f-a018-4407-a615-7c0762544e6d",
   "metadata": {},
   "outputs": [
    {
     "name": "stderr",
     "output_type": "stream",
     "text": [
      "2025-03-18 11:36:18.927311: I tensorflow/core/framework/local_rendezvous.cc:407] Local rendezvous is aborting with status: OUT_OF_RANGE: End of sequence\n"
     ]
    },
    {
     "name": "stdout",
     "output_type": "stream",
     "text": [
      "\u001b[1m18/18\u001b[0m \u001b[32m━━━━━━━━━━━━━━━━━━━━\u001b[0m\u001b[37m\u001b[0m \u001b[1m21s\u001b[0m 949ms/step\n"
     ]
    }
   ],
   "source": [
    "import numpy as np\n",
    "y_true = np.concatenate([y.numpy() for _, y in test_ds], axis=0)\n",
    "y_pred = model.predict(normalized_test_ds)\n",
    "y_pred_class = np.argmax(y_pred, axis=1)\n"
   ]
  },
  {
   "cell_type": "code",
   "execution_count": 21,
   "id": "cf1e1d76-9e55-419a-a670-db838a1c2f05",
   "metadata": {},
   "outputs": [
    {
     "name": "stderr",
     "output_type": "stream",
     "text": [
      "/home/george/.pyenv/versions/3.10.6/envs/eyesense/lib/python3.10/site-packages/sklearn/metrics/_classification.py:1565: UndefinedMetricWarning: Precision is ill-defined and being set to 0.0 in labels with no predicted samples. Use `zero_division` parameter to control this behavior.\n",
      "  _warn_prf(average, modifier, f\"{metric.capitalize()} is\", len(result))\n",
      "/home/george/.pyenv/versions/3.10.6/envs/eyesense/lib/python3.10/site-packages/sklearn/metrics/_classification.py:1565: UndefinedMetricWarning: Precision is ill-defined and being set to 0.0 in labels with no predicted samples. Use `zero_division` parameter to control this behavior.\n",
      "  _warn_prf(average, modifier, f\"{metric.capitalize()} is\", len(result))\n",
      "/home/george/.pyenv/versions/3.10.6/envs/eyesense/lib/python3.10/site-packages/sklearn/metrics/_classification.py:1565: UndefinedMetricWarning: Precision is ill-defined and being set to 0.0 in labels with no predicted samples. Use `zero_division` parameter to control this behavior.\n",
      "  _warn_prf(average, modifier, f\"{metric.capitalize()} is\", len(result))\n"
     ]
    },
    {
     "data": {
      "text/plain": [
       "'              precision    recall  f1-score   support\\n\\n           0       0.00      0.00      0.00        29\\n           1       0.00      0.00      0.00        26\\n           2       0.00      0.00      0.00       160\\n           3       0.00      0.00      0.00        28\\n           4       0.00      0.00      0.00        12\\n           5       0.05      0.78      0.10        23\\n           6       0.51      0.36      0.42       287\\n\\n    accuracy                           0.21       565\\n   macro avg       0.08      0.16      0.07       565\\nweighted avg       0.26      0.21      0.22       565\\n'"
      ]
     },
     "execution_count": 21,
     "metadata": {},
     "output_type": "execute_result"
    }
   ],
   "source": [
    "#y_true_class = np.argmax(y_true, axis=1)\n",
    "classification_report(y_true, y_pred_class)"
   ]
  },
  {
   "cell_type": "code",
   "execution_count": 22,
   "id": "db647f41-35c5-4d85-abb2-985e6d093e64",
   "metadata": {},
   "outputs": [
    {
     "data": {
      "text/plain": [
       "array([5, 6, 5, 6, 5, 5, 5, 5, 5, 5, 5, 0, 5, 5, 5, 6, 6, 4, 5, 5, 5, 6,\n",
       "       5, 5, 5, 5, 5, 5, 6, 6, 5, 5, 6, 5, 5, 6, 6, 5, 6, 5, 5, 5, 5, 3,\n",
       "       5, 5, 5, 6, 5, 5, 5, 5, 5, 6, 5, 5, 6, 5, 6, 5, 5, 5, 5, 5, 5, 5,\n",
       "       6, 6, 5, 5, 6, 6, 5, 5, 5, 5, 5, 5, 5, 6, 5, 5, 5, 6, 6, 5, 5, 5,\n",
       "       6, 6, 6, 5, 6, 6, 6, 6, 6, 5, 6, 6, 6, 6, 6, 5, 5, 5, 6, 5, 5, 5,\n",
       "       6, 5, 0, 5, 5, 5, 6, 5, 5, 5, 6, 6, 5, 5, 6, 5, 5, 5, 5, 5, 6, 5,\n",
       "       5, 5, 6, 5, 6, 5, 6, 5, 5, 6, 5, 5, 6, 5, 5, 5, 5, 5, 5, 5, 5, 6,\n",
       "       6, 6, 5, 5, 5, 5, 5, 6, 5, 6, 6, 6, 5, 6, 6, 5, 0, 5, 6, 5, 5, 5,\n",
       "       5, 5, 5, 5, 6, 6, 6, 5, 5, 6, 5, 5, 5, 6, 6, 5, 5, 5, 6, 5, 5, 6,\n",
       "       5, 5, 5, 6, 5, 5, 5, 5, 5, 5, 6, 6, 5, 5, 6, 6, 6, 5, 6, 6, 5, 6,\n",
       "       5, 6, 5, 5, 6, 6, 6, 5, 6, 5, 5, 5, 5, 6, 6, 5, 5, 5, 6, 6, 5, 5,\n",
       "       5, 4, 6, 0, 5, 6, 6, 0, 5, 5, 5, 5, 6, 5, 6, 5, 5, 5, 5, 5, 5, 5,\n",
       "       5, 5, 5, 6, 5, 5, 5, 5, 5, 5, 6, 5, 5, 5, 3, 6, 5, 5, 6, 5, 5, 5,\n",
       "       6, 5, 5, 5, 6, 5, 6, 5, 5, 5, 5, 5, 5, 5, 5, 6, 5, 6, 5, 6, 6, 6,\n",
       "       5, 6, 5, 5, 5, 6, 6, 5, 5, 6, 5, 5, 5, 6, 5, 6, 6, 6, 5, 6, 5, 6,\n",
       "       6, 5, 6, 6, 5, 6, 5, 5, 6, 6, 5, 5, 5, 5, 5, 6, 5, 5, 6, 5, 5, 5,\n",
       "       5, 6, 6, 6, 6, 6, 6, 6, 5, 5, 5, 5, 5, 6, 6, 5, 5, 5, 6, 5, 5, 5,\n",
       "       5, 5, 5, 6, 6, 5, 5, 6, 6, 5, 6, 5, 5, 6, 5, 5, 6, 5, 5, 6, 6, 6,\n",
       "       6, 5, 6, 5, 5, 6, 5, 6, 5, 5, 5, 6, 5, 6, 6, 5, 5, 5, 6, 6, 5, 5,\n",
       "       5, 5, 6, 6, 6, 5, 5, 5, 5, 6, 5, 5, 5, 6, 5, 6, 6, 6, 6, 5, 5, 5,\n",
       "       5, 5, 5, 5, 6, 6, 5, 6, 6, 5, 5, 6, 5, 5, 5, 5, 6, 6, 5, 5, 5, 6,\n",
       "       5, 6, 6, 5, 5, 6, 5, 5, 5, 5, 5, 6, 5, 5, 5, 5, 5, 5, 5, 5, 6, 5,\n",
       "       6, 6, 6, 6, 5, 5, 5, 5, 6, 5, 5, 6, 6, 5, 6, 5, 5, 5, 6, 6, 6, 6,\n",
       "       6, 5, 5, 5, 5, 6, 5, 5, 6, 6, 5, 6, 5, 5, 5, 5, 5, 6, 5, 6, 6, 6,\n",
       "       5, 6, 6, 5, 6, 6, 5, 5, 5, 5, 5, 6, 5, 5, 5, 5, 5, 6, 6, 6, 6, 5,\n",
       "       5, 5, 5, 6, 5, 5, 6, 5, 5, 6, 5, 5, 6, 5, 5])"
      ]
     },
     "execution_count": 22,
     "metadata": {},
     "output_type": "execute_result"
    }
   ],
   "source": [
    "y_pred_class"
   ]
  },
  {
   "cell_type": "code",
   "execution_count": null,
   "id": "8dd1acd5-2436-4aaa-a5e8-f591916bacae",
   "metadata": {},
   "outputs": [],
   "source": []
  }
 ],
 "metadata": {
  "kernelspec": {
   "display_name": "Python 3 (ipykernel)",
   "language": "python",
   "name": "python3"
  },
  "language_info": {
   "codemirror_mode": {
    "name": "ipython",
    "version": 3
   },
   "file_extension": ".py",
   "mimetype": "text/x-python",
   "name": "python",
   "nbconvert_exporter": "python",
   "pygments_lexer": "ipython3",
   "version": "3.10.6"
  }
 },
 "nbformat": 4,
 "nbformat_minor": 5
}
