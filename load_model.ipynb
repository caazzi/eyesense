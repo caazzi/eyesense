{
 "cells": [
  {
   "cell_type": "code",
   "execution_count": 41,
   "id": "706da888-f2cf-49e3-b9d8-7e36ce4f4250",
   "metadata": {},
   "outputs": [],
   "source": [
    "import tensorflow as tf\n",
    "from tensorflow.keras import layers # type: ignore\n",
    "from tensorflow.keras.preprocessing import image_dataset_from_directory # type: ignore\n",
    "import pathlib\n",
    "from sklearn.metrics import recall_score\n",
    "from sklearn.metrics import accuracy_score\n",
    "from sklearn.metrics import f1_score\n",
    "from sklearn.metrics import precision_score\n"
   ]
  },
  {
   "cell_type": "code",
   "execution_count": 42,
   "id": "8af275a2-be6d-42e8-8f1d-8268d3b5fb27",
   "metadata": {},
   "outputs": [
    {
     "name": "stdout",
     "output_type": "stream",
     "text": [
      "Found 451 files belonging to 7 classes.\n",
      "👉The shape of each test batch is (32, 299, 299, 3)\n",
      "  The shape of each target batch is (32,)\n",
      "👀 The classes that was used for training the model are:\n",
      "- cataract\n",
      "- degeneration\n",
      "- diabets\n",
      "- glaucoma\n",
      "- hypertension\n",
      "- myopia\n",
      "- normal\n"
     ]
    }
   ],
   "source": [
    "batch_size = 32\n",
    "img_height = 299\n",
    "img_width  = 299\n",
    "\n",
    "#Adjust the path according to your machine\n",
    "data_dir_test  = pathlib.Path('data_test/')\n",
    "\n",
    "\n",
    "test_ds = image_dataset_from_directory(\n",
    "            data_dir_test,\n",
    "            image_size=(img_height, img_width),\n",
    "            batch_size=batch_size)\n",
    "\n",
    "for image_batch, labels_batch in test_ds:\n",
    "  print(f\"👉The shape of each test batch is {image_batch.shape}\")\n",
    "  print(f\"  The shape of each target batch is {labels_batch.shape}\")\n",
    "  break\n",
    "\n",
    "print(\"👀 The classes that was used for training the model are:\")\n",
    "for name in test_ds.class_names:\n",
    "    print(f\"- {name}\")\n",
    "\n",
    "num_classes = len(test_ds.class_names)\n"
   ]
  },
  {
   "cell_type": "code",
   "execution_count": 43,
   "id": "4a95550f-814b-456d-b586-0d852b33c077",
   "metadata": {},
   "outputs": [],
   "source": [
    "from tensorflow.keras import layers\n",
    "\n",
    "#Normalization of the image tensors\n",
    "normalization_layer =   layers.Rescaling(1./255)\n",
    "normalized_test_ds  =  test_ds.map(lambda x, y: (normalization_layer(x), y))"
   ]
  },
  {
   "cell_type": "code",
   "execution_count": 44,
   "id": "a8676484-4d78-4c48-84e9-41597ad285b6",
   "metadata": {},
   "outputs": [
    {
     "name": "stderr",
     "output_type": "stream",
     "text": [
      "/home/george/.pyenv/versions/3.10.6/envs/eyesense/lib/python3.10/site-packages/keras/src/saving/saving_lib.py:757: UserWarning: Skipping variable loading for optimizer 'adam', because it has 9 variables whereas the saved optimizer has 1 variables. \n",
      "  saveable.load_own_variables(weights_store.get(inner_path))\n"
     ]
    }
   ],
   "source": [
    "\n",
    "# Load the model\n",
    "model = model = tf.keras.models.load_model(\"saved_model/Xception-01.keras\")\n"
   ]
  },
  {
   "cell_type": "code",
   "execution_count": 45,
   "id": "c7fa310a-44aa-4deb-8f26-fc46f200229d",
   "metadata": {},
   "outputs": [
    {
     "name": "stdout",
     "output_type": "stream",
     "text": [
      "\u001b[1m15/15\u001b[0m \u001b[32m━━━━━━━━━━━━━━━━━━━━\u001b[0m\u001b[37m\u001b[0m \u001b[1m31s\u001b[0m 2s/step\n"
     ]
    }
   ],
   "source": [
    "y_pred = model.predict(normalized_test_ds)"
   ]
  },
  {
   "cell_type": "code",
   "execution_count": 46,
   "id": "07778843-f023-4b27-8ea5-ac32df0c0c0c",
   "metadata": {},
   "outputs": [
    {
     "name": "stderr",
     "output_type": "stream",
     "text": [
      "2025-03-21 13:52:44.545824: I tensorflow/core/framework/local_rendezvous.cc:407] Local rendezvous is aborting with status: OUT_OF_RANGE: End of sequence\n"
     ]
    }
   ],
   "source": [
    "import numpy as np\n",
    "\n",
    "y_true = np.concatenate([y.numpy() for _, y in normalized_test_ds], axis=0)\n",
    "y_pred = np.argmax(y_pred, axis=1)"
   ]
  },
  {
   "cell_type": "code",
   "execution_count": 47,
   "id": "4549f9ba-c6be-4cb5-b43f-4695f9dfb8b8",
   "metadata": {},
   "outputs": [
    {
     "data": {
      "text/plain": [
       "['cataract',\n",
       " 'degeneration',\n",
       " 'diabets',\n",
       " 'glaucoma',\n",
       " 'hypertension',\n",
       " 'myopia',\n",
       " 'normal']"
      ]
     },
     "execution_count": 47,
     "metadata": {},
     "output_type": "execute_result"
    }
   ],
   "source": [
    "test_ds.class_names"
   ]
  },
  {
   "cell_type": "code",
   "execution_count": 48,
   "id": "f2f58fb1-837a-4c31-b89d-5cd5962fb620",
   "metadata": {},
   "outputs": [
    {
     "name": "stdout",
     "output_type": "stream",
     "text": [
      "Recall for cataract: 0.47 \t Accuracy for cataract: 0.89\n",
      "Recall for degeneration: 0.53 \t Accuracy for degeneration: 0.93\n",
      "Recall for diabets: 0.53 \t Accuracy for diabets: 0.68\n",
      "Recall for glaucoma: 0.49 \t Accuracy for glaucoma: 0.86\n",
      "Recall for hypertension: 0.49 \t Accuracy for hypertension: 0.97\n",
      "Recall for myopia: 0.51 \t Accuracy for myopia: 0.92\n",
      "Recall for normal: 0.5 \t Accuracy for normal: 0.51\n"
     ]
    }
   ],
   "source": [
    "for class_id in range(7):\n",
    "    class_recall = recall_score(\n",
    "        [1 if label == class_id else 0 for label in y_true],\n",
    "        [1 if pred == class_id else 0 for pred in y_pred], average = 'macro',\n",
    "    )\n",
    "    class_accuracy = accuracy_score(\n",
    "        [1 if label == class_id else 0 for label in y_true],\n",
    "        [1 if pred == class_id else 0 for pred in y_pred])\n",
    "\n",
    "    print(f\"Recall for {test_ds.class_names[class_id]}: {class_recall:.2} \\t Accuracy for {test_ds.class_names[class_id]}: {class_accuracy:.2}\" )"
   ]
  },
  {
   "cell_type": "markdown",
   "id": "b9da541c-5e21-4306-adf8-733cfd5ee172",
   "metadata": {},
   "source": [
    "# We don't need to upload the test dataset to the clouds. We can create a dict by hand."
   ]
  },
  {
   "cell_type": "code",
   "execution_count": 49,
   "id": "556c51bb-cc07-4c0f-89be-27cf35a2d2e2",
   "metadata": {},
   "outputs": [],
   "source": [
    "classes_dict = {0: 'cataract', 1 :'degeneration', 2:'diabets', 3: 'glaucoma', 4: 'hypertension', 5:'myopia', 6:'normal'}"
   ]
  },
  {
   "cell_type": "code",
   "execution_count": 60,
   "id": "1a3e9184-082c-4104-91f7-2ade145a1300",
   "metadata": {},
   "outputs": [],
   "source": [
    "from tensorflow.keras.preprocessing.image import load_img, img_to_array\n",
    "\n",
    "# Load an image and resize it to the model's expected input size (e.g., 299x299 for Xception)\n",
    "image = load_img(\"1309_right.jpg\", target_size=(299, 299))  # glaucoma image\n",
    "image_array = img_to_array(image) / 255.0  # Normalize to [0, 1]\n",
    "image_array = np.expand_dims(image_array, axis=0)  # Add batch dimension"
   ]
  },
  {
   "cell_type": "code",
   "execution_count": 61,
   "id": "bd60f5e8-0e5c-446d-9ad8-58717b16968c",
   "metadata": {},
   "outputs": [
    {
     "name": "stdout",
     "output_type": "stream",
     "text": [
      "\u001b[1m1/1\u001b[0m \u001b[32m━━━━━━━━━━━━━━━━━━━━\u001b[0m\u001b[37m\u001b[0m \u001b[1m0s\u001b[0m 172ms/step\n"
     ]
    }
   ],
   "source": [
    "pred = model.predict(image_array)"
   ]
  },
  {
   "cell_type": "code",
   "execution_count": 62,
   "id": "f6d99bdb-401a-44ba-8db8-d2d431e37505",
   "metadata": {},
   "outputs": [
    {
     "data": {
      "text/plain": [
       "array([[0.00940919, 0.02818827, 0.20571782, 0.37608874, 0.15412617,\n",
       "        0.00080251, 0.22566733]], dtype=float32)"
      ]
     },
     "execution_count": 62,
     "metadata": {},
     "output_type": "execute_result"
    }
   ],
   "source": [
    "pred"
   ]
  },
  {
   "cell_type": "code",
   "execution_count": 63,
   "id": "07bd2e1a-460e-41c6-94be-30c6de812b20",
   "metadata": {},
   "outputs": [],
   "source": [
    "pred_id = np.argmax(pred, axis=1)[0]"
   ]
  },
  {
   "cell_type": "code",
   "execution_count": 64,
   "id": "43497272-99c4-46a5-ac26-095bc9e3224b",
   "metadata": {},
   "outputs": [
    {
     "data": {
      "text/plain": [
       "'glaucoma'"
      ]
     },
     "execution_count": 64,
     "metadata": {},
     "output_type": "execute_result"
    }
   ],
   "source": [
    "classes_dict[pred_id]"
   ]
  },
  {
   "cell_type": "code",
   "execution_count": null,
   "id": "7b23a0c6-63d4-4ab2-922c-135ce094f6d8",
   "metadata": {},
   "outputs": [],
   "source": []
  }
 ],
 "metadata": {
  "kernelspec": {
   "display_name": "Python 3 (ipykernel)",
   "language": "python",
   "name": "python3"
  },
  "language_info": {
   "codemirror_mode": {
    "name": "ipython",
    "version": 3
   },
   "file_extension": ".py",
   "mimetype": "text/x-python",
   "name": "python",
   "nbconvert_exporter": "python",
   "pygments_lexer": "ipython3",
   "version": "3.10.6"
  }
 },
 "nbformat": 4,
 "nbformat_minor": 5
}
