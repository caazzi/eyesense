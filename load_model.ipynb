{
 "cells": [
  {
   "cell_type": "code",
   "execution_count": 1,
   "id": "706da888-f2cf-49e3-b9d8-7e36ce4f4250",
   "metadata": {},
   "outputs": [
    {
     "name": "stderr",
     "output_type": "stream",
     "text": [
      "2025-03-20 13:42:12.098892: I tensorflow/core/util/port.cc:153] oneDNN custom operations are on. You may see slightly different numerical results due to floating-point round-off errors from different computation orders. To turn them off, set the environment variable `TF_ENABLE_ONEDNN_OPTS=0`.\n",
      "2025-03-20 13:42:12.410260: E external/local_xla/xla/stream_executor/cuda/cuda_fft.cc:467] Unable to register cuFFT factory: Attempting to register factory for plugin cuFFT when one has already been registered\n",
      "WARNING: All log messages before absl::InitializeLog() is called are written to STDERR\n",
      "E0000 00:00:1742478132.542763  239252 cuda_dnn.cc:8579] Unable to register cuDNN factory: Attempting to register factory for plugin cuDNN when one has already been registered\n",
      "E0000 00:00:1742478132.579962  239252 cuda_blas.cc:1407] Unable to register cuBLAS factory: Attempting to register factory for plugin cuBLAS when one has already been registered\n",
      "W0000 00:00:1742478132.885763  239252 computation_placer.cc:177] computation placer already registered. Please check linkage and avoid linking the same target more than once.\n",
      "W0000 00:00:1742478132.885871  239252 computation_placer.cc:177] computation placer already registered. Please check linkage and avoid linking the same target more than once.\n",
      "W0000 00:00:1742478132.885873  239252 computation_placer.cc:177] computation placer already registered. Please check linkage and avoid linking the same target more than once.\n",
      "W0000 00:00:1742478132.885875  239252 computation_placer.cc:177] computation placer already registered. Please check linkage and avoid linking the same target more than once.\n",
      "2025-03-20 13:42:12.954461: I tensorflow/core/platform/cpu_feature_guard.cc:210] This TensorFlow binary is optimized to use available CPU instructions in performance-critical operations.\n",
      "To enable the following instructions: AVX2 AVX_VNNI FMA, in other operations, rebuild TensorFlow with the appropriate compiler flags.\n"
     ]
    }
   ],
   "source": [
    "import tensorflow as tf\n",
    "from tensorflow.saved_model import load # type: ignore\n",
    "from tensorflow.keras import layers # type: ignore\n",
    "from tensorflow.keras.preprocessing import image_dataset_from_directory # type: ignore\n",
    "import pathlib\n",
    "from sklearn.metrics import recall_score\n",
    "from sklearn.metrics import accuracy_score\n",
    "from sklearn.metrics import f1_score\n",
    "from sklearn.metrics import precision_score\n"
   ]
  },
  {
   "cell_type": "code",
   "execution_count": null,
   "id": "8af275a2-be6d-42e8-8f1d-8268d3b5fb27",
   "metadata": {},
   "outputs": [
    {
     "name": "stdout",
     "output_type": "stream",
     "text": [
      "Found 451 files belonging to 7 classes.\n"
     ]
    },
    {
     "name": "stderr",
     "output_type": "stream",
     "text": [
      "W0000 00:00:1742478150.555050  239252 gpu_device.cc:2341] Cannot dlopen some GPU libraries. Please make sure the missing libraries mentioned above are installed properly if you would like to use GPU. Follow the guide at https://www.tensorflow.org/install/gpu for how to download and setup the required libraries for your platform.\n",
      "Skipping registering GPU devices...\n"
     ]
    },
    {
     "name": "stdout",
     "output_type": "stream",
     "text": [
      "👉The shape of each test batch is (32, 224, 224, 3)\n",
      "  The shape of each target batch is (32,)\n",
      "👀 The classes that was used for training the model are:\n",
      "- cataract\n",
      "- degeneration\n",
      "- diabets\n",
      "- glaucoma\n",
      "- hypertension\n",
      "- myopia\n",
      "- normal\n"
     ]
    }
   ],
   "source": [
    "batch_size = 32\n",
    "img_height = 224\n",
    "img_width  = 224\n",
    "\n",
    "#Adjust the path according to your machine\n",
    "data_dir_test  = pathlib.Path('data_test/')\n",
    "\n",
    "\n",
    "test_ds = image_dataset_from_directory(\n",
    "            data_dir_test,\n",
    "            image_size=(img_height, img_width),\n",
    "            batch_size=batch_size)\n",
    "\n",
    "for image_batch, labels_batch in test_ds:\n",
    "  print(f\"👉The shape of each test batch is {image_batch.shape}\")\n",
    "  print(f\"  The shape of each target batch is {labels_batch.shape}\")\n",
    "  break\n",
    "\n",
    "print(\"👀 The classes that was used for training the model are:\")\n",
    "for name in test_ds.class_names:\n",
    "    print(f\"- {name}\")\n",
    "\n",
    "num_classes = len(test_ds.class_names)\n"
   ]
  },
  {
   "cell_type": "code",
   "execution_count": 3,
   "id": "4a95550f-814b-456d-b586-0d852b33c077",
   "metadata": {},
   "outputs": [],
   "source": [
    "from tensorflow.keras import layers\n",
    "\n",
    "#Normalization of the image tensors\n",
    "normalization_layer =   layers.Rescaling(1./255)\n",
    "normalized_test_ds  =  test_ds.map(lambda x, y: (normalization_layer(x), y))"
   ]
  },
  {
   "cell_type": "code",
   "execution_count": null,
   "id": "a8676484-4d78-4c48-84e9-41597ad285b6",
   "metadata": {},
   "outputs": [],
   "source": [
    "\n",
    "# Load the model\n",
    "model = load(\"saved_model/resnet_50\")\n"
   ]
  },
  {
   "cell_type": "code",
   "execution_count": 5,
   "id": "0c3db4ef-8605-463f-9536-6b8c5981d8e0",
   "metadata": {},
   "outputs": [
    {
     "name": "stdout",
     "output_type": "stream",
     "text": [
      "['serve', 'serving_default']\n"
     ]
    }
   ],
   "source": [
    "print(list(model.signatures.keys()))  # E.g., ['serving_default']"
   ]
  },
  {
   "cell_type": "code",
   "execution_count": 6,
   "id": "1a3e9184-082c-4104-91f7-2ade145a1300",
   "metadata": {},
   "outputs": [
    {
     "name": "stdout",
     "output_type": "stream",
     "text": [
      "((), {'keras_tensor': TensorSpec(shape=(None, 224, 224, 3), dtype=tf.float32, name='keras_tensor')})\n",
      "{'output_0': TensorSpec(shape=(None, 7), dtype=tf.float32, name='output_0')}\n"
     ]
    }
   ],
   "source": [
    "infer = model.signatures[\"serving_default\"]\n",
    "print(infer.structured_input_signature)  # Input details\n",
    "print(infer.structured_outputs)          # Output details"
   ]
  },
  {
   "cell_type": "code",
   "execution_count": 7,
   "id": "c9eb74f3-9c3d-4821-98e4-4bfa6b17cbd6",
   "metadata": {},
   "outputs": [
    {
     "name": "stderr",
     "output_type": "stream",
     "text": [
      "2025-03-20 13:44:07.703953: I tensorflow/core/framework/local_rendezvous.cc:407] Local rendezvous is aborting with status: OUT_OF_RANGE: End of sequence\n"
     ]
    }
   ],
   "source": [
    "y_true = []\n",
    "y_pred = []\n",
    "for images, labels in normalized_test_ds:\n",
    "    predictions = infer(images)  # Use the serving function\n",
    "    predicted_classes = tf.argmax(predictions['output_0'], axis=1)  # Adjust for your output key\n",
    "    y_true.extend(labels.numpy())\n",
    "    y_pred.extend(predicted_classes.numpy())\n"
   ]
  },
  {
   "cell_type": "code",
   "execution_count": null,
   "id": "f2f58fb1-837a-4c31-b89d-5cd5962fb620",
   "metadata": {},
   "outputs": [
    {
     "name": "stdout",
     "output_type": "stream",
     "text": [
      "Recall for cataract: 0.49 \t Accuracy for cataract: 0.94\n",
      "Recall for degeneration: 0.5 \t Accuracy for degeneration: 0.95\n",
      "Recall for diabets: 0.5 \t Accuracy for diabets: 0.72\n",
      "Recall for glaucoma: 0.5 \t Accuracy for glaucoma: 0.94\n",
      "Recall for hypertension: 0.6 \t Accuracy for hypertension: 0.98\n",
      "Recall for myopia: 0.61 \t Accuracy for myopia: 0.46\n",
      "Recall for normal: 0.5 \t Accuracy for normal: 0.5\n"
     ]
    }
   ],
   "source": [
    "for i in range(7):\n",
    "    class_id = i\n",
    "    class_recall = recall_score(\n",
    "        [1 if label == class_id else 0 for label in y_true],\n",
    "        [1 if pred == class_id else 0 for pred in y_pred], average = 'macro',\n",
    "    )\n",
    "    class_accuracy = accuracy_score(\n",
    "        [1 if label == class_id else 0 for label in y_true],\n",
    "        [1 if pred == class_id else 0 for pred in y_pred])\n",
    "\n",
    "    print(f\"Recall for {test_ds.class_names[i]}: {class_recall:.2} \\t Accuracy for {test_ds.class_names[i]}: {class_accuracy:.2}\" )"
   ]
  },
  {
   "cell_type": "code",
   "execution_count": null,
   "id": "3c04b0ed-db2a-4de5-91fe-d7a6b59b09a7",
   "metadata": {},
   "outputs": [],
   "source": []
  }
 ],
 "metadata": {
  "kernelspec": {
   "display_name": "Python 3 (ipykernel)",
   "language": "python",
   "name": "python3"
  },
  "language_info": {
   "codemirror_mode": {
    "name": "ipython",
    "version": 3
   },
   "file_extension": ".py",
   "mimetype": "text/x-python",
   "name": "python",
   "nbconvert_exporter": "python",
   "pygments_lexer": "ipython3",
   "version": "3.10.6"
  }
 },
 "nbformat": 4,
 "nbformat_minor": 5
}
